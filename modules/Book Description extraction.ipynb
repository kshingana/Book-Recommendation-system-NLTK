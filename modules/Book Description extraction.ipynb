{
 "cells": [
  {
   "cell_type": "code",
   "execution_count": 82,
   "id": "82077432",
   "metadata": {},
   "outputs": [],
   "source": [
    "import pandas as pd\n",
    "import numpy as np\n",
    "import matplotlib.pyplot as plt\n",
    "import seaborn as sns\n",
    "import requests\n",
    "import json\n",
    "from IPython.core.display import Image\n",
    "from isbntools.app import *\n",
    "from time import perf_counter\n",
    "import glob\n",
    "import os"
   ]
  },
  {
   "cell_type": "code",
   "execution_count": 83,
   "id": "975bff63",
   "metadata": {},
   "outputs": [],
   "source": [
    "path = os.getcwd()\n",
    "csv_files = glob.glob(os.path.join(path, \"*.csv\"))"
   ]
  },
  {
   "cell_type": "code",
   "execution_count": 84,
   "id": "e0a62ea8",
   "metadata": {},
   "outputs": [],
   "source": [
    "df_final = []\n",
    "for i in csv_files:\n",
    "    df = pd.read_csv(i)\n",
    "    df_final.append(df)"
   ]
  },
  {
   "cell_type": "code",
   "execution_count": 85,
   "id": "628b35dd",
   "metadata": {},
   "outputs": [
    {
     "data": {
      "text/html": [
       "<div>\n",
       "<style scoped>\n",
       "    .dataframe tbody tr th:only-of-type {\n",
       "        vertical-align: middle;\n",
       "    }\n",
       "\n",
       "    .dataframe tbody tr th {\n",
       "        vertical-align: top;\n",
       "    }\n",
       "\n",
       "    .dataframe thead th {\n",
       "        text-align: right;\n",
       "    }\n",
       "</style>\n",
       "<table border=\"1\" class=\"dataframe\">\n",
       "  <thead>\n",
       "    <tr style=\"text-align: right;\">\n",
       "      <th></th>\n",
       "      <th>Unnamed: 0</th>\n",
       "      <th>ISBN</th>\n",
       "      <th>Book-Title</th>\n",
       "      <th>Book-Author</th>\n",
       "      <th>Year-Of-Publication</th>\n",
       "      <th>Publisher</th>\n",
       "      <th>Image-URL-S</th>\n",
       "      <th>Image-URL-M</th>\n",
       "      <th>Image-URL-L</th>\n",
       "      <th>google_id</th>\n",
       "      <th>book_language</th>\n",
       "      <th>categories</th>\n",
       "      <th>extracted_isbn</th>\n",
       "    </tr>\n",
       "  </thead>\n",
       "  <tbody>\n",
       "    <tr>\n",
       "      <th>0</th>\n",
       "      <td>0</td>\n",
       "      <td>0195153448</td>\n",
       "      <td>Classical Mythology</td>\n",
       "      <td>Mark P. O. Morford</td>\n",
       "      <td>2002</td>\n",
       "      <td>Oxford University Press</td>\n",
       "      <td>http://images.amazon.com/images/P/0195153448.0...</td>\n",
       "      <td>http://images.amazon.com/images/P/0195153448.0...</td>\n",
       "      <td>http://images.amazon.com/images/P/0195153448.0...</td>\n",
       "      <td>KyLfwAEACAAJ</td>\n",
       "      <td>en</td>\n",
       "      <td>Social Science</td>\n",
       "      <td>NaN</td>\n",
       "    </tr>\n",
       "    <tr>\n",
       "      <th>1</th>\n",
       "      <td>1</td>\n",
       "      <td>0002005018</td>\n",
       "      <td>Clara Callan</td>\n",
       "      <td>Richard Bruce Wright</td>\n",
       "      <td>2001</td>\n",
       "      <td>HarperFlamingo Canada</td>\n",
       "      <td>http://images.amazon.com/images/P/0002005018.0...</td>\n",
       "      <td>http://images.amazon.com/images/P/0002005018.0...</td>\n",
       "      <td>http://images.amazon.com/images/P/0002005018.0...</td>\n",
       "      <td>yfx0vgEACAAJ</td>\n",
       "      <td>en</td>\n",
       "      <td>Actresses</td>\n",
       "      <td>NaN</td>\n",
       "    </tr>\n",
       "    <tr>\n",
       "      <th>2</th>\n",
       "      <td>2</td>\n",
       "      <td>0060973129</td>\n",
       "      <td>Decision in Normandy</td>\n",
       "      <td>Carlo D'Este</td>\n",
       "      <td>1991</td>\n",
       "      <td>HarperPerennial</td>\n",
       "      <td>http://images.amazon.com/images/P/0060973129.0...</td>\n",
       "      <td>http://images.amazon.com/images/P/0060973129.0...</td>\n",
       "      <td>http://images.amazon.com/images/P/0060973129.0...</td>\n",
       "      <td>_LufAAAAMAAJ</td>\n",
       "      <td>en</td>\n",
       "      <td>1940-1949</td>\n",
       "      <td>NaN</td>\n",
       "    </tr>\n",
       "    <tr>\n",
       "      <th>3</th>\n",
       "      <td>3</td>\n",
       "      <td>0374157065</td>\n",
       "      <td>Flu: The Story of the Great Influenza Pandemic...</td>\n",
       "      <td>Gina Bari Kolata</td>\n",
       "      <td>1999</td>\n",
       "      <td>Farrar Straus Giroux</td>\n",
       "      <td>http://images.amazon.com/images/P/0374157065.0...</td>\n",
       "      <td>http://images.amazon.com/images/P/0374157065.0...</td>\n",
       "      <td>http://images.amazon.com/images/P/0374157065.0...</td>\n",
       "      <td>GkthXOZv17kC</td>\n",
       "      <td>en</td>\n",
       "      <td>Medical</td>\n",
       "      <td>NaN</td>\n",
       "    </tr>\n",
       "    <tr>\n",
       "      <th>4</th>\n",
       "      <td>4</td>\n",
       "      <td>0393045218</td>\n",
       "      <td>The Mummies of Urumchi</td>\n",
       "      <td>E. J. W. Barber</td>\n",
       "      <td>1999</td>\n",
       "      <td>W. W. Norton &amp; Company</td>\n",
       "      <td>http://images.amazon.com/images/P/0393045218.0...</td>\n",
       "      <td>http://images.amazon.com/images/P/0393045218.0...</td>\n",
       "      <td>http://images.amazon.com/images/P/0393045218.0...</td>\n",
       "      <td>5OujQgAACAAJ</td>\n",
       "      <td>en</td>\n",
       "      <td>Design</td>\n",
       "      <td>NaN</td>\n",
       "    </tr>\n",
       "  </tbody>\n",
       "</table>\n",
       "</div>"
      ],
      "text/plain": [
       "   Unnamed: 0        ISBN                                         Book-Title  \\\n",
       "0           0  0195153448                                Classical Mythology   \n",
       "1           1  0002005018                                       Clara Callan   \n",
       "2           2  0060973129                               Decision in Normandy   \n",
       "3           3  0374157065  Flu: The Story of the Great Influenza Pandemic...   \n",
       "4           4  0393045218                             The Mummies of Urumchi   \n",
       "\n",
       "            Book-Author  Year-Of-Publication                Publisher  \\\n",
       "0    Mark P. O. Morford                 2002  Oxford University Press   \n",
       "1  Richard Bruce Wright                 2001    HarperFlamingo Canada   \n",
       "2          Carlo D'Este                 1991          HarperPerennial   \n",
       "3      Gina Bari Kolata                 1999     Farrar Straus Giroux   \n",
       "4       E. J. W. Barber                 1999   W. W. Norton & Company   \n",
       "\n",
       "                                         Image-URL-S  \\\n",
       "0  http://images.amazon.com/images/P/0195153448.0...   \n",
       "1  http://images.amazon.com/images/P/0002005018.0...   \n",
       "2  http://images.amazon.com/images/P/0060973129.0...   \n",
       "3  http://images.amazon.com/images/P/0374157065.0...   \n",
       "4  http://images.amazon.com/images/P/0393045218.0...   \n",
       "\n",
       "                                         Image-URL-M  \\\n",
       "0  http://images.amazon.com/images/P/0195153448.0...   \n",
       "1  http://images.amazon.com/images/P/0002005018.0...   \n",
       "2  http://images.amazon.com/images/P/0060973129.0...   \n",
       "3  http://images.amazon.com/images/P/0374157065.0...   \n",
       "4  http://images.amazon.com/images/P/0393045218.0...   \n",
       "\n",
       "                                         Image-URL-L     google_id  \\\n",
       "0  http://images.amazon.com/images/P/0195153448.0...  KyLfwAEACAAJ   \n",
       "1  http://images.amazon.com/images/P/0002005018.0...  yfx0vgEACAAJ   \n",
       "2  http://images.amazon.com/images/P/0060973129.0...  _LufAAAAMAAJ   \n",
       "3  http://images.amazon.com/images/P/0374157065.0...  GkthXOZv17kC   \n",
       "4  http://images.amazon.com/images/P/0393045218.0...  5OujQgAACAAJ   \n",
       "\n",
       "  book_language      categories  extracted_isbn  \n",
       "0            en  Social Science             NaN  \n",
       "1            en       Actresses             NaN  \n",
       "2            en       1940-1949             NaN  \n",
       "3            en         Medical             NaN  \n",
       "4            en          Design             NaN  "
      ]
     },
     "execution_count": 85,
     "metadata": {},
     "output_type": "execute_result"
    }
   ],
   "source": [
    "result = pd.concat(df_final)\n",
    "result.head()"
   ]
  },
  {
   "cell_type": "code",
   "execution_count": 86,
   "id": "48d111be",
   "metadata": {},
   "outputs": [],
   "source": [
    "result.drop(columns = [\"Unnamed: 0\",\"Image-URL-S\",\"Image-URL-M\",\"Image-URL-L\",\"extracted_isbn\"],inplace=True)"
   ]
  },
  {
   "cell_type": "code",
   "execution_count": 87,
   "id": "12dcf001",
   "metadata": {},
   "outputs": [],
   "source": [
    "result[\"description\"] = \"NaN\""
   ]
  },
  {
   "cell_type": "code",
   "execution_count": 88,
   "id": "9e8fec71",
   "metadata": {},
   "outputs": [],
   "source": [
    "df = result.copy()"
   ]
  },
  {
   "cell_type": "code",
   "execution_count": 89,
   "id": "c202fcff",
   "metadata": {},
   "outputs": [
    {
     "data": {
      "text/plain": [
       "7012"
      ]
     },
     "execution_count": 89,
     "metadata": {},
     "output_type": "execute_result"
    }
   ],
   "source": [
    "df[\"categories\"].isna().sum()"
   ]
  },
  {
   "cell_type": "code",
   "execution_count": 90,
   "id": "68954296",
   "metadata": {},
   "outputs": [],
   "source": [
    "df.dropna(subset = [\"categories\"], inplace=True)"
   ]
  },
  {
   "cell_type": "code",
   "execution_count": null,
   "id": "e8b615f0",
   "metadata": {
    "scrolled": true
   },
   "outputs": [
    {
     "name": "stdout",
     "output_type": "stream",
     "text": [
      "Enter START number : 0\n",
      "Enter END number : 2000\n",
      "Counter = 0\n"
     ]
    },
    {
     "name": "stderr",
     "output_type": "stream",
     "text": [
      "<ipython-input-91-28d9966ce939>:20: SettingWithCopyWarning: \n",
      "A value is trying to be set on a copy of a slice from a DataFrame\n",
      "\n",
      "See the caveats in the documentation: https://pandas.pydata.org/pandas-docs/stable/user_guide/indexing.html#returning-a-view-versus-a-copy\n",
      "  df[\"description\"][i] = description\n"
     ]
    },
    {
     "name": "stdout",
     "output_type": "stream",
     "text": [
      "description : Provides an introduction to classical myths placing the addressed topics within their historical context, discussion of archaeological evidence as support for mythical events, and how these themes have been portrayed in literature, art, music, and film.\n",
      "Counter = 1\n"
     ]
    },
    {
     "name": "stderr",
     "output_type": "stream",
     "text": [
      "<ipython-input-91-28d9966ce939>:20: SettingWithCopyWarning: \n",
      "A value is trying to be set on a copy of a slice from a DataFrame\n",
      "\n",
      "See the caveats in the documentation: https://pandas.pydata.org/pandas-docs/stable/user_guide/indexing.html#returning-a-view-versus-a-copy\n",
      "  df[\"description\"][i] = description\n"
     ]
    },
    {
     "name": "stdout",
     "output_type": "stream",
     "text": [
      "description : In a small town in Canada, Clara Callan reluctantly takes leave of her sister, Nora, who is bound for New York. It's a time when the growing threat of fascism in Europe is a constant worry, and people escape from reality through radio and the movies. Meanwhile, the two sisters -- vastly different in personality, yet inextricably linked by a shared past -- try to find their places within the complex web of social expectations for young women in the 1930s. While Nora embarks on a glamorous career as a radio-soap opera star, Clara, a strong and independent-minded woman, struggles to observe the traditional boundaries of a small and tight-knit community without relinquishing her dreams of love, freedom, and adventure. However, things aren't as simple as they appear -- Nora's letters eventually reveal life in the big city is less exotic than it seems, and the tranquil solitude of Clara's life is shattered by a series of unforeseeable events. These twists of fate require all of Clara's courage and strength, and finally put the seemingly unbreakable bond between the sisters to the test.\n",
      "Counter = 2\n"
     ]
    },
    {
     "name": "stderr",
     "output_type": "stream",
     "text": [
      "<ipython-input-91-28d9966ce939>:20: SettingWithCopyWarning: \n",
      "A value is trying to be set on a copy of a slice from a DataFrame\n",
      "\n",
      "See the caveats in the documentation: https://pandas.pydata.org/pandas-docs/stable/user_guide/indexing.html#returning-a-view-versus-a-copy\n",
      "  df[\"description\"][i] = description\n"
     ]
    },
    {
     "name": "stdout",
     "output_type": "stream",
     "text": [
      "description : Here, for the first time in paperback, is an outstanding military history that offers a dramatic new perspective on the Allied campaign that began with the invasion of the D-Day beaches of Normandy. Nationa advertising in Military History.\n",
      "Counter = 3\n"
     ]
    },
    {
     "name": "stderr",
     "output_type": "stream",
     "text": [
      "<ipython-input-91-28d9966ce939>:20: SettingWithCopyWarning: \n",
      "A value is trying to be set on a copy of a slice from a DataFrame\n",
      "\n",
      "See the caveats in the documentation: https://pandas.pydata.org/pandas-docs/stable/user_guide/indexing.html#returning-a-view-versus-a-copy\n",
      "  df[\"description\"][i] = description\n"
     ]
    },
    {
     "name": "stdout",
     "output_type": "stream",
     "text": [
      "description : Describes the great flu epidemic of 1918, an outbreak that killed some forty million people worldwide, and discusses the efforts of scientists and public health officials to understand and prevent another lethal pandemic\n",
      "Counter = 4\n"
     ]
    },
    {
     "name": "stderr",
     "output_type": "stream",
     "text": [
      "<ipython-input-91-28d9966ce939>:20: SettingWithCopyWarning: \n",
      "A value is trying to be set on a copy of a slice from a DataFrame\n",
      "\n",
      "See the caveats in the documentation: https://pandas.pydata.org/pandas-docs/stable/user_guide/indexing.html#returning-a-view-versus-a-copy\n",
      "  df[\"description\"][i] = description\n"
     ]
    },
    {
     "name": "stdout",
     "output_type": "stream",
     "text": [
      "description : A look at the incredibly well-preserved ancient mummies found in Western China describes their clothing and appearance, attempts to reconstruct their culture, and speculates about how Caucasians could have found their way to the feet of the Himalayan mountains.\n",
      "Counter = 5\n"
     ]
    },
    {
     "name": "stderr",
     "output_type": "stream",
     "text": [
      "<ipython-input-91-28d9966ce939>:20: SettingWithCopyWarning: \n",
      "A value is trying to be set on a copy of a slice from a DataFrame\n",
      "\n",
      "See the caveats in the documentation: https://pandas.pydata.org/pandas-docs/stable/user_guide/indexing.html#returning-a-view-versus-a-copy\n",
      "  df[\"description\"][i] = description\n"
     ]
    },
    {
     "name": "stdout",
     "output_type": "stream",
     "text": [
      "description : A Chinese immigrant who is convinced she is dying threatens to celebrate the Chinese New Year by unburdening herself of everybody's hidden truths, thus prompting a series of comic misunderstandings\n",
      "Counter = 6\n"
     ]
    },
    {
     "name": "stderr",
     "output_type": "stream",
     "text": [
      "<ipython-input-91-28d9966ce939>:20: SettingWithCopyWarning: \n",
      "A value is trying to be set on a copy of a slice from a DataFrame\n",
      "\n",
      "See the caveats in the documentation: https://pandas.pydata.org/pandas-docs/stable/user_guide/indexing.html#returning-a-view-versus-a-copy\n",
      "  df[\"description\"][i] = description\n"
     ]
    },
    {
     "name": "stdout",
     "output_type": "stream",
     "text": [
      "description : Essays by respected military historians, including Stephen Ambrose, David McCullough, James McPherson, and John Keegan, consider the consequences if history had turned out differently, such as if the weather on D-Day had been worse or if Washington had not escaped from Long Island. Reprint.\n",
      "Counter = 7\n"
     ]
    },
    {
     "name": "stderr",
     "output_type": "stream",
     "text": [
      "<ipython-input-91-28d9966ce939>:20: SettingWithCopyWarning: \n",
      "A value is trying to be set on a copy of a slice from a DataFrame\n",
      "\n",
      "See the caveats in the documentation: https://pandas.pydata.org/pandas-docs/stable/user_guide/indexing.html#returning-a-view-versus-a-copy\n",
      "  df[\"description\"][i] = description\n"
     ]
    },
    {
     "name": "stdout",
     "output_type": "stream",
     "text": [
      "description : An authoritative, revisionist history of the golden age of piracy draws on original archive material and records to provide a realistic study of pirates and their lives that refutes many of the colorful myths about the era. 35,000 first printing. Tour.\n",
      "Counter = 8\n"
     ]
    },
    {
     "name": "stderr",
     "output_type": "stream",
     "text": [
      "<ipython-input-91-28d9966ce939>:20: SettingWithCopyWarning: \n",
      "A value is trying to be set on a copy of a slice from a DataFrame\n",
      "\n",
      "See the caveats in the documentation: https://pandas.pydata.org/pandas-docs/stable/user_guide/indexing.html#returning-a-view-versus-a-copy\n",
      "  df[\"description\"][i] = description\n"
     ]
    },
    {
     "name": "stdout",
     "output_type": "stream",
     "text": [
      "description : Now back in print, Ann Beattie's finest short story collection, reissued to accompany the publication of her latest novel, \"The Doctor's House.\" Most of the characters in \"Where You'll Find Me\" grew up in the 1960s and 1970s, are in their twenties and thirties and embody a curious, yet familiar, fusion of hope and despair. In finely crafted narratives, Beattie writes of women nursing broken hearts, men looking for love, and married couples struggling to stay together.\n",
      "Counter = 9\n"
     ]
    },
    {
     "name": "stderr",
     "output_type": "stream",
     "text": [
      "<ipython-input-91-28d9966ce939>:20: SettingWithCopyWarning: \n",
      "A value is trying to be set on a copy of a slice from a DataFrame\n",
      "\n",
      "See the caveats in the documentation: https://pandas.pydata.org/pandas-docs/stable/user_guide/indexing.html#returning-a-view-versus-a-copy\n",
      "  df[\"description\"][i] = description\n"
     ]
    },
    {
     "name": "stdout",
     "output_type": "stream",
     "text": [
      "description : Another story based in the fictional rural town in Miramichi.\n",
      "Counter = 10\n"
     ]
    },
    {
     "name": "stderr",
     "output_type": "stream",
     "text": [
      "<ipython-input-91-28d9966ce939>:20: SettingWithCopyWarning: \n",
      "A value is trying to be set on a copy of a slice from a DataFrame\n",
      "\n",
      "See the caveats in the documentation: https://pandas.pydata.org/pandas-docs/stable/user_guide/indexing.html#returning-a-view-versus-a-copy\n",
      "  df[\"description\"][i] = description\n"
     ]
    },
    {
     "name": "stdout",
     "output_type": "stream",
     "text": [
      "description : Based on newly declassified documents and archival research, Hitler's Secret Bankers reveals the full, hitherto unknown extent of Swiss economic collaboration with the Nazis during World War II. In this updated edition, readers discover how and why the Swiss finally buckled and agreed to pay $1.25 billion in compensation for the funds deposited by Holocaust victims in Swiss banks. In addition to the dispute over dormant accounts, Swiss banks provided to the Nazi war machine the foreign currency that paid for vital war materiel such as chrome and aluminum. The author also explains how the exposure of the myth of Swiss neutrality, in collaboration with the Nazis, triggered investigations into the role of the British regarding Holocaust victims and the part played by Germany and its failure to compensate the survivors of slave labor, as well as the upheaval in the art world, which failed to restore stolen paintings to their rightful owners.\n",
      "Counter = 11\n"
     ]
    },
    {
     "name": "stderr",
     "output_type": "stream",
     "text": [
      "<ipython-input-91-28d9966ce939>:20: SettingWithCopyWarning: \n",
      "A value is trying to be set on a copy of a slice from a DataFrame\n",
      "\n",
      "See the caveats in the documentation: https://pandas.pydata.org/pandas-docs/stable/user_guide/indexing.html#returning-a-view-versus-a-copy\n",
      "  df[\"description\"][i] = description\n"
     ]
    },
    {
     "name": "stdout",
     "output_type": "stream",
     "text": [
      "description : Part Dorothy Parker, part Jose Saramago, with shades of George Orwell, Sheila Heti has arrived on Canada's literary scene a fully formed artist. Balancing wisdom and innocence, joy and foreboding, each story in The Middle Stories leads us to surprising places. A frog doles out sage advice to a plumber infatuated with a princess, a boy falls hopelessly in love with a monkey, and a man with a hat keeps apocalyptic thoughts at bay by resolving to follow a plan that he admits he won't stick to. Globe and Mail critic Russell Smith has described Heti's stories as cryptic fairy tales without morals at the end, but really the morals are in the quality of the telling and in the details disclosed along the way. Look where you weren't going to look, think what you wouldn't have thought, Heti seems to say, and meaning itself gains more meaning and more dimensions. Heti's stories are not what you expect, but why did you expect that anyway?\"\n",
      "Counter = 12\n"
     ]
    },
    {
     "name": "stderr",
     "output_type": "stream",
     "text": [
      "<ipython-input-91-28d9966ce939>:20: SettingWithCopyWarning: \n",
      "A value is trying to be set on a copy of a slice from a DataFrame\n",
      "\n",
      "See the caveats in the documentation: https://pandas.pydata.org/pandas-docs/stable/user_guide/indexing.html#returning-a-view-versus-a-copy\n",
      "  df[\"description\"][i] = description\n"
     ]
    },
    {
     "name": "stdout",
     "output_type": "stream",
     "text": [
      "description : A collection of inspirational true stories about love, marriage, friendship, overcoming obstacles, and achieving life dreams\n",
      "Counter = 13\n"
     ]
    },
    {
     "name": "stderr",
     "output_type": "stream",
     "text": [
      "<ipython-input-91-28d9966ce939>:20: SettingWithCopyWarning: \n",
      "A value is trying to be set on a copy of a slice from a DataFrame\n",
      "\n",
      "See the caveats in the documentation: https://pandas.pydata.org/pandas-docs/stable/user_guide/indexing.html#returning-a-view-versus-a-copy\n",
      "  df[\"description\"][i] = description\n"
     ]
    },
    {
     "name": "stdout",
     "output_type": "stream",
     "text": [
      "description : This eye-opening, well-researched examination of mankind's oldest competitor is filled with weirdly fascinating information about the history of the rat and the way it consistently outsmarts man. Illustrations.\n",
      "Counter = 14\n"
     ]
    },
    {
     "name": "stderr",
     "output_type": "stream",
     "text": [
      "<ipython-input-91-28d9966ce939>:20: SettingWithCopyWarning: \n",
      "A value is trying to be set on a copy of a slice from a DataFrame\n",
      "\n",
      "See the caveats in the documentation: https://pandas.pydata.org/pandas-docs/stable/user_guide/indexing.html#returning-a-view-versus-a-copy\n",
      "  df[\"description\"][i] = description\n"
     ]
    },
    {
     "name": "stdout",
     "output_type": "stream",
     "text": [
      "description : A beautifully narrated novel of time and place, \"Goodbye to the Buttermilk Sky\" re-creates a southern summer when the depression and the boll weevil turned hopes to dust. With the extraordinary talent to make the reader see the Ball canning jars on the kitchen table, hear the clicks on the party line, and feel the bittersweet moments of 20-year-old Callie Tatum's first experiences with adult desire, Oliver portrays a young wife's increasingly dangerous infidelity with cinematic precision and palpable suspense.\n",
      "Counter = 15\n"
     ]
    },
    {
     "name": "stderr",
     "output_type": "stream",
     "text": [
      "<ipython-input-91-28d9966ce939>:20: SettingWithCopyWarning: \n",
      "A value is trying to be set on a copy of a slice from a DataFrame\n",
      "\n",
      "See the caveats in the documentation: https://pandas.pydata.org/pandas-docs/stable/user_guide/indexing.html#returning-a-view-versus-a-copy\n",
      "  df[\"description\"][i] = description\n"
     ]
    },
    {
     "name": "stdout",
     "output_type": "stream",
     "text": [
      "description : A suicidal billionaire, a burnt-out Washington litigator, and a woman who has forsaken technology to work in the wilds of Brazil are all brought together by an astounding mystery of the testament\n",
      "Counter = 16\n"
     ]
    },
    {
     "name": "stderr",
     "output_type": "stream",
     "text": [
      "<ipython-input-91-28d9966ce939>:20: SettingWithCopyWarning: \n",
      "A value is trying to be set on a copy of a slice from a DataFrame\n",
      "\n",
      "See the caveats in the documentation: https://pandas.pydata.org/pandas-docs/stable/user_guide/indexing.html#returning-a-view-versus-a-copy\n",
      "  df[\"description\"][i] = description\n"
     ]
    },
    {
     "name": "stdout",
     "output_type": "stream",
     "text": [
      "description : Staring unflinchingly into the abyss of slavery, this novel transforms history into a story as powerful as Exodus and as intimate as a lullaby. Sethe, its protagonist, was born a slave and escaped to Ohio, but eighteen years later she is still not free. She has too many memories of Sweet Home, the beautiful farm where so many hideous things happened. And Sethe's new home is haunted by the ghost of her baby, who died nameless and whose tombstone is engraved with a single word: Beloved.\n",
      "Counter = 17\n"
     ]
    },
    {
     "name": "stderr",
     "output_type": "stream",
     "text": [
      "<ipython-input-91-28d9966ce939>:20: SettingWithCopyWarning: \n",
      "A value is trying to be set on a copy of a slice from a DataFrame\n",
      "\n",
      "See the caveats in the documentation: https://pandas.pydata.org/pandas-docs/stable/user_guide/indexing.html#returning-a-view-versus-a-copy\n",
      "  df[\"description\"][i] = description\n"
     ]
    },
    {
     "name": "stdout",
     "output_type": "stream",
     "text": [
      "description : The staff of The Onion presents a satirical collection of mock headlines and news stories, including an account of the Pentagon's development of an A-bomb-resistant desk for schoolchildren\n",
      "Counter = 18\n"
     ]
    },
    {
     "name": "stderr",
     "output_type": "stream",
     "text": [
      "<ipython-input-91-28d9966ce939>:20: SettingWithCopyWarning: \n",
      "A value is trying to be set on a copy of a slice from a DataFrame\n",
      "\n",
      "See the caveats in the documentation: https://pandas.pydata.org/pandas-docs/stable/user_guide/indexing.html#returning-a-view-versus-a-copy\n",
      "  df[\"description\"][i] = description\n"
     ]
    },
    {
     "name": "stdout",
     "output_type": "stream",
     "text": [
      "description : In New Vegetarian Celia Brooks Brown presents an innovative approach to vegetarian cooking. There's practical advice on how to choose and prepare the major vegetarian ingredients, followed by 50 original, stylish recipes, all photographed by Philip Webb.\n",
      "Counter = 19\n"
     ]
    },
    {
     "name": "stderr",
     "output_type": "stream",
     "text": [
      "<ipython-input-91-28d9966ce939>:20: SettingWithCopyWarning: \n",
      "A value is trying to be set on a copy of a slice from a DataFrame\n",
      "\n",
      "See the caveats in the documentation: https://pandas.pydata.org/pandas-docs/stable/user_guide/indexing.html#returning-a-view-versus-a-copy\n",
      "  df[\"description\"][i] = description\n"
     ]
    },
    {
     "name": "stdout",
     "output_type": "stream",
     "text": [
      "description : Provides advice on ways to succeed in business, finance, careers, dating, marriage, school, and getting along with others.\n",
      "Counter = 20\n"
     ]
    },
    {
     "name": "stderr",
     "output_type": "stream",
     "text": [
      "<ipython-input-91-28d9966ce939>:20: SettingWithCopyWarning: \n",
      "A value is trying to be set on a copy of a slice from a DataFrame\n",
      "\n",
      "See the caveats in the documentation: https://pandas.pydata.org/pandas-docs/stable/user_guide/indexing.html#returning-a-view-versus-a-copy\n",
      "  df[\"description\"][i] = description\n"
     ]
    },
    {
     "name": "stdout",
     "output_type": "stream",
     "text": [
      "description : Problems arise when identical twins Emma and Sam switch places in order to solve each other's problems, and the girls worry that things will only get worse if the truth about their plan is revealed.\n",
      "Counter = 21\n"
     ]
    },
    {
     "name": "stderr",
     "output_type": "stream",
     "text": [
      "<ipython-input-91-28d9966ce939>:20: SettingWithCopyWarning: \n",
      "A value is trying to be set on a copy of a slice from a DataFrame\n",
      "\n",
      "See the caveats in the documentation: https://pandas.pydata.org/pandas-docs/stable/user_guide/indexing.html#returning-a-view-versus-a-copy\n",
      "  df[\"description\"][i] = description\n"
     ]
    },
    {
     "name": "stdout",
     "output_type": "stream",
     "text": [
      "description : As explained by the kids themselves, this book offers a collection of true stories that deal with moments of embarrassment and awkwardness while providing tips and advice on how to handle such difficult situations when they arise. Original.\n",
      "Counter = 22\n"
     ]
    },
    {
     "name": "stderr",
     "output_type": "stream",
     "text": [
      "<ipython-input-91-28d9966ce939>:20: SettingWithCopyWarning: \n",
      "A value is trying to be set on a copy of a slice from a DataFrame\n",
      "\n",
      "See the caveats in the documentation: https://pandas.pydata.org/pandas-docs/stable/user_guide/indexing.html#returning-a-view-versus-a-copy\n",
      "  df[\"description\"][i] = description\n"
     ]
    },
    {
     "name": "stdout",
     "output_type": "stream",
     "text": [
      "description : Why Should I Recycle Garbage? (PB)\n",
      "Counter = 23\n"
     ]
    },
    {
     "name": "stderr",
     "output_type": "stream",
     "text": [
      "<ipython-input-91-28d9966ce939>:20: SettingWithCopyWarning: \n",
      "A value is trying to be set on a copy of a slice from a DataFrame\n",
      "\n",
      "See the caveats in the documentation: https://pandas.pydata.org/pandas-docs/stable/user_guide/indexing.html#returning-a-view-versus-a-copy\n",
      "  df[\"description\"][i] = description\n"
     ]
    },
    {
     "name": "stdout",
     "output_type": "stream",
     "text": [
      "description : Wild animus is a search for the primordial, a test of human foundations and a journey to the breaking point.\n",
      "Counter = 24\n"
     ]
    },
    {
     "name": "stderr",
     "output_type": "stream",
     "text": [
      "<ipython-input-91-28d9966ce939>:20: SettingWithCopyWarning: \n",
      "A value is trying to be set on a copy of a slice from a DataFrame\n",
      "\n",
      "See the caveats in the documentation: https://pandas.pydata.org/pandas-docs/stable/user_guide/indexing.html#returning-a-view-versus-a-copy\n",
      "  df[\"description\"][i] = description\n"
     ]
    },
    {
     "name": "stdout",
     "output_type": "stream",
     "text": [
      "description : A fatal mid-air collision involving a commercial airliner prompts a frantic, desperate investigation into the causes of the accident, in a thriller exploring the issue of safety and security in the aircraft industry\n",
      "Counter = 25\n"
     ]
    },
    {
     "name": "stderr",
     "output_type": "stream",
     "text": [
      "<ipython-input-91-28d9966ce939>:20: SettingWithCopyWarning: \n",
      "A value is trying to be set on a copy of a slice from a DataFrame\n",
      "\n",
      "See the caveats in the documentation: https://pandas.pydata.org/pandas-docs/stable/user_guide/indexing.html#returning-a-view-versus-a-copy\n",
      "  df[\"description\"][i] = description\n"
     ]
    },
    {
     "name": "stdout",
     "output_type": "stream",
     "text": [
      "description : Using a quantum time machine, a group of young historians is sent back to the year 1357 to rescue their trapped project leader.\n",
      "Counter = 26\n"
     ]
    },
    {
     "name": "stderr",
     "output_type": "stream",
     "text": [
      "<ipython-input-91-28d9966ce939>:20: SettingWithCopyWarning: \n",
      "A value is trying to be set on a copy of a slice from a DataFrame\n",
      "\n",
      "See the caveats in the documentation: https://pandas.pydata.org/pandas-docs/stable/user_guide/indexing.html#returning-a-view-versus-a-copy\n",
      "  df[\"description\"][i] = description\n"
     ]
    },
    {
     "name": "stdout",
     "output_type": "stream",
     "text": [
      "description : Dr. Ransom is abducted to the eerie red planet, Malacandra, where his escape and flight endanger both his life and his chances of ever returning to Earth\n",
      "Counter = 27\n"
     ]
    },
    {
     "name": "stderr",
     "output_type": "stream",
     "text": [
      "<ipython-input-91-28d9966ce939>:20: SettingWithCopyWarning: \n",
      "A value is trying to be set on a copy of a slice from a DataFrame\n",
      "\n",
      "See the caveats in the documentation: https://pandas.pydata.org/pandas-docs/stable/user_guide/indexing.html#returning-a-view-versus-a-copy\n",
      "  df[\"description\"][i] = description\n"
     ]
    },
    {
     "name": "stdout",
     "output_type": "stream",
     "text": [
      "description : Five American expatriates living in Budapest in the early 1990s seek to establish themselves and make their fortunes in a city still haunted by the tragedies of its Communist past. A first novel. Reader's Guide included. Reprint. 100,000 first printing.\n",
      "Counter = 28\n"
     ]
    },
    {
     "name": "stderr",
     "output_type": "stream",
     "text": [
      "<ipython-input-91-28d9966ce939>:20: SettingWithCopyWarning: \n",
      "A value is trying to be set on a copy of a slice from a DataFrame\n",
      "\n",
      "See the caveats in the documentation: https://pandas.pydata.org/pandas-docs/stable/user_guide/indexing.html#returning-a-view-versus-a-copy\n",
      "  df[\"description\"][i] = description\n"
     ]
    },
    {
     "name": "stdout",
     "output_type": "stream",
     "text": [
      "description : When Sydney Corbett comes up with the idea of making candy figures of Jesus, it's just a business opportunity for him and the people at Bea's Candies, but it is blasphemy for the Reverend Willie Domingo and the Church of the Returning Vegetarian Christ, w\n",
      "Counter = 29\n"
     ]
    },
    {
     "name": "stderr",
     "output_type": "stream",
     "text": [
      "<ipython-input-91-28d9966ce939>:29: SettingWithCopyWarning: \n",
      "A value is trying to be set on a copy of a slice from a DataFrame\n",
      "\n",
      "See the caveats in the documentation: https://pandas.pydata.org/pandas-docs/stable/user_guide/indexing.html#returning-a-view-versus-a-copy\n",
      "  df[\"description\"][i] = description\n"
     ]
    },
    {
     "name": "stdout",
     "output_type": "stream",
     "text": [
      "NaN\n",
      "......................................................................................................\n",
      "Counter = 30\n"
     ]
    },
    {
     "name": "stderr",
     "output_type": "stream",
     "text": [
      "<ipython-input-91-28d9966ce939>:20: SettingWithCopyWarning: \n",
      "A value is trying to be set on a copy of a slice from a DataFrame\n",
      "\n",
      "See the caveats in the documentation: https://pandas.pydata.org/pandas-docs/stable/user_guide/indexing.html#returning-a-view-versus-a-copy\n",
      "  df[\"description\"][i] = description\n"
     ]
    },
    {
     "name": "stdout",
     "output_type": "stream",
     "text": [
      "description : Die Erlebnisse der schönen Felicia, Tochter eines ostpreussischen Gutsbesitzers, in den Jahren 1914 - 1930.\n",
      "Counter = 31\n"
     ]
    },
    {
     "name": "stderr",
     "output_type": "stream",
     "text": [
      "<ipython-input-91-28d9966ce939>:20: SettingWithCopyWarning: \n",
      "A value is trying to be set on a copy of a slice from a DataFrame\n",
      "\n",
      "See the caveats in the documentation: https://pandas.pydata.org/pandas-docs/stable/user_guide/indexing.html#returning-a-view-versus-a-copy\n",
      "  df[\"description\"][i] = description\n"
     ]
    },
    {
     "name": "stdout",
     "output_type": "stream",
     "text": [
      "description : Sister John of the Cross, an elderly nun, experiences a series of dazzling visions, but she is confronted with a difficult choice between her spiritual gifts and curing the powerful headaches that accompany her visions.\n",
      "Counter = 32\n"
     ]
    },
    {
     "name": "stderr",
     "output_type": "stream",
     "text": [
      "<ipython-input-91-28d9966ce939>:20: SettingWithCopyWarning: \n",
      "A value is trying to be set on a copy of a slice from a DataFrame\n",
      "\n",
      "See the caveats in the documentation: https://pandas.pydata.org/pandas-docs/stable/user_guide/indexing.html#returning-a-view-versus-a-copy\n",
      "  df[\"description\"][i] = description\n"
     ]
    },
    {
     "name": "stdout",
     "output_type": "stream",
     "text": [
      "description : The unforgettable novel of a childhood in a sleepy Southern town and the crisis of conscience that rocked it, To Kill A Mockingbird became both an instant bestseller and a critical success when it was first published in 1960. It went on to win the Pulitzer Prize in 1961 and was later made into an Academy Award-winning film, also a classic. Compassionate, dramatic, and deeply moving, To Kill A Mockingbird takes readers to the roots of human behavior - to innocence and experience, kindness and cruelty, love and hatred, humor and pathos. Now with over 18 million copies in print and translated into forty languages, this regional story by a young Alabama woman claims universal appeal. Harper Lee always considered her book to be a simple love story. Today it is regarded as a masterpiece of American literature.\n",
      "Counter = 33\n"
     ]
    },
    {
     "name": "stderr",
     "output_type": "stream",
     "text": [
      "<ipython-input-91-28d9966ce939>:20: SettingWithCopyWarning: \n",
      "A value is trying to be set on a copy of a slice from a DataFrame\n",
      "\n",
      "See the caveats in the documentation: https://pandas.pydata.org/pandas-docs/stable/user_guide/indexing.html#returning-a-view-versus-a-copy\n",
      "  df[\"description\"][i] = description\n"
     ]
    },
    {
     "name": "stdout",
     "output_type": "stream",
     "text": [
      "description : When Turtle witnesses a freak accident at the Hoover Dam, her mother responds and a man's life is saved, but their lives are changed by the incident. By the author of Animal Dreams. 100,000 first printing. $125,000 ad/promo. Tour.\n",
      "Counter = 34\n"
     ]
    },
    {
     "name": "stderr",
     "output_type": "stream",
     "text": [
      "<ipython-input-91-28d9966ce939>:20: SettingWithCopyWarning: \n",
      "A value is trying to be set on a copy of a slice from a DataFrame\n",
      "\n",
      "See the caveats in the documentation: https://pandas.pydata.org/pandas-docs/stable/user_guide/indexing.html#returning-a-view-versus-a-copy\n",
      "  df[\"description\"][i] = description\n"
     ]
    },
    {
     "name": "stdout",
     "output_type": "stream",
     "text": [
      "description : An Invitation To Murder A most unusual death has landed Helma Zukas right in the middle of another murder scene. Stanley Plummer has been cataloging a collection of Native American books for Bellehaven's new Cultural Center when his body was found in the Center's ladies room -- stabbed through his heart, and clutching a Barbie doll. Miss Zukas is asked by the library to finish the cataloging. Now she's been asked by the victim -- in a letter dated the day he died -- to get to the bottom of the mystery. Unable to resist the urge to dig into the facts, Helma becomes convinced there's something hidden in the Center that the murderer wants -- and it may be worth killing another cataloger to keep it buried. . .\n",
      "Counter = 35\n"
     ]
    },
    {
     "name": "stderr",
     "output_type": "stream",
     "text": [
      "<ipython-input-91-28d9966ce939>:20: SettingWithCopyWarning: \n",
      "A value is trying to be set on a copy of a slice from a DataFrame\n",
      "\n",
      "See the caveats in the documentation: https://pandas.pydata.org/pandas-docs/stable/user_guide/indexing.html#returning-a-view-versus-a-copy\n",
      "  df[\"description\"][i] = description\n"
     ]
    },
    {
     "name": "stdout",
     "output_type": "stream",
     "text": [
      "description : Whether it be to relieve a headache, calm a muscle spasm, soothe a crying baby, or alleviate your own abdominal cramps. The Therapeutic Touch shows you how you can use your hands to help or to heal someone who is sick. By explaining what happens during the four different stages of therapeutic touching. Dr. Krieger shows you how to detect when a person is sick, pinpoint where the pain is, and stimulate the recuperative powers of the sick person. With accurate descriptions of the changes that take place in body temperature, levels of consciousness, and physiology during this intense interaction, this book helps you interpret your healing experience and get the most meaning from it. The Therapeutic Touch recaptures a simple, ancient mode of healing and shows how you can now become on integral part of your own or someone else's healing process.\n",
      "Counter = 36\n"
     ]
    },
    {
     "name": "stderr",
     "output_type": "stream",
     "text": [
      "<ipython-input-91-28d9966ce939>:20: SettingWithCopyWarning: \n",
      "A value is trying to be set on a copy of a slice from a DataFrame\n",
      "\n",
      "See the caveats in the documentation: https://pandas.pydata.org/pandas-docs/stable/user_guide/indexing.html#returning-a-view-versus-a-copy\n",
      "  df[\"description\"][i] = description\n"
     ]
    },
    {
     "name": "stdout",
     "output_type": "stream",
     "text": [
      "description : The year is 1966, a time of innocence, possibility, and freedom. And for Atlanta, the country, and one woman making her way in a changing world, nothing will be the same . . . After an airless childhood in Savannah, Smoky O'Donnell arrives in Atlanta, dazzled and chastened by this hectic young city on the rise. Her new job as a writer with the city's Downtown magazine introduces her to many unforgettable people and propels her into the center of momentous events that will irrevocably alter her heart, her career, and her world.\n",
      "Counter = 37\n"
     ]
    },
    {
     "name": "stderr",
     "output_type": "stream",
     "text": [
      "<ipython-input-91-28d9966ce939>:20: SettingWithCopyWarning: \n",
      "A value is trying to be set on a copy of a slice from a DataFrame\n",
      "\n",
      "See the caveats in the documentation: https://pandas.pydata.org/pandas-docs/stable/user_guide/indexing.html#returning-a-view-versus-a-copy\n",
      "  df[\"description\"][i] = description\n"
     ]
    },
    {
     "name": "stdout",
     "output_type": "stream",
     "text": [
      "description : A secret Arctic experiment turns into a frozen nightmare when a team of scientists, stranded on a drifting iceberg with a massive explosive charge, battles the elements for survival, only to discover that one of them is a murderer. Reissue.\n",
      "Counter = 38\n"
     ]
    },
    {
     "name": "stderr",
     "output_type": "stream",
     "text": [
      "<ipython-input-91-28d9966ce939>:20: SettingWithCopyWarning: \n",
      "A value is trying to be set on a copy of a slice from a DataFrame\n",
      "\n",
      "See the caveats in the documentation: https://pandas.pydata.org/pandas-docs/stable/user_guide/indexing.html#returning-a-view-versus-a-copy\n",
      "  df[\"description\"][i] = description\n"
     ]
    },
    {
     "name": "stdout",
     "output_type": "stream",
     "text": [
      "description : A young news reporter on assignment at a large metropolitan hospital is horrified when she sees that a young Jane Doe whom paramedics have failed to save has a face identical to her own\n",
      "Counter = 39\n"
     ]
    },
    {
     "name": "stderr",
     "output_type": "stream",
     "text": [
      "<ipython-input-91-28d9966ce939>:20: SettingWithCopyWarning: \n",
      "A value is trying to be set on a copy of a slice from a DataFrame\n",
      "\n",
      "See the caveats in the documentation: https://pandas.pydata.org/pandas-docs/stable/user_guide/indexing.html#returning-a-view-versus-a-copy\n",
      "  df[\"description\"][i] = description\n"
     ]
    },
    {
     "name": "stdout",
     "output_type": "stream",
     "text": [
      "description : Koontz looks heavenward for inspiration in his newest suspense thriller, which is chock-full of signs, portents, angels, and one somewhat second-rate devil, a murky and undercharacterized guy named Junior Cain who throws his beloved wife off a fire tower on an Oregon mountain and spends the rest of the novel waiting for the retribution that will surely come. But not before a series of tragedies ensues that convince Junior that someone or something named Bartholomew is out to exact vengeance for that crime and the series of other murders that follow. --- Amazon.\n",
      "Counter = 40\n"
     ]
    },
    {
     "name": "stderr",
     "output_type": "stream",
     "text": [
      "<ipython-input-91-28d9966ce939>:20: SettingWithCopyWarning: \n",
      "A value is trying to be set on a copy of a slice from a DataFrame\n",
      "\n",
      "See the caveats in the documentation: https://pandas.pydata.org/pandas-docs/stable/user_guide/indexing.html#returning-a-view-versus-a-copy\n",
      "  df[\"description\"][i] = description\n"
     ]
    },
    {
     "name": "stdout",
     "output_type": "stream",
     "text": [
      "description : Angered over the governor's order on speed traps, the eccentric inhabitants of the Isle of Tangier, off the coast of Virginia, declare war on their own state, and it is up to Judy Hammer, the new superintendent of the state police, to stop the crisis.\n",
      "Counter = 41\n"
     ]
    },
    {
     "name": "stderr",
     "output_type": "stream",
     "text": [
      "<ipython-input-91-28d9966ce939>:20: SettingWithCopyWarning: \n",
      "A value is trying to be set on a copy of a slice from a DataFrame\n",
      "\n",
      "See the caveats in the documentation: https://pandas.pydata.org/pandas-docs/stable/user_guide/indexing.html#returning-a-view-versus-a-copy\n",
      "  df[\"description\"][i] = description\n"
     ]
    },
    {
     "name": "stdout",
     "output_type": "stream",
     "text": [
      "description : Eve Dallas must face the impossible: someone has unleashed a computer virus that may be able to spread from machine to man.\n",
      "Counter = 42\n"
     ]
    },
    {
     "name": "stderr",
     "output_type": "stream",
     "text": [
      "<ipython-input-91-28d9966ce939>:20: SettingWithCopyWarning: \n",
      "A value is trying to be set on a copy of a slice from a DataFrame\n",
      "\n",
      "See the caveats in the documentation: https://pandas.pydata.org/pandas-docs/stable/user_guide/indexing.html#returning-a-view-versus-a-copy\n",
      "  df[\"description\"][i] = description\n"
     ]
    },
    {
     "name": "stdout",
     "output_type": "stream",
     "text": [
      "description : Presents an anthology of Christmas stories reflecting on the various ways in which the holidays serve as a catalyst to promote change, growth, and new beginnings\n",
      "Counter = 43\n"
     ]
    },
    {
     "name": "stderr",
     "output_type": "stream",
     "text": [
      "<ipython-input-91-28d9966ce939>:20: SettingWithCopyWarning: \n",
      "A value is trying to be set on a copy of a slice from a DataFrame\n",
      "\n",
      "See the caveats in the documentation: https://pandas.pydata.org/pandas-docs/stable/user_guide/indexing.html#returning-a-view-versus-a-copy\n",
      "  df[\"description\"][i] = description\n"
     ]
    },
    {
     "name": "stdout",
     "output_type": "stream",
     "text": [
      "description : Carli D'Auber, who has invented a new form of communication that enables people to transfer their consciousness thousands of miles away, finds herself hunted by a conspiracy that wants to use her invention for their own purposes. Reprint. LJ. K.\n",
      "Counter = 44\n"
     ]
    },
    {
     "name": "stderr",
     "output_type": "stream",
     "text": [
      "<ipython-input-91-28d9966ce939>:20: SettingWithCopyWarning: \n",
      "A value is trying to be set on a copy of a slice from a DataFrame\n",
      "\n",
      "See the caveats in the documentation: https://pandas.pydata.org/pandas-docs/stable/user_guide/indexing.html#returning-a-view-versus-a-copy\n",
      "  df[\"description\"][i] = description\n"
     ]
    },
    {
     "name": "stdout",
     "output_type": "stream",
     "text": [
      "description : The first book in the author's successful \"last days\" series follows a 747 pilot as he tries to recover from the effects of \"The Rapture.\" Reprint.\n",
      "Counter = 45\n"
     ]
    },
    {
     "name": "stderr",
     "output_type": "stream",
     "text": [
      "<ipython-input-91-28d9966ce939>:20: SettingWithCopyWarning: \n",
      "A value is trying to be set on a copy of a slice from a DataFrame\n",
      "\n",
      "See the caveats in the documentation: https://pandas.pydata.org/pandas-docs/stable/user_guide/indexing.html#returning-a-view-versus-a-copy\n",
      "  df[\"description\"][i] = description\n"
     ]
    },
    {
     "name": "stdout",
     "output_type": "stream",
     "text": [
      "description : After a violent encounter with a homeless man, talented corporate lawyer Michael finds himself out in the streets, lucky to be alive, and holding a top-secret file belonging to his former employers\n",
      "Counter = 46\n"
     ]
    },
    {
     "name": "stderr",
     "output_type": "stream",
     "text": [
      "<ipython-input-91-28d9966ce939>:29: SettingWithCopyWarning: \n",
      "A value is trying to be set on a copy of a slice from a DataFrame\n",
      "\n",
      "See the caveats in the documentation: https://pandas.pydata.org/pandas-docs/stable/user_guide/indexing.html#returning-a-view-versus-a-copy\n",
      "  df[\"description\"][i] = description\n"
     ]
    },
    {
     "name": "stdout",
     "output_type": "stream",
     "text": [
      "NaN\n",
      "......................................................................................................\n",
      "Counter = 47\n"
     ]
    },
    {
     "name": "stderr",
     "output_type": "stream",
     "text": [
      "<ipython-input-91-28d9966ce939>:20: SettingWithCopyWarning: \n",
      "A value is trying to be set on a copy of a slice from a DataFrame\n",
      "\n",
      "See the caveats in the documentation: https://pandas.pydata.org/pandas-docs/stable/user_guide/indexing.html#returning-a-view-versus-a-copy\n",
      "  df[\"description\"][i] = description\n"
     ]
    },
    {
     "name": "stdout",
     "output_type": "stream",
     "text": [
      "description : As relevant today as it was 50 years ago, \"All the King's Men\" is a classic novel about American politics. Set in the 1930s, this Pulitzer Prize-winning novel traces the rise and fall of demagogue Willie Stark, a fictional character based on the real-life Huey Long of Louisiana.\n",
      "Counter = 48\n"
     ]
    },
    {
     "name": "stderr",
     "output_type": "stream",
     "text": [
      "<ipython-input-91-28d9966ce939>:29: SettingWithCopyWarning: \n",
      "A value is trying to be set on a copy of a slice from a DataFrame\n",
      "\n",
      "See the caveats in the documentation: https://pandas.pydata.org/pandas-docs/stable/user_guide/indexing.html#returning-a-view-versus-a-copy\n",
      "  df[\"description\"][i] = description\n"
     ]
    },
    {
     "name": "stdout",
     "output_type": "stream",
     "text": [
      "NaN\n",
      "......................................................................................................\n",
      "Counter = 49\n"
     ]
    },
    {
     "name": "stderr",
     "output_type": "stream",
     "text": [
      "<ipython-input-91-28d9966ce939>:20: SettingWithCopyWarning: \n",
      "A value is trying to be set on a copy of a slice from a DataFrame\n",
      "\n",
      "See the caveats in the documentation: https://pandas.pydata.org/pandas-docs/stable/user_guide/indexing.html#returning-a-view-versus-a-copy\n",
      "  df[\"description\"][i] = description\n"
     ]
    },
    {
     "name": "stdout",
     "output_type": "stream",
     "text": [
      "description : Encountering a younger man on a road in Italy, seventy-something professor Alessandro Guiliani recounts his experiences, spinning a tale of love, loss, tragedy, madmen, dwarves, and mafiosi. Reprint.\n",
      "Counter = 50\n"
     ]
    },
    {
     "name": "stderr",
     "output_type": "stream",
     "text": [
      "<ipython-input-91-28d9966ce939>:20: SettingWithCopyWarning: \n",
      "A value is trying to be set on a copy of a slice from a DataFrame\n",
      "\n",
      "See the caveats in the documentation: https://pandas.pydata.org/pandas-docs/stable/user_guide/indexing.html#returning-a-view-versus-a-copy\n",
      "  df[\"description\"][i] = description\n"
     ]
    },
    {
     "name": "stdout",
     "output_type": "stream",
     "text": [
      "description : Based on the Simontons' experience with hundreds of patients at their world-famous Cancer Counseling and Research Center, Getting Well Again introduces the scientific basis for the \"will to live.\" In this revolutionary book the Simontons profile the typical \"cancer personality\": how an individual's reactions to stress and other emotional factors can contribute to the onset and progress of cancer -- and how positive expectations, self-awareness, and self-care can contribute to survival. This book offers the same self-help techniques the Simonton's patients have used to successfully to reinforce usual medical treatment -- techniques for learning positive attitudes, relaxation, visualization, goal setting, managing pain, exercise, and building an emotional support system.\n",
      "Counter = 51\n"
     ]
    },
    {
     "name": "stderr",
     "output_type": "stream",
     "text": [
      "<ipython-input-91-28d9966ce939>:29: SettingWithCopyWarning: \n",
      "A value is trying to be set on a copy of a slice from a DataFrame\n",
      "\n",
      "See the caveats in the documentation: https://pandas.pydata.org/pandas-docs/stable/user_guide/indexing.html#returning-a-view-versus-a-copy\n",
      "  df[\"description\"][i] = description\n"
     ]
    },
    {
     "name": "stdout",
     "output_type": "stream",
     "text": [
      "NaN\n",
      "......................................................................................................\n",
      "Counter = 52\n"
     ]
    },
    {
     "name": "stderr",
     "output_type": "stream",
     "text": [
      "<ipython-input-91-28d9966ce939>:20: SettingWithCopyWarning: \n",
      "A value is trying to be set on a copy of a slice from a DataFrame\n",
      "\n",
      "See the caveats in the documentation: https://pandas.pydata.org/pandas-docs/stable/user_guide/indexing.html#returning-a-view-versus-a-copy\n",
      "  df[\"description\"][i] = description\n"
     ]
    },
    {
     "name": "stdout",
     "output_type": "stream",
     "text": [
      "description : Ten short stories set in India, dealing with the unpredictable effects of contact between Indians and Americans.\n",
      "Counter = 53\n"
     ]
    },
    {
     "name": "stderr",
     "output_type": "stream",
     "text": [
      "<ipython-input-91-28d9966ce939>:20: SettingWithCopyWarning: \n",
      "A value is trying to be set on a copy of a slice from a DataFrame\n",
      "\n",
      "See the caveats in the documentation: https://pandas.pydata.org/pandas-docs/stable/user_guide/indexing.html#returning-a-view-versus-a-copy\n",
      "  df[\"description\"][i] = description\n"
     ]
    },
    {
     "name": "stdout",
     "output_type": "stream",
     "text": [
      "description : A love story and an epic of the frontier, Lonesome Dove is the grandest novel ever written about the last, defiant wilderness of America. Richly authentic, beautifully written, Lonesome Dove is a book to make readers laugh, weep, dream and remember. Now a blockbuster television event. Copyright © Libri GmbH. All rights reserved.\n",
      "Counter = 54\n"
     ]
    },
    {
     "name": "stderr",
     "output_type": "stream",
     "text": [
      "<ipython-input-91-28d9966ce939>:20: SettingWithCopyWarning: \n",
      "A value is trying to be set on a copy of a slice from a DataFrame\n",
      "\n",
      "See the caveats in the documentation: https://pandas.pydata.org/pandas-docs/stable/user_guide/indexing.html#returning-a-view-versus-a-copy\n",
      "  df[\"description\"][i] = description\n"
     ]
    },
    {
     "name": "stdout",
     "output_type": "stream",
     "text": [
      "description : Shabanu, a young nomad of the Cholistan Desert, must submit to the marriage her father arranges for her, or go against centuries of tradition by defying him.\n",
      "Counter = 55\n"
     ]
    },
    {
     "name": "stderr",
     "output_type": "stream",
     "text": [
      "<ipython-input-91-28d9966ce939>:20: SettingWithCopyWarning: \n",
      "A value is trying to be set on a copy of a slice from a DataFrame\n",
      "\n",
      "See the caveats in the documentation: https://pandas.pydata.org/pandas-docs/stable/user_guide/indexing.html#returning-a-view-versus-a-copy\n",
      "  df[\"description\"][i] = description\n"
     ]
    },
    {
     "name": "stdout",
     "output_type": "stream",
     "text": [
      "description : Having relented to the ways of her people in Pakistan and married the rich older man to whom she was pledged against her will, Shabanu is now the victim of his family's blood feud and the malice of his other wives\n",
      "Counter = 56\n"
     ]
    },
    {
     "name": "stderr",
     "output_type": "stream",
     "text": [
      "<ipython-input-91-28d9966ce939>:20: SettingWithCopyWarning: \n",
      "A value is trying to be set on a copy of a slice from a DataFrame\n",
      "\n",
      "See the caveats in the documentation: https://pandas.pydata.org/pandas-docs/stable/user_guide/indexing.html#returning-a-view-versus-a-copy\n",
      "  df[\"description\"][i] = description\n"
     ]
    },
    {
     "name": "stdout",
     "output_type": "stream",
     "text": [
      "description : Boire un chocolat chaud ou un vin de Tokay à Prague en compagnie de Mozart et Da Ponte, séjourner à Weimar avec Bach et Goethe, s'envoler pour le Japon, atterrir à Bombay, flâner sur l'île Saint-Louis, créer un jardin \" de curé \", admirer les cerfs-volants à Dieppe... Autant de promenades, d'escapades, de voyages ou de récréations auxquels nous invite Michel Tournier avec une gourmandise, une poésie et un talent jamais démentis.\n",
      "Counter = 57\n"
     ]
    },
    {
     "name": "stderr",
     "output_type": "stream",
     "text": [
      "<ipython-input-91-28d9966ce939>:20: SettingWithCopyWarning: \n",
      "A value is trying to be set on a copy of a slice from a DataFrame\n",
      "\n",
      "See the caveats in the documentation: https://pandas.pydata.org/pandas-docs/stable/user_guide/indexing.html#returning-a-view-versus-a-copy\n",
      "  df[\"description\"][i] = description\n"
     ]
    },
    {
     "name": "stdout",
     "output_type": "stream",
     "text": [
      "description : Dr. Carl Sagan Takes Us on a Great Reading Adventure, Offering his Vivid and Startling Insight Into the Brain of Man and Beast, the Origin of Human Intelligence, the Function of our Most Haunting Legends -- and Their Amazing Links to Recent Discoveries. Book jacket.\n",
      "Counter = 58\n"
     ]
    },
    {
     "name": "stderr",
     "output_type": "stream",
     "text": [
      "<ipython-input-91-28d9966ce939>:29: SettingWithCopyWarning: \n",
      "A value is trying to be set on a copy of a slice from a DataFrame\n",
      "\n",
      "See the caveats in the documentation: https://pandas.pydata.org/pandas-docs/stable/user_guide/indexing.html#returning-a-view-versus-a-copy\n",
      "  df[\"description\"][i] = description\n"
     ]
    },
    {
     "name": "stdout",
     "output_type": "stream",
     "text": [
      "NaN\n",
      "......................................................................................................\n",
      "Counter = 59\n"
     ]
    },
    {
     "name": "stderr",
     "output_type": "stream",
     "text": [
      "<ipython-input-91-28d9966ce939>:20: SettingWithCopyWarning: \n",
      "A value is trying to be set on a copy of a slice from a DataFrame\n",
      "\n",
      "See the caveats in the documentation: https://pandas.pydata.org/pandas-docs/stable/user_guide/indexing.html#returning-a-view-versus-a-copy\n",
      "  df[\"description\"][i] = description\n"
     ]
    },
    {
     "name": "stdout",
     "output_type": "stream",
     "text": [
      "description : Encompassing two generations and a rich blend of Chinese and American history, the story of four struggling, strong women also reveals their daughters' memories and feelings\n",
      "Counter = 60\n"
     ]
    },
    {
     "name": "stderr",
     "output_type": "stream",
     "text": [
      "<ipython-input-91-28d9966ce939>:20: SettingWithCopyWarning: \n",
      "A value is trying to be set on a copy of a slice from a DataFrame\n",
      "\n",
      "See the caveats in the documentation: https://pandas.pydata.org/pandas-docs/stable/user_guide/indexing.html#returning-a-view-versus-a-copy\n",
      "  df[\"description\"][i] = description\n"
     ]
    },
    {
     "name": "stdout",
     "output_type": "stream",
     "text": [
      "description : Generally regarded as the pre-eminent work of Conrad's shorter fiction, 'Heart of Darkness' is a chilling tale of horror which, as the author intended, is capable of many interpretations.\n",
      "Counter = 61\n"
     ]
    },
    {
     "name": "stderr",
     "output_type": "stream",
     "text": [
      "<ipython-input-91-28d9966ce939>:20: SettingWithCopyWarning: \n",
      "A value is trying to be set on a copy of a slice from a DataFrame\n",
      "\n",
      "See the caveats in the documentation: https://pandas.pydata.org/pandas-docs/stable/user_guide/indexing.html#returning-a-view-versus-a-copy\n",
      "  df[\"description\"][i] = description\n"
     ]
    },
    {
     "name": "stdout",
     "output_type": "stream",
     "text": [
      "description : American physician Michael Aulden stands at the center of an epic global confrontation of the body, mind, and soul, as humankind must choose between the forces of good and evil, with the fate of the entire world at stake. Original.\n",
      "Counter = 62\n"
     ]
    },
    {
     "name": "stderr",
     "output_type": "stream",
     "text": [
      "<ipython-input-91-28d9966ce939>:20: SettingWithCopyWarning: \n",
      "A value is trying to be set on a copy of a slice from a DataFrame\n",
      "\n",
      "See the caveats in the documentation: https://pandas.pydata.org/pandas-docs/stable/user_guide/indexing.html#returning-a-view-versus-a-copy\n",
      "  df[\"description\"][i] = description\n"
     ]
    },
    {
     "name": "stdout",
     "output_type": "stream",
     "text": [
      "description : The story of a simple country girl whose family's pretentions lead to her destruction\n",
      "Counter = 63\n"
     ]
    },
    {
     "name": "stderr",
     "output_type": "stream",
     "text": [
      "<ipython-input-91-28d9966ce939>:20: SettingWithCopyWarning: \n",
      "A value is trying to be set on a copy of a slice from a DataFrame\n",
      "\n",
      "See the caveats in the documentation: https://pandas.pydata.org/pandas-docs/stable/user_guide/indexing.html#returning-a-view-versus-a-copy\n",
      "  df[\"description\"][i] = description\n"
     ]
    },
    {
     "name": "stdout",
     "output_type": "stream",
     "text": [
      "description : From: Venus, Goddess of Love, 120 Main, Mt. Olympus To: Stacy Temple, lapsed temptress Stacy, Stacy, Stacy. You were so promising at the beginning: Sexy, smart, personable and funny. Great on dates and really great afterward-if you know what I mean. But this is a sad state of affairs; or, in your case, non-affairs! It's been nearly an entire year and you haven't had your way with even ONE eligible male. You've been working so hard concocting sexy lingerie for Thongs.com -- and really, Stacy, if that little pink velvet bustier didn't put you in the mood, I don't know what to say! -- that you haven't even tried to be coaxed out of your own thong.com! Are you listening, Stacy? Seven days to find the perfect man -- or else! Happy hunting!\n",
      "Counter = 64\n"
     ]
    },
    {
     "name": "stderr",
     "output_type": "stream",
     "text": [
      "<ipython-input-91-28d9966ce939>:20: SettingWithCopyWarning: \n",
      "A value is trying to be set on a copy of a slice from a DataFrame\n",
      "\n",
      "See the caveats in the documentation: https://pandas.pydata.org/pandas-docs/stable/user_guide/indexing.html#returning-a-view-versus-a-copy\n",
      "  df[\"description\"][i] = description\n"
     ]
    },
    {
     "name": "stdout",
     "output_type": "stream",
     "text": [
      "description : An expert in Chinese philosophy explains facets of Taoism using Milne's famous character and explores the world of Winnie-the-Pooh through Tao, characterizing Pooh as a simple bear who subscribes to the principles of successful living\n",
      "Counter = 65\n"
     ]
    },
    {
     "name": "stderr",
     "output_type": "stream",
     "text": [
      "<ipython-input-91-28d9966ce939>:20: SettingWithCopyWarning: \n",
      "A value is trying to be set on a copy of a slice from a DataFrame\n",
      "\n",
      "See the caveats in the documentation: https://pandas.pydata.org/pandas-docs/stable/user_guide/indexing.html#returning-a-view-versus-a-copy\n",
      "  df[\"description\"][i] = description\n"
     ]
    },
    {
     "name": "stdout",
     "output_type": "stream",
     "text": [
      "description : Retraces the journey of Seabiscuit, a horse with crooked legs and a pathetic tail that made racing history in 1938, thanks to the efforts of a trainer, owner, and jockey who transformed a bottom-level racehorse into a legend.\n",
      "Counter = 66\n"
     ]
    },
    {
     "name": "stderr",
     "output_type": "stream",
     "text": [
      "<ipython-input-91-28d9966ce939>:20: SettingWithCopyWarning: \n",
      "A value is trying to be set on a copy of a slice from a DataFrame\n",
      "\n",
      "See the caveats in the documentation: https://pandas.pydata.org/pandas-docs/stable/user_guide/indexing.html#returning-a-view-versus-a-copy\n",
      "  df[\"description\"][i] = description\n"
     ]
    },
    {
     "name": "stdout",
     "output_type": "stream",
     "text": [
      "description : Notes, a 2-page map, an index, and an altogether remarkable Introduction by David Wootton, make this edition an ideal encounter with Machiavelli for any student of history and political theory.\n",
      "Counter = 67\n"
     ]
    },
    {
     "name": "stderr",
     "output_type": "stream",
     "text": [
      "<ipython-input-91-28d9966ce939>:20: SettingWithCopyWarning: \n",
      "A value is trying to be set on a copy of a slice from a DataFrame\n",
      "\n",
      "See the caveats in the documentation: https://pandas.pydata.org/pandas-docs/stable/user_guide/indexing.html#returning-a-view-versus-a-copy\n",
      "  df[\"description\"][i] = description\n"
     ]
    },
    {
     "name": "stdout",
     "output_type": "stream",
     "text": [
      "description : A collection of advice on how to live a happy and rewarding life.\n",
      "Counter = 68\n"
     ]
    },
    {
     "name": "stderr",
     "output_type": "stream",
     "text": [
      "<ipython-input-91-28d9966ce939>:20: SettingWithCopyWarning: \n",
      "A value is trying to be set on a copy of a slice from a DataFrame\n",
      "\n",
      "See the caveats in the documentation: https://pandas.pydata.org/pandas-docs/stable/user_guide/indexing.html#returning-a-view-versus-a-copy\n",
      "  df[\"description\"][i] = description\n"
     ]
    },
    {
     "name": "stdout",
     "output_type": "stream",
     "text": [
      "description : In a futuristic military adventure a recruit goes through the roughest boot camp in the universe and into battle with the Terran Mobile Infantry in what historians would come to call the First Interstellar War\n",
      "Counter = 69\n"
     ]
    },
    {
     "name": "stderr",
     "output_type": "stream",
     "text": [
      "<ipython-input-91-28d9966ce939>:20: SettingWithCopyWarning: \n",
      "A value is trying to be set on a copy of a slice from a DataFrame\n",
      "\n",
      "See the caveats in the documentation: https://pandas.pydata.org/pandas-docs/stable/user_guide/indexing.html#returning-a-view-versus-a-copy\n",
      "  df[\"description\"][i] = description\n"
     ]
    },
    {
     "name": "stdout",
     "output_type": "stream",
     "text": [
      "description : In nineteenth-century London, sixteen-year-old Sally, a recent orphan, becomes involved in a deadly search for a mysterious ruby.\n",
      "Counter = 70\n"
     ]
    },
    {
     "name": "stderr",
     "output_type": "stream",
     "text": [
      "<ipython-input-91-28d9966ce939>:20: SettingWithCopyWarning: \n",
      "A value is trying to be set on a copy of a slice from a DataFrame\n",
      "\n",
      "See the caveats in the documentation: https://pandas.pydata.org/pandas-docs/stable/user_guide/indexing.html#returning-a-view-versus-a-copy\n",
      "  df[\"description\"][i] = description\n"
     ]
    },
    {
     "name": "stdout",
     "output_type": "stream",
     "text": [
      "description : A horse in nineteenth-century England recounts his experiences with both good and bad masters.\n",
      "Counter = 71\n"
     ]
    },
    {
     "name": "stderr",
     "output_type": "stream",
     "text": [
      "<ipython-input-91-28d9966ce939>:20: SettingWithCopyWarning: \n",
      "A value is trying to be set on a copy of a slice from a DataFrame\n",
      "\n",
      "See the caveats in the documentation: https://pandas.pydata.org/pandas-docs/stable/user_guide/indexing.html#returning-a-view-versus-a-copy\n",
      "  df[\"description\"][i] = description\n"
     ]
    },
    {
     "name": "stdout",
     "output_type": "stream",
     "text": [
      "description : A forensic pathologist returns to Sri Lanka--after 15 years abroad--to assist in identifying victims of the country's civil war\n",
      "Counter = 72\n"
     ]
    },
    {
     "name": "stderr",
     "output_type": "stream",
     "text": [
      "<ipython-input-91-28d9966ce939>:20: SettingWithCopyWarning: \n",
      "A value is trying to be set on a copy of a slice from a DataFrame\n",
      "\n",
      "See the caveats in the documentation: https://pandas.pydata.org/pandas-docs/stable/user_guide/indexing.html#returning-a-view-versus-a-copy\n",
      "  df[\"description\"][i] = description\n"
     ]
    },
    {
     "name": "stdout",
     "output_type": "stream",
     "text": [
      "description : When rape and murder strike young, single women on the sun-drenched San Diego coast, police are stumped. One of the victims was Dr. Cory Cohen's patient. The trauma triggers flashbacks of Cory's own terrifying rape. Her attacker went free, but she vows this one will not. Armed with psychological expertise, she is determined to uncover his identity. In her relentless pursuit, she risks the loss of an important friendship, and worse, places herself squarely into the killer's path.\n",
      "Counter = 73\n"
     ]
    },
    {
     "name": "stderr",
     "output_type": "stream",
     "text": [
      "<ipython-input-91-28d9966ce939>:20: SettingWithCopyWarning: \n",
      "A value is trying to be set on a copy of a slice from a DataFrame\n",
      "\n",
      "See the caveats in the documentation: https://pandas.pydata.org/pandas-docs/stable/user_guide/indexing.html#returning-a-view-versus-a-copy\n",
      "  df[\"description\"][i] = description\n"
     ]
    },
    {
     "name": "stdout",
     "output_type": "stream",
     "text": [
      "description : Unlike most people Matt Beckford is actually looking forward to turning thirty. After struggling through most of his twenties he thinks his career, finances and love life are finally sorted. But when he splits up with his girlfriend, he realises that life has different plans for him. Unable to cope with his future falling apart Matt temporarily moves back to his parents. During his enforced exodus only his old school mates can keep him sane. Friends he hasn't seen since he was nineteen. Back together after a decade apart. But things will never be the same for any of them because when you're turning thirty nothing's as simple as it used to be.\n",
      "Counter = 74\n"
     ]
    },
    {
     "name": "stderr",
     "output_type": "stream",
     "text": [
      "<ipython-input-91-28d9966ce939>:20: SettingWithCopyWarning: \n",
      "A value is trying to be set on a copy of a slice from a DataFrame\n",
      "\n",
      "See the caveats in the documentation: https://pandas.pydata.org/pandas-docs/stable/user_guide/indexing.html#returning-a-view-versus-a-copy\n",
      "  df[\"description\"][i] = description\n"
     ]
    },
    {
     "name": "stdout",
     "output_type": "stream",
     "text": [
      "description : There is a signal emanating from deep within the ice of Antarctica. Atlantis has awoken. Ancient monuments all over the world - from the Pyramids of Giza, to Mexico, to the ancient sites of China - are also awakening, reacting to a brewing crisis not of this earth, connecting to each other in some kind of ancient global network. A small group of scientists is assembled to attempt to unravel the mystery. What they discover will change the world. Imagine that 12,000 years ago it really did rain for 40 days and 40 nights. That storms reigned supreme. Imagine that survivors of human civilization really were forced to take to boats or hide out in caves on mountaintops. Then consider that these same myths from around the world predict this kind of devastation will occur time and again. What could cause such a catastrophe? What occurs in nature with such frightening and predictable regularity? A pulsar. But this is not just any pulsar - the ordinary type that pulses once a second, a minute, or even a week. This pulses once every 12,000 years and sends out a gravity wave of such ferocity it beggars belief. Not only that, it's closer than anybody has ever imagined. For it lives in our own backyard. It is the Sun.\n",
      "Counter = 75\n"
     ]
    },
    {
     "name": "stderr",
     "output_type": "stream",
     "text": [
      "<ipython-input-91-28d9966ce939>:20: SettingWithCopyWarning: \n",
      "A value is trying to be set on a copy of a slice from a DataFrame\n",
      "\n",
      "See the caveats in the documentation: https://pandas.pydata.org/pandas-docs/stable/user_guide/indexing.html#returning-a-view-versus-a-copy\n",
      "  df[\"description\"][i] = description\n"
     ]
    },
    {
     "name": "stdout",
     "output_type": "stream",
     "text": [
      "description : The art of being truly funny is an undervalued one in these angst-ridden times, but it is an ability that acclaimed novelist Sarah Payne Stuart has in abundance. Her talents have never been on more glorious display than in My First Cousin Once Removed, a memoir--at once hilarious, personal and sad--of her extraordinary Boston Brahmin family, whose most famous member is the legendary poet Robert Lowell, the author's first cousin (once removed).\n",
      "Counter = 76\n"
     ]
    },
    {
     "name": "stderr",
     "output_type": "stream",
     "text": [
      "<ipython-input-91-28d9966ce939>:20: SettingWithCopyWarning: \n",
      "A value is trying to be set on a copy of a slice from a DataFrame\n",
      "\n",
      "See the caveats in the documentation: https://pandas.pydata.org/pandas-docs/stable/user_guide/indexing.html#returning-a-view-versus-a-copy\n",
      "  df[\"description\"][i] = description\n"
     ]
    },
    {
     "name": "stdout",
     "output_type": "stream",
     "text": [
      "description : The former vice president and conservative spokesman offers a personal account of his controversial years in the White House, from helping prosecute the war against Iraq to starting the \"Murphy Brown\" debate over family values. 300,000 first printing. $250,000 ad/promo.\n",
      "Counter = 77\n"
     ]
    },
    {
     "name": "stderr",
     "output_type": "stream",
     "text": [
      "<ipython-input-91-28d9966ce939>:20: SettingWithCopyWarning: \n",
      "A value is trying to be set on a copy of a slice from a DataFrame\n",
      "\n",
      "See the caveats in the documentation: https://pandas.pydata.org/pandas-docs/stable/user_guide/indexing.html#returning-a-view-versus-a-copy\n",
      "  df[\"description\"][i] = description\n"
     ]
    },
    {
     "name": "stdout",
     "output_type": "stream",
     "text": [
      "description : LEADERSHIP STRATEGIES BEHIND ONE OF THE MOST POPULAR PRESIDENTS IN HISTORY How the Commander-in-Chief commands George W. Bush has surprised even his harshest critics with his leadership talents and discipline. As this countrys first MBA president, Bush formed his unique leadership style managing businesses, not government offices. Team Bush is the first book to explore these unique methods and tactics he has employed to become one of the nations most popular commanders in chief in recent history. From \"hiring\" the most diverse and effective cabinets in history, to dealing with the crisis and war sparked by the events of September 11th, this compelling leadership book takes readers into the mind and methods of Americas 43rd president, and shows managers how these methods can be used to boost productivity in their own organizations. This fast-paced book pulls no punches as it showcases President Bushs successes and strengths while detailing his mistakes and weaknesses. Focusing on the actual events and outcomes of Bushs first two years in office, it discusses: The strategy behind Bushs coup in the mid-term election Lessons learned from his managing of the September 11th crisis How Bush recognizes and learns from his very public mistakes\n",
      "Counter = 78\n"
     ]
    },
    {
     "name": "stderr",
     "output_type": "stream",
     "text": [
      "<ipython-input-91-28d9966ce939>:20: SettingWithCopyWarning: \n",
      "A value is trying to be set on a copy of a slice from a DataFrame\n",
      "\n",
      "See the caveats in the documentation: https://pandas.pydata.org/pandas-docs/stable/user_guide/indexing.html#returning-a-view-versus-a-copy\n",
      "  df[\"description\"][i] = description\n"
     ]
    },
    {
     "name": "stdout",
     "output_type": "stream",
     "text": [
      "description : An account of the first year of George W. Bush's presidency explores key events, including his controversial election, the September 11th terrorist attack and its aftermath, and their long-term implications for the United States.\n",
      "Counter = 79\n"
     ]
    },
    {
     "name": "stderr",
     "output_type": "stream",
     "text": [
      "<ipython-input-91-28d9966ce939>:20: SettingWithCopyWarning: \n",
      "A value is trying to be set on a copy of a slice from a DataFrame\n",
      "\n",
      "See the caveats in the documentation: https://pandas.pydata.org/pandas-docs/stable/user_guide/indexing.html#returning-a-view-versus-a-copy\n",
      "  df[\"description\"][i] = description\n"
     ]
    },
    {
     "name": "stdout",
     "output_type": "stream",
     "text": [
      "description : Tyrel and Orrin Sackett travel from Tennessee to Santa Fe.\n",
      "Counter = 80\n"
     ]
    },
    {
     "name": "stderr",
     "output_type": "stream",
     "text": [
      "<ipython-input-91-28d9966ce939>:20: SettingWithCopyWarning: \n",
      "A value is trying to be set on a copy of a slice from a DataFrame\n",
      "\n",
      "See the caveats in the documentation: https://pandas.pydata.org/pandas-docs/stable/user_guide/indexing.html#returning-a-view-versus-a-copy\n",
      "  df[\"description\"][i] = description\n"
     ]
    },
    {
     "name": "stdout",
     "output_type": "stream",
     "text": [
      "description : The \"brilliant, funny, meaningful novel\" (The New Yorker) that established J. D. Salinger as a leading voice in American literature--and that has instilled in millions of readers around the world a lifelong love of books. \"If you really want to hear about it, the first thing you'll probably want to know is where I was born, and what my lousy childhood was like, and how my parents were occupied and all before they had me, and all that David Copperfield kind of crap, but I don't feel like going into it, if you want to know the truth.\" The hero-narrator of The Catcher in the Rye is an ancient child of sixteen, a native New Yorker named Holden Caufield. Through circumstances that tend to preclude adult, secondhand description, he leaves his prep school in Pennsylvania and goes underground in New York City for three days.\n",
      "Counter = 81\n"
     ]
    },
    {
     "name": "stderr",
     "output_type": "stream",
     "text": [
      "<ipython-input-91-28d9966ce939>:20: SettingWithCopyWarning: \n",
      "A value is trying to be set on a copy of a slice from a DataFrame\n",
      "\n",
      "See the caveats in the documentation: https://pandas.pydata.org/pandas-docs/stable/user_guide/indexing.html#returning-a-view-versus-a-copy\n",
      "  df[\"description\"][i] = description\n"
     ]
    },
    {
     "name": "stdout",
     "output_type": "stream",
     "text": [
      "description : Los ejércitos del Señor Oscuro van extendiendo cada vez más su maléfica sombra por la Tierra Media. Hombres, elfos y enanos unen sus fuerzas para presentar batalla contra Sauron y sus huestes. Ajenos a estos preparativos, Frodo y Sam se internan cada vez másen el país de Mordor en su heroico viaje para destruir el Anillo de Poder en las Grietas del Destino.\n",
      "Counter = 82\n"
     ]
    },
    {
     "name": "stderr",
     "output_type": "stream",
     "text": [
      "<ipython-input-91-28d9966ce939>:20: SettingWithCopyWarning: \n",
      "A value is trying to be set on a copy of a slice from a DataFrame\n",
      "\n",
      "See the caveats in the documentation: https://pandas.pydata.org/pandas-docs/stable/user_guide/indexing.html#returning-a-view-versus-a-copy\n",
      "  df[\"description\"][i] = description\n"
     ]
    },
    {
     "name": "stdout",
     "output_type": "stream",
     "text": [
      "description : In charming, beautiful, and wealthy old-South Savannah, Georgia, the local bad boy is shot dead inside of the opulent mansion of a gay antiques dealer, and a gripping trial follows\n",
      "Counter = 83\n"
     ]
    },
    {
     "name": "stderr",
     "output_type": "stream",
     "text": [
      "<ipython-input-91-28d9966ce939>:20: SettingWithCopyWarning: \n",
      "A value is trying to be set on a copy of a slice from a DataFrame\n",
      "\n",
      "See the caveats in the documentation: https://pandas.pydata.org/pandas-docs/stable/user_guide/indexing.html#returning-a-view-versus-a-copy\n",
      "  df[\"description\"][i] = description\n"
     ]
    },
    {
     "name": "stdout",
     "output_type": "stream",
     "text": [
      "description : Placed in the federal witness protection program after seeing a murder, Manhattan real-estate agent Lacey Farrell nevertheless must solve the case before she becomes the next victim\n",
      "Counter = 84\n"
     ]
    },
    {
     "name": "stderr",
     "output_type": "stream",
     "text": [
      "<ipython-input-91-28d9966ce939>:20: SettingWithCopyWarning: \n",
      "A value is trying to be set on a copy of a slice from a DataFrame\n",
      "\n",
      "See the caveats in the documentation: https://pandas.pydata.org/pandas-docs/stable/user_guide/indexing.html#returning-a-view-versus-a-copy\n",
      "  df[\"description\"][i] = description\n"
     ]
    },
    {
     "name": "stdout",
     "output_type": "stream",
     "text": [
      "description : Following her divorce, Nell Dysart takes a job working for a detective agency and finds herself knee deep in embezzlement, bribery, blackmail, arson, adultery, murder, and passion with her boss, Gabe McKenna. 75,000 first printing.\n",
      "Counter = 85\n"
     ]
    },
    {
     "name": "stderr",
     "output_type": "stream",
     "text": [
      "<ipython-input-91-28d9966ce939>:20: SettingWithCopyWarning: \n",
      "A value is trying to be set on a copy of a slice from a DataFrame\n",
      "\n",
      "See the caveats in the documentation: https://pandas.pydata.org/pandas-docs/stable/user_guide/indexing.html#returning-a-view-versus-a-copy\n",
      "  df[\"description\"][i] = description\n"
     ]
    },
    {
     "name": "stdout",
     "output_type": "stream",
     "text": [
      "description : When a renowned marriage specialist is publically humiliated by her own straying husband, she fights back by trying to soften the man who made the cover of Fortune magazine \"America's Toughest Bosses\" issue. 65,000 first printing.\n",
      "Counter = 86\n"
     ]
    },
    {
     "name": "stderr",
     "output_type": "stream",
     "text": [
      "<ipython-input-91-28d9966ce939>:20: SettingWithCopyWarning: \n",
      "A value is trying to be set on a copy of a slice from a DataFrame\n",
      "\n",
      "See the caveats in the documentation: https://pandas.pydata.org/pandas-docs/stable/user_guide/indexing.html#returning-a-view-versus-a-copy\n",
      "  df[\"description\"][i] = description\n"
     ]
    },
    {
     "name": "stdout",
     "output_type": "stream",
     "text": [
      "description : Hailed for its quirkiness and charm, this book tells the story of a New York City lawyer who runs away to a small Etruscan village with his wife and baby and discovers a community of eccentrics who make them feel right at home.\n",
      "Counter = 87\n"
     ]
    },
    {
     "name": "stderr",
     "output_type": "stream",
     "text": [
      "<ipython-input-91-28d9966ce939>:20: SettingWithCopyWarning: \n",
      "A value is trying to be set on a copy of a slice from a DataFrame\n",
      "\n",
      "See the caveats in the documentation: https://pandas.pydata.org/pandas-docs/stable/user_guide/indexing.html#returning-a-view-versus-a-copy\n",
      "  df[\"description\"][i] = description\n"
     ]
    },
    {
     "name": "stdout",
     "output_type": "stream",
     "text": [
      "description : A priest experiencing a crisis of faith -- and the married woman to whom he is attracted. A scroll newly discovered near Jerusalem that, if authentic, could open Christianity to a complete reinterpretation. A tragic love affair unfolding in Fascist-dominated Rome during World War II. These are the elements of a magnificent literary entertainment -- a novel that resonates with tales of love and betrayal as it deals profoundly with questions of faith and what it means to believe. -- At once a love story, a thriller, and a rich novel of ideas.\n",
      "Counter = 88\n"
     ]
    },
    {
     "name": "stderr",
     "output_type": "stream",
     "text": [
      "<ipython-input-91-28d9966ce939>:20: SettingWithCopyWarning: \n",
      "A value is trying to be set on a copy of a slice from a DataFrame\n",
      "\n",
      "See the caveats in the documentation: https://pandas.pydata.org/pandas-docs/stable/user_guide/indexing.html#returning-a-view-versus-a-copy\n",
      "  df[\"description\"][i] = description\n"
     ]
    },
    {
     "name": "stdout",
     "output_type": "stream",
     "text": [
      "description : Argues that a good education and a secure job are not guarantees for financial success, and describes six guidelines for making money work for you.\n",
      "Counter = 89\n"
     ]
    },
    {
     "name": "stderr",
     "output_type": "stream",
     "text": [
      "<ipython-input-91-28d9966ce939>:20: SettingWithCopyWarning: \n",
      "A value is trying to be set on a copy of a slice from a DataFrame\n",
      "\n",
      "See the caveats in the documentation: https://pandas.pydata.org/pandas-docs/stable/user_guide/indexing.html#returning-a-view-versus-a-copy\n",
      "  df[\"description\"][i] = description\n"
     ]
    },
    {
     "name": "stdout",
     "output_type": "stream",
     "text": [
      "description : Set in twelfth-century England, this epic of kings and peasants juxtaposes the building of a magnificent church with the violence and treachery that often characterized the Middle Ages. Reissue.\n",
      "Counter = 90\n"
     ]
    },
    {
     "name": "stderr",
     "output_type": "stream",
     "text": [
      "<ipython-input-91-28d9966ce939>:20: SettingWithCopyWarning: \n",
      "A value is trying to be set on a copy of a slice from a DataFrame\n",
      "\n",
      "See the caveats in the documentation: https://pandas.pydata.org/pandas-docs/stable/user_guide/indexing.html#returning-a-view-versus-a-copy\n",
      "  df[\"description\"][i] = description\n"
     ]
    },
    {
     "name": "stdout",
     "output_type": "stream",
     "text": [
      "description : Discusses the people, the strategies, and the innovations that turned a hamburger stand into a multi-billion-dollar corporation that revolutionized an industry and influenced the culture of America.\n",
      "Counter = 91\n"
     ]
    },
    {
     "name": "stderr",
     "output_type": "stream",
     "text": [
      "<ipython-input-91-28d9966ce939>:20: SettingWithCopyWarning: \n",
      "A value is trying to be set on a copy of a slice from a DataFrame\n",
      "\n",
      "See the caveats in the documentation: https://pandas.pydata.org/pandas-docs/stable/user_guide/indexing.html#returning-a-view-versus-a-copy\n",
      "  df[\"description\"][i] = description\n"
     ]
    },
    {
     "name": "stdout",
     "output_type": "stream",
     "text": [
      "description : Discusses principles for creating wealth includes: a wealthy mindset, an automatic pilot principle, and a win/win philosophy principle.\n",
      "Counter = 92\n"
     ]
    },
    {
     "name": "stderr",
     "output_type": "stream",
     "text": [
      "<ipython-input-91-28d9966ce939>:20: SettingWithCopyWarning: \n",
      "A value is trying to be set on a copy of a slice from a DataFrame\n",
      "\n",
      "See the caveats in the documentation: https://pandas.pydata.org/pandas-docs/stable/user_guide/indexing.html#returning-a-view-versus-a-copy\n",
      "  df[\"description\"][i] = description\n"
     ]
    },
    {
     "name": "stdout",
     "output_type": "stream",
     "text": [
      "description : The idyllic world of the Greek island of Cephallonia is forever changed by the inexorable changes of World War II, as the inhabitants struggle to cope with the Axis invasion and occupation\n",
      "Counter = 93\n"
     ]
    },
    {
     "name": "stderr",
     "output_type": "stream",
     "text": [
      "<ipython-input-91-28d9966ce939>:20: SettingWithCopyWarning: \n",
      "A value is trying to be set on a copy of a slice from a DataFrame\n",
      "\n",
      "See the caveats in the documentation: https://pandas.pydata.org/pandas-docs/stable/user_guide/indexing.html#returning-a-view-versus-a-copy\n",
      "  df[\"description\"][i] = description\n"
     ]
    },
    {
     "name": "stdout",
     "output_type": "stream",
     "text": [
      "description : Reveals natural and effective healing techniques, presents the case stories of seemingly hopeless animal patients, and explains how to stock a homeopathic medicine chest\n",
      "Counter = 94\n"
     ]
    },
    {
     "name": "stderr",
     "output_type": "stream",
     "text": [
      "<ipython-input-91-28d9966ce939>:20: SettingWithCopyWarning: \n",
      "A value is trying to be set on a copy of a slice from a DataFrame\n",
      "\n",
      "See the caveats in the documentation: https://pandas.pydata.org/pandas-docs/stable/user_guide/indexing.html#returning-a-view-versus-a-copy\n",
      "  df[\"description\"][i] = description\n"
     ]
    },
    {
     "name": "stdout",
     "output_type": "stream",
     "text": [
      "description : Killed in a tragic accident, Eddie, an elderly man who believes that he had an uninspired life, awakens in the afterlife, where he discovers that heaven consists of having five people explain the meaning of one's life.\n",
      "Counter = 95\n"
     ]
    },
    {
     "name": "stderr",
     "output_type": "stream",
     "text": [
      "<ipython-input-91-28d9966ce939>:20: SettingWithCopyWarning: \n",
      "A value is trying to be set on a copy of a slice from a DataFrame\n",
      "\n",
      "See the caveats in the documentation: https://pandas.pydata.org/pandas-docs/stable/user_guide/indexing.html#returning-a-view-versus-a-copy\n",
      "  df[\"description\"][i] = description\n"
     ]
    },
    {
     "name": "stdout",
     "output_type": "stream",
     "text": [
      "description : Tu nombre escrito en el agua ganó el XVII Premio La sonrisa vertical . Su autora, que firma con el seudónimo de Irene González Frei , acogiéndose a las bases del premio, ha decidido mantener el anonimato. El fallo del jurado, por primera vez en la historia de este premio, fue unánime. Y no es para menos, ya que nos encontramos ante una primera novela que no sólo introduce a sus lectores en una hermosa y densa fantasía erótica, sino que les revela a una auténtica escritora. Irene González Frei dedica su novela a Marina , «de todos los personajes de esta historia el único cuyo nombre no he tenido el valor de cambiar», y cede la palabra a Sofía para que sea ella la que nos cuente, desde el recuerdo, «ese amor vertiginoso entre las grietas del dolor y el desconsuelo» que las unirá para siempre y fundirá sus cuerpos, más allá del tenue cristal de los espejos, en el reflejo de Narciso. Sofía , una joven al parecer como tantas otras, vive en Madrid en el seno de un grupo de amigos que comparten inquietudes y amores. Tras el matrimonio con Santiago, cuyas relaciones sexuales se extreman en la violencia a medida que el tiempo va corroyendo el afecto y las apetencias, Sofía , desencantada y triste, encuentra un día a Marina . Entre las dos se establece instantáneamente una atracción singular, casi mágica. Emprenden un viaje por Italia con destino a Roma, donde a Marina le espera un trabajo en una organización internacional. Poco a poco, de manera irresistible, el lector irá impregnándose de la progresiva compenetración de las dos mujeres, de la gradual fusión de sus cuerpos hasta el punto de que ya no parecen sino una sola. Visiones, sueños, episodios premonitorios van, sin embargo, recordándole que Marina sólo vive ya en la memoria de Sofía y que una amenaza se cierne sobre ellas. . . La crudeza con que Irene González Frei nos sumerge en los distintos encuentros sexuales no sólo de las dos mujeres, sino los de ellas con otros personajes, que sirven de contrapunto, invitando al lector a participar directamente de sus tensiones y violencias, de sus goces y delirios, no merma en momento alguno el tono poético que envuelve toda la novela y que le otorga la inestimable facultad de dejar una huella indeleble en quienes la leen.\n",
      "Counter = 96\n"
     ]
    },
    {
     "name": "stderr",
     "output_type": "stream",
     "text": [
      "<ipython-input-91-28d9966ce939>:20: SettingWithCopyWarning: \n",
      "A value is trying to be set on a copy of a slice from a DataFrame\n",
      "\n",
      "See the caveats in the documentation: https://pandas.pydata.org/pandas-docs/stable/user_guide/indexing.html#returning-a-view-versus-a-copy\n",
      "  df[\"description\"][i] = description\n"
     ]
    },
    {
     "name": "stdout",
     "output_type": "stream",
     "text": [
      "description : The starship Enterprise rescues Captain Montgomery Scott, who has been missing in space for seventy-five years and finds that the world has changed beyond his recognition\n",
      "Counter = 97\n"
     ]
    },
    {
     "name": "stderr",
     "output_type": "stream",
     "text": [
      "<ipython-input-91-28d9966ce939>:20: SettingWithCopyWarning: \n",
      "A value is trying to be set on a copy of a slice from a DataFrame\n",
      "\n",
      "See the caveats in the documentation: https://pandas.pydata.org/pandas-docs/stable/user_guide/indexing.html#returning-a-view-versus-a-copy\n",
      "  df[\"description\"][i] = description\n"
     ]
    },
    {
     "name": "stdout",
     "output_type": "stream",
     "text": [
      "description : The neglected attendees of the Box Canyon Boys Camp find their lives turned around by Cotton, who, in a hot-wired pickup, challenges them to join efforts to save a herd of buffalo and rediscover themselves in the process. Reissue.\n",
      "Counter = 98\n"
     ]
    },
    {
     "name": "stderr",
     "output_type": "stream",
     "text": [
      "<ipython-input-91-28d9966ce939>:20: SettingWithCopyWarning: \n",
      "A value is trying to be set on a copy of a slice from a DataFrame\n",
      "\n",
      "See the caveats in the documentation: https://pandas.pydata.org/pandas-docs/stable/user_guide/indexing.html#returning-a-view-versus-a-copy\n",
      "  df[\"description\"][i] = description\n"
     ]
    },
    {
     "name": "stdout",
     "output_type": "stream",
     "text": [
      "description : When conflicts between rivaling cultures aboard Babylon 5 escalate to riotous proportions, security chief Garibaldi discovers a link between a station-wide epidemic in nightmares and a strange alien presence. Original.\n",
      "Counter = 99\n"
     ]
    },
    {
     "name": "stderr",
     "output_type": "stream",
     "text": [
      "<ipython-input-91-28d9966ce939>:20: SettingWithCopyWarning: \n",
      "A value is trying to be set on a copy of a slice from a DataFrame\n",
      "\n",
      "See the caveats in the documentation: https://pandas.pydata.org/pandas-docs/stable/user_guide/indexing.html#returning-a-view-versus-a-copy\n",
      "  df[\"description\"][i] = description\n"
     ]
    },
    {
     "name": "stdout",
     "output_type": "stream",
     "text": [
      "description : Peter Houston's journey to France to visit the grave of his father, killed in 1944, becomes a nightmare of murder, revenge, deception, and betrayal\n",
      "Counter = 100\n"
     ]
    },
    {
     "name": "stderr",
     "output_type": "stream",
     "text": [
      "<ipython-input-91-28d9966ce939>:20: SettingWithCopyWarning: \n",
      "A value is trying to be set on a copy of a slice from a DataFrame\n",
      "\n",
      "See the caveats in the documentation: https://pandas.pydata.org/pandas-docs/stable/user_guide/indexing.html#returning-a-view-versus-a-copy\n",
      "  df[\"description\"][i] = description\n"
     ]
    },
    {
     "name": "stdout",
     "output_type": "stream",
     "text": [
      "description : In this suspenseful Southern thriller and #1 New York Times bestseller, an ambitious prosecutor investigates a high-stakes case after Charleston's most powerful real estate magnate is murdered. The sensational murder of powerful tycoon Lute Pettijohn has rocked Charleston. Prosecutor Hammond Cross sees his chance to become the city's next district attorney . . . but only if he can put a killer behind bars. Hammond's investigation turns up more than one person who wants Pettijohn dead. But when the prime suspect turns out to be a mysterious woman who holds a secret that could shatter Hammond's ambitions, he faces a moral dilemma and a haunting question: Was he set up to be the perfect alibi?\n",
      "Counter = 101\n"
     ]
    },
    {
     "name": "stderr",
     "output_type": "stream",
     "text": [
      "<ipython-input-91-28d9966ce939>:20: SettingWithCopyWarning: \n",
      "A value is trying to be set on a copy of a slice from a DataFrame\n",
      "\n",
      "See the caveats in the documentation: https://pandas.pydata.org/pandas-docs/stable/user_guide/indexing.html#returning-a-view-versus-a-copy\n",
      "  df[\"description\"][i] = description\n"
     ]
    },
    {
     "name": "stdout",
     "output_type": "stream",
     "text": [
      "description : Jack Mullen is a driven student of the law. His brother Peter is a servant of the rich, parking the cars of the Hamptons' elite-and perhaps satisfying their more intimate needs as well. Then Peter's body is found on the beach. Jack knows the drowning was no accident, but someone's unlimited power and money have bought the cops, the judges, the system. Now Jack is learning a lesson in justice he never got in law school ... and his astonishing plan to beat the billionaires will have you reeling-and cheering-to the very last page.\n",
      "Counter = 102\n"
     ]
    },
    {
     "name": "stderr",
     "output_type": "stream",
     "text": [
      "<ipython-input-91-28d9966ce939>:20: SettingWithCopyWarning: \n",
      "A value is trying to be set on a copy of a slice from a DataFrame\n",
      "\n",
      "See the caveats in the documentation: https://pandas.pydata.org/pandas-docs/stable/user_guide/indexing.html#returning-a-view-versus-a-copy\n",
      "  df[\"description\"][i] = description\n"
     ]
    },
    {
     "name": "stdout",
     "output_type": "stream",
     "text": [
      "description : After leaving her disatrous marriage behind, Shelley Browning goes back to college to get her degree and comes face-to-face with an unforgettable man from her past. Grant Chapman had briefly taught her in high school ten years earlier. There teacher and student had shared a single, scorching, unplanned kiss that still haunts Shelley's dreams. Now, as irresistable as ever, Grant has just returned to teaching after a stint as a congressional aide in Washington...and sees no imporopriety in asking Shelley out. Isn't this what she secretly longs for? Never has Shelley felt more confused about what she really wants or what is best for them both. But a stunning accusation is about to change all that and force Shelley Browning to either take some dangerous risks -- or spend the rest of her life regretting what could have been.\n",
      "Counter = 103\n"
     ]
    },
    {
     "name": "stderr",
     "output_type": "stream",
     "text": [
      "<ipython-input-91-28d9966ce939>:20: SettingWithCopyWarning: \n",
      "A value is trying to be set on a copy of a slice from a DataFrame\n",
      "\n",
      "See the caveats in the documentation: https://pandas.pydata.org/pandas-docs/stable/user_guide/indexing.html#returning-a-view-versus-a-copy\n",
      "  df[\"description\"][i] = description\n"
     ]
    },
    {
     "name": "stdout",
     "output_type": "stream",
     "text": [
      "description : Arriving in London to find a young woman, who has been seen in the company of an unsavory gentleman, for a client, Stone Barrington stumbles upon a deadly rivalry between two spies and is implicated in a horrifying double murder.\n",
      "Counter = 104\n"
     ]
    },
    {
     "name": "stderr",
     "output_type": "stream",
     "text": [
      "<ipython-input-91-28d9966ce939>:29: SettingWithCopyWarning: \n",
      "A value is trying to be set on a copy of a slice from a DataFrame\n",
      "\n",
      "See the caveats in the documentation: https://pandas.pydata.org/pandas-docs/stable/user_guide/indexing.html#returning-a-view-versus-a-copy\n",
      "  df[\"description\"][i] = description\n"
     ]
    },
    {
     "name": "stdout",
     "output_type": "stream",
     "text": [
      "NaN\n",
      "......................................................................................................\n",
      "Counter = 105\n"
     ]
    },
    {
     "name": "stderr",
     "output_type": "stream",
     "text": [
      "<ipython-input-91-28d9966ce939>:20: SettingWithCopyWarning: \n",
      "A value is trying to be set on a copy of a slice from a DataFrame\n",
      "\n",
      "See the caveats in the documentation: https://pandas.pydata.org/pandas-docs/stable/user_guide/indexing.html#returning-a-view-versus-a-copy\n",
      "  df[\"description\"][i] = description\n"
     ]
    },
    {
     "name": "stdout",
     "output_type": "stream",
     "text": [
      "description : An ancient secret brotherhood. A devastating new weapon of destruction. An unthinkable target. ANGELS&DEMONS World-renowned Harvard symbologist Robert Langdon is summoned to a Swiss cryptic symbol seared into the chest of a murdered physicist. What he discovers is unimaginable: a deadly vendetta against the Catholic Church by a centuries-old underground organization -- the Illuminati. Desperate to save the Vatican from a powerful the Vatican from a powerful time bomb, Langdon joins forces in Rome with the beautiful and mysterious scientist Vittoria Vetra. Together they embark on a frantic hunt through sealed crypts, dangerous catacombs, deserted cathedrals, and the most secretive long-forgotten Illuminati lair. DEMONS.\n",
      "Counter = 106\n"
     ]
    },
    {
     "name": "stderr",
     "output_type": "stream",
     "text": [
      "<ipython-input-91-28d9966ce939>:20: SettingWithCopyWarning: \n",
      "A value is trying to be set on a copy of a slice from a DataFrame\n",
      "\n",
      "See the caveats in the documentation: https://pandas.pydata.org/pandas-docs/stable/user_guide/indexing.html#returning-a-view-versus-a-copy\n",
      "  df[\"description\"][i] = description\n"
     ]
    },
    {
     "name": "stdout",
     "output_type": "stream",
     "text": [
      "description : What defines a company - its people, its product or its vision? This novel of Silicon Valley is written by the former technical adviser to the chairman of Apple.\n",
      "Counter = 107\n"
     ]
    },
    {
     "name": "stderr",
     "output_type": "stream",
     "text": [
      "<ipython-input-91-28d9966ce939>:20: SettingWithCopyWarning: \n",
      "A value is trying to be set on a copy of a slice from a DataFrame\n",
      "\n",
      "See the caveats in the documentation: https://pandas.pydata.org/pandas-docs/stable/user_guide/indexing.html#returning-a-view-versus-a-copy\n",
      "  df[\"description\"][i] = description\n"
     ]
    },
    {
     "name": "stdout",
     "output_type": "stream",
     "text": [
      "description : \"A marriage is always two intersecting stories.\" This realization comes perhaps too late to the husband of Etna Bliss-a man whose obsession with his young wife begins at the moment of their first meeting, as he helps Etna and her companions escape from a fire in a hotel restaurant, and culminates in a marriage doomed by secrets and betrayal. Written with the intelligence and grace that are the hallmarks of Anita Shreve's bestselling novels, this gripping tale of desire, jealousy, and loss is peopled by unforgettable characters as real as the emotions that bring them together.\n",
      "Counter = 108\n"
     ]
    },
    {
     "name": "stderr",
     "output_type": "stream",
     "text": [
      "<ipython-input-91-28d9966ce939>:20: SettingWithCopyWarning: \n",
      "A value is trying to be set on a copy of a slice from a DataFrame\n",
      "\n",
      "See the caveats in the documentation: https://pandas.pydata.org/pandas-docs/stable/user_guide/indexing.html#returning-a-view-versus-a-copy\n",
      "  df[\"description\"][i] = description\n"
     ]
    },
    {
     "name": "stdout",
     "output_type": "stream",
     "text": [
      "description : AMERICA'S #1 TRUE-CRIME WRITER FULFILLS A MURDER VICTIM'S DESPERATE PLEA -- WITH THIS SHATTERING NEW YORK TIMES BESTSELLER \"If anything ever happens to me... find Ann Rule and ask her to write my story.\" In perhaps the first true-crime book written at the victim's request, Ann Rule untangles a web of lies and brutality that culminated in the murder of Sheila Blackthorne Bellush -- a woman Rule never met, but whose shocking story she now chronicles with compassion, exacting detail, and unvarnished candor. Although happily ensconced in a loving second marriage, and a new family of quadruplets, Sheila never truly escaped the vicious enslavement of her ex-husband, multi-millionaire Allen Blackthorne, a handsome charmer -- and a violent, controlling sociopath who subjected Sheila to unthinkable abuse in their marriage, and terrorized her for a decade after their divorce. When Sheila was slain in her home, in the presence of her four toddlers, authorities raced to link the crime to Blackthorne, the man who vowed to monitor Sheila's every move in his obsessive quest for power and revenge.\n",
      "Counter = 109\n"
     ]
    },
    {
     "name": "stderr",
     "output_type": "stream",
     "text": [
      "<ipython-input-91-28d9966ce939>:20: SettingWithCopyWarning: \n",
      "A value is trying to be set on a copy of a slice from a DataFrame\n",
      "\n",
      "See the caveats in the documentation: https://pandas.pydata.org/pandas-docs/stable/user_guide/indexing.html#returning-a-view-versus-a-copy\n",
      "  df[\"description\"][i] = description\n"
     ]
    },
    {
     "name": "stdout",
     "output_type": "stream",
     "text": [
      "description : \"Lewis Grizzard is one of America's zaniest writers.\" THE ORLANDO SENTINEL Funny, sad, outrageous, irresistible, and unforgettably true, here is Lewis Grizzard's one-way, non-stop climb to the top of the newspaper heap. Of course, along the way, he drove a train and was a preacher, but the one and only life for this self-proclaimed Promising Young Man from Georgia was that of the ink-stained, stop-the-presses, honest-to-gosh newspaperman. This is his story.\n",
      "Counter = 110\n"
     ]
    },
    {
     "name": "stderr",
     "output_type": "stream",
     "text": [
      "<ipython-input-91-28d9966ce939>:20: SettingWithCopyWarning: \n",
      "A value is trying to be set on a copy of a slice from a DataFrame\n",
      "\n",
      "See the caveats in the documentation: https://pandas.pydata.org/pandas-docs/stable/user_guide/indexing.html#returning-a-view-versus-a-copy\n",
      "  df[\"description\"][i] = description\n"
     ]
    },
    {
     "name": "stdout",
     "output_type": "stream",
     "text": [
      "description : An eccentric American inventor moves his family to the jungles of Central America in hopes of finding a better life\n",
      "Counter = 111\n"
     ]
    },
    {
     "name": "stderr",
     "output_type": "stream",
     "text": [
      "<ipython-input-91-28d9966ce939>:29: SettingWithCopyWarning: \n",
      "A value is trying to be set on a copy of a slice from a DataFrame\n",
      "\n",
      "See the caveats in the documentation: https://pandas.pydata.org/pandas-docs/stable/user_guide/indexing.html#returning-a-view-versus-a-copy\n",
      "  df[\"description\"][i] = description\n"
     ]
    },
    {
     "name": "stdout",
     "output_type": "stream",
     "text": [
      "NaN\n",
      "......................................................................................................\n",
      "Counter = 112\n"
     ]
    },
    {
     "name": "stderr",
     "output_type": "stream",
     "text": [
      "<ipython-input-91-28d9966ce939>:20: SettingWithCopyWarning: \n",
      "A value is trying to be set on a copy of a slice from a DataFrame\n",
      "\n",
      "See the caveats in the documentation: https://pandas.pydata.org/pandas-docs/stable/user_guide/indexing.html#returning-a-view-versus-a-copy\n",
      "  df[\"description\"][i] = description\n"
     ]
    },
    {
     "name": "stdout",
     "output_type": "stream",
     "text": [
      "description : \"The true story of a murderous mother and five innocent victims.\" - from front cover.\n",
      "Counter = 113\n"
     ]
    },
    {
     "name": "stderr",
     "output_type": "stream",
     "text": [
      "<ipython-input-91-28d9966ce939>:20: SettingWithCopyWarning: \n",
      "A value is trying to be set on a copy of a slice from a DataFrame\n",
      "\n",
      "See the caveats in the documentation: https://pandas.pydata.org/pandas-docs/stable/user_guide/indexing.html#returning-a-view-versus-a-copy\n",
      "  df[\"description\"][i] = description\n"
     ]
    },
    {
     "name": "stdout",
     "output_type": "stream",
     "text": [
      "description : The acclaimed #1 New York Times and undisputed King of Horror Stephen King offers a frightening suspense novel about a young girl who becomes lost in the woods as night falls. On a six-mile hike on the Maine-New Hampshire branch of the Appalachian Trail, nine-year-old Trisha McFarland quickly tires of the constant bickering between her older brother, Pete, and her recently divorced mother. But when she wanders off by herself, and then tries to catch up by attempting a shortcut, she becomes lost in a wilderness maze full of peril and terror. As night falls, Trisha has only her ingenuity as a defense against the elements, and only her courage and faith to withstand her mounting fears. For solace she tunes her Walkman to broadcasts of Boston Red Sox baseball games and follows the gritty performances of her hero, relief pitcher Tom Gordon. And when her radio’s reception begins to fade, Trisha imagines that Tom Gordon is with her—protecting her from an all-too-real enemy who has left a trail of slaughtered animals and mangled trees in the dense, dark woods…\n",
      "Counter = 114\n"
     ]
    },
    {
     "name": "stderr",
     "output_type": "stream",
     "text": [
      "<ipython-input-91-28d9966ce939>:20: SettingWithCopyWarning: \n",
      "A value is trying to be set on a copy of a slice from a DataFrame\n",
      "\n",
      "See the caveats in the documentation: https://pandas.pydata.org/pandas-docs/stable/user_guide/indexing.html#returning-a-view-versus-a-copy\n",
      "  df[\"description\"][i] = description\n"
     ]
    },
    {
     "name": "stdout",
     "output_type": "stream",
     "text": [
      "description : Recounts the story of how a notorious gang of MIT blackjack savants devised and received backing for a system for winning at the world's most sophisticated casinos, an endeavor that earned them more than three million dollars. Reprint. 100,000 first printing.\n",
      "Counter = 115\n"
     ]
    },
    {
     "name": "stderr",
     "output_type": "stream",
     "text": [
      "<ipython-input-91-28d9966ce939>:20: SettingWithCopyWarning: \n",
      "A value is trying to be set on a copy of a slice from a DataFrame\n",
      "\n",
      "See the caveats in the documentation: https://pandas.pydata.org/pandas-docs/stable/user_guide/indexing.html#returning-a-view-versus-a-copy\n",
      "  df[\"description\"][i] = description\n"
     ]
    },
    {
     "name": "stdout",
     "output_type": "stream",
     "text": [
      "description : This enchanting work of fantasy leads readers on a stirring quest through enchanted lands with the hapless but good-hearted King Quad. Can the faithful king find the Oneprince--the kingdom's only chance for salvation--before the kingdom is toppled by the faithless? A dazzling new series for all who love Bible-inspired fables.\n",
      "Counter = 116\n"
     ]
    },
    {
     "name": "stderr",
     "output_type": "stream",
     "text": [
      "<ipython-input-91-28d9966ce939>:20: SettingWithCopyWarning: \n",
      "A value is trying to be set on a copy of a slice from a DataFrame\n",
      "\n",
      "See the caveats in the documentation: https://pandas.pydata.org/pandas-docs/stable/user_guide/indexing.html#returning-a-view-versus-a-copy\n",
      "  df[\"description\"][i] = description\n"
     ]
    },
    {
     "name": "stdout",
     "output_type": "stream",
     "text": [
      "description : Peace may finally be at hand in the Middle East - as Deputy Director of the CIA Jack Ryan lays the groundwork for a peace plan that could end centuries of conflict. But ruthless terrorists have a final, desperate card to play; they have their hands on a nuclear weapon and have placed it on American soil in the midst of an escalation in tension with the Soviet Union. The terrorists hope to rekindle cold war animosity and prevent reconciliation between Israelis and Palestinians. With one terrible act, distrust mounts, forces collide, and the floundering U.S. president seems unable to cope with the crisis. With the world on the verge of nuclear disaster, Ryan must frantically seek a solution - before the chiefs of state lose control of themselves and the world.\n",
      "Counter = 117\n"
     ]
    },
    {
     "name": "stderr",
     "output_type": "stream",
     "text": [
      "<ipython-input-91-28d9966ce939>:20: SettingWithCopyWarning: \n",
      "A value is trying to be set on a copy of a slice from a DataFrame\n",
      "\n",
      "See the caveats in the documentation: https://pandas.pydata.org/pandas-docs/stable/user_guide/indexing.html#returning-a-view-versus-a-copy\n",
      "  df[\"description\"][i] = description\n"
     ]
    },
    {
     "name": "stdout",
     "output_type": "stream",
     "text": [
      "description : The actress-wife of Christopher Reeve shares dozens of the inspirational letters that her husband received following his paralyzing accident, and describes how they have given the family strength\n",
      "Counter = 118\n"
     ]
    },
    {
     "name": "stderr",
     "output_type": "stream",
     "text": [
      "<ipython-input-91-28d9966ce939>:20: SettingWithCopyWarning: \n",
      "A value is trying to be set on a copy of a slice from a DataFrame\n",
      "\n",
      "See the caveats in the documentation: https://pandas.pydata.org/pandas-docs/stable/user_guide/indexing.html#returning-a-view-versus-a-copy\n",
      "  df[\"description\"][i] = description\n"
     ]
    },
    {
     "name": "stdout",
     "output_type": "stream",
     "text": [
      "description : The story of an Indian family during the 1969 Communist disturbances in Kerala province. It is told through the eyes of a boy and his sister who are the children of a rich rubber planter. Politics, family drama, illicit love. A debut in fiction.\n",
      "Counter = 119\n"
     ]
    },
    {
     "name": "stderr",
     "output_type": "stream",
     "text": [
      "<ipython-input-91-28d9966ce939>:20: SettingWithCopyWarning: \n",
      "A value is trying to be set on a copy of a slice from a DataFrame\n",
      "\n",
      "See the caveats in the documentation: https://pandas.pydata.org/pandas-docs/stable/user_guide/indexing.html#returning-a-view-versus-a-copy\n",
      "  df[\"description\"][i] = description\n"
     ]
    },
    {
     "name": "stdout",
     "output_type": "stream",
     "text": [
      "description : Escaping an arranged marriage, Annalise Avery takes employment at Lord Gardiner's townhouse and, disguised as his housekeeper, vows to end the lord's lascivious ways in Lady in Green, while in Minor Indiscretions, Melody Ashton is stunned to be accused of blackmail by the rakish Lord Coe, who then offers to make her his mistress. Original.\n",
      "Counter = 120\n"
     ]
    },
    {
     "name": "stderr",
     "output_type": "stream",
     "text": [
      "<ipython-input-91-28d9966ce939>:20: SettingWithCopyWarning: \n",
      "A value is trying to be set on a copy of a slice from a DataFrame\n",
      "\n",
      "See the caveats in the documentation: https://pandas.pydata.org/pandas-docs/stable/user_guide/indexing.html#returning-a-view-versus-a-copy\n",
      "  df[\"description\"][i] = description\n"
     ]
    },
    {
     "name": "stdout",
     "output_type": "stream",
     "text": [
      "description : The rise and fall, birth and death, of the mythical town of Macondo through the history of the Buendía family.\n",
      "Counter = 121\n"
     ]
    },
    {
     "name": "stderr",
     "output_type": "stream",
     "text": [
      "<ipython-input-91-28d9966ce939>:20: SettingWithCopyWarning: \n",
      "A value is trying to be set on a copy of a slice from a DataFrame\n",
      "\n",
      "See the caveats in the documentation: https://pandas.pydata.org/pandas-docs/stable/user_guide/indexing.html#returning-a-view-versus-a-copy\n",
      "  df[\"description\"][i] = description\n"
     ]
    },
    {
     "name": "stdout",
     "output_type": "stream",
     "text": [
      "description : Don't miss Little Altars Everywhere, the New York Times bestselling companion novel that introduces the Ya-Yas and is also a basis for the film.\n",
      "Counter = 122\n"
     ]
    },
    {
     "name": "stderr",
     "output_type": "stream",
     "text": [
      "<ipython-input-91-28d9966ce939>:20: SettingWithCopyWarning: \n",
      "A value is trying to be set on a copy of a slice from a DataFrame\n",
      "\n",
      "See the caveats in the documentation: https://pandas.pydata.org/pandas-docs/stable/user_guide/indexing.html#returning-a-view-versus-a-copy\n",
      "  df[\"description\"][i] = description\n"
     ]
    },
    {
     "name": "stdout",
     "output_type": "stream",
     "text": [
      "description : Jim Chee is torn between his role as the prosecution's star witness against the man charged with killing his best friend and his own investigation of the crime. Reprint\n",
      "Counter = 123\n"
     ]
    },
    {
     "name": "stderr",
     "output_type": "stream",
     "text": [
      "<ipython-input-91-28d9966ce939>:20: SettingWithCopyWarning: \n",
      "A value is trying to be set on a copy of a slice from a DataFrame\n",
      "\n",
      "See the caveats in the documentation: https://pandas.pydata.org/pandas-docs/stable/user_guide/indexing.html#returning-a-view-versus-a-copy\n",
      "  df[\"description\"][i] = description\n"
     ]
    },
    {
     "name": "stdout",
     "output_type": "stream",
     "text": [
      "description : A young woman probing into the mysterious circumstances of her husband's death receives a message from a medium claiming to be his channel in Mary Higgins Clark's #1 bestselling thriller, Before I Say Goodbye. When Nell MacDermott learns that her husband, architect Adam Cauliff, and three of his business associates have died in an explosion of his new cabin cruiser, she is not only devastated but wracked with guilt. The last time she saw Adam, they had a bitter quarrel over her plan to run for the congressional seat long held by her grandfather; she had told him not to come home. As the investigation into the boat's explosion proceeds, Nell learns that it was not an accident but a bomb. Despite her skepticism, Nell is swayed by her great-aunt Gert, a believer in psychic powers, to see a medium claiming to be Adam's channel. While trying to unravel the threads of Adam's past and his violent end, Nell consults the medium, who transmits messages to her with instructions from Adam. The story reaches a powerful climax in Nell's final encounter with the medium, in which she learns the truth about the explosion -- truth she can't be allowed to live and tell.\n",
      "Counter = 124\n"
     ]
    },
    {
     "name": "stderr",
     "output_type": "stream",
     "text": [
      "<ipython-input-91-28d9966ce939>:20: SettingWithCopyWarning: \n",
      "A value is trying to be set on a copy of a slice from a DataFrame\n",
      "\n",
      "See the caveats in the documentation: https://pandas.pydata.org/pandas-docs/stable/user_guide/indexing.html#returning-a-view-versus-a-copy\n",
      "  df[\"description\"][i] = description\n"
     ]
    },
    {
     "name": "stdout",
     "output_type": "stream",
     "text": [
      "description : Restless loner and motorcycle rider Michael Tillman is unable to resist his powerful feelings for Jellie Braden, a free spirit trapped in a passionless marriage. By the author of The Bridges of Madison County. Reprint.\n",
      "Counter = 125\n"
     ]
    },
    {
     "name": "stderr",
     "output_type": "stream",
     "text": [
      "<ipython-input-91-28d9966ce939>:29: SettingWithCopyWarning: \n",
      "A value is trying to be set on a copy of a slice from a DataFrame\n",
      "\n",
      "See the caveats in the documentation: https://pandas.pydata.org/pandas-docs/stable/user_guide/indexing.html#returning-a-view-versus-a-copy\n",
      "  df[\"description\"][i] = description\n"
     ]
    },
    {
     "name": "stdout",
     "output_type": "stream",
     "text": [
      "NaN\n",
      "......................................................................................................\n",
      "Counter = 126\n"
     ]
    },
    {
     "name": "stderr",
     "output_type": "stream",
     "text": [
      "<ipython-input-91-28d9966ce939>:20: SettingWithCopyWarning: \n",
      "A value is trying to be set on a copy of a slice from a DataFrame\n",
      "\n",
      "See the caveats in the documentation: https://pandas.pydata.org/pandas-docs/stable/user_guide/indexing.html#returning-a-view-versus-a-copy\n",
      "  df[\"description\"][i] = description\n"
     ]
    },
    {
     "name": "stdout",
     "output_type": "stream",
     "text": [
      "description : In 1935 England, thirteen-year-old Briony Tallis witnesses an event involving her sister Cecilia and her childhood friend Robbie Turner, and she becomes the victim of her own imagination, which leads her on a lifelong search for truth and absolution.\n",
      "Counter = 127\n"
     ]
    },
    {
     "name": "stderr",
     "output_type": "stream",
     "text": [
      "<ipython-input-91-28d9966ce939>:20: SettingWithCopyWarning: \n",
      "A value is trying to be set on a copy of a slice from a DataFrame\n",
      "\n",
      "See the caveats in the documentation: https://pandas.pydata.org/pandas-docs/stable/user_guide/indexing.html#returning-a-view-versus-a-copy\n",
      "  df[\"description\"][i] = description\n"
     ]
    },
    {
     "name": "stdout",
     "output_type": "stream",
     "text": [
      "description : Examines the impact of the Internet on the way people live, work, and think, and offers a forecast about the implications of this revolution on human society.\n",
      "Counter = 128\n"
     ]
    },
    {
     "name": "stderr",
     "output_type": "stream",
     "text": [
      "<ipython-input-91-28d9966ce939>:20: SettingWithCopyWarning: \n",
      "A value is trying to be set on a copy of a slice from a DataFrame\n",
      "\n",
      "See the caveats in the documentation: https://pandas.pydata.org/pandas-docs/stable/user_guide/indexing.html#returning-a-view-versus-a-copy\n",
      "  df[\"description\"][i] = description\n"
     ]
    },
    {
     "name": "stdout",
     "output_type": "stream",
     "text": [
      "description : With The Angelic Darkness, Zimler returns with a haunting story of eroticism and redemption, a novel whose hypnotic combination of the ordinary with the fantastic, the mundane with the mythological, evokes the power of John Fowles's The Magus.\n",
      "Counter = 129\n"
     ]
    },
    {
     "name": "stderr",
     "output_type": "stream",
     "text": [
      "<ipython-input-91-28d9966ce939>:20: SettingWithCopyWarning: \n",
      "A value is trying to be set on a copy of a slice from a DataFrame\n",
      "\n",
      "See the caveats in the documentation: https://pandas.pydata.org/pandas-docs/stable/user_guide/indexing.html#returning-a-view-versus-a-copy\n",
      "  df[\"description\"][i] = description\n"
     ]
    },
    {
     "name": "stdout",
     "output_type": "stream",
     "text": [
      "description : For American student Cade Bryson, the opportunity to study in Oxford was a dream come true. But a chance discovery on a snowy winter evening changes everything. Sinister forces await Cade in ancient college buildings and in Oxford's hidden lanes.\n",
      "Counter = 130\n"
     ]
    },
    {
     "name": "stderr",
     "output_type": "stream",
     "text": [
      "<ipython-input-91-28d9966ce939>:20: SettingWithCopyWarning: \n",
      "A value is trying to be set on a copy of a slice from a DataFrame\n",
      "\n",
      "See the caveats in the documentation: https://pandas.pydata.org/pandas-docs/stable/user_guide/indexing.html#returning-a-view-versus-a-copy\n",
      "  df[\"description\"][i] = description\n"
     ]
    },
    {
     "name": "stdout",
     "output_type": "stream",
     "text": [
      "description : Fleeing his father and a shadowy past, Angelo Vestieri finds a second family in early twentieth-century New York's mob, where he encounters dangerous betrayals and an abandoned boy in need of a father figure.\n",
      "Counter = 131\n"
     ]
    },
    {
     "name": "stderr",
     "output_type": "stream",
     "text": [
      "<ipython-input-91-28d9966ce939>:20: SettingWithCopyWarning: \n",
      "A value is trying to be set on a copy of a slice from a DataFrame\n",
      "\n",
      "See the caveats in the documentation: https://pandas.pydata.org/pandas-docs/stable/user_guide/indexing.html#returning-a-view-versus-a-copy\n",
      "  df[\"description\"][i] = description\n"
     ]
    },
    {
     "name": "stdout",
     "output_type": "stream",
     "text": [
      "description : Sixteen years after her own son fell victim to a serial killer, criminal profiler Ivy Dunlap is called in by the Chicago police to help them find the Madonna Murderer, an unknown killer who has returned to stalk the city, and Ivy must journey into the innermost depths of her own fears to find him before it is too late. Original.\n",
      "Counter = 132\n"
     ]
    },
    {
     "name": "stderr",
     "output_type": "stream",
     "text": [
      "<ipython-input-91-28d9966ce939>:20: SettingWithCopyWarning: \n",
      "A value is trying to be set on a copy of a slice from a DataFrame\n",
      "\n",
      "See the caveats in the documentation: https://pandas.pydata.org/pandas-docs/stable/user_guide/indexing.html#returning-a-view-versus-a-copy\n",
      "  df[\"description\"][i] = description\n"
     ]
    },
    {
     "name": "stdout",
     "output_type": "stream",
     "text": [
      "description : As a series of grisly murders terrorizes the small, backwoods town of Silence, Nell Gallagher, a young woman with special psychic gifts, holds the power to unravel the mystery, uncover the dark secrets that could destroy the town, and find a killer before it is too late. Original.\n",
      "Counter = 133\n"
     ]
    },
    {
     "name": "stderr",
     "output_type": "stream",
     "text": [
      "<ipython-input-91-28d9966ce939>:29: SettingWithCopyWarning: \n",
      "A value is trying to be set on a copy of a slice from a DataFrame\n",
      "\n",
      "See the caveats in the documentation: https://pandas.pydata.org/pandas-docs/stable/user_guide/indexing.html#returning-a-view-versus-a-copy\n",
      "  df[\"description\"][i] = description\n"
     ]
    },
    {
     "name": "stdout",
     "output_type": "stream",
     "text": [
      "NaN\n",
      "......................................................................................................\n",
      "Counter = 134\n"
     ]
    },
    {
     "name": "stderr",
     "output_type": "stream",
     "text": [
      "<ipython-input-91-28d9966ce939>:20: SettingWithCopyWarning: \n",
      "A value is trying to be set on a copy of a slice from a DataFrame\n",
      "\n",
      "See the caveats in the documentation: https://pandas.pydata.org/pandas-docs/stable/user_guide/indexing.html#returning-a-view-versus-a-copy\n",
      "  df[\"description\"][i] = description\n"
     ]
    },
    {
     "name": "stdout",
     "output_type": "stream",
     "text": [
      "description : El amor como imperativo de exelencia es un movimiento de fidelidad a sí mismo y a las cosas. Es lo que para Ortega significa la definición platónica del amor como un \"deseo de engendrar belleza\", la aspiración al ser en plenitud, al ser en forma. Eso es lo que constituye el ideal de cada cosa, y no es exclusivamente nuestro.\n",
      "Counter = 135\n"
     ]
    },
    {
     "name": "stderr",
     "output_type": "stream",
     "text": [
      "<ipython-input-91-28d9966ce939>:20: SettingWithCopyWarning: \n",
      "A value is trying to be set on a copy of a slice from a DataFrame\n",
      "\n",
      "See the caveats in the documentation: https://pandas.pydata.org/pandas-docs/stable/user_guide/indexing.html#returning-a-view-versus-a-copy\n",
      "  df[\"description\"][i] = description\n"
     ]
    },
    {
     "name": "stdout",
     "output_type": "stream",
     "text": [
      "description : \"Last Night I Dreamt I Went To Manderley Again.\" So the second Mrs. Maxim de Winter remembered the chilling events that led her down the turning drive past ther beeches, white and naked, to the isolated gray stone manse on the windswept Cornish coast. With a husband she barely knew, the young bride arrived at this immense estate, only to be inexorably drawn into the life of the first Mrs. de Winter, the beautiful Rebecca, dead but never forgotten...her suite of rooms never touched, her clothes ready to be worn, her servant -- the sinister Mrs. Danvers -- still loyal. And as an eerie presentiment of evil tightened around her heart, the second Mrs. de Winter began her search for the real fate of Rebecca...for the secrets of Manderley.\n",
      "Counter = 136\n"
     ]
    },
    {
     "name": "stderr",
     "output_type": "stream",
     "text": [
      "<ipython-input-91-28d9966ce939>:20: SettingWithCopyWarning: \n",
      "A value is trying to be set on a copy of a slice from a DataFrame\n",
      "\n",
      "See the caveats in the documentation: https://pandas.pydata.org/pandas-docs/stable/user_guide/indexing.html#returning-a-view-versus-a-copy\n",
      "  df[\"description\"][i] = description\n"
     ]
    },
    {
     "name": "stdout",
     "output_type": "stream",
     "text": [
      "description : Set in the harsh Puritan community of 17th century Massachusetts, this tale of an adulterous entanglement resulting in an illegitimate birth engendered the first true heroine of American fiction.\n",
      "Counter = 137\n"
     ]
    },
    {
     "name": "stderr",
     "output_type": "stream",
     "text": [
      "<ipython-input-91-28d9966ce939>:20: SettingWithCopyWarning: \n",
      "A value is trying to be set on a copy of a slice from a DataFrame\n",
      "\n",
      "See the caveats in the documentation: https://pandas.pydata.org/pandas-docs/stable/user_guide/indexing.html#returning-a-view-versus-a-copy\n",
      "  df[\"description\"][i] = description\n"
     ]
    },
    {
     "name": "stdout",
     "output_type": "stream",
     "text": [
      "description : Here is a guide to make life simpler, easier and more enjoyable. Two basic rules are offered: quietness and simplicity. They invite us to reject the quick fix, to stop talking so much, advance by retreat and live more profoundly. Practical ideas include the use of the TV, purging your wardrobe and booting out clutter. It contains tips and hints for a more manageable life.\n",
      "Counter = 138\n"
     ]
    },
    {
     "name": "stderr",
     "output_type": "stream",
     "text": [
      "<ipython-input-91-28d9966ce939>:20: SettingWithCopyWarning: \n",
      "A value is trying to be set on a copy of a slice from a DataFrame\n",
      "\n",
      "See the caveats in the documentation: https://pandas.pydata.org/pandas-docs/stable/user_guide/indexing.html#returning-a-view-versus-a-copy\n",
      "  df[\"description\"][i] = description\n"
     ]
    },
    {
     "name": "stdout",
     "output_type": "stream",
     "text": [
      "description : Even though she is out of work and her apartment is too small, newlywed Amy Thomas Stewart finds herself longing to have a baby.\n",
      "Counter = 139\n"
     ]
    },
    {
     "name": "stderr",
     "output_type": "stream",
     "text": [
      "<ipython-input-91-28d9966ce939>:20: SettingWithCopyWarning: \n",
      "A value is trying to be set on a copy of a slice from a DataFrame\n",
      "\n",
      "See the caveats in the documentation: https://pandas.pydata.org/pandas-docs/stable/user_guide/indexing.html#returning-a-view-versus-a-copy\n",
      "  df[\"description\"][i] = description\n"
     ]
    },
    {
     "name": "stdout",
     "output_type": "stream",
     "text": [
      "description : When Nore Robbins visits her new stepmother, brother, and sister in Louisiana, she is unnerved by the feeling of evil and eerie threats that pervades the plantation. Reissue.\n",
      "Counter = 140\n"
     ]
    },
    {
     "name": "stderr",
     "output_type": "stream",
     "text": [
      "<ipython-input-91-28d9966ce939>:20: SettingWithCopyWarning: \n",
      "A value is trying to be set on a copy of a slice from a DataFrame\n",
      "\n",
      "See the caveats in the documentation: https://pandas.pydata.org/pandas-docs/stable/user_guide/indexing.html#returning-a-view-versus-a-copy\n",
      "  df[\"description\"][i] = description\n"
     ]
    },
    {
     "name": "stdout",
     "output_type": "stream",
     "text": [
      "description : An airline officer on a trans-Atlantic flight finds her ship hijacked by aliens and a member of her crew the only one she can trust—and eventually love.\n",
      "Counter = 141\n"
     ]
    },
    {
     "name": "stderr",
     "output_type": "stream",
     "text": [
      "<ipython-input-91-28d9966ce939>:20: SettingWithCopyWarning: \n",
      "A value is trying to be set on a copy of a slice from a DataFrame\n",
      "\n",
      "See the caveats in the documentation: https://pandas.pydata.org/pandas-docs/stable/user_guide/indexing.html#returning-a-view-versus-a-copy\n",
      "  df[\"description\"][i] = description\n"
     ]
    },
    {
     "name": "stdout",
     "output_type": "stream",
     "text": [
      "description : Unlike the other elderly residents of Middleton Hall, Stella is smart, elegant and in control. Only Jenny, her young care assistant, guesses at the mystery in Stella's past. As the two women share secrets, Jenny is intrigued by the relics of a long-ago love affair, and gradually pieces together an account of a shocking tragedy. 'Out of the mundane accessories of past existence, Vine fashions a tender, horrifying mystery... The story, beautifully written, emerges delicately, yet with shocking, ironic force and breathtaking imagination.' Marcel Berlins, The Times\n",
      "Counter = 142\n"
     ]
    },
    {
     "name": "stderr",
     "output_type": "stream",
     "text": [
      "<ipython-input-91-28d9966ce939>:20: SettingWithCopyWarning: \n",
      "A value is trying to be set on a copy of a slice from a DataFrame\n",
      "\n",
      "See the caveats in the documentation: https://pandas.pydata.org/pandas-docs/stable/user_guide/indexing.html#returning-a-view-versus-a-copy\n",
      "  df[\"description\"][i] = description\n"
     ]
    },
    {
     "name": "stdout",
     "output_type": "stream",
     "text": [
      "description : Eager to discover her lost past, Sarah, spirited away as a child from the grips of the evil Siddonie, begins a journey of self-discovery that takes her from the Hell Pit through the Catswold Portal and beyond\n",
      "Counter = 143\n"
     ]
    },
    {
     "name": "stderr",
     "output_type": "stream",
     "text": [
      "<ipython-input-91-28d9966ce939>:20: SettingWithCopyWarning: \n",
      "A value is trying to be set on a copy of a slice from a DataFrame\n",
      "\n",
      "See the caveats in the documentation: https://pandas.pydata.org/pandas-docs/stable/user_guide/indexing.html#returning-a-view-versus-a-copy\n",
      "  df[\"description\"][i] = description\n"
     ]
    },
    {
     "name": "stdout",
     "output_type": "stream",
     "text": [
      "description : Firekeeper only vaguely remembers a time when she didn't live with her \"family,\" a pack of \"royal wolves\"-bigger, stronger, and smarter than normal wolves. Now her pack leaders are sending her back to live among the humans, as they promised her mother years ago. Some of the humans think she may be the lost heir to their throne. This could be good-and it could be very, very dangerous. In the months to come, learning to behave like a human will turn out to be more complicated than she'd ever imagined. But though human ways might be stranger than anything found in the forest, the infighting in the human's pack is nothing Firekeeper hasn't seen before. That, she understands just fine. She's not your standard-issue princess-and this is not your standard-issue fairy tale.\n",
      "Counter = 144\n"
     ]
    },
    {
     "name": "stderr",
     "output_type": "stream",
     "text": [
      "<ipython-input-91-28d9966ce939>:20: SettingWithCopyWarning: \n",
      "A value is trying to be set on a copy of a slice from a DataFrame\n",
      "\n",
      "See the caveats in the documentation: https://pandas.pydata.org/pandas-docs/stable/user_guide/indexing.html#returning-a-view-versus-a-copy\n",
      "  df[\"description\"][i] = description\n"
     ]
    },
    {
     "name": "stdout",
     "output_type": "stream",
     "text": [
      "description : The author of the blockbuster The Bridges of Madison County blends passion and adventure in the story of an American novelist in Mexico and his young lover, who take a trip with a killer.\n",
      "Counter = 145\n"
     ]
    },
    {
     "name": "stderr",
     "output_type": "stream",
     "text": [
      "<ipython-input-91-28d9966ce939>:20: SettingWithCopyWarning: \n",
      "A value is trying to be set on a copy of a slice from a DataFrame\n",
      "\n",
      "See the caveats in the documentation: https://pandas.pydata.org/pandas-docs/stable/user_guide/indexing.html#returning-a-view-versus-a-copy\n",
      "  df[\"description\"][i] = description\n"
     ]
    },
    {
     "name": "stdout",
     "output_type": "stream",
     "text": [
      "description : A poignant story of childhood and family relationships.\n",
      "Counter = 146\n"
     ]
    },
    {
     "name": "stderr",
     "output_type": "stream",
     "text": [
      "<ipython-input-91-28d9966ce939>:20: SettingWithCopyWarning: \n",
      "A value is trying to be set on a copy of a slice from a DataFrame\n",
      "\n",
      "See the caveats in the documentation: https://pandas.pydata.org/pandas-docs/stable/user_guide/indexing.html#returning-a-view-versus-a-copy\n",
      "  df[\"description\"][i] = description\n"
     ]
    },
    {
     "name": "stdout",
     "output_type": "stream",
     "text": [
      "description : In a candid, no-holds-barred memoir, the former supermodel-turned-actress chronicles her thirty-year Hollywood career, from her turbulent childhood and modeling success to her film and television stardom, detailing her romantic flings, motherhood, and personal relationships along the way. Reprint.\n",
      "Counter = 147\n"
     ]
    },
    {
     "name": "stderr",
     "output_type": "stream",
     "text": [
      "<ipython-input-91-28d9966ce939>:20: SettingWithCopyWarning: \n",
      "A value is trying to be set on a copy of a slice from a DataFrame\n",
      "\n",
      "See the caveats in the documentation: https://pandas.pydata.org/pandas-docs/stable/user_guide/indexing.html#returning-a-view-versus-a-copy\n",
      "  df[\"description\"][i] = description\n"
     ]
    },
    {
     "name": "stdout",
     "output_type": "stream",
     "text": [
      "description : Weaves together two stories in the account of how fifteen-year-old Arthur Parkinson's family fell apart and the life and death of Annie Marchand, a young woman Arthur adored as a child\n",
      "Counter = 148\n"
     ]
    },
    {
     "name": "stderr",
     "output_type": "stream",
     "text": [
      "<ipython-input-91-28d9966ce939>:20: SettingWithCopyWarning: \n",
      "A value is trying to be set on a copy of a slice from a DataFrame\n",
      "\n",
      "See the caveats in the documentation: https://pandas.pydata.org/pandas-docs/stable/user_guide/indexing.html#returning-a-view-versus-a-copy\n",
      "  df[\"description\"][i] = description\n"
     ]
    },
    {
     "name": "stdout",
     "output_type": "stream",
     "text": [
      "description : Following a family tragedy, siblings Lou and Oz must leave New York and adjust to life in the Virginia mountains--but just as the farm begins to feel like home, they'll have to defend it from a dark threat in this New York Times bestselling coming-of-age story. Precocious twelve-year-old Louisa Mae Cardinal lives in the hectic New York City of 1940 with her family. Then tragedy strikes--and Lou and her younger brother, Oz, must go with their invalid mother to live on their great-grandmother's farm in the Virginia mountains. Suddenly Lou finds herself growing up in a new landscape, making her first true friend, and experiencing adventures tragic, comic, and audacious. When a dark, destructive force encroaches on her new home, her struggle will play out in a crowded Virginia courtroom...and determine the future of two children, an entire town, and the mountains they love.\n",
      "Counter = 149\n"
     ]
    },
    {
     "name": "stderr",
     "output_type": "stream",
     "text": [
      "<ipython-input-91-28d9966ce939>:20: SettingWithCopyWarning: \n",
      "A value is trying to be set on a copy of a slice from a DataFrame\n",
      "\n",
      "See the caveats in the documentation: https://pandas.pydata.org/pandas-docs/stable/user_guide/indexing.html#returning-a-view-versus-a-copy\n",
      "  df[\"description\"][i] = description\n"
     ]
    },
    {
     "name": "stdout",
     "output_type": "stream",
     "text": [
      "description : Kate Morrison, orphaned at the age of seven, grows up seeing her brilliant older brother Matt's failure to further his education as a tragedy, and feeling somewhat guilty about her own accomplishments, and it is not until years later that she finally sees the damage her faulty thinking has caused.\n",
      "Counter = 150\n"
     ]
    },
    {
     "name": "stderr",
     "output_type": "stream",
     "text": [
      "<ipython-input-91-28d9966ce939>:20: SettingWithCopyWarning: \n",
      "A value is trying to be set on a copy of a slice from a DataFrame\n",
      "\n",
      "See the caveats in the documentation: https://pandas.pydata.org/pandas-docs/stable/user_guide/indexing.html#returning-a-view-versus-a-copy\n",
      "  df[\"description\"][i] = description\n"
     ]
    },
    {
     "name": "stdout",
     "output_type": "stream",
     "text": [
      "description : The reminiscences of a New York lawyer, Jim Burden, about his boyhood in Nebraska, particularly a young Bohemian girl named Antonia Shimerda, are set against the backdrop of the American assimilation of immigrants. Reader's Guide available. Reissue.\n",
      "Counter = 151\n"
     ]
    },
    {
     "name": "stderr",
     "output_type": "stream",
     "text": [
      "<ipython-input-91-28d9966ce939>:20: SettingWithCopyWarning: \n",
      "A value is trying to be set on a copy of a slice from a DataFrame\n",
      "\n",
      "See the caveats in the documentation: https://pandas.pydata.org/pandas-docs/stable/user_guide/indexing.html#returning-a-view-versus-a-copy\n",
      "  df[\"description\"][i] = description\n"
     ]
    },
    {
     "name": "stdout",
     "output_type": "stream",
     "text": [
      "description : When Jennifer agrees to take the rap for her boss, who has been wreaking havoc on the SEC, she finds herself in Jennings Correctional Facility for Women where she encounters a fiesty group of smart, tough women who change her life.\n",
      "Counter = 152\n"
     ]
    },
    {
     "name": "stderr",
     "output_type": "stream",
     "text": [
      "<ipython-input-91-28d9966ce939>:20: SettingWithCopyWarning: \n",
      "A value is trying to be set on a copy of a slice from a DataFrame\n",
      "\n",
      "See the caveats in the documentation: https://pandas.pydata.org/pandas-docs/stable/user_guide/indexing.html#returning-a-view-versus-a-copy\n",
      "  df[\"description\"][i] = description\n"
     ]
    },
    {
     "name": "stdout",
     "output_type": "stream",
     "text": [
      "description : Bridget Jones's Diary was first published in 1996 and applauded by critics from Salman Rushdie to Jilly Cooper. A number one best-seller, Helen Fielding's book has sold over fifteen million copies worldwide and has been turned into an Academy Award-nominated film starring Renee Zellweger, Colin Firth and Hugh Grant. Bridget Jones's Diary is followed by Bridget Jones: The Edge of Reason and Bridget Jones: Mad About the Boy. Bridget Jones is everyone's favourite spinster. In Bridget Jones's Diary she documents her struggles through the social minefield of her 30s and tries to weigh up the eternal question: Daniel Cleaver of Mark Darcy? She is supported through the whole process by four indispensable friends, Shazzer, Jude, Tom and a bottle of chardonnay. A dazzling urban satire of modern relationships? An ironic, tragic insight into the demise of the nuclear family? Or the confused ramblings of a pissed thirty-something?\n",
      "Counter = 153\n"
     ]
    },
    {
     "name": "stderr",
     "output_type": "stream",
     "text": [
      "<ipython-input-91-28d9966ce939>:20: SettingWithCopyWarning: \n",
      "A value is trying to be set on a copy of a slice from a DataFrame\n",
      "\n",
      "See the caveats in the documentation: https://pandas.pydata.org/pandas-docs/stable/user_guide/indexing.html#returning-a-view-versus-a-copy\n",
      "  df[\"description\"][i] = description\n"
     ]
    },
    {
     "name": "stdout",
     "output_type": "stream",
     "text": [
      "description : In early nineteenth-century England, a spirited young woman copes with the suit of a snobbish gentleman, as well as the romantic entanglements of her four sisters.\n",
      "Counter = 154\n"
     ]
    },
    {
     "name": "stderr",
     "output_type": "stream",
     "text": [
      "<ipython-input-91-28d9966ce939>:20: SettingWithCopyWarning: \n",
      "A value is trying to be set on a copy of a slice from a DataFrame\n",
      "\n",
      "See the caveats in the documentation: https://pandas.pydata.org/pandas-docs/stable/user_guide/indexing.html#returning-a-view-versus-a-copy\n",
      "  df[\"description\"][i] = description\n"
     ]
    },
    {
     "name": "stdout",
     "output_type": "stream",
     "text": [
      "description : Hours after participating in a hypnosis demonstration, Callie and Iola go missing and turn up arrested for no apparent reason, and the Hardys, investigating a local robbery, must outmaneuver corrupt police. Original.\n",
      "Counter = 155\n"
     ]
    },
    {
     "name": "stderr",
     "output_type": "stream",
     "text": [
      "<ipython-input-91-28d9966ce939>:20: SettingWithCopyWarning: \n",
      "A value is trying to be set on a copy of a slice from a DataFrame\n",
      "\n",
      "See the caveats in the documentation: https://pandas.pydata.org/pandas-docs/stable/user_guide/indexing.html#returning-a-view-versus-a-copy\n",
      "  df[\"description\"][i] = description\n"
     ]
    },
    {
     "name": "stdout",
     "output_type": "stream",
     "text": [
      "description : The HARDY BOYS® SKIN & BONES SELLS EVERYTHING FROM ANACONDA SKINS TO OSTRICH SKELETONS -- BUT SOMEONE' S TRYING TO TRASH THE BUSINESS! Cody Chang's San Francisco store could be considered creepy -- Skin & Bones sells animal skulls, fish skeletons, reptile skins, and more. Business is booming, but when Frank and Joe visit the shop, Cody tells them he's been the victim of a string of burglaries, computer thefts, and threatening messages. The Hardys immediately pinpoint a suspect -- a criminal who was once caught in a sting by Cody's father, a policeman. Now there's danger everywhere for Frank and Joe -- from a cable car accident to the dense redwood forests of Muir Woods to the foggy, ice-cold waters off Alcatraz. The brothers are running hard and thinking fast -- up against a smart, desperate enemy ready to skin them alive! SKIN & BONES\n",
      "Counter = 156\n"
     ]
    },
    {
     "name": "stderr",
     "output_type": "stream",
     "text": [
      "<ipython-input-91-28d9966ce939>:20: SettingWithCopyWarning: \n",
      "A value is trying to be set on a copy of a slice from a DataFrame\n",
      "\n",
      "See the caveats in the documentation: https://pandas.pydata.org/pandas-docs/stable/user_guide/indexing.html#returning-a-view-versus-a-copy\n",
      "  df[\"description\"][i] = description\n"
     ]
    },
    {
     "name": "stdout",
     "output_type": "stream",
     "text": [
      "description : Frank and Joe are bound for the dangerous jungles of Borneo. Following a cryptic map sent to them by their father, the boys make a terrifying discovery--international killers have injected Fenton Hardy with a fatal dose of anthax-B, and they only have seven days to find the cure.\n",
      "Counter = 157\n"
     ]
    },
    {
     "name": "stderr",
     "output_type": "stream",
     "text": [
      "<ipython-input-91-28d9966ce939>:20: SettingWithCopyWarning: \n",
      "A value is trying to be set on a copy of a slice from a DataFrame\n",
      "\n",
      "See the caveats in the documentation: https://pandas.pydata.org/pandas-docs/stable/user_guide/indexing.html#returning-a-view-versus-a-copy\n",
      "  df[\"description\"][i] = description\n"
     ]
    },
    {
     "name": "stdout",
     "output_type": "stream",
     "text": [
      "description : When a cabin cruiser mysteriously explodes in the marina of Breakfast Island, newspaper reporter Jim Qwilleran and his feline companions investigate shady happenings at the hot vacation spot. 125,000 first printing.\n",
      "Counter = 158\n"
     ]
    },
    {
     "name": "stderr",
     "output_type": "stream",
     "text": [
      "<ipython-input-91-28d9966ce939>:20: SettingWithCopyWarning: \n",
      "A value is trying to be set on a copy of a slice from a DataFrame\n",
      "\n",
      "See the caveats in the documentation: https://pandas.pydata.org/pandas-docs/stable/user_guide/indexing.html#returning-a-view-versus-a-copy\n",
      "  df[\"description\"][i] = description\n"
     ]
    },
    {
     "name": "stdout",
     "output_type": "stream",
     "text": [
      "description : Invites readers to view single life as an opportunity to take advantage of unique possibilities and to discover their God-ordained purpose, offering advice on how to avoid putting one's life on hold while waiting for a mate and live each day to the fullest. Original.\n",
      "Counter = 159\n"
     ]
    },
    {
     "name": "stderr",
     "output_type": "stream",
     "text": [
      "<ipython-input-91-28d9966ce939>:20: SettingWithCopyWarning: \n",
      "A value is trying to be set on a copy of a slice from a DataFrame\n",
      "\n",
      "See the caveats in the documentation: https://pandas.pydata.org/pandas-docs/stable/user_guide/indexing.html#returning-a-view-versus-a-copy\n",
      "  df[\"description\"][i] = description\n"
     ]
    },
    {
     "name": "stdout",
     "output_type": "stream",
     "text": [
      "description : Explains how the relationship with fathers has an impact upon daughters throughout life.\n",
      "Counter = 160\n"
     ]
    },
    {
     "name": "stderr",
     "output_type": "stream",
     "text": [
      "<ipython-input-91-28d9966ce939>:20: SettingWithCopyWarning: \n",
      "A value is trying to be set on a copy of a slice from a DataFrame\n",
      "\n",
      "See the caveats in the documentation: https://pandas.pydata.org/pandas-docs/stable/user_guide/indexing.html#returning-a-view-versus-a-copy\n",
      "  df[\"description\"][i] = description\n"
     ]
    },
    {
     "name": "stdout",
     "output_type": "stream",
     "text": [
      "description : Mare Imbri, a deliverer of bad dreams, is made partially real so that she can warn King Trent of Xanth about the coming invasion\n",
      "Counter = 161\n"
     ]
    },
    {
     "name": "stderr",
     "output_type": "stream",
     "text": [
      "<ipython-input-91-28d9966ce939>:29: SettingWithCopyWarning: \n",
      "A value is trying to be set on a copy of a slice from a DataFrame\n",
      "\n",
      "See the caveats in the documentation: https://pandas.pydata.org/pandas-docs/stable/user_guide/indexing.html#returning-a-view-versus-a-copy\n",
      "  df[\"description\"][i] = description\n"
     ]
    },
    {
     "name": "stdout",
     "output_type": "stream",
     "text": [
      "NaN\n",
      "......................................................................................................\n",
      "Counter = 162\n"
     ]
    },
    {
     "name": "stderr",
     "output_type": "stream",
     "text": [
      "<ipython-input-91-28d9966ce939>:20: SettingWithCopyWarning: \n",
      "A value is trying to be set on a copy of a slice from a DataFrame\n",
      "\n",
      "See the caveats in the documentation: https://pandas.pydata.org/pandas-docs/stable/user_guide/indexing.html#returning-a-view-versus-a-copy\n",
      "  df[\"description\"][i] = description\n"
     ]
    },
    {
     "name": "stdout",
     "output_type": "stream",
     "text": [
      "description : 'Fahrenheit 451' ist die Temperatur, bei der \"Bücherpapier Feuer fängt und verbrennt\". In Ray Bradburys Zukunftsvision ist die Feuerwehr nicht mehr mit Wasserspritzen ausgerüstet, sondern mit Flammenwerfern, die genau diesen Hitzegrad erzeugen, um die letzten Zeugnisse individualistischen Denkens - die Bücher - zu vernichten. Da -beginnt der Feuerwehrmann Guy Montag, sich Fragen zu stellen... Die beängstigende Geschichte von einer Welt, in der das Bücherlesen mit Gefängnis und Tod bestraft wird, ist ein zeitloses Plädoyer für das freie Denken.\n",
      "Counter = 163\n"
     ]
    },
    {
     "name": "stderr",
     "output_type": "stream",
     "text": [
      "<ipython-input-91-28d9966ce939>:29: SettingWithCopyWarning: \n",
      "A value is trying to be set on a copy of a slice from a DataFrame\n",
      "\n",
      "See the caveats in the documentation: https://pandas.pydata.org/pandas-docs/stable/user_guide/indexing.html#returning-a-view-versus-a-copy\n",
      "  df[\"description\"][i] = description\n"
     ]
    },
    {
     "name": "stdout",
     "output_type": "stream",
     "text": [
      "NaN\n",
      "......................................................................................................\n",
      "Counter = 164\n"
     ]
    },
    {
     "name": "stderr",
     "output_type": "stream",
     "text": [
      "<ipython-input-91-28d9966ce939>:29: SettingWithCopyWarning: \n",
      "A value is trying to be set on a copy of a slice from a DataFrame\n",
      "\n",
      "See the caveats in the documentation: https://pandas.pydata.org/pandas-docs/stable/user_guide/indexing.html#returning-a-view-versus-a-copy\n",
      "  df[\"description\"][i] = description\n"
     ]
    },
    {
     "name": "stdout",
     "output_type": "stream",
     "text": [
      "NaN\n",
      "......................................................................................................\n",
      "Counter = 165\n"
     ]
    },
    {
     "name": "stderr",
     "output_type": "stream",
     "text": [
      "<ipython-input-91-28d9966ce939>:20: SettingWithCopyWarning: \n",
      "A value is trying to be set on a copy of a slice from a DataFrame\n",
      "\n",
      "See the caveats in the documentation: https://pandas.pydata.org/pandas-docs/stable/user_guide/indexing.html#returning-a-view-versus-a-copy\n",
      "  df[\"description\"][i] = description\n"
     ]
    },
    {
     "name": "stdout",
     "output_type": "stream",
     "text": [
      "description : Die Geschichte einer unglücklichen jungen Frau, die sterben will und erst angesichts des Todes entdeckt, wie schön das Leben sein kann, wenn man darum kämpft und etwas riskiert. Ein wunderbares Buch über die Prise 'Verrücktheit', die es braucht, um den eigenen Lebenstraum Wirklichkeit werden zu lassen, und eine große Liebeserklärung an das Glück in jedem von uns.\n",
      "Counter = 166\n"
     ]
    },
    {
     "name": "stderr",
     "output_type": "stream",
     "text": [
      "<ipython-input-91-28d9966ce939>:29: SettingWithCopyWarning: \n",
      "A value is trying to be set on a copy of a slice from a DataFrame\n",
      "\n",
      "See the caveats in the documentation: https://pandas.pydata.org/pandas-docs/stable/user_guide/indexing.html#returning-a-view-versus-a-copy\n",
      "  df[\"description\"][i] = description\n"
     ]
    },
    {
     "name": "stdout",
     "output_type": "stream",
     "text": [
      "NaN\n",
      "......................................................................................................\n",
      "Counter = 167\n"
     ]
    },
    {
     "name": "stderr",
     "output_type": "stream",
     "text": [
      "<ipython-input-91-28d9966ce939>:20: SettingWithCopyWarning: \n",
      "A value is trying to be set on a copy of a slice from a DataFrame\n",
      "\n",
      "See the caveats in the documentation: https://pandas.pydata.org/pandas-docs/stable/user_guide/indexing.html#returning-a-view-versus-a-copy\n",
      "  df[\"description\"][i] = description\n"
     ]
    },
    {
     "name": "stdout",
     "output_type": "stream",
     "text": [
      "description : Eine junge Türkin, die hochschwanger in einem dt. Krankenhaus liegt, erinnert sich an ihre frühe Kindheit in Anatolien und an ihre Jugend in Westdeutschland.\n",
      "Counter = 168\n"
     ]
    },
    {
     "name": "stderr",
     "output_type": "stream",
     "text": [
      "<ipython-input-91-28d9966ce939>:20: SettingWithCopyWarning: \n",
      "A value is trying to be set on a copy of a slice from a DataFrame\n",
      "\n",
      "See the caveats in the documentation: https://pandas.pydata.org/pandas-docs/stable/user_guide/indexing.html#returning-a-view-versus-a-copy\n",
      "  df[\"description\"][i] = description\n"
     ]
    },
    {
     "name": "stdout",
     "output_type": "stream",
     "text": [
      "description : Bissig und schonungslos nimmt der Dokumentarfilmer und Schriftsteller alles aufs Korn, was den äStupid white menä heilig ist - die höchsten Regierungsämter, die Moral der amerikanischen Gesellschaft und vor allem die Grosskonzerne.\n",
      "Counter = 169\n"
     ]
    },
    {
     "name": "stderr",
     "output_type": "stream",
     "text": [
      "<ipython-input-91-28d9966ce939>:20: SettingWithCopyWarning: \n",
      "A value is trying to be set on a copy of a slice from a DataFrame\n",
      "\n",
      "See the caveats in the documentation: https://pandas.pydata.org/pandas-docs/stable/user_guide/indexing.html#returning-a-view-versus-a-copy\n",
      "  df[\"description\"][i] = description\n"
     ]
    },
    {
     "name": "stdout",
     "output_type": "stream",
     "text": [
      "description : Im Mittelpunkt steht die Familie Lambert. Enid Lambert sehnt sich nach einem letzten Weihnachtsfest mit ihren erwachsenen Kindern und ihrem an Parkinson erkrankten Mann bei sich in St. Jude. Doch die Kinder tun sich schwer, ihr diesen Wunsch zu gewähren.\n",
      "Counter = 170\n"
     ]
    },
    {
     "name": "stderr",
     "output_type": "stream",
     "text": [
      "<ipython-input-91-28d9966ce939>:20: SettingWithCopyWarning: \n",
      "A value is trying to be set on a copy of a slice from a DataFrame\n",
      "\n",
      "See the caveats in the documentation: https://pandas.pydata.org/pandas-docs/stable/user_guide/indexing.html#returning-a-view-versus-a-copy\n",
      "  df[\"description\"][i] = description\n"
     ]
    },
    {
     "name": "stdout",
     "output_type": "stream",
     "text": [
      "description : Mit den Mitteln moderner Tiefenpsycholgie gestaltete Erlebnisse, Handlungen, Gespräche, Gedanken und Träume eines Durchschnittsmenschen während eines Tages in Dublin. SW: Psychologischer Roman.\n",
      "Counter = 171\n"
     ]
    },
    {
     "name": "stderr",
     "output_type": "stream",
     "text": [
      "<ipython-input-91-28d9966ce939>:20: SettingWithCopyWarning: \n",
      "A value is trying to be set on a copy of a slice from a DataFrame\n",
      "\n",
      "See the caveats in the documentation: https://pandas.pydata.org/pandas-docs/stable/user_guide/indexing.html#returning-a-view-versus-a-copy\n",
      "  df[\"description\"][i] = description\n"
     ]
    },
    {
     "name": "stdout",
     "output_type": "stream",
     "text": [
      "description : The story of the tragic decline of an Indian family whose members suffer the terrible consequences of forbidden love, The God of Small Things is set in the state of Kerala, on the southernmost tip of India. Armed only with the invincible innocence of children, the twins Rahel and Esthappen fashion a childhood for themselves in the shade of the wreck that is their family -- their lonely, lovely mother, Ammu (who loves by night the man her children love by day), their blind grandmother, Mammachi (who plays Handel on her violin), their beloved uncle Chacko (Rhodes scholar, pickle baron, radical Marxist, bottom-pincher), their enemy, Baby Kochamma (ex-nun and incumbent grandaunt), and the ghost of an imperial entomologist's moth (with unusually dense dorsal tufts). When their English cousin and her mother arrive on a Christmas visit, the twins learn that Things Can Change in a Day. That lives can twist into new, ugly shapes, even cease forever. The brilliantly plotted story uncoils with an agonizing sense of foreboding and inevitability. Yet nothing prepares you for what lies at the heart of it.\n",
      "Counter = 172\n"
     ]
    },
    {
     "name": "stderr",
     "output_type": "stream",
     "text": [
      "<ipython-input-91-28d9966ce939>:20: SettingWithCopyWarning: \n",
      "A value is trying to be set on a copy of a slice from a DataFrame\n",
      "\n",
      "See the caveats in the documentation: https://pandas.pydata.org/pandas-docs/stable/user_guide/indexing.html#returning-a-view-versus-a-copy\n",
      "  df[\"description\"][i] = description\n"
     ]
    },
    {
     "name": "stdout",
     "output_type": "stream",
     "text": [
      "description : Spring/Summer 2000\n",
      "Counter = 173\n"
     ]
    },
    {
     "name": "stderr",
     "output_type": "stream",
     "text": [
      "<ipython-input-91-28d9966ce939>:20: SettingWithCopyWarning: \n",
      "A value is trying to be set on a copy of a slice from a DataFrame\n",
      "\n",
      "See the caveats in the documentation: https://pandas.pydata.org/pandas-docs/stable/user_guide/indexing.html#returning-a-view-versus-a-copy\n",
      "  df[\"description\"][i] = description\n"
     ]
    },
    {
     "name": "stdout",
     "output_type": "stream",
     "text": [
      "description : At the outset of his career with the FBI, Alex Cross is instructed to track down a band of kidnappers who are snatching people and possibly selling them into slavery, a case that is complicated by a terrible threat to Cross's own family.\n",
      "Counter = 174\n"
     ]
    },
    {
     "name": "stderr",
     "output_type": "stream",
     "text": [
      "<ipython-input-91-28d9966ce939>:20: SettingWithCopyWarning: \n",
      "A value is trying to be set on a copy of a slice from a DataFrame\n",
      "\n",
      "See the caveats in the documentation: https://pandas.pydata.org/pandas-docs/stable/user_guide/indexing.html#returning-a-view-versus-a-copy\n",
      "  df[\"description\"][i] = description\n"
     ]
    },
    {
     "name": "stdout",
     "output_type": "stream",
     "text": [
      "description : Alex Cross is plunged into a case where military codes of honor conceal dark currents of revenge and ambition, and the men controlling the moves have the best weapons and training the world can offer.\n",
      "Counter = 175\n"
     ]
    },
    {
     "name": "stderr",
     "output_type": "stream",
     "text": [
      "<ipython-input-91-28d9966ce939>:20: SettingWithCopyWarning: \n",
      "A value is trying to be set on a copy of a slice from a DataFrame\n",
      "\n",
      "See the caveats in the documentation: https://pandas.pydata.org/pandas-docs/stable/user_guide/indexing.html#returning-a-view-versus-a-copy\n",
      "  df[\"description\"][i] = description\n"
     ]
    },
    {
     "name": "stdout",
     "output_type": "stream",
     "text": [
      "description : In a sensational trial that is taken over by a mysterious terrorist, attorney Tony Lord defends a man accuses of assassinating presidential hopeful James Kilcannon. By the author of Degree of Guilt. Reissue.\n",
      "Counter = 176\n"
     ]
    },
    {
     "name": "stderr",
     "output_type": "stream",
     "text": [
      "<ipython-input-91-28d9966ce939>:20: SettingWithCopyWarning: \n",
      "A value is trying to be set on a copy of a slice from a DataFrame\n",
      "\n",
      "See the caveats in the documentation: https://pandas.pydata.org/pandas-docs/stable/user_guide/indexing.html#returning-a-view-versus-a-copy\n",
      "  df[\"description\"][i] = description\n"
     ]
    },
    {
     "name": "stdout",
     "output_type": "stream",
     "text": [
      "description : Armed with the latest gifts of advanced technology, a California scientist, a ruthless corporation agent, and a mercenary hunter face the dangers of the Congo jungle in search of the diamonds of the lost city of Zinj\n",
      "Counter = 177\n"
     ]
    },
    {
     "name": "stderr",
     "output_type": "stream",
     "text": [
      "<ipython-input-91-28d9966ce939>:20: SettingWithCopyWarning: \n",
      "A value is trying to be set on a copy of a slice from a DataFrame\n",
      "\n",
      "See the caveats in the documentation: https://pandas.pydata.org/pandas-docs/stable/user_guide/indexing.html#returning-a-view-versus-a-copy\n",
      "  df[\"description\"][i] = description\n"
     ]
    },
    {
     "name": "stdout",
     "output_type": "stream",
     "text": [
      "description : When the Chief Justice of the Supreme Court drops dead following the inauguration, President Kerry Kilcannon selects as a replacement Judge Caroline Masters, a woman who hides a secret that could affect her ruling on a controversial case.\n",
      "Counter = 178\n",
      "description : When a Hollywood movie crew shows up in Tall Pine, Minnesota, two friends find their relationship tested as one of them lands a major part in the film and both fall for the same man. Tour.\n",
      "Counter = 179\n"
     ]
    },
    {
     "name": "stderr",
     "output_type": "stream",
     "text": [
      "<ipython-input-91-28d9966ce939>:20: SettingWithCopyWarning: \n",
      "A value is trying to be set on a copy of a slice from a DataFrame\n",
      "\n",
      "See the caveats in the documentation: https://pandas.pydata.org/pandas-docs/stable/user_guide/indexing.html#returning-a-view-versus-a-copy\n",
      "  df[\"description\"][i] = description\n",
      "<ipython-input-91-28d9966ce939>:20: SettingWithCopyWarning: \n",
      "A value is trying to be set on a copy of a slice from a DataFrame\n",
      "\n",
      "See the caveats in the documentation: https://pandas.pydata.org/pandas-docs/stable/user_guide/indexing.html#returning-a-view-versus-a-copy\n",
      "  df[\"description\"][i] = description\n"
     ]
    },
    {
     "name": "stdout",
     "output_type": "stream",
     "text": [
      "description : \"Captivating, minutely imagined . . . a novel that refuses to stay shut\" (\"Newsweek\"), \"Memoirs of a Geisha\" is now released in a movie tie-in edition.\n",
      "Counter = 180\n"
     ]
    },
    {
     "name": "stderr",
     "output_type": "stream",
     "text": [
      "<ipython-input-91-28d9966ce939>:20: SettingWithCopyWarning: \n",
      "A value is trying to be set on a copy of a slice from a DataFrame\n",
      "\n",
      "See the caveats in the documentation: https://pandas.pydata.org/pandas-docs/stable/user_guide/indexing.html#returning-a-view-versus-a-copy\n",
      "  df[\"description\"][i] = description\n"
     ]
    },
    {
     "name": "stdout",
     "output_type": "stream",
     "text": [
      "description : From the unsettled lives of a small-town teacher struggling to raise two boys alone in the face of their mother's retreat from life, a pregnant teenage girl with nowhere to go, and two elderly bachelor farmers emerges a new vision of life and family as their diverse destinies intertwine. 200,000 first printing.\n",
      "Counter = 181\n"
     ]
    },
    {
     "name": "stderr",
     "output_type": "stream",
     "text": [
      "<ipython-input-91-28d9966ce939>:20: SettingWithCopyWarning: \n",
      "A value is trying to be set on a copy of a slice from a DataFrame\n",
      "\n",
      "See the caveats in the documentation: https://pandas.pydata.org/pandas-docs/stable/user_guide/indexing.html#returning-a-view-versus-a-copy\n",
      "  df[\"description\"][i] = description\n"
     ]
    },
    {
     "name": "stdout",
     "output_type": "stream",
     "text": [
      "description : Pop-up paper sculptures for each letter celebrate the Christmas season.\n",
      "Counter = 182\n"
     ]
    },
    {
     "name": "stderr",
     "output_type": "stream",
     "text": [
      "<ipython-input-91-28d9966ce939>:20: SettingWithCopyWarning: \n",
      "A value is trying to be set on a copy of a slice from a DataFrame\n",
      "\n",
      "See the caveats in the documentation: https://pandas.pydata.org/pandas-docs/stable/user_guide/indexing.html#returning-a-view-versus-a-copy\n",
      "  df[\"description\"][i] = description\n"
     ]
    },
    {
     "name": "stdout",
     "output_type": "stream",
     "text": [
      "description : Dr. Kay Scarpetta is up against a serial killer who targets young lovers. Four couples have disappeared, only to turn up dead months afterward...Now a fifth pair is missing, and the mother of the girl is a powerhouse recently named by the president to head his war on drugs.\n",
      "Counter = 183\n"
     ]
    },
    {
     "name": "stderr",
     "output_type": "stream",
     "text": [
      "<ipython-input-91-28d9966ce939>:20: SettingWithCopyWarning: \n",
      "A value is trying to be set on a copy of a slice from a DataFrame\n",
      "\n",
      "See the caveats in the documentation: https://pandas.pydata.org/pandas-docs/stable/user_guide/indexing.html#returning-a-view-versus-a-copy\n",
      "  df[\"description\"][i] = description\n"
     ]
    },
    {
     "name": "stdout",
     "output_type": "stream",
     "text": [
      "description : While spending part of the summer at picturesque Magic Lake, twelve-year-old Flee Jay and her competitive bright younger sister become involved with a hermit, vandalism, and a forty-year-old mystery concerning a kidnapped child.\n",
      "Counter = 184\n"
     ]
    },
    {
     "name": "stderr",
     "output_type": "stream",
     "text": [
      "<ipython-input-91-28d9966ce939>:20: SettingWithCopyWarning: \n",
      "A value is trying to be set on a copy of a slice from a DataFrame\n",
      "\n",
      "See the caveats in the documentation: https://pandas.pydata.org/pandas-docs/stable/user_guide/indexing.html#returning-a-view-versus-a-copy\n",
      "  df[\"description\"][i] = description\n"
     ]
    },
    {
     "name": "stdout",
     "output_type": "stream",
     "text": [
      "description : The fiery and outspoken adopted daughter of one of England's most formidable women, Shemaine O'Hearn has made powerful enemies. And now her adversaries have found a way to remove the hot-blooded beauty from her life of privilege: by falsely convicting Shemaine of thievery and sending her in shackles to America, where she is to be sold in indentured servitude to the highest bidder. In a bustling port city in the colony of Virginia, she becomes the servant of Gage Thornton-a shipbuilder with a young child in need of a nanny. And despite whispered rumors condemning the handsome widower for the untimely death of his wife, Shemaine cannot ignore her desire for this caring, generous and enigmatic stranger who silently aches with his growing need for her-even as grave peril reaches out from across a vast ocean to threaten their flowering love. A proud and spirited woman whose life was stolen from her. . .A man of secrets accused of a terrible crime. . .In a place of new beginnings their destinies are joined--in a gloriously romantic new work from the incomparable storyteller. In an era of treacherous uncertainties, Shemaine O'Hearn--the fiery and outspoken daughter of one of England's most successful businessmen--has made powerful enemies. And those who wish her ill have found a way to remove the hot-blooded beauty from her life of privilege--falsely convicting her of thievery and forcing her in shackles aboard a crowded slave ship bound for America, where she is to be sold in indentured servitude to the highest bidder. In a bustling port city in the colony of Virginia, Shemaine becomes the servant of Gage Thorton--a shipbuilder with a young child in need of a nanny. In a rustic cabin in the woods, far from the whispered rumors that cruelly condemn the handsome widower for the untimely death of his wife, Shemaine cannot ignore her desire for this caring, generous and enigmatic man who silently aches with his growing need for her--even as a grave peril reaches out from across a vast ocean to invade their new life and threaten their flowering love.\n",
      "Counter = 185\n"
     ]
    },
    {
     "name": "stderr",
     "output_type": "stream",
     "text": [
      "<ipython-input-91-28d9966ce939>:20: SettingWithCopyWarning: \n",
      "A value is trying to be set on a copy of a slice from a DataFrame\n",
      "\n",
      "See the caveats in the documentation: https://pandas.pydata.org/pandas-docs/stable/user_guide/indexing.html#returning-a-view-versus-a-copy\n",
      "  df[\"description\"][i] = description\n"
     ]
    },
    {
     "name": "stdout",
     "output_type": "stream",
     "text": [
      "description : A woman in desperate straits ... A fearless man ...A marriage of convenience on turbulent waters ... Cerynise Kendall has been left destitute and in dire need following the death of her doting patron and protectress. A brilliant young artist tossed from her home with only the clothes on her back, Cerynise must now turn to a childhood companion for assistance - the dashing sea captain Beauregard Birmingham and beg him to provide her with passage to the Carolinas. She seeks a new home and a new life across the waters, but all depends upon the kindness of a charming adventurer who was once the object of her youthful infatuation. Beneath Birmingham′s rugged exterior beats a heart as large and wild as the Atlantic, and Beau readily agrees to aid Cerynise - even offering her his name in marriage, albeit temporarily, to protect his long time friend from scandal. But perilous secrets, determined enemies and tempests of the sea and soul threaten their future and safe passage even as bonds of camaraderie are miraculously reforged as bonds of desire ... and affection becomes passion and love.\n",
      "Counter = 186\n"
     ]
    },
    {
     "name": "stderr",
     "output_type": "stream",
     "text": [
      "<ipython-input-91-28d9966ce939>:20: SettingWithCopyWarning: \n",
      "A value is trying to be set on a copy of a slice from a DataFrame\n",
      "\n",
      "See the caveats in the documentation: https://pandas.pydata.org/pandas-docs/stable/user_guide/indexing.html#returning-a-view-versus-a-copy\n",
      "  df[\"description\"][i] = description\n"
     ]
    },
    {
     "name": "stdout",
     "output_type": "stream",
     "text": [
      "description : Two sisters separated by adoption and a romantic betrayal emigrate to America from Berlin after their parents fall victim to the Nazis\n",
      "Counter = 187\n"
     ]
    },
    {
     "name": "stderr",
     "output_type": "stream",
     "text": [
      "<ipython-input-91-28d9966ce939>:29: SettingWithCopyWarning: \n",
      "A value is trying to be set on a copy of a slice from a DataFrame\n",
      "\n",
      "See the caveats in the documentation: https://pandas.pydata.org/pandas-docs/stable/user_guide/indexing.html#returning-a-view-versus-a-copy\n",
      "  df[\"description\"][i] = description\n"
     ]
    },
    {
     "name": "stdout",
     "output_type": "stream",
     "text": [
      "NaN\n",
      "......................................................................................................\n",
      "Counter = 188\n"
     ]
    },
    {
     "name": "stderr",
     "output_type": "stream",
     "text": [
      "<ipython-input-91-28d9966ce939>:20: SettingWithCopyWarning: \n",
      "A value is trying to be set on a copy of a slice from a DataFrame\n",
      "\n",
      "See the caveats in the documentation: https://pandas.pydata.org/pandas-docs/stable/user_guide/indexing.html#returning-a-view-versus-a-copy\n",
      "  df[\"description\"][i] = description\n"
     ]
    },
    {
     "name": "stdout",
     "output_type": "stream",
     "text": [
      "description : The author of such best-selling legal thrillers as The Summons and The Brethren presents his latest novel of courtroom and legal suspense. 2,500,000 first printing. $2,500,000 ad/promo.\n",
      "Counter = 189\n"
     ]
    },
    {
     "name": "stderr",
     "output_type": "stream",
     "text": [
      "<ipython-input-91-28d9966ce939>:20: SettingWithCopyWarning: \n",
      "A value is trying to be set on a copy of a slice from a DataFrame\n",
      "\n",
      "See the caveats in the documentation: https://pandas.pydata.org/pandas-docs/stable/user_guide/indexing.html#returning-a-view-versus-a-copy\n",
      "  df[\"description\"][i] = description\n"
     ]
    },
    {
     "name": "stdout",
     "output_type": "stream",
     "text": [
      "description : Despite his overwhelming fear of interacting with people, Christopher, a mathematically-gifted, autistic fifteen-year-old boy, decides to investigate the murder of a neighbor's dog and uncovers secret information about his mother.\n",
      "Counter = 190\n"
     ]
    },
    {
     "name": "stderr",
     "output_type": "stream",
     "text": [
      "<ipython-input-91-28d9966ce939>:20: SettingWithCopyWarning: \n",
      "A value is trying to be set on a copy of a slice from a DataFrame\n",
      "\n",
      "See the caveats in the documentation: https://pandas.pydata.org/pandas-docs/stable/user_guide/indexing.html#returning-a-view-versus-a-copy\n",
      "  df[\"description\"][i] = description\n"
     ]
    },
    {
     "name": "stdout",
     "output_type": "stream",
     "text": [
      "description : Story of high school All - American Neely Crenshaw and relationships on the team and with the coach Eddie Rake. When Coach Rakes \"boys\" come home to bury him, sitting in the bleachers, Neely knows he must forgive his coach and himself to finally move on with his life.\n",
      "Counter = 191\n"
     ]
    },
    {
     "name": "stderr",
     "output_type": "stream",
     "text": [
      "<ipython-input-91-28d9966ce939>:20: SettingWithCopyWarning: \n",
      "A value is trying to be set on a copy of a slice from a DataFrame\n",
      "\n",
      "See the caveats in the documentation: https://pandas.pydata.org/pandas-docs/stable/user_guide/indexing.html#returning-a-view-versus-a-copy\n",
      "  df[\"description\"][i] = description\n"
     ]
    },
    {
     "name": "stdout",
     "output_type": "stream",
     "text": [
      "description : During their first summer apart, four teenage girls, best friends since earliest childhood, stay in touch through a shared pair of secondhand jeans that magically adapts to each of their figures and affects their attitudes to their different summer experiences.\n",
      "Counter = 192\n"
     ]
    },
    {
     "name": "stderr",
     "output_type": "stream",
     "text": [
      "<ipython-input-91-28d9966ce939>:20: SettingWithCopyWarning: \n",
      "A value is trying to be set on a copy of a slice from a DataFrame\n",
      "\n",
      "See the caveats in the documentation: https://pandas.pydata.org/pandas-docs/stable/user_guide/indexing.html#returning-a-view-versus-a-copy\n",
      "  df[\"description\"][i] = description\n"
     ]
    },
    {
     "name": "stdout",
     "output_type": "stream",
     "text": [
      "description : Matthew Hiller finds himself caught in the middle among his Hippocratic oath, his past, and a potential future with a beautiful but terminally ill woman married to another man\n",
      "Counter = 193\n"
     ]
    },
    {
     "name": "stderr",
     "output_type": "stream",
     "text": [
      "<ipython-input-91-28d9966ce939>:20: SettingWithCopyWarning: \n",
      "A value is trying to be set on a copy of a slice from a DataFrame\n",
      "\n",
      "See the caveats in the documentation: https://pandas.pydata.org/pandas-docs/stable/user_guide/indexing.html#returning-a-view-versus-a-copy\n",
      "  df[\"description\"][i] = description\n"
     ]
    },
    {
     "name": "stdout",
     "output_type": "stream",
     "text": [
      "description : Attorney and law professor Marla Cwitowitz teams up with her boyfriend, private detective Al Giraud, when they investigate Steve Mallard, a husband and father who has become the prime suspect in the disappearance--and perhaps murder--of real-estate agent Laurie Martin. Reprint.\n",
      "Counter = 194\n"
     ]
    },
    {
     "name": "stderr",
     "output_type": "stream",
     "text": [
      "<ipython-input-91-28d9966ce939>:20: SettingWithCopyWarning: \n",
      "A value is trying to be set on a copy of a slice from a DataFrame\n",
      "\n",
      "See the caveats in the documentation: https://pandas.pydata.org/pandas-docs/stable/user_guide/indexing.html#returning-a-view-versus-a-copy\n",
      "  df[\"description\"][i] = description\n"
     ]
    },
    {
     "name": "stdout",
     "output_type": "stream",
     "text": [
      "description : When college student Jeff Converse is wrongly accused of a violent crime, he becomes trapped in the dark and evil underworld of Manhattan where deranged predators hunt for prey in a deadly game.\n",
      "Counter = 195\n"
     ]
    },
    {
     "name": "stderr",
     "output_type": "stream",
     "text": [
      "<ipython-input-91-28d9966ce939>:20: SettingWithCopyWarning: \n",
      "A value is trying to be set on a copy of a slice from a DataFrame\n",
      "\n",
      "See the caveats in the documentation: https://pandas.pydata.org/pandas-docs/stable/user_guide/indexing.html#returning-a-view-versus-a-copy\n",
      "  df[\"description\"][i] = description\n"
     ]
    },
    {
     "name": "stdout",
     "output_type": "stream",
     "text": [
      "description : Centering around a Minneapolis beauty parlor that also functions as a women's support group, this novel explores the loves, losses, hopes, and victories experienced by Patty Jane and Harriet, two eccentric sisters\n",
      "Counter = 196\n"
     ]
    },
    {
     "name": "stderr",
     "output_type": "stream",
     "text": [
      "<ipython-input-91-28d9966ce939>:20: SettingWithCopyWarning: \n",
      "A value is trying to be set on a copy of a slice from a DataFrame\n",
      "\n",
      "See the caveats in the documentation: https://pandas.pydata.org/pandas-docs/stable/user_guide/indexing.html#returning-a-view-versus-a-copy\n",
      "  df[\"description\"][i] = description\n"
     ]
    },
    {
     "name": "stdout",
     "output_type": "stream",
     "text": [
      "description : \"Vivid, powerful, disturbing.\" --Washington Post Book World \"A stunner...King gets you to believe the unbelievable.\" --Detroit News \"Unrelenting, convincing...awesome power...his best yet.\" --Pittsburgh Press\n",
      "Counter = 197\n"
     ]
    },
    {
     "name": "stderr",
     "output_type": "stream",
     "text": [
      "<ipython-input-91-28d9966ce939>:20: SettingWithCopyWarning: \n",
      "A value is trying to be set on a copy of a slice from a DataFrame\n",
      "\n",
      "See the caveats in the documentation: https://pandas.pydata.org/pandas-docs/stable/user_guide/indexing.html#returning-a-view-versus-a-copy\n",
      "  df[\"description\"][i] = description\n"
     ]
    },
    {
     "name": "stdout",
     "output_type": "stream",
     "text": [
      "description : Twin Cities investigative reporter Rick Beanblossom's family becomes the target of a terrifying copycat crime on the anniversary of the 1932 Lindberg kidnapping. Reprint.\n",
      "Counter = 198\n"
     ]
    },
    {
     "name": "stderr",
     "output_type": "stream",
     "text": [
      "<ipython-input-91-28d9966ce939>:20: SettingWithCopyWarning: \n",
      "A value is trying to be set on a copy of a slice from a DataFrame\n",
      "\n",
      "See the caveats in the documentation: https://pandas.pydata.org/pandas-docs/stable/user_guide/indexing.html#returning-a-view-versus-a-copy\n",
      "  df[\"description\"][i] = description\n"
     ]
    },
    {
     "name": "stdout",
     "output_type": "stream",
     "text": [
      "description : A poor seventeenth-century servant girl knows her place in the household of the painter Johannes Vermeer, but when he begins to paint her, nasty whispers and rumors circulate throughout the town. Reissue. (A Lions Gate Films production, releasing November 2003, starring Colin Firth & Scarlett Johannson) (Historical Fiction)\n",
      "Counter = 199\n"
     ]
    },
    {
     "name": "stderr",
     "output_type": "stream",
     "text": [
      "<ipython-input-91-28d9966ce939>:20: SettingWithCopyWarning: \n",
      "A value is trying to be set on a copy of a slice from a DataFrame\n",
      "\n",
      "See the caveats in the documentation: https://pandas.pydata.org/pandas-docs/stable/user_guide/indexing.html#returning-a-view-versus-a-copy\n",
      "  df[\"description\"][i] = description\n"
     ]
    },
    {
     "name": "stdout",
     "output_type": "stream",
     "text": [
      "description : Thirty years after the murder of her sister, photojournalist Anna Jamieson returns to New York City, the scene of the unsolved crime, and finds herself on a collision course with her terrifying memories and with a fiendishly clever killer.\n",
      "Counter = 200\n"
     ]
    },
    {
     "name": "stderr",
     "output_type": "stream",
     "text": [
      "<ipython-input-91-28d9966ce939>:20: SettingWithCopyWarning: \n",
      "A value is trying to be set on a copy of a slice from a DataFrame\n",
      "\n",
      "See the caveats in the documentation: https://pandas.pydata.org/pandas-docs/stable/user_guide/indexing.html#returning-a-view-versus-a-copy\n",
      "  df[\"description\"][i] = description\n"
     ]
    },
    {
     "name": "stdout",
     "output_type": "stream",
     "text": [
      "description : Blackmailed by a master assassin to agree to perform life-saving surgery on the killer, famous neurosurgeon Jesse Copeland struggles with the choice between saving a terrorist's life or the lives of those he threatens. Reprint.\n",
      "Counter = 201\n"
     ]
    },
    {
     "name": "stderr",
     "output_type": "stream",
     "text": [
      "<ipython-input-91-28d9966ce939>:20: SettingWithCopyWarning: \n",
      "A value is trying to be set on a copy of a slice from a DataFrame\n",
      "\n",
      "See the caveats in the documentation: https://pandas.pydata.org/pandas-docs/stable/user_guide/indexing.html#returning-a-view-versus-a-copy\n",
      "  df[\"description\"][i] = description\n"
     ]
    },
    {
     "name": "stdout",
     "output_type": "stream",
     "text": [
      "description : A vengeful Gargoyle tries to destroy the clan's only human friend, Elisa, a night-shift detective for the New York Police Department. 8-page color insert.\n",
      "Counter = 202\n"
     ]
    },
    {
     "name": "stderr",
     "output_type": "stream",
     "text": [
      "<ipython-input-91-28d9966ce939>:20: SettingWithCopyWarning: \n",
      "A value is trying to be set on a copy of a slice from a DataFrame\n",
      "\n",
      "See the caveats in the documentation: https://pandas.pydata.org/pandas-docs/stable/user_guide/indexing.html#returning-a-view-versus-a-copy\n",
      "  df[\"description\"][i] = description\n"
     ]
    },
    {
     "name": "stdout",
     "output_type": "stream",
     "text": [
      "description : Clifford's enthusiasm knows no limits when Emily Elizabeth takes her big red dog to Sports Day.\n",
      "Counter = 203\n"
     ]
    },
    {
     "name": "stderr",
     "output_type": "stream",
     "text": [
      "<ipython-input-91-28d9966ce939>:20: SettingWithCopyWarning: \n",
      "A value is trying to be set on a copy of a slice from a DataFrame\n",
      "\n",
      "See the caveats in the documentation: https://pandas.pydata.org/pandas-docs/stable/user_guide/indexing.html#returning-a-view-versus-a-copy\n",
      "  df[\"description\"][i] = description\n"
     ]
    },
    {
     "name": "stdout",
     "output_type": "stream",
     "text": [
      "description : A shocking scientific discovery. A conspiracy of staggering brilliance. A thriller unlike any you've ever read.... When a NASA satellite discovers an astonishingly rare object buried deep in the Arctic ice, the floundering space agency proclaims a much-needed victory -- a victory with profound implications for NASA policy and the impending presidential election. To verify the authenticity of the find, the White House calls upon the skills of intelligence analyst Rachel Sexton. Accompanied by a team of experts, including the charismatic scholar Michael Tolland, Rachel travels to the Arctic and uncovers the unthinkable: evidence of scientific trickery -- a bold deception that threatens to plunge the world into controversy. But before she can warn the President, Rachel and Michael are ambushed by a deadly team of assassins. Fleeing for their lives across a desolate and lethal landscape, their only hope for survival is to discover who is behind this masterful plot. The truth, they will learn, is the most shocking deception of all.\n",
      "Counter = 204\n"
     ]
    },
    {
     "name": "stderr",
     "output_type": "stream",
     "text": [
      "<ipython-input-91-28d9966ce939>:20: SettingWithCopyWarning: \n",
      "A value is trying to be set on a copy of a slice from a DataFrame\n",
      "\n",
      "See the caveats in the documentation: https://pandas.pydata.org/pandas-docs/stable/user_guide/indexing.html#returning-a-view-versus-a-copy\n",
      "  df[\"description\"][i] = description\n"
     ]
    },
    {
     "name": "stdout",
     "output_type": "stream",
     "text": [
      "description : The #1 New York Times bestselling sequel to the beloved Pulitzer Prize-winning classic memoir, Angela’s Ashes, about McCourt’s coming of age as an immigrant in America. Frank McCourt's glorious childhood memoir, Angela's Ashes, has been loved and celebrated by readers everywhere for its spirit, its wit and its profound humanity. A tale of redemption, in which storytelling itself is the source of salvation, it won the National Book Critics Circle Award, the Los Angeles Times Book Award and the Pulitzer Prize. Rarely has a book so swiftly found its place on the literary landscape. And now we have 'Tis, the story of Frank's American journey from impoverished immigrant to brilliant teacher and raconteur. Frank lands in New York at age nineteen, in the company of a priest he meets on the boat. He gets a job at the Biltmore Hotel, where he immediately encounters the vivid hierarchies of this \"classless country,\" and then is drafted into the army and is sent to Germany to train dogs and type reports. It is Frank's incomparable voice -- his uncanny humor and his astonishing ear for dialogue -- that renders these experiences spellbinding. When Frank returns to America in 1953, he works on the docks, always resisting what everyone tells him, that men and women who have dreamed and toiled for years to get to America should \"stick to their own kind\" once they arrive. Somehow, Frank knows that he should be getting an education, and though he left school at fourteen, he talks his way into New York University. There, he falls in love with the quintessential Yankee, long-legged and blonde, and tries to live his dream. But it is not until he starts to teach -- and to write -- that Frank finds his place in the world. The same vulnerable but invincible spirit that captured the hearts of readers in Angela's Ashes comes of age. As Malcolm Jones said in his Newsweek review of Angela's Ashes, \"It is only the best storyteller who can so beguile his readers that he leaves them wanting more when he is done...and McCourt proves himself one of the very best.\" Frank McCourt's 'Tis is one of the most eagerly awaited books of our time, and it is a masterpiece.\n",
      "Counter = 205\n"
     ]
    },
    {
     "name": "stderr",
     "output_type": "stream",
     "text": [
      "<ipython-input-91-28d9966ce939>:20: SettingWithCopyWarning: \n",
      "A value is trying to be set on a copy of a slice from a DataFrame\n",
      "\n",
      "See the caveats in the documentation: https://pandas.pydata.org/pandas-docs/stable/user_guide/indexing.html#returning-a-view-versus-a-copy\n",
      "  df[\"description\"][i] = description\n"
     ]
    },
    {
     "name": "stdout",
     "output_type": "stream",
     "text": [
      "description : The author offers a memoir of life in New York City during the freewheeling 1960s, detailing his quest for fame and fortune, family life, battle with alcoholism, and reunion with his long-estranged father\n",
      "Counter = 206\n"
     ]
    },
    {
     "name": "stderr",
     "output_type": "stream",
     "text": [
      "<ipython-input-91-28d9966ce939>:20: SettingWithCopyWarning: \n",
      "A value is trying to be set on a copy of a slice from a DataFrame\n",
      "\n",
      "See the caveats in the documentation: https://pandas.pydata.org/pandas-docs/stable/user_guide/indexing.html#returning-a-view-versus-a-copy\n",
      "  df[\"description\"][i] = description\n"
     ]
    },
    {
     "name": "stdout",
     "output_type": "stream",
     "text": [
      "description : Victorian-era criminal investigator William Monk wonders if a respected solicitor general found dead in a London slum or his barely living son could be responsible for a series of rapes and beatings of local prostitutes. Reprint.\n",
      "Counter = 207\n"
     ]
    },
    {
     "name": "stderr",
     "output_type": "stream",
     "text": [
      "<ipython-input-91-28d9966ce939>:20: SettingWithCopyWarning: \n",
      "A value is trying to be set on a copy of a slice from a DataFrame\n",
      "\n",
      "See the caveats in the documentation: https://pandas.pydata.org/pandas-docs/stable/user_guide/indexing.html#returning-a-view-versus-a-copy\n",
      "  df[\"description\"][i] = description\n"
     ]
    },
    {
     "name": "stdout",
     "output_type": "stream",
     "text": [
      "description : After the No. 1 Ladies' Detective Agency is firmly established, founder Precious Ramotswe faces new challenges at home and at work, from problems with her adopted son to an assistant who dreams of opening a typing school for men.\n",
      "Counter = 208\n"
     ]
    },
    {
     "name": "stderr",
     "output_type": "stream",
     "text": [
      "<ipython-input-91-28d9966ce939>:20: SettingWithCopyWarning: \n",
      "A value is trying to be set on a copy of a slice from a DataFrame\n",
      "\n",
      "See the caveats in the documentation: https://pandas.pydata.org/pandas-docs/stable/user_guide/indexing.html#returning-a-view-versus-a-copy\n",
      "  df[\"description\"][i] = description\n"
     ]
    },
    {
     "name": "stdout",
     "output_type": "stream",
     "text": [
      "description : Features inspirational stories offering words of wisdom, hope, and empowerment\n",
      "Counter = 209\n"
     ]
    },
    {
     "name": "stderr",
     "output_type": "stream",
     "text": [
      "<ipython-input-91-28d9966ce939>:20: SettingWithCopyWarning: \n",
      "A value is trying to be set on a copy of a slice from a DataFrame\n",
      "\n",
      "See the caveats in the documentation: https://pandas.pydata.org/pandas-docs/stable/user_guide/indexing.html#returning-a-view-versus-a-copy\n",
      "  df[\"description\"][i] = description\n"
     ]
    },
    {
     "name": "stdout",
     "output_type": "stream",
     "text": [
      "description : When Dorothy triumphed over the Wicked Witch of the West in L. Frank Baum's classic tale, we heard only her side of the story. But what about her arch-nemesis, the mysterious witch? Where did she come from? How did she become so wicked? And what is the true nature of evil? Gregory Maguire creates a fantasy world so rich and vivid that we will never look at Oz the same way again. Wicked is about a land where animals talk and strive to be treated like first-class citizens, Munchkinlanders seek the comfort of middle-class stability and the Tin Man becomes a victim of domestic violence. And then there is the little green-skinned girl named Elphaba, who will grow up to be the infamous Wicked Witch of the West, a smart, prickly and misunderstood creature who challenges all our preconceived notions about the nature of good and evil.\n",
      "Counter = 210\n"
     ]
    },
    {
     "name": "stderr",
     "output_type": "stream",
     "text": [
      "<ipython-input-91-28d9966ce939>:20: SettingWithCopyWarning: \n",
      "A value is trying to be set on a copy of a slice from a DataFrame\n",
      "\n",
      "See the caveats in the documentation: https://pandas.pydata.org/pandas-docs/stable/user_guide/indexing.html#returning-a-view-versus-a-copy\n",
      "  df[\"description\"][i] = description\n"
     ]
    },
    {
     "name": "stdout",
     "output_type": "stream",
     "text": [
      "description : After the sinking of a cargo ship, a solitary lifeboat remains bobbing on the wild blue Pacific. The only survivors from the wreck are a sixteen-year-old boy named Pi, a hyena, a wounded zebra, an orangutan, and a 450-pound Royal Bengal tiger.\n",
      "Counter = 211\n"
     ]
    },
    {
     "name": "stderr",
     "output_type": "stream",
     "text": [
      "<ipython-input-91-28d9966ce939>:20: SettingWithCopyWarning: \n",
      "A value is trying to be set on a copy of a slice from a DataFrame\n",
      "\n",
      "See the caveats in the documentation: https://pandas.pydata.org/pandas-docs/stable/user_guide/indexing.html#returning-a-view-versus-a-copy\n",
      "  df[\"description\"][i] = description\n"
     ]
    },
    {
     "name": "stdout",
     "output_type": "stream",
     "text": [
      "description : When a housekeeper carries out a modern \"Valentine's Day Massacre\" on the family that employs her, Detective Chief Superintendent William Vetch investigates to uncover evidence of a personal tragedy that precipitated the crime. Reprint.\n",
      "Counter = 212\n"
     ]
    },
    {
     "name": "stderr",
     "output_type": "stream",
     "text": [
      "<ipython-input-91-28d9966ce939>:20: SettingWithCopyWarning: \n",
      "A value is trying to be set on a copy of a slice from a DataFrame\n",
      "\n",
      "See the caveats in the documentation: https://pandas.pydata.org/pandas-docs/stable/user_guide/indexing.html#returning-a-view-versus-a-copy\n",
      "  df[\"description\"][i] = description\n"
     ]
    },
    {
     "name": "stdout",
     "output_type": "stream",
     "text": [
      "description : Offers a whimsical critique of the Right, exposing their deceptive practices, challenging conceptions about the media's liberal bias, and identifying inconsistencies in the Bush administration.\n",
      "Counter = 213\n"
     ]
    },
    {
     "name": "stderr",
     "output_type": "stream",
     "text": [
      "<ipython-input-91-28d9966ce939>:20: SettingWithCopyWarning: \n",
      "A value is trying to be set on a copy of a slice from a DataFrame\n",
      "\n",
      "See the caveats in the documentation: https://pandas.pydata.org/pandas-docs/stable/user_guide/indexing.html#returning-a-view-versus-a-copy\n",
      "  df[\"description\"][i] = description\n"
     ]
    },
    {
     "name": "stdout",
     "output_type": "stream",
     "text": [
      "description : Richard Papen, a relatively impoverished student at a New England college, falls in with an exclusive clique of rich, worldly Greek scholars and soon learns the dreadful secret that keeps them together. Reissue.\n",
      "Counter = 214\n"
     ]
    },
    {
     "name": "stderr",
     "output_type": "stream",
     "text": [
      "<ipython-input-91-28d9966ce939>:20: SettingWithCopyWarning: \n",
      "A value is trying to be set on a copy of a slice from a DataFrame\n",
      "\n",
      "See the caveats in the documentation: https://pandas.pydata.org/pandas-docs/stable/user_guide/indexing.html#returning-a-view-versus-a-copy\n",
      "  df[\"description\"][i] = description\n"
     ]
    },
    {
     "name": "stdout",
     "output_type": "stream",
     "text": [
      "description : Contributions by such authors as Robert Fulghum, Kathy Lee Gifford, and Ann Landers, offers women inspiration on such subjects as love, motherhood, and aging\n",
      "Counter = 215\n"
     ]
    },
    {
     "name": "stderr",
     "output_type": "stream",
     "text": [
      "<ipython-input-91-28d9966ce939>:20: SettingWithCopyWarning: \n",
      "A value is trying to be set on a copy of a slice from a DataFrame\n",
      "\n",
      "See the caveats in the documentation: https://pandas.pydata.org/pandas-docs/stable/user_guide/indexing.html#returning-a-view-versus-a-copy\n",
      "  df[\"description\"][i] = description\n"
     ]
    },
    {
     "name": "stdout",
     "output_type": "stream",
     "text": [
      "description : This is an Upper Level story in a series of ELT readers comprising a wide range of titles - some original and some simplified - from modern and classic novels, and designed to appeal to all age-groups, tastes and cultures. The books are divided into five levels: Starter Level, with about 300 basic words; Beginner Level (600 basic words); Elementary Level (1100); Intermediate Level (1600); and Upper Level (2200). Some of the titles are also available on cassette.\n",
      "Counter = 216\n"
     ]
    },
    {
     "name": "stderr",
     "output_type": "stream",
     "text": [
      "<ipython-input-91-28d9966ce939>:20: SettingWithCopyWarning: \n",
      "A value is trying to be set on a copy of a slice from a DataFrame\n",
      "\n",
      "See the caveats in the documentation: https://pandas.pydata.org/pandas-docs/stable/user_guide/indexing.html#returning-a-view-versus-a-copy\n",
      "  df[\"description\"][i] = description\n"
     ]
    },
    {
     "name": "stdout",
     "output_type": "stream",
     "text": [
      "description : While investigating a century-old crime of passion on an island off New Hampshire, Jean becomes fixated on the case and begins to project this knowledge on her own marriage, believing that her husband is unfaithful, causing unrealized and dangerous emotions to surface. Reprint.\n",
      "Counter = 217\n"
     ]
    },
    {
     "name": "stderr",
     "output_type": "stream",
     "text": [
      "<ipython-input-91-28d9966ce939>:20: SettingWithCopyWarning: \n",
      "A value is trying to be set on a copy of a slice from a DataFrame\n",
      "\n",
      "See the caveats in the documentation: https://pandas.pydata.org/pandas-docs/stable/user_guide/indexing.html#returning-a-view-versus-a-copy\n",
      "  df[\"description\"][i] = description\n"
     ]
    },
    {
     "name": "stdout",
     "output_type": "stream",
     "text": [
      "description : Discworld's pesky alchemists are up to their old tricks again. This time, they've discovered how to get gold from silver -- the silver screen that is. Hearing the siren call of Holy Wood is one Victor Tugelbend, a would-be wizard turned extra. He can't sing, he can't dance, but he can handle a sword (sort of), and now he wants to be a star. So does Theda Withel, an ambitious ingénue from a little town (where else?) you've probably never heard of. But the click click of moving pictures isn't just stirring up dreams inside Discworld. Holy Wood's magic is drifting out into the boundaries of the universes, where raw realities, the could-have-beens, the might-bes, the never-weres, the wild ideas are beginning to ferment into a really stinky brew. It's up to Victor and Gaspode the Wonder Dog (a star if ever one was born!) to rein in the chaos and bring order back to a starstruck Discworld. And they're definitely not ready for their close-up!\n",
      "Counter = 218\n"
     ]
    },
    {
     "name": "stderr",
     "output_type": "stream",
     "text": [
      "<ipython-input-91-28d9966ce939>:20: SettingWithCopyWarning: \n",
      "A value is trying to be set on a copy of a slice from a DataFrame\n",
      "\n",
      "See the caveats in the documentation: https://pandas.pydata.org/pandas-docs/stable/user_guide/indexing.html#returning-a-view-versus-a-copy\n",
      "  df[\"description\"][i] = description\n"
     ]
    },
    {
     "name": "stdout",
     "output_type": "stream",
     "text": [
      "description : This morning, Commander Vimes of the City Watch had it all. He was a Duke. He was rich. He was respected. He had a silver cigar case. He was about to become a father. This morning he thought longingly about the good old days. Tonight, he's in them. Flung back in time by a mysterious accident, Sam Vimes has to start all over again. He must get a new name and a job, and there's only one job he's good at: cop in the Watch. He must track down a brutal murderer. He must find his younger self and teach him everything he knows. He must whip the cowardly, despised Night Watch into a crack fighting force -- fast. Because Sam Vimes knows what's going to happen. He remembers it. He was there. It's part of history. And you can't change history . . . But Sam is going to. He has no choice. Otherwise, a bloody revolution will start, and good men will die. Sam saw their names on old headstones just this morning -- but tonight they're young men who think they have a future. And rather than let them die, Sam will do anything -- turn traitor, burn buildings, take over a revolt, anything -- to snatch them from the jaws of history. He will do it even if victory will mean giving up the only future he knows. For if he succeeds, he's got no wife, no child, no riches, no fame -- all that will simply vanish. But if he doesn't try, he wouldn't be Sam Vimes. And so the battle is on. He knows how it's going to end; after all, he was there. His name is on one of those headstones. But that's just a minor detail . . .\n",
      "Counter = 219\n"
     ]
    },
    {
     "name": "stderr",
     "output_type": "stream",
     "text": [
      "<ipython-input-91-28d9966ce939>:20: SettingWithCopyWarning: \n",
      "A value is trying to be set on a copy of a slice from a DataFrame\n",
      "\n",
      "See the caveats in the documentation: https://pandas.pydata.org/pandas-docs/stable/user_guide/indexing.html#returning-a-view-versus-a-copy\n",
      "  df[\"description\"][i] = description\n"
     ]
    },
    {
     "name": "stdout",
     "output_type": "stream",
     "text": [
      "description : It was only a matter of time before Terry Pratchett would win the minds and hearts of America. Already a worldwide sensation and Great Britain's indisputable number one author, this intellectually audacious and effortlessly hilarious writer sold more hardcover books in the United Kingdom during the previous decade than any other living novelist. His novels have reigned supreme on English bestseller lists since before the Iron Lady left Downing Street, and though some things have changed since then, Pratchett, thankfully, continues to pen insightfully irreverent tales set in a world a lot like our own -- only different. Celebrated as one of the keenest practitioners of satire and parody at work today -- alongside Kurt Vonnegut, Douglas Adams, and Carl Hiaasen -- Terry Pratchett commands a loyal and ever-increasing number of readers and appreciative critics from coast to coast in our own country. As he skewers all aspects of modern life -- and especially our sacred cows -- Pratchett makes us laugh and challenges us to think. And he's at his sharpest, most uproarious best in Thief of Time. Everybody wants more time, which is why on Discworld its management is entrusted to the experts: the venerable Monks of History, who store it and pump it from where it's wasted, like underwater (after all, how much time does a codfish really need?) to places like cities, where harried citizens are forever lamenting, \"Oh where does the time go?\" And while everyone always talks about slowing down, one clever soul is about to stop. Stop time, that is. For good. Going against everything known (and the nine tenths of everything that remains unknown), a young horologist has been commissioned to build the world's first truly accurate clock. It falls to History Monk Lu-Tze and his apprentice Lobsang Ludd to find the timepiece and stop it before it starts. For if the Perfect Clock starts ticking, Time -- as we know it -- will stop. And then the trouble will really begin. A superb send-up of science and philosophy, religion and death (after all, isn't that where time stops, for most of us, anyway?), and a host of other timely topics, Thief of Time provides the perfect opportunity to kick back and unwind. So don't put off till tomorrow what you could do today. Read Thief of Time. Right this minute. Because tomorrow may not come. (You'll have to read the book to find out why. This is a Terry Pratchett novel, after all.) Tick ...\n",
      "Counter = 220\n"
     ]
    },
    {
     "name": "stderr",
     "output_type": "stream",
     "text": [
      "<ipython-input-91-28d9966ce939>:20: SettingWithCopyWarning: \n",
      "A value is trying to be set on a copy of a slice from a DataFrame\n",
      "\n",
      "See the caveats in the documentation: https://pandas.pydata.org/pandas-docs/stable/user_guide/indexing.html#returning-a-view-versus-a-copy\n",
      "  df[\"description\"][i] = description\n"
     ]
    },
    {
     "name": "stdout",
     "output_type": "stream",
     "text": [
      "description : Some Pig These are the words in Charlotte's web, high in the barn. Her spiderweb tells of her feelings for a little pig named Wilbur, as well as the feelings of a little girl named Fern ... who loves Wilbur, too. Their love has been shared by millions of readers.\n",
      "Counter = 221\n"
     ]
    },
    {
     "name": "stderr",
     "output_type": "stream",
     "text": [
      "<ipython-input-91-28d9966ce939>:20: SettingWithCopyWarning: \n",
      "A value is trying to be set on a copy of a slice from a DataFrame\n",
      "\n",
      "See the caveats in the documentation: https://pandas.pydata.org/pandas-docs/stable/user_guide/indexing.html#returning-a-view-versus-a-copy\n",
      "  df[\"description\"][i] = description\n"
     ]
    },
    {
     "name": "stdout",
     "output_type": "stream",
     "text": [
      "description : The adventures of the three Darling children in Never-Never Land with Peter Pan, the boy who would not grow up.\n",
      "Counter = 222\n"
     ]
    },
    {
     "name": "stderr",
     "output_type": "stream",
     "text": [
      "<ipython-input-91-28d9966ce939>:20: SettingWithCopyWarning: \n",
      "A value is trying to be set on a copy of a slice from a DataFrame\n",
      "\n",
      "See the caveats in the documentation: https://pandas.pydata.org/pandas-docs/stable/user_guide/indexing.html#returning-a-view-versus-a-copy\n",
      "  df[\"description\"][i] = description\n"
     ]
    },
    {
     "name": "stdout",
     "output_type": "stream",
     "text": [
      "description : Cohen the Barbarian. He's been a legend in his own lifetime. He can remember the good old days of high adventure, when being a Hero meant one didn't have to worry about aching backs and lawyers and civilization. But these days, he can't always remember just where he put his teeth... So now, with his ancient (yet still trusty) sword and new walking stick in hand, Cohen gathers a group of his old -- very old -- friends to embark on one final quest. He's going to climb the highest mountain of Discworld and meet the gods. It's time the Last Hero in the world returns what the first hero stole. Trouble is, that'll mean the end of the world, if no one stops him in time.\n",
      "Counter = 223\n"
     ]
    },
    {
     "name": "stderr",
     "output_type": "stream",
     "text": [
      "<ipython-input-91-28d9966ce939>:20: SettingWithCopyWarning: \n",
      "A value is trying to be set on a copy of a slice from a DataFrame\n",
      "\n",
      "See the caveats in the documentation: https://pandas.pydata.org/pandas-docs/stable/user_guide/indexing.html#returning-a-view-versus-a-copy\n",
      "  df[\"description\"][i] = description\n"
     ]
    },
    {
     "name": "stdout",
     "output_type": "stream",
     "text": [
      "description : Something new has come up between the Discworld's ancient rival cites of Ankh-Morpork and Al-Khali. Literally It's up island, rising out of Discworld's sea, uninhabited and claimed by both cities. Under International Law this situation clearly falls under the ancient doctrine of Acquiris Quodcumque Rapis (\"You Get What You Grab\"). And everyone wants to grab. Besides, the Al-Khalians may have invented algebra, astronomy and alcohol, but hey don't have a word for lawyer, and how can you talk to people like that? Since there's no basis for negotiation, it's down to the long-suffering Commander Vimes of the City Watch to deal with a crime as awful that there's no law against it. It's called war. Ankh-Morpork has been at peace for a century, and so has Al-Khali. But now there are people on both sides who think it's time to give was a chance, and will happily help it on its way with a few murders... Modern war needs modern weapons. Unfortunately, Ankh-Morpork got rich making and selling them to Al-Khali. But it's just possible that salvation lies in the hands of the great inventive genius Leonard of Quirm, whose sketchbooks are filled with devices for killing people, flying through the air, and weighing cheese. Maybe it's in his boat tat travels under water--Leonard calls it a \"Going Under-The-Water-Safely Device\", or \"metal sinking fish thing\" for short. (Just because he's an inventor doesn't mean he's good at naming stuff.) But this is carrying something else--a device that so powerful that it can finish any war. But don't be alarmed. It's fantasy. It all happens on Discworld, where greed and ignorance influence human behavior, politicians pursue was for selfish ends, and perfectly ordinary people occasionally act like raving idiots. A world, in short, totally unlike our own.\n",
      "Counter = 224\n"
     ]
    },
    {
     "name": "stderr",
     "output_type": "stream",
     "text": [
      "<ipython-input-91-28d9966ce939>:20: SettingWithCopyWarning: \n",
      "A value is trying to be set on a copy of a slice from a DataFrame\n",
      "\n",
      "See the caveats in the documentation: https://pandas.pydata.org/pandas-docs/stable/user_guide/indexing.html#returning-a-view-versus-a-copy\n",
      "  df[\"description\"][i] = description\n"
     ]
    },
    {
     "name": "stdout",
     "output_type": "stream",
     "text": [
      "description : It's true, there's a ghost in the Opera House of Ankh Morpork. Sardonic, flamboyant and, well, ghostly, it wears a bone-white Mask and terrorizes the entire company, including the immortal Enrico Basilica, who eats continuously even when he's singing. Mostly spaghetti with tomato sauce. What better way to flush out a ghost than with a witch? Or even two! And Granny Weatherwax and Nanny Ogg happen to be in Discworld's capital city trying to recruit a third (since three witches make a coven, and two make only an argument). Enter the Opera's newest diva, the alarmingly fetching Perdita X. Nitt, who has such an astonishing range that she can sing harmony with herself, and is so agreeably large that she hangs out with the elephants in the cellar. They say that inside every fat women there's a thin woman struggling to get out (or at least dying for chocolate). In Perdita's case, the thin woman is more ambitious, since she would also dearly love to be a witch. Beginning to get the picture? One would hope so. For this isn't cheese. It's opera, which runs on a Catastrophe Curve. And to further complicate matters, there is a backstage cat named Greebo who occasionally becomes a person just because it's so easy. Not to mention Granny Weatherwax's old friend, Death, whose scythe arm is sore from so much use. And who has been known to don a Mask...\n",
      "Counter = 225\n"
     ]
    },
    {
     "name": "stderr",
     "output_type": "stream",
     "text": [
      "<ipython-input-91-28d9966ce939>:20: SettingWithCopyWarning: \n",
      "A value is trying to be set on a copy of a slice from a DataFrame\n",
      "\n",
      "See the caveats in the documentation: https://pandas.pydata.org/pandas-docs/stable/user_guide/indexing.html#returning-a-view-versus-a-copy\n",
      "  df[\"description\"][i] = description\n"
     ]
    },
    {
     "name": "stdout",
     "output_type": "stream",
     "text": [
      "description : Murder and mayhem in Discworld! The funniest writer in fantasy strikes again with a witty and rollicking tale of golems, invisible killers and hapless security officers.\n",
      "Counter = 226\n"
     ]
    },
    {
     "name": "stderr",
     "output_type": "stream",
     "text": [
      "<ipython-input-91-28d9966ce939>:20: SettingWithCopyWarning: \n",
      "A value is trying to be set on a copy of a slice from a DataFrame\n",
      "\n",
      "See the caveats in the documentation: https://pandas.pydata.org/pandas-docs/stable/user_guide/indexing.html#returning-a-view-versus-a-copy\n",
      "  df[\"description\"][i] = description\n"
     ]
    },
    {
     "name": "stdout",
     "output_type": "stream",
     "text": [
      "description : Georgia Nicolson has started dating the Sex God (aka Robbie). So life should be perfect . . . except in Georgia's life, nothing is ever perfect. Her cat, Angus (the size of a small Labrador), is terrorizing the neighborhood. Her sister, Libby (who is slightly mad), hides her pooey knickers at the bottom of Georgia's bed. Then the Sex God breaks it off because she's too young. It's time for a plan. It's time for a Red Herring. It's time for Georgia to become a \"heartless boy magnet!\"\n",
      "Counter = 227\n"
     ]
    },
    {
     "name": "stderr",
     "output_type": "stream",
     "text": [
      "<ipython-input-91-28d9966ce939>:20: SettingWithCopyWarning: \n",
      "A value is trying to be set on a copy of a slice from a DataFrame\n",
      "\n",
      "See the caveats in the documentation: https://pandas.pydata.org/pandas-docs/stable/user_guide/indexing.html#returning-a-view-versus-a-copy\n",
      "  df[\"description\"][i] = description\n"
     ]
    },
    {
     "name": "stdout",
     "output_type": "stream",
     "text": [
      "description : Begun in 1811 at the height of Jane Austen's writing powers and published in 1814, Mansfield Park marks a conscious break from the tone of her first three novels, Northanger Abbey, Sense and Sensibility, and Pride and Prejudice, the last of which Austen came to see as \"rather too light.\" Fanny Price is unlike any of Austen's previous heroines, a girl from a poor family brought up in a splendid country house and possessed of a vast reserve of moral fortitude and imperturbability. She is very different from Elizabeth Bennet, but is the product of the same inspired imagination.\n",
      "Counter = 228\n"
     ]
    },
    {
     "name": "stderr",
     "output_type": "stream",
     "text": [
      "<ipython-input-91-28d9966ce939>:20: SettingWithCopyWarning: \n",
      "A value is trying to be set on a copy of a slice from a DataFrame\n",
      "\n",
      "See the caveats in the documentation: https://pandas.pydata.org/pandas-docs/stable/user_guide/indexing.html#returning-a-view-versus-a-copy\n",
      "  df[\"description\"][i] = description\n"
     ]
    },
    {
     "name": "stdout",
     "output_type": "stream",
     "text": [
      "description : The escapades of four animal friends who live along a river in the English countryside--Toad, Mole, Rat, and Badger.\n",
      "Counter = 229\n"
     ]
    },
    {
     "name": "stderr",
     "output_type": "stream",
     "text": [
      "<ipython-input-91-28d9966ce939>:20: SettingWithCopyWarning: \n",
      "A value is trying to be set on a copy of a slice from a DataFrame\n",
      "\n",
      "See the caveats in the documentation: https://pandas.pydata.org/pandas-docs/stable/user_guide/indexing.html#returning-a-view-versus-a-copy\n",
      "  df[\"description\"][i] = description\n"
     ]
    },
    {
     "name": "stdout",
     "output_type": "stream",
     "text": [
      "description : It takes a remarkable writer to make an old story as fresh and compelling as the first time we heard it. With The Winter King, the first volume of his magnificent Warlord Chronicles, Bernard Cornwell finally turns to the story he was born to write: the mythic saga of King Arthur. The tale begins in Dark Age Britain, a land where Arthur has been banished and Merlin has disappeared, where a child-king sits unprotected on the throne, where religion vies with magic for the souls of the people. It is to this desperate land that Arthur returns, a man at once utterly human and truly heroic: a man of honor, loyalty, and amazing valor; a man who loves Guinevere more passionately than he should; a man whose life is at once tragic and triumphant. As Arthur fights to keep a flicker of civilization alive in a barbaric world, Bernard Cornwell makes a familiar tale into a legend all over again.\n",
      "Counter = 230\n"
     ]
    },
    {
     "name": "stderr",
     "output_type": "stream",
     "text": [
      "<ipython-input-91-28d9966ce939>:20: SettingWithCopyWarning: \n",
      "A value is trying to be set on a copy of a slice from a DataFrame\n",
      "\n",
      "See the caveats in the documentation: https://pandas.pydata.org/pandas-docs/stable/user_guide/indexing.html#returning-a-view-versus-a-copy\n",
      "  df[\"description\"][i] = description\n"
     ]
    },
    {
     "name": "stdout",
     "output_type": "stream",
     "text": [
      "description : Sara Kendall and Kieran Foy become trapped in the midst of the eternal battle between good and evil, in a tale of magic and romance that moves from ancient Wales to modern Canada\n",
      "Counter = 231\n"
     ]
    },
    {
     "name": "stderr",
     "output_type": "stream",
     "text": [
      "<ipython-input-91-28d9966ce939>:20: SettingWithCopyWarning: \n",
      "A value is trying to be set on a copy of a slice from a DataFrame\n",
      "\n",
      "See the caveats in the documentation: https://pandas.pydata.org/pandas-docs/stable/user_guide/indexing.html#returning-a-view-versus-a-copy\n",
      "  df[\"description\"][i] = description\n"
     ]
    },
    {
     "name": "stdout",
     "output_type": "stream",
     "text": [
      "description : A young prince ventures into a mysterious forest in search of the land of Faerie and of a princess bride, in one of the landmarks of modern fantasy fiction\n",
      "Counter = 232\n"
     ]
    },
    {
     "name": "stderr",
     "output_type": "stream",
     "text": [
      "<ipython-input-91-28d9966ce939>:20: SettingWithCopyWarning: \n",
      "A value is trying to be set on a copy of a slice from a DataFrame\n",
      "\n",
      "See the caveats in the documentation: https://pandas.pydata.org/pandas-docs/stable/user_guide/indexing.html#returning-a-view-versus-a-copy\n",
      "  df[\"description\"][i] = description\n"
     ]
    },
    {
     "name": "stdout",
     "output_type": "stream",
     "text": [
      "description : When Cleone Charteris returns from finishing school, she is determined to find a sophisticated, aristocratic husband, but her childhood friend, Philip Jettan, has other plans for the lovely lady as he launches an amorous campaign to win her hand in marriage. Reprint.\n",
      "Counter = 233\n"
     ]
    },
    {
     "name": "stderr",
     "output_type": "stream",
     "text": [
      "<ipython-input-91-28d9966ce939>:20: SettingWithCopyWarning: \n",
      "A value is trying to be set on a copy of a slice from a DataFrame\n",
      "\n",
      "See the caveats in the documentation: https://pandas.pydata.org/pandas-docs/stable/user_guide/indexing.html#returning-a-view-versus-a-copy\n",
      "  df[\"description\"][i] = description\n"
     ]
    },
    {
     "name": "stdout",
     "output_type": "stream",
     "text": [
      "description : The handsome appearance of dissolute young Dorian Gray remains unchanged while the features in his portrait become distorted as his degeneration progresses\n",
      "Counter = 234\n"
     ]
    },
    {
     "name": "stderr",
     "output_type": "stream",
     "text": [
      "<ipython-input-91-28d9966ce939>:20: SettingWithCopyWarning: \n",
      "A value is trying to be set on a copy of a slice from a DataFrame\n",
      "\n",
      "See the caveats in the documentation: https://pandas.pydata.org/pandas-docs/stable/user_guide/indexing.html#returning-a-view-versus-a-copy\n",
      "  df[\"description\"][i] = description\n"
     ]
    },
    {
     "name": "stdout",
     "output_type": "stream",
     "text": [
      "description : The fearsome iron giant becomes a hero when he challenges a huge space monster.\n",
      "Counter = 235\n"
     ]
    },
    {
     "name": "stderr",
     "output_type": "stream",
     "text": [
      "<ipython-input-91-28d9966ce939>:20: SettingWithCopyWarning: \n",
      "A value is trying to be set on a copy of a slice from a DataFrame\n",
      "\n",
      "See the caveats in the documentation: https://pandas.pydata.org/pandas-docs/stable/user_guide/indexing.html#returning-a-view-versus-a-copy\n",
      "  df[\"description\"][i] = description\n"
     ]
    },
    {
     "name": "stdout",
     "output_type": "stream",
     "text": [
      "description : A young boy escapes from two wicked aunts and embarks on a series of adventures with six giant insects he meets inside a giant peach.\n",
      "Counter = 236\n"
     ]
    },
    {
     "name": "stderr",
     "output_type": "stream",
     "text": [
      "<ipython-input-91-28d9966ce939>:20: SettingWithCopyWarning: \n",
      "A value is trying to be set on a copy of a slice from a DataFrame\n",
      "\n",
      "See the caveats in the documentation: https://pandas.pydata.org/pandas-docs/stable/user_guide/indexing.html#returning-a-view-versus-a-copy\n",
      "  df[\"description\"][i] = description\n"
     ]
    },
    {
     "name": "stdout",
     "output_type": "stream",
     "text": [
      "description : Living among scholars in the hallowed halls of Jordan College, Lyra hears rumors of a magical dust that supposedly possesses powers that can unite whole universes, and begins a difficult and dangerous journey to find it. Reissue. Teacher's Guide available.\n",
      "Counter = 237\n"
     ]
    },
    {
     "name": "stderr",
     "output_type": "stream",
     "text": [
      "<ipython-input-91-28d9966ce939>:20: SettingWithCopyWarning: \n",
      "A value is trying to be set on a copy of a slice from a DataFrame\n",
      "\n",
      "See the caveats in the documentation: https://pandas.pydata.org/pandas-docs/stable/user_guide/indexing.html#returning-a-view-versus-a-copy\n",
      "  df[\"description\"][i] = description\n"
     ]
    },
    {
     "name": "stdout",
     "output_type": "stream",
     "text": [
      "description : “The trouble with trying to read passages from the Adrian Mole Diaries aloud is that you find yourself laughing so hard you can’t go on. It’s that kind of book.” —Kansas City Star “As sad and devastating as it is laugh-out-loud funny. A delight!” —New York Times The agonizingly funny, captivatingly poignant journals of England’s bespotted everyboy are now available again. An international phenomenon and perennial favorite since their initial publication made a splash in Thatcher’s Britain more than twenty years ago, The Secret Diary of Adrian Mole, Age 13 ¾ is now side-by-side with its hilarious sequel The Growing Pains of Adrian Mole in this collected single volume.\n",
      "Counter = 238\n"
     ]
    },
    {
     "name": "stderr",
     "output_type": "stream",
     "text": [
      "<ipython-input-91-28d9966ce939>:20: SettingWithCopyWarning: \n",
      "A value is trying to be set on a copy of a slice from a DataFrame\n",
      "\n",
      "See the caveats in the documentation: https://pandas.pydata.org/pandas-docs/stable/user_guide/indexing.html#returning-a-view-versus-a-copy\n",
      "  df[\"description\"][i] = description\n"
     ]
    },
    {
     "name": "stdout",
     "output_type": "stream",
     "text": [
      "description : Man, was a a distant shore, and the men spread upon it in wave... Each wave different, and each wave stronger. The Martian Chronicles Ray Bradbury is a storyteller without peer, a poet of the possible, and, indisputably, one of America's most beloved authors. In a much celebrated literary career that has spanned six decades, he has produced an astonishing body of work: unforgettable novels, including Fahrenheit 451 and Something Wicked This Way Comes; essays, theatrical works, screenplays and teleplays; The Illustrated Mein, Dandelion Wine, The October Country, and numerous other superb short story collections. But of all the dazzling stars in the vast Bradbury universe, none shines more luminous than these masterful chronicles of Earth's settlement of the fourth world from the sun. Bradbury's Mars is a place of hope, dreams and metaphor-of crystal pillars and fossil seas-where a fine dust settles on the great, empty cities of a silently destroyed civilization. It is here the invaders have come to despoil and commercialize, to grow and to learn -first a trickle, then a torrent, rushing from a world with no future toward a promise of tomorrow. The Earthman conquers Mars ... and then is conquered by it, lulled by dangerous lies of comfort and familiarity, and enchanted by the lingering glamour of an ancient, mysterious native race. Ray Bradbury's The Martian Chronicles is a classic work of twentieth-century literature whose extraordinary power and imagination remain undimmed by time's passage. In connected, chronological stories, a true grandmaster once again enthralls, delights and challenges us with his vision and his heart-starkly and stunningly exposing in brilliant spacelight our strength, our weakness, our folly, and our poignant humanity on a strange and breathtaking world where humanity does not belong.\n",
      "Counter = 239\n"
     ]
    },
    {
     "name": "stderr",
     "output_type": "stream",
     "text": [
      "<ipython-input-91-28d9966ce939>:20: SettingWithCopyWarning: \n",
      "A value is trying to be set on a copy of a slice from a DataFrame\n",
      "\n",
      "See the caveats in the documentation: https://pandas.pydata.org/pandas-docs/stable/user_guide/indexing.html#returning-a-view-versus-a-copy\n",
      "  df[\"description\"][i] = description\n"
     ]
    },
    {
     "name": "stdout",
     "output_type": "stream",
     "text": [
      "description : The author of The Magic Circle offers a romantic and mythological tale about the good-spirited goat and god Pan and his intense love for a human, Princess Iphigenia.\n",
      "Counter = 240\n"
     ]
    },
    {
     "name": "stderr",
     "output_type": "stream",
     "text": [
      "<ipython-input-91-28d9966ce939>:20: SettingWithCopyWarning: \n",
      "A value is trying to be set on a copy of a slice from a DataFrame\n",
      "\n",
      "See the caveats in the documentation: https://pandas.pydata.org/pandas-docs/stable/user_guide/indexing.html#returning-a-view-versus-a-copy\n",
      "  df[\"description\"][i] = description\n"
     ]
    },
    {
     "name": "stdout",
     "output_type": "stream",
     "text": [
      "description : In 1986 two young English scholars stumble upon a remarkable discovery: a hitherto unsuspected relationship between the Browningesque 19th century poet Randolph Henry Ash, and his contemporary Christabel LaMotte. Their research reveals uncanny parallels with their own lives and culminates in the exhumation of a poet's corpse.\n",
      "Counter = 241\n"
     ]
    },
    {
     "name": "stderr",
     "output_type": "stream",
     "text": [
      "<ipython-input-91-28d9966ce939>:20: SettingWithCopyWarning: \n",
      "A value is trying to be set on a copy of a slice from a DataFrame\n",
      "\n",
      "See the caveats in the documentation: https://pandas.pydata.org/pandas-docs/stable/user_guide/indexing.html#returning-a-view-versus-a-copy\n",
      "  df[\"description\"][i] = description\n"
     ]
    },
    {
     "name": "stdout",
     "output_type": "stream",
     "text": [
      "description : Seventeen-year-old Dimple, whose family is from India, discovers that she is not Indian enough for the Indians and not American enough for the Americans, as she sees her hypnotically beautiful, manipulative best friend taking possession of both her heritage and the boy she likes. Reprint.\n",
      "Counter = 242\n"
     ]
    },
    {
     "name": "stderr",
     "output_type": "stream",
     "text": [
      "<ipython-input-91-28d9966ce939>:20: SettingWithCopyWarning: \n",
      "A value is trying to be set on a copy of a slice from a DataFrame\n",
      "\n",
      "See the caveats in the documentation: https://pandas.pydata.org/pandas-docs/stable/user_guide/indexing.html#returning-a-view-versus-a-copy\n",
      "  df[\"description\"][i] = description\n"
     ]
    },
    {
     "name": "stdout",
     "output_type": "stream",
     "text": [
      "description : Financial journalist Rebecca Bloomwood seeks solace from the boredom and pressures in life with her shopping, a solution that brings her close to financial disaster, until she encounters a story that will change her life.\n",
      "Counter = 243\n"
     ]
    },
    {
     "name": "stderr",
     "output_type": "stream",
     "text": [
      "<ipython-input-91-28d9966ce939>:20: SettingWithCopyWarning: \n",
      "A value is trying to be set on a copy of a slice from a DataFrame\n",
      "\n",
      "See the caveats in the documentation: https://pandas.pydata.org/pandas-docs/stable/user_guide/indexing.html#returning-a-view-versus-a-copy\n",
      "  df[\"description\"][i] = description\n"
     ]
    },
    {
     "name": "stdout",
     "output_type": "stream",
     "text": [
      "description : After her fiance leaves her at the altar, radio reporter Minty Malone cuts loose and begins a life-changing adventure instead.\n",
      "Counter = 244\n"
     ]
    },
    {
     "name": "stderr",
     "output_type": "stream",
     "text": [
      "<ipython-input-91-28d9966ce939>:20: SettingWithCopyWarning: \n",
      "A value is trying to be set on a copy of a slice from a DataFrame\n",
      "\n",
      "See the caveats in the documentation: https://pandas.pydata.org/pandas-docs/stable/user_guide/indexing.html#returning-a-view-versus-a-copy\n",
      "  df[\"description\"][i] = description\n"
     ]
    },
    {
     "name": "stdout",
     "output_type": "stream",
     "text": [
      "description : Jo, Beth, Meg, Amy and their mother endure the hardships of poverty while the girls' father is away fighting in the Civil War\n",
      "Counter = 245\n"
     ]
    },
    {
     "name": "stderr",
     "output_type": "stream",
     "text": [
      "<ipython-input-91-28d9966ce939>:20: SettingWithCopyWarning: \n",
      "A value is trying to be set on a copy of a slice from a DataFrame\n",
      "\n",
      "See the caveats in the documentation: https://pandas.pydata.org/pandas-docs/stable/user_guide/indexing.html#returning-a-view-versus-a-copy\n",
      "  df[\"description\"][i] = description\n"
     ]
    },
    {
     "name": "stdout",
     "output_type": "stream",
     "text": [
      "description : Dickens' account of the rises and relapses of an orphan whose expectations and ambitions are greatly shaped and transformed by a mysterious benefactor.\n",
      "Counter = 246\n"
     ]
    },
    {
     "name": "stderr",
     "output_type": "stream",
     "text": [
      "<ipython-input-91-28d9966ce939>:20: SettingWithCopyWarning: \n",
      "A value is trying to be set on a copy of a slice from a DataFrame\n",
      "\n",
      "See the caveats in the documentation: https://pandas.pydata.org/pandas-docs/stable/user_guide/indexing.html#returning-a-view-versus-a-copy\n",
      "  df[\"description\"][i] = description\n"
     ]
    },
    {
     "name": "stdout",
     "output_type": "stream",
     "text": [
      "description : A servant woman relates the tale of her life and of the landowners, emigres, urchins, guerrilla leaders, entertainers, eccentrics, and refugees who instruct and transform her\n",
      "Counter = 247\n"
     ]
    },
    {
     "name": "stderr",
     "output_type": "stream",
     "text": [
      "<ipython-input-91-28d9966ce939>:20: SettingWithCopyWarning: \n",
      "A value is trying to be set on a copy of a slice from a DataFrame\n",
      "\n",
      "See the caveats in the documentation: https://pandas.pydata.org/pandas-docs/stable/user_guide/indexing.html#returning-a-view-versus-a-copy\n",
      "  df[\"description\"][i] = description\n"
     ]
    },
    {
     "name": "stdout",
     "output_type": "stream",
     "text": [
      "description : Congo, Democratic Republic - history 1960.\n",
      "Counter = 248\n"
     ]
    },
    {
     "name": "stderr",
     "output_type": "stream",
     "text": [
      "<ipython-input-91-28d9966ce939>:20: SettingWithCopyWarning: \n",
      "A value is trying to be set on a copy of a slice from a DataFrame\n",
      "\n",
      "See the caveats in the documentation: https://pandas.pydata.org/pandas-docs/stable/user_guide/indexing.html#returning-a-view-versus-a-copy\n",
      "  df[\"description\"][i] = description\n"
     ]
    },
    {
     "name": "stdout",
     "output_type": "stream",
     "text": [
      "description : A collection of stories and poems by a variety of authors relating to the Green Man and other myths of the forest.\n",
      "Counter = 249\n"
     ]
    },
    {
     "name": "stderr",
     "output_type": "stream",
     "text": [
      "<ipython-input-91-28d9966ce939>:20: SettingWithCopyWarning: \n",
      "A value is trying to be set on a copy of a slice from a DataFrame\n",
      "\n",
      "See the caveats in the documentation: https://pandas.pydata.org/pandas-docs/stable/user_guide/indexing.html#returning-a-view-versus-a-copy\n",
      "  df[\"description\"][i] = description\n"
     ]
    },
    {
     "name": "stdout",
     "output_type": "stream",
     "text": [
      "description : When his father suddenly dies, Nicholas Nickleby is sent by his uncle to Dotheboys Hall to work as a teacher, but when Nicholas discovers that the headmaster, Wackford Squeers, maliciously bullies the students, he must decide whether to stay, or leave and allow his uncle to cut off support for his family.\n",
      "Counter = 250\n"
     ]
    },
    {
     "name": "stderr",
     "output_type": "stream",
     "text": [
      "<ipython-input-91-28d9966ce939>:20: SettingWithCopyWarning: \n",
      "A value is trying to be set on a copy of a slice from a DataFrame\n",
      "\n",
      "See the caveats in the documentation: https://pandas.pydata.org/pandas-docs/stable/user_guide/indexing.html#returning-a-view-versus-a-copy\n",
      "  df[\"description\"][i] = description\n"
     ]
    },
    {
     "name": "stdout",
     "output_type": "stream",
     "text": [
      "description : Presents two novellas--\"The Conjugal Angel,\" which reveals human preoccupation with God and life after death, and \"Morpho Eugenia,\" a gothic fable about Victorian obsessions with Darwinism and sexuality\n",
      "Counter = 251\n"
     ]
    },
    {
     "name": "stderr",
     "output_type": "stream",
     "text": [
      "<ipython-input-91-28d9966ce939>:20: SettingWithCopyWarning: \n",
      "A value is trying to be set on a copy of a slice from a DataFrame\n",
      "\n",
      "See the caveats in the documentation: https://pandas.pydata.org/pandas-docs/stable/user_guide/indexing.html#returning-a-view-versus-a-copy\n",
      "  df[\"description\"][i] = description\n"
     ]
    },
    {
     "name": "stdout",
     "output_type": "stream",
     "text": [
      "description : Catch-22 is like no other novel. It is one of the funniest books ever written, a keystone work in American literature, and even added a new term to the dictionary. At the heart of Catch-22 resides the incomparable, malingering bombardier, Yossarian, a hero endlessly inventive in his schemes to save his skin from the horrible chances of war. His efforts are perfectly understandable because as he furiously scrambles, thousands of people he hasn't even met are trying to kill him. His problem is Colonel Cathcart, who keeps raising the number of missions the men must fly to complete their service. Yet if Yossarian makes any attempts to excuse himself from the perilous missions that he is committed to flying, he is trapped by the Great Loyalty Oath Crusade, the hilariously sinister bureaucratic rule from which the book takes its title: a man is considered insane if he willingly continues to fly dangerous combat missions, but if he makes the necessary formal request to be relieved of such missions, the very act of making the request proves that he is sane and therefore ineligible to be relieved. Catch-22 is a microcosm of the twentieth-century world as it might look to some one dangerously sane -- a masterpiece of our time.\n",
      "Counter = 252\n"
     ]
    },
    {
     "name": "stderr",
     "output_type": "stream",
     "text": [
      "<ipython-input-91-28d9966ce939>:20: SettingWithCopyWarning: \n",
      "A value is trying to be set on a copy of a slice from a DataFrame\n",
      "\n",
      "See the caveats in the documentation: https://pandas.pydata.org/pandas-docs/stable/user_guide/indexing.html#returning-a-view-versus-a-copy\n",
      "  df[\"description\"][i] = description\n"
     ]
    },
    {
     "name": "stdout",
     "output_type": "stream",
     "text": [
      "description : A complete, one-volume edition of the classic portrait of upper-middle-class life in Victorian England contains three novels--\"The Man of Property,\" \"In Chancery,\" and \"To Let\"--and their interconnecting interludes.\n",
      "Counter = 253\n"
     ]
    },
    {
     "name": "stderr",
     "output_type": "stream",
     "text": [
      "<ipython-input-91-28d9966ce939>:20: SettingWithCopyWarning: \n",
      "A value is trying to be set on a copy of a slice from a DataFrame\n",
      "\n",
      "See the caveats in the documentation: https://pandas.pydata.org/pandas-docs/stable/user_guide/indexing.html#returning-a-view-versus-a-copy\n",
      "  df[\"description\"][i] = description\n"
     ]
    },
    {
     "name": "stdout",
     "output_type": "stream",
     "text": [
      "description : Jo, Bessie and Fanny move to the country and find an Enchanted Wood right on their doorstep And in the wood stands the magic Faraway Tree, and in that tree live the magical characters that soon become their new friends - Moon-Face, Silky the fairy, and Saucepan Man. Together they visit the strange lands (the Roundabout Land, the Land of Ice and Snow, Toyland and the Land of Take What You Want ) which lie at the top of the tree and have the most exciting adventures - and narrow escapes\n",
      "Counter = 254\n"
     ]
    },
    {
     "name": "stderr",
     "output_type": "stream",
     "text": [
      "<ipython-input-91-28d9966ce939>:20: SettingWithCopyWarning: \n",
      "A value is trying to be set on a copy of a slice from a DataFrame\n",
      "\n",
      "See the caveats in the documentation: https://pandas.pydata.org/pandas-docs/stable/user_guide/indexing.html#returning-a-view-versus-a-copy\n",
      "  df[\"description\"][i] = description\n"
     ]
    },
    {
     "name": "stdout",
     "output_type": "stream",
     "text": [
      "description : Jo, Bessie and Fanny have a visit from snooty friend Connie. Connie won't believe in the Faraway Tree and the magical people who live there - Moon-face, Silky the fairy and Saucepan Man. There's only one way to prove her wrong - together the children climb the tree, and visit some of the lands at the top of it, like the Land of Secrets and the Land of Treats. And after a few adventures, Connie learns to be a nicer person altogether\n",
      "Counter = 255\n"
     ]
    },
    {
     "name": "stderr",
     "output_type": "stream",
     "text": [
      "<ipython-input-91-28d9966ce939>:20: SettingWithCopyWarning: \n",
      "A value is trying to be set on a copy of a slice from a DataFrame\n",
      "\n",
      "See the caveats in the documentation: https://pandas.pydata.org/pandas-docs/stable/user_guide/indexing.html#returning-a-view-versus-a-copy\n",
      "  df[\"description\"][i] = description\n"
     ]
    },
    {
     "name": "stdout",
     "output_type": "stream",
     "text": [
      "description : A miscellany of fiction, humour, non-fiction, poetry, and artwork, Angels & visitations journeys from science fiction and fantasy shorts to detective stories and meticulously-researched literary works.\n",
      "Counter = 256\n"
     ]
    },
    {
     "name": "stderr",
     "output_type": "stream",
     "text": [
      "<ipython-input-91-28d9966ce939>:20: SettingWithCopyWarning: \n",
      "A value is trying to be set on a copy of a slice from a DataFrame\n",
      "\n",
      "See the caveats in the documentation: https://pandas.pydata.org/pandas-docs/stable/user_guide/indexing.html#returning-a-view-versus-a-copy\n",
      "  df[\"description\"][i] = description\n"
     ]
    },
    {
     "name": "stdout",
     "output_type": "stream",
     "text": [
      "description : The inspiration behind the blockbuster movie of the same name, this book uses classic characters from familiar literature to tell a tale of epic proportions in Victorian England. Suggested for mature readers.\n",
      "Counter = 257\n"
     ]
    },
    {
     "name": "stderr",
     "output_type": "stream",
     "text": [
      "<ipython-input-91-28d9966ce939>:20: SettingWithCopyWarning: \n",
      "A value is trying to be set on a copy of a slice from a DataFrame\n",
      "\n",
      "See the caveats in the documentation: https://pandas.pydata.org/pandas-docs/stable/user_guide/indexing.html#returning-a-view-versus-a-copy\n",
      "  df[\"description\"][i] = description\n"
     ]
    },
    {
     "name": "stdout",
     "output_type": "stream",
     "text": [
      "description : A collection of eight comics that introduce the series' lead character, the Sandman, Lord of Dreams.\n",
      "Counter = 258\n"
     ]
    },
    {
     "name": "stderr",
     "output_type": "stream",
     "text": [
      "<ipython-input-91-28d9966ce939>:20: SettingWithCopyWarning: \n",
      "A value is trying to be set on a copy of a slice from a DataFrame\n",
      "\n",
      "See the caveats in the documentation: https://pandas.pydata.org/pandas-docs/stable/user_guide/indexing.html#returning-a-view-versus-a-copy\n",
      "  df[\"description\"][i] = description\n"
     ]
    },
    {
     "name": "stdout",
     "output_type": "stream",
     "text": [
      "description : Dark Horse Manga and Harlequin Books are delighted to present a shining new line of books that marry two of the most successful phenomenon to hit bookstores - bestselling Harlequin romance fiction and female-friendly Japanese manga!\n",
      "Counter = 259\n"
     ]
    },
    {
     "name": "stderr",
     "output_type": "stream",
     "text": [
      "<ipython-input-91-28d9966ce939>:20: SettingWithCopyWarning: \n",
      "A value is trying to be set on a copy of a slice from a DataFrame\n",
      "\n",
      "See the caveats in the documentation: https://pandas.pydata.org/pandas-docs/stable/user_guide/indexing.html#returning-a-view-versus-a-copy\n",
      "  df[\"description\"][i] = description\n"
     ]
    },
    {
     "name": "stdout",
     "output_type": "stream",
     "text": [
      "description : Written by a native signer, this book teaches the basics of American Sign Language through photographs, grouping signs by subjects, and includes nonmanual signals, a history of the language, and an introduction to deaf culture.\n",
      "Counter = 260\n"
     ]
    },
    {
     "name": "stderr",
     "output_type": "stream",
     "text": [
      "<ipython-input-91-28d9966ce939>:20: SettingWithCopyWarning: \n",
      "A value is trying to be set on a copy of a slice from a DataFrame\n",
      "\n",
      "See the caveats in the documentation: https://pandas.pydata.org/pandas-docs/stable/user_guide/indexing.html#returning-a-view-versus-a-copy\n",
      "  df[\"description\"][i] = description\n"
     ]
    },
    {
     "name": "stdout",
     "output_type": "stream",
     "text": [
      "description : Big men. Big money. Big games. Big libidos. Big trouble. A decade ago, The Bonfire of the Vanities defined an era--and established Tom Wolfe as our prime fictional chronicler of America at its most outrageous and alive. This time the setting is Atlanta, Georgia--a racially mixed late-century boomtown full of fresh wealth, avid speculators, and worldly-wise politicians. The protagonist is Charles Croker, once a college football star, now a late-middle-aged Atlanta real-estate entrepreneur turned conglomerate king, whose expansionist ambitions and outsize ego have at last hit up against reality. Charlie has a 28,000-acre quail-shooting plantation, a young and demanding second wife--and a half-empty office tower with a staggering load of debt. When star running back Fareek Fanon--the pride of one of Atlanta's grimmest slums--is accused of raping an Atlanta blueblood's daughter, the city's delicate racial balance is shattered overnight. Networks of illegal Asian immigrants crisscrossing the continent, daily life behind bars, shady real-estate syndicates, cast-off first wives of the corporate elite, the racially charged politics of college sports--Wolfe shows us the disparate worlds of contemporary America with all the verve, wit, and insight that have made him our most phenomenal, most admired contemporary novelist. A Man in Full is a 1998 National Book Award Finalist for Fiction.\n",
      "Counter = 261\n"
     ]
    },
    {
     "name": "stderr",
     "output_type": "stream",
     "text": [
      "<ipython-input-91-28d9966ce939>:20: SettingWithCopyWarning: \n",
      "A value is trying to be set on a copy of a slice from a DataFrame\n",
      "\n",
      "See the caveats in the documentation: https://pandas.pydata.org/pandas-docs/stable/user_guide/indexing.html#returning-a-view-versus-a-copy\n",
      "  df[\"description\"][i] = description\n"
     ]
    },
    {
     "name": "stdout",
     "output_type": "stream",
     "text": [
      "description : Half Apache and orphaned, Edgar's trials begin on an Arizona reservation at the age of seven when he is run over by the mailman's jeep, after which he is taken from the hospital to a school for delinquents to a Mormon foster family, and eventually to an unexpected home on a quest for the mailman. Reader's Guide available. Reprint. 75,000 first printing.\n",
      "Counter = 262\n"
     ]
    },
    {
     "name": "stderr",
     "output_type": "stream",
     "text": [
      "<ipython-input-91-28d9966ce939>:20: SettingWithCopyWarning: \n",
      "A value is trying to be set on a copy of a slice from a DataFrame\n",
      "\n",
      "See the caveats in the documentation: https://pandas.pydata.org/pandas-docs/stable/user_guide/indexing.html#returning-a-view-versus-a-copy\n",
      "  df[\"description\"][i] = description\n"
     ]
    },
    {
     "name": "stdout",
     "output_type": "stream",
     "text": [
      "description : The author traces the boyhood enthusiasm for rockets that eventually led to a career at NASA, describing how he built model rockets in the family garage in West Virginia, inspired by the launch of the Soviet satellite Sputnik. Originally published as Rocket Boys. Reissue.\n",
      "Counter = 263\n"
     ]
    },
    {
     "name": "stderr",
     "output_type": "stream",
     "text": [
      "<ipython-input-91-28d9966ce939>:20: SettingWithCopyWarning: \n",
      "A value is trying to be set on a copy of a slice from a DataFrame\n",
      "\n",
      "See the caveats in the documentation: https://pandas.pydata.org/pandas-docs/stable/user_guide/indexing.html#returning-a-view-versus-a-copy\n",
      "  df[\"description\"][i] = description\n"
     ]
    },
    {
     "name": "stdout",
     "output_type": "stream",
     "text": [
      "description : Racial tension, a forbidden love affair, and murder are seen through the eyes of a seven-year-old boy in a 1950s Southern cotton-farming community.\n",
      "Counter = 264\n"
     ]
    },
    {
     "name": "stderr",
     "output_type": "stream",
     "text": [
      "<ipython-input-91-28d9966ce939>:20: SettingWithCopyWarning: \n",
      "A value is trying to be set on a copy of a slice from a DataFrame\n",
      "\n",
      "See the caveats in the documentation: https://pandas.pydata.org/pandas-docs/stable/user_guide/indexing.html#returning-a-view-versus-a-copy\n",
      "  df[\"description\"][i] = description\n"
     ]
    },
    {
     "name": "stdout",
     "output_type": "stream",
     "text": [
      "description : Wishing she could enjoy the freedoms and pleasures so casually enjoyed by ordinary women, orthodox rabbi's daughter Rachel anticipates her arranged marriage and imagines what her life will be like. Reprint.\n",
      "Counter = 265\n"
     ]
    },
    {
     "name": "stderr",
     "output_type": "stream",
     "text": [
      "<ipython-input-91-28d9966ce939>:20: SettingWithCopyWarning: \n",
      "A value is trying to be set on a copy of a slice from a DataFrame\n",
      "\n",
      "See the caveats in the documentation: https://pandas.pydata.org/pandas-docs/stable/user_guide/indexing.html#returning-a-view-versus-a-copy\n",
      "  df[\"description\"][i] = description\n"
     ]
    },
    {
     "name": "stdout",
     "output_type": "stream",
     "text": [
      "description : Tells the story of Bathsheba Everdene, who must choose among three suitors in Wessex in the 1840s.\n",
      "Counter = 266\n"
     ]
    },
    {
     "name": "stderr",
     "output_type": "stream",
     "text": [
      "<ipython-input-91-28d9966ce939>:20: SettingWithCopyWarning: \n",
      "A value is trying to be set on a copy of a slice from a DataFrame\n",
      "\n",
      "See the caveats in the documentation: https://pandas.pydata.org/pandas-docs/stable/user_guide/indexing.html#returning-a-view-versus-a-copy\n",
      "  df[\"description\"][i] = description\n"
     ]
    },
    {
     "name": "stdout",
     "output_type": "stream",
     "text": [
      "description : The number-one New York Times best-seller recounts the dramatic story of the fishing boat, Andrea Gail, which was lost in the North Atlantic during an extraordinarily violent storm. Reprint. National ad/promo. Tour. NYT.\n",
      "Counter = 267\n"
     ]
    },
    {
     "name": "stderr",
     "output_type": "stream",
     "text": [
      "<ipython-input-91-28d9966ce939>:20: SettingWithCopyWarning: \n",
      "A value is trying to be set on a copy of a slice from a DataFrame\n",
      "\n",
      "See the caveats in the documentation: https://pandas.pydata.org/pandas-docs/stable/user_guide/indexing.html#returning-a-view-versus-a-copy\n",
      "  df[\"description\"][i] = description\n"
     ]
    },
    {
     "name": "stdout",
     "output_type": "stream",
     "text": [
      "description : Reveals how the fundamentalist movements in Christianity, Judaism, and Islam were born out of a dread of modernity.\n",
      "Counter = 268\n"
     ]
    },
    {
     "name": "stderr",
     "output_type": "stream",
     "text": [
      "<ipython-input-91-28d9966ce939>:20: SettingWithCopyWarning: \n",
      "A value is trying to be set on a copy of a slice from a DataFrame\n",
      "\n",
      "See the caveats in the documentation: https://pandas.pydata.org/pandas-docs/stable/user_guide/indexing.html#returning-a-view-versus-a-copy\n",
      "  df[\"description\"][i] = description\n"
     ]
    },
    {
     "name": "stdout",
     "output_type": "stream",
     "text": [
      "description : These hundred poems and fragments constitute virtually all of Sappho that survives and effectively bring to life the woman whom the Greeks consider to be their greatest lyric poet. Mary Barnard's translations are lean, incisive, direct--the best ever published. She has rendered the beloved poet's verses, long the bane of translators, more authentically than anyone else in English.\n",
      "Counter = 269\n"
     ]
    },
    {
     "name": "stderr",
     "output_type": "stream",
     "text": [
      "<ipython-input-91-28d9966ce939>:20: SettingWithCopyWarning: \n",
      "A value is trying to be set on a copy of a slice from a DataFrame\n",
      "\n",
      "See the caveats in the documentation: https://pandas.pydata.org/pandas-docs/stable/user_guide/indexing.html#returning-a-view-versus-a-copy\n",
      "  df[\"description\"][i] = description\n"
     ]
    },
    {
     "name": "stdout",
     "output_type": "stream",
     "text": [
      "description : In the aftermath of a war that has devastated the nation, a traveling storyteller borrows the jacket of a long-dead postal worker and is transformed unwittingly into a symbol of hope for America's future.\n",
      "Counter = 270\n"
     ]
    },
    {
     "name": "stderr",
     "output_type": "stream",
     "text": [
      "<ipython-input-91-28d9966ce939>:20: SettingWithCopyWarning: \n",
      "A value is trying to be set on a copy of a slice from a DataFrame\n",
      "\n",
      "See the caveats in the documentation: https://pandas.pydata.org/pandas-docs/stable/user_guide/indexing.html#returning-a-view-versus-a-copy\n",
      "  df[\"description\"][i] = description\n"
     ]
    },
    {
     "name": "stdout",
     "output_type": "stream",
     "text": [
      "description : The lives of two very different couples--wealthy Los Angeles liberals Delaney and Kyra Mossbacher, and Candido and America Rincon, a pair of Mexican illegals--suddenly collide, in a story that unfolds from the shifting viewpoints of the various characters. 100,000 first printing. $100,000 ad/promo. Tour.\n",
      "Counter = 271\n"
     ]
    },
    {
     "name": "stderr",
     "output_type": "stream",
     "text": [
      "<ipython-input-91-28d9966ce939>:20: SettingWithCopyWarning: \n",
      "A value is trying to be set on a copy of a slice from a DataFrame\n",
      "\n",
      "See the caveats in the documentation: https://pandas.pydata.org/pandas-docs/stable/user_guide/indexing.html#returning-a-view-versus-a-copy\n",
      "  df[\"description\"][i] = description\n"
     ]
    },
    {
     "name": "stdout",
     "output_type": "stream",
     "text": [
      "description : A translation that offers an introduction presenting both basic information and a sense of scholarly opinion.\n",
      "Counter = 272\n"
     ]
    },
    {
     "name": "stderr",
     "output_type": "stream",
     "text": [
      "<ipython-input-91-28d9966ce939>:20: SettingWithCopyWarning: \n",
      "A value is trying to be set on a copy of a slice from a DataFrame\n",
      "\n",
      "See the caveats in the documentation: https://pandas.pydata.org/pandas-docs/stable/user_guide/indexing.html#returning-a-view-versus-a-copy\n",
      "  df[\"description\"][i] = description\n"
     ]
    },
    {
     "name": "stdout",
     "output_type": "stream",
     "text": [
      "description : Discusses the changes that take place in a boy's body during puberty, including information on the body's changing size and shape, the growth spurt, reproductive organs, pubic hair, beards, pimples, voice changes, wet dreams, and puberty in girls.\n",
      "Counter = 273\n"
     ]
    },
    {
     "name": "stderr",
     "output_type": "stream",
     "text": [
      "<ipython-input-91-28d9966ce939>:20: SettingWithCopyWarning: \n",
      "A value is trying to be set on a copy of a slice from a DataFrame\n",
      "\n",
      "See the caveats in the documentation: https://pandas.pydata.org/pandas-docs/stable/user_guide/indexing.html#returning-a-view-versus-a-copy\n",
      "  df[\"description\"][i] = description\n"
     ]
    },
    {
     "name": "stdout",
     "output_type": "stream",
     "text": [
      "description : This is the gently comic story of two insecure young people who share a Brooklyn apartment: a gay man and a pregnant woman who are both on the brink of financial and emotional disaster.\n",
      "Counter = 274\n"
     ]
    },
    {
     "name": "stderr",
     "output_type": "stream",
     "text": [
      "<ipython-input-91-28d9966ce939>:20: SettingWithCopyWarning: \n",
      "A value is trying to be set on a copy of a slice from a DataFrame\n",
      "\n",
      "See the caveats in the documentation: https://pandas.pydata.org/pandas-docs/stable/user_guide/indexing.html#returning-a-view-versus-a-copy\n",
      "  df[\"description\"][i] = description\n"
     ]
    },
    {
     "name": "stdout",
     "output_type": "stream",
     "text": [
      "description : Two orphan sisters in the late 1800s leave New York on the orphan train to seek a new home in the West.\n",
      "Counter = 275\n"
     ]
    },
    {
     "name": "stderr",
     "output_type": "stream",
     "text": [
      "<ipython-input-91-28d9966ce939>:20: SettingWithCopyWarning: \n",
      "A value is trying to be set on a copy of a slice from a DataFrame\n",
      "\n",
      "See the caveats in the documentation: https://pandas.pydata.org/pandas-docs/stable/user_guide/indexing.html#returning-a-view-versus-a-copy\n",
      "  df[\"description\"][i] = description\n"
     ]
    },
    {
     "name": "stdout",
     "output_type": "stream",
     "text": [
      "description : Two sixteen-year-old girls from different social classes spend the summer together on a resort island and experience a test of their friendship when family loyalties, romance, and drug dependence interfere.\n",
      "Counter = 276\n"
     ]
    },
    {
     "name": "stderr",
     "output_type": "stream",
     "text": [
      "<ipython-input-91-28d9966ce939>:20: SettingWithCopyWarning: \n",
      "A value is trying to be set on a copy of a slice from a DataFrame\n",
      "\n",
      "See the caveats in the documentation: https://pandas.pydata.org/pandas-docs/stable/user_guide/indexing.html#returning-a-view-versus-a-copy\n",
      "  df[\"description\"][i] = description\n"
     ]
    },
    {
     "name": "stdout",
     "output_type": "stream",
     "text": [
      "description : Heather returns from her missionary trip to Africa, dissapointed to find her selfish family unchanged, and a second trip back, with the whole family this time, might be just what everyone needs. Original.\n",
      "Counter = 277\n"
     ]
    },
    {
     "name": "stderr",
     "output_type": "stream",
     "text": [
      "<ipython-input-91-28d9966ce939>:20: SettingWithCopyWarning: \n",
      "A value is trying to be set on a copy of a slice from a DataFrame\n",
      "\n",
      "See the caveats in the documentation: https://pandas.pydata.org/pandas-docs/stable/user_guide/indexing.html#returning-a-view-versus-a-copy\n",
      "  df[\"description\"][i] = description\n"
     ]
    },
    {
     "name": "stdout",
     "output_type": "stream",
     "text": [
      "description : This a fictional account of General Castrillon, aid de camp to Santa Anna as the Mexican Army over takes the Alamo. Written in a personal journal form, this book is unique in that it tells the story entirely from the Mexican point of view.\n",
      "Counter = 278\n"
     ]
    },
    {
     "name": "stderr",
     "output_type": "stream",
     "text": [
      "<ipython-input-91-28d9966ce939>:20: SettingWithCopyWarning: \n",
      "A value is trying to be set on a copy of a slice from a DataFrame\n",
      "\n",
      "See the caveats in the documentation: https://pandas.pydata.org/pandas-docs/stable/user_guide/indexing.html#returning-a-view-versus-a-copy\n",
      "  df[\"description\"][i] = description\n"
     ]
    },
    {
     "name": "stdout",
     "output_type": "stream",
     "text": [
      "description : Not since Jurassic Park has a novel so enthralled readers everywhere. Now, enter the world of Neanderthal... The expedition of the century...uncovers the find of the millennium...Neanderthal. In the remote mountains of central Asia, an eminent Harvard archeologist discovers something extraordinary. He sends a cryptic message to two colleagues. But then, he disappears. Matt Mattison and Susan Arnot-- once lovers, now academic rivals-- are going where few humans have ever walked, looking for a relic band of creatures that have existed for over 40,000 years, that possess powers man can only imagine, and that are about to change the face of civilization forever.\n",
      "Counter = 279\n"
     ]
    },
    {
     "name": "stderr",
     "output_type": "stream",
     "text": [
      "<ipython-input-91-28d9966ce939>:20: SettingWithCopyWarning: \n",
      "A value is trying to be set on a copy of a slice from a DataFrame\n",
      "\n",
      "See the caveats in the documentation: https://pandas.pydata.org/pandas-docs/stable/user_guide/indexing.html#returning-a-view-versus-a-copy\n",
      "  df[\"description\"][i] = description\n"
     ]
    },
    {
     "name": "stdout",
     "output_type": "stream",
     "text": [
      "description : In a desperate bid for some quick cash, a married couple stages the fall of their daughter down a well, with terrifying consequences that begin when their grown-up daughter returns years later from a small, dark place. Reprint.\n",
      "Counter = 280\n"
     ]
    },
    {
     "name": "stderr",
     "output_type": "stream",
     "text": [
      "<ipython-input-91-28d9966ce939>:20: SettingWithCopyWarning: \n",
      "A value is trying to be set on a copy of a slice from a DataFrame\n",
      "\n",
      "See the caveats in the documentation: https://pandas.pydata.org/pandas-docs/stable/user_guide/indexing.html#returning-a-view-versus-a-copy\n",
      "  df[\"description\"][i] = description\n"
     ]
    },
    {
     "name": "stdout",
     "output_type": "stream",
     "text": [
      "description : The authors take readers on a behind-the-scenes tour of their Belgariad and Malloreon saga and its companion stories, presenting the extensive background materials compiled in preparation for the epic adventure\n",
      "Counter = 281\n"
     ]
    },
    {
     "name": "stderr",
     "output_type": "stream",
     "text": [
      "<ipython-input-91-28d9966ce939>:20: SettingWithCopyWarning: \n",
      "A value is trying to be set on a copy of a slice from a DataFrame\n",
      "\n",
      "See the caveats in the documentation: https://pandas.pydata.org/pandas-docs/stable/user_guide/indexing.html#returning-a-view-versus-a-copy\n",
      "  df[\"description\"][i] = description\n"
     ]
    },
    {
     "name": "stdout",
     "output_type": "stream",
     "text": [
      "description : The author, a new father, discusses the intricacies of welcoming a new member of the family, from the nerve-racking drive to the delivery room to the art of hypnotizing your newborn to sleep\n",
      "Counter = 282\n"
     ]
    },
    {
     "name": "stderr",
     "output_type": "stream",
     "text": [
      "<ipython-input-91-28d9966ce939>:20: SettingWithCopyWarning: \n",
      "A value is trying to be set on a copy of a slice from a DataFrame\n",
      "\n",
      "See the caveats in the documentation: https://pandas.pydata.org/pandas-docs/stable/user_guide/indexing.html#returning-a-view-versus-a-copy\n",
      "  df[\"description\"][i] = description\n"
     ]
    },
    {
     "name": "stdout",
     "output_type": "stream",
     "text": [
      "description : Contains tales of enchantment, wonder, and horror by authors including Ursula K. LeGuin, Charles de Lint, Tanith Lee, Gene Wolfe, Ted Chiang, Kate Riedel, Terry Goodkind, and Nicola Griffith.\n",
      "Counter = 283\n"
     ]
    },
    {
     "name": "stderr",
     "output_type": "stream",
     "text": [
      "<ipython-input-91-28d9966ce939>:20: SettingWithCopyWarning: \n",
      "A value is trying to be set on a copy of a slice from a DataFrame\n",
      "\n",
      "See the caveats in the documentation: https://pandas.pydata.org/pandas-docs/stable/user_guide/indexing.html#returning-a-view-versus-a-copy\n",
      "  df[\"description\"][i] = description\n"
     ]
    },
    {
     "name": "stdout",
     "output_type": "stream",
     "text": [
      "description : Provides a humorous look inside the world of modern computer technology and the Internet, from the perspective of a passionate computer geek with a penchant for the latest in computer gizmos and gadgets\n",
      "Counter = 284\n"
     ]
    },
    {
     "name": "stderr",
     "output_type": "stream",
     "text": [
      "<ipython-input-91-28d9966ce939>:20: SettingWithCopyWarning: \n",
      "A value is trying to be set on a copy of a slice from a DataFrame\n",
      "\n",
      "See the caveats in the documentation: https://pandas.pydata.org/pandas-docs/stable/user_guide/indexing.html#returning-a-view-versus-a-copy\n",
      "  df[\"description\"][i] = description\n"
     ]
    },
    {
     "name": "stdout",
     "output_type": "stream",
     "text": [
      "description : The last surviving member of a powerful but cursed family, Nicole St. Claire returns from her exile in New York City to protect her old love, Duffy Johnson, but the town's most powerful man is luring them into an unholy trap, and Nicole's terrifying weakness may be their only salvation. Original.\n",
      "Counter = 285\n"
     ]
    },
    {
     "name": "stderr",
     "output_type": "stream",
     "text": [
      "<ipython-input-91-28d9966ce939>:20: SettingWithCopyWarning: \n",
      "A value is trying to be set on a copy of a slice from a DataFrame\n",
      "\n",
      "See the caveats in the documentation: https://pandas.pydata.org/pandas-docs/stable/user_guide/indexing.html#returning-a-view-versus-a-copy\n",
      "  df[\"description\"][i] = description\n"
     ]
    },
    {
     "name": "stdout",
     "output_type": "stream",
     "text": [
      "description : Three teenage siblings find themselves embroiled in spiritual warfare when one of them, Christopher, is kidnapped by a rebel Prince and forced to join Lucifer's ancient revolt against the King of Heaven. Original.\n",
      "Counter = 286\n"
     ]
    },
    {
     "name": "stderr",
     "output_type": "stream",
     "text": [
      "<ipython-input-91-28d9966ce939>:20: SettingWithCopyWarning: \n",
      "A value is trying to be set on a copy of a slice from a DataFrame\n",
      "\n",
      "See the caveats in the documentation: https://pandas.pydata.org/pandas-docs/stable/user_guide/indexing.html#returning-a-view-versus-a-copy\n",
      "  df[\"description\"][i] = description\n"
     ]
    },
    {
     "name": "stdout",
     "output_type": "stream",
     "text": [
      "description : From the author who brought us the distinguished spy thriller Death of a Marionette and The Towering Inferno, one of the most popular films of the '70s, comes Waiting, an intense novel of contemporary menace, in the mode of Robinson's 1950s classic, The Power. There are people living among us, who look just like normal human beings. They've been here for a long time--waiting. But they aren't exactly like us at all. Some of them can read minds, and in subtle ways take over what your are thinking, control you for a while. They can make you love. They can make you die. One ordinary man in San Francisco, Arthur Banks, begins to find them out, and immediately his life and his family are in danger. It's a paranoid's worst nightmare. But that's just where it starts. He may well be fighting for the survival of the entire human race. \"I've always maintained that Frank M. Robinson's The Power was one of the best terror tales ever told. Waiting is even better, rich with character, suspense and constant surprise. This is one of the best chillers of the entire decade. It is guaranteed to give you nightmares. Reading this book was a pure pleasure.\"--Mystery Scene\n",
      "Counter = 287\n"
     ]
    },
    {
     "name": "stderr",
     "output_type": "stream",
     "text": [
      "<ipython-input-91-28d9966ce939>:20: SettingWithCopyWarning: \n",
      "A value is trying to be set on a copy of a slice from a DataFrame\n",
      "\n",
      "See the caveats in the documentation: https://pandas.pydata.org/pandas-docs/stable/user_guide/indexing.html#returning-a-view-versus-a-copy\n",
      "  df[\"description\"][i] = description\n"
     ]
    },
    {
     "name": "stdout",
     "output_type": "stream",
     "text": [
      "description : Annabelle Murphy, a medical producer for a highly rated television news program, finds her station reducing into pandemonium when an employee dies from the latest sensationalized illness, an event with suspicious causes. By the author of Do You Promise Not to Tell? Reprint.\n",
      "Counter = 288\n"
     ]
    },
    {
     "name": "stderr",
     "output_type": "stream",
     "text": [
      "<ipython-input-91-28d9966ce939>:20: SettingWithCopyWarning: \n",
      "A value is trying to be set on a copy of a slice from a DataFrame\n",
      "\n",
      "See the caveats in the documentation: https://pandas.pydata.org/pandas-docs/stable/user_guide/indexing.html#returning-a-view-versus-a-copy\n",
      "  df[\"description\"][i] = description\n"
     ]
    },
    {
     "name": "stdout",
     "output_type": "stream",
     "text": [
      "description : Few creatures of horror have seized readers' imaginations and held them for so long as the anguished monster of Mary Shelley's Frankenstein. The story of Victor Frankenstein's terrible creation and the havoc it caused has enthralled generations of readers and inspired countless writers of horror and suspense. Considering the novel's enduring success, it is remarkable that it began merely as a whim of Lord Byron's. \"We will each write a story,\" Byron announced to his next-door neighbors, Mary Wollstonecraft Godwin and her lover Percy Bysshe Shelley. The friends were summering on the shores of Lake Geneva in Switzerland in 1816, Shelley still unknown as a poet and Byron writing the third canto of Childe Harold. When continued rains kept them confined indoors, all agreed to Byron's proposal. The illustrious poets failed to complete their ghost stories, but Mary Shelley rose supremely to the challenge. With Frankenstein, she succeeded admirably in the task she set for herself: to create a story that, in her own words, \"would speak to the mysterious fears of our nature and awaken thrilling horror — one to make the reader dread to look round, to curdle the blood, and quicken the beatings of the heart.\"\n",
      "Counter = 289\n"
     ]
    },
    {
     "name": "stderr",
     "output_type": "stream",
     "text": [
      "<ipython-input-91-28d9966ce939>:20: SettingWithCopyWarning: \n",
      "A value is trying to be set on a copy of a slice from a DataFrame\n",
      "\n",
      "See the caveats in the documentation: https://pandas.pydata.org/pandas-docs/stable/user_guide/indexing.html#returning-a-view-versus-a-copy\n",
      "  df[\"description\"][i] = description\n"
     ]
    },
    {
     "name": "stdout",
     "output_type": "stream",
     "text": [
      "description : Des de la finestra de casa seva, en Ramon -un jove paraplègic que viu sol- segueix dia a dia la vida dels veïns que viuen al bloc del davant: una estudiant de bon veure, una àvia d'hàbits rutinaris, una parella amb un fill adolescent... El que en Ramon no\n",
      "Counter = 290\n"
     ]
    },
    {
     "name": "stderr",
     "output_type": "stream",
     "text": [
      "<ipython-input-91-28d9966ce939>:20: SettingWithCopyWarning: \n",
      "A value is trying to be set on a copy of a slice from a DataFrame\n",
      "\n",
      "See the caveats in the documentation: https://pandas.pydata.org/pandas-docs/stable/user_guide/indexing.html#returning-a-view-versus-a-copy\n",
      "  df[\"description\"][i] = description\n"
     ]
    },
    {
     "name": "stdout",
     "output_type": "stream",
     "text": [
      "description : Ralph's discovery of the burial site of a creature from another world leads him into a chilling supernatural adventure.\n",
      "Counter = 291\n"
     ]
    },
    {
     "name": "stderr",
     "output_type": "stream",
     "text": [
      "<ipython-input-91-28d9966ce939>:20: SettingWithCopyWarning: \n",
      "A value is trying to be set on a copy of a slice from a DataFrame\n",
      "\n",
      "See the caveats in the documentation: https://pandas.pydata.org/pandas-docs/stable/user_guide/indexing.html#returning-a-view-versus-a-copy\n",
      "  df[\"description\"][i] = description\n"
     ]
    },
    {
     "name": "stdout",
     "output_type": "stream",
     "text": [
      "description : From the author of the best-selling Spenser novels, an epic family saga of fathers, sons, lovers, and heroes spans the twentieth century and portrays two families struggling with a legacy of violence, obsession, and deceit. (General Fiction).\n",
      "Counter = 292\n"
     ]
    },
    {
     "name": "stderr",
     "output_type": "stream",
     "text": [
      "<ipython-input-91-28d9966ce939>:20: SettingWithCopyWarning: \n",
      "A value is trying to be set on a copy of a slice from a DataFrame\n",
      "\n",
      "See the caveats in the documentation: https://pandas.pydata.org/pandas-docs/stable/user_guide/indexing.html#returning-a-view-versus-a-copy\n",
      "  df[\"description\"][i] = description\n"
     ]
    },
    {
     "name": "stdout",
     "output_type": "stream",
     "text": [
      "description : Barbie demonstrates what different occupations involve, from teacher and ballerina, to doctor and business executive.\n",
      "Counter = 293\n"
     ]
    },
    {
     "name": "stderr",
     "output_type": "stream",
     "text": [
      "<ipython-input-91-28d9966ce939>:20: SettingWithCopyWarning: \n",
      "A value is trying to be set on a copy of a slice from a DataFrame\n",
      "\n",
      "See the caveats in the documentation: https://pandas.pydata.org/pandas-docs/stable/user_guide/indexing.html#returning-a-view-versus-a-copy\n",
      "  df[\"description\"][i] = description\n"
     ]
    },
    {
     "name": "stdout",
     "output_type": "stream",
     "text": [
      "description : When a fifth couple falls prey to a serial killer with a penchant for murdering young lovers parked in their cars, Chief Medical Examiner Kay Scarpetta examines the evidence. By the author of Body of Evidence. 150,000 first printing. $150,000 ad/promo.\n",
      "Counter = 294\n"
     ]
    },
    {
     "name": "stderr",
     "output_type": "stream",
     "text": [
      "<ipython-input-91-28d9966ce939>:20: SettingWithCopyWarning: \n",
      "A value is trying to be set on a copy of a slice from a DataFrame\n",
      "\n",
      "See the caveats in the documentation: https://pandas.pydata.org/pandas-docs/stable/user_guide/indexing.html#returning-a-view-versus-a-copy\n",
      "  df[\"description\"][i] = description\n"
     ]
    },
    {
     "name": "stdout",
     "output_type": "stream",
     "text": [
      "description : The authors provide an account of their journey around the world in search of endangered animals, including the kakapo of New Zealand, white rhinos in Zaire, and the Komodo lizard\n",
      "Counter = 295\n"
     ]
    },
    {
     "name": "stderr",
     "output_type": "stream",
     "text": [
      "<ipython-input-91-28d9966ce939>:20: SettingWithCopyWarning: \n",
      "A value is trying to be set on a copy of a slice from a DataFrame\n",
      "\n",
      "See the caveats in the documentation: https://pandas.pydata.org/pandas-docs/stable/user_guide/indexing.html#returning-a-view-versus-a-copy\n",
      "  df[\"description\"][i] = description\n"
     ]
    },
    {
     "name": "stdout",
     "output_type": "stream",
     "text": [
      "description : In a stark, troubling, yet ultimately triumphant celebration of self-determination, award-winning author A. Manette Ansay re-creates a stifling world of guilty and pain, and the tormented souls who inhabit it. It is 1972 when circumstance carries Ellen Grier and her family back to Holly's Field, Wisconsin. Dutifully accompanying her newly unemployed husband, Ellen has brought her two children into the home of her in-laws on Vinegar Hill--a loveless house suffused with the settling dust of bitterness and routine--where calculated cruelty is a way of life preserved and perpetuated in the service of a rigid, exacting and angry God. Behind a facade of false piety, there are sins and secrets in this place that could crush a vibrant young woman's passionate spirit. And here Ellen must find the straight to endure, change, and grow in the all-pervading darkness that threatens to destroy everything she is and everyone she loves.\n",
      "Counter = 296\n"
     ]
    },
    {
     "name": "stderr",
     "output_type": "stream",
     "text": [
      "<ipython-input-91-28d9966ce939>:20: SettingWithCopyWarning: \n",
      "A value is trying to be set on a copy of a slice from a DataFrame\n",
      "\n",
      "See the caveats in the documentation: https://pandas.pydata.org/pandas-docs/stable/user_guide/indexing.html#returning-a-view-versus-a-copy\n",
      "  df[\"description\"][i] = description\n"
     ]
    },
    {
     "name": "stdout",
     "output_type": "stream",
     "text": [
      "description : Visiting a grim Victorian London prison as part of rehabilitative charity work, upper-class suicide survivor Margaret Prior is drawn into the world of enigmatic spiritualist and inmate Selina Dawes and is persuaded to help her escape.\n",
      "Counter = 297\n"
     ]
    },
    {
     "name": "stderr",
     "output_type": "stream",
     "text": [
      "<ipython-input-91-28d9966ce939>:20: SettingWithCopyWarning: \n",
      "A value is trying to be set on a copy of a slice from a DataFrame\n",
      "\n",
      "See the caveats in the documentation: https://pandas.pydata.org/pandas-docs/stable/user_guide/indexing.html#returning-a-view-versus-a-copy\n",
      "  df[\"description\"][i] = description\n"
     ]
    },
    {
     "name": "stdout",
     "output_type": "stream",
     "text": [
      "description : Spanish translation of \"Achterhuis\". The diary of Anne Frank, a Jewish girl who chronicled her day-to-day life as she hid in an attic in Nazi-occupied Holland for two years.\n",
      "Counter = 298\n"
     ]
    },
    {
     "name": "stderr",
     "output_type": "stream",
     "text": [
      "<ipython-input-91-28d9966ce939>:20: SettingWithCopyWarning: \n",
      "A value is trying to be set on a copy of a slice from a DataFrame\n",
      "\n",
      "See the caveats in the documentation: https://pandas.pydata.org/pandas-docs/stable/user_guide/indexing.html#returning-a-view-versus-a-copy\n",
      "  df[\"description\"][i] = description\n"
     ]
    },
    {
     "name": "stdout",
     "output_type": "stream",
     "text": [
      "description : Here, for the first time in one volume, are two of Lopez's masterpieces, \"River Notes and \"Desert Notes. From the thundering power of the river's swift current, to the stillness of clear freshwater pools; to desert springs, birds and wind, and rattlesnakes . . . and the terrible intrusion of man, Lopez allows us to share moments of intense personal experience as man tries to come to terms with the Earth's landscape, and with his own existence.\n",
      "Counter = 299\n"
     ]
    },
    {
     "name": "stderr",
     "output_type": "stream",
     "text": [
      "<ipython-input-91-28d9966ce939>:20: SettingWithCopyWarning: \n",
      "A value is trying to be set on a copy of a slice from a DataFrame\n",
      "\n",
      "See the caveats in the documentation: https://pandas.pydata.org/pandas-docs/stable/user_guide/indexing.html#returning-a-view-versus-a-copy\n",
      "  df[\"description\"][i] = description\n"
     ]
    },
    {
     "name": "stdout",
     "output_type": "stream",
     "text": [
      "description : An investigative journalist provides an exposâe of intrigue, financial misdeeds, and other machinations at the highest level of American politics.\n",
      "Counter = 300\n"
     ]
    },
    {
     "name": "stderr",
     "output_type": "stream",
     "text": [
      "<ipython-input-91-28d9966ce939>:20: SettingWithCopyWarning: \n",
      "A value is trying to be set on a copy of a slice from a DataFrame\n",
      "\n",
      "See the caveats in the documentation: https://pandas.pydata.org/pandas-docs/stable/user_guide/indexing.html#returning-a-view-versus-a-copy\n",
      "  df[\"description\"][i] = description\n"
     ]
    },
    {
     "name": "stdout",
     "output_type": "stream",
     "text": [
      "description : Gripping military thriller about the chase after a top-secret Russian missile submarine. Copyright © Libri GmbH. All rights reserved.\n",
      "Counter = 301\n"
     ]
    },
    {
     "name": "stderr",
     "output_type": "stream",
     "text": [
      "<ipython-input-91-28d9966ce939>:20: SettingWithCopyWarning: \n",
      "A value is trying to be set on a copy of a slice from a DataFrame\n",
      "\n",
      "See the caveats in the documentation: https://pandas.pydata.org/pandas-docs/stable/user_guide/indexing.html#returning-a-view-versus-a-copy\n",
      "  df[\"description\"][i] = description\n"
     ]
    },
    {
     "name": "stdout",
     "output_type": "stream",
     "text": [
      "description : Left with only a music box by which to remember her murdered parents, an orphaned Gabrielle Denning is taken in by Lady Nevon and falls in love with Nevon's nephew, with whom she must solve a mystery or lose her newfound happiness. Original.\n",
      "Counter = 302\n"
     ]
    },
    {
     "name": "stderr",
     "output_type": "stream",
     "text": [
      "<ipython-input-91-28d9966ce939>:20: SettingWithCopyWarning: \n",
      "A value is trying to be set on a copy of a slice from a DataFrame\n",
      "\n",
      "See the caveats in the documentation: https://pandas.pydata.org/pandas-docs/stable/user_guide/indexing.html#returning-a-view-versus-a-copy\n",
      "  df[\"description\"][i] = description\n"
     ]
    },
    {
     "name": "stdout",
     "output_type": "stream",
     "text": [
      "description : Park ranger Anna Pigeon, in New York to visit her desperately ill sister, becomes drawn into an investigation of a series of strange murders in Statue of Liberty Park\n",
      "Counter = 303\n"
     ]
    },
    {
     "name": "stderr",
     "output_type": "stream",
     "text": [
      "<ipython-input-91-28d9966ce939>:20: SettingWithCopyWarning: \n",
      "A value is trying to be set on a copy of a slice from a DataFrame\n",
      "\n",
      "See the caveats in the documentation: https://pandas.pydata.org/pandas-docs/stable/user_guide/indexing.html#returning-a-view-versus-a-copy\n",
      "  df[\"description\"][i] = description\n"
     ]
    },
    {
     "name": "stdout",
     "output_type": "stream",
     "text": [
      "description : Marco Stanley Fogg est a las puertas de la edad adulta cuando los astronautas ponen el pie en la luna. Hijo de padre desconocido, fue educado por el excntrico to Vctor, que tocaba el clarinete en orquestas de mala muerte. En los albores de la era lunar, muerto su to, Marco va cayendo progresivamente en la indigencia, la soledad y una suerte de tranquila locura de matices dostoievskianos, hasta que la bella Kitty Wu lo rescata. Marco empieza entonces a trabajar para un viejo pintor paraltico y escribe su biografa, que ste quiere legar a su hijo, al que no lleg a conocer. Tras un largo periplo que lo lleva hasta el Oeste y bajo el influjo de la omnipresente luna, Marco descubrir los misterios de origen y la identidad de su progenitor.Un magnfico retrato del alma secreta del hombre urbano (El Pas).Una de las novelas ms completas, elegantes, refinadas e inteligentes de los ltimos aos (Sergio Vila-San-Juan, La Vanguardia).Tiene la magia exacta de los mitos que nos valen para vivir... Pertenece al club de las novelas que desearamos no terminar de leer nunca (Justo Navarro).\n",
      "Counter = 304\n"
     ]
    },
    {
     "name": "stderr",
     "output_type": "stream",
     "text": [
      "<ipython-input-91-28d9966ce939>:29: SettingWithCopyWarning: \n",
      "A value is trying to be set on a copy of a slice from a DataFrame\n",
      "\n",
      "See the caveats in the documentation: https://pandas.pydata.org/pandas-docs/stable/user_guide/indexing.html#returning-a-view-versus-a-copy\n",
      "  df[\"description\"][i] = description\n"
     ]
    },
    {
     "name": "stdout",
     "output_type": "stream",
     "text": [
      "NaN\n",
      "......................................................................................................\n",
      "Counter = 305\n"
     ]
    },
    {
     "name": "stderr",
     "output_type": "stream",
     "text": [
      "<ipython-input-91-28d9966ce939>:20: SettingWithCopyWarning: \n",
      "A value is trying to be set on a copy of a slice from a DataFrame\n",
      "\n",
      "See the caveats in the documentation: https://pandas.pydata.org/pandas-docs/stable/user_guide/indexing.html#returning-a-view-versus-a-copy\n",
      "  df[\"description\"][i] = description\n"
     ]
    },
    {
     "name": "stdout",
     "output_type": "stream",
     "text": [
      "description : In the fifth installment of this engaging series, Judge Deborah Knott is filling in for a district court judge in High Point, North Carolina, when she is cleverly framed for murder, and must clear her name while searching for the real killer. Reissue.\n",
      "Counter = 306\n"
     ]
    },
    {
     "name": "stderr",
     "output_type": "stream",
     "text": [
      "<ipython-input-91-28d9966ce939>:20: SettingWithCopyWarning: \n",
      "A value is trying to be set on a copy of a slice from a DataFrame\n",
      "\n",
      "See the caveats in the documentation: https://pandas.pydata.org/pandas-docs/stable/user_guide/indexing.html#returning-a-view-versus-a-copy\n",
      "  df[\"description\"][i] = description\n"
     ]
    },
    {
     "name": "stdout",
     "output_type": "stream",
     "text": [
      "description : A celebration of Peter Gzowski's life and of the enormous role he played in Canadian life. It collects tributes from friends and colleagues, and from grieving strangers who had been touched by him in one of the roles that provide us with the chapters in this book: as a writer in newspapers, magazines, or books; as a radio broadcaster; on camera; as a lover of Canada; and as a father, relative, or trusted friend. 2002.\n",
      "Counter = 307\n"
     ]
    },
    {
     "name": "stderr",
     "output_type": "stream",
     "text": [
      "<ipython-input-91-28d9966ce939>:29: SettingWithCopyWarning: \n",
      "A value is trying to be set on a copy of a slice from a DataFrame\n",
      "\n",
      "See the caveats in the documentation: https://pandas.pydata.org/pandas-docs/stable/user_guide/indexing.html#returning-a-view-versus-a-copy\n",
      "  df[\"description\"][i] = description\n"
     ]
    },
    {
     "name": "stdout",
     "output_type": "stream",
     "text": [
      "NaN\n",
      "......................................................................................................\n",
      "Counter = 308\n"
     ]
    },
    {
     "name": "stderr",
     "output_type": "stream",
     "text": [
      "<ipython-input-91-28d9966ce939>:20: SettingWithCopyWarning: \n",
      "A value is trying to be set on a copy of a slice from a DataFrame\n",
      "\n",
      "See the caveats in the documentation: https://pandas.pydata.org/pandas-docs/stable/user_guide/indexing.html#returning-a-view-versus-a-copy\n",
      "  df[\"description\"][i] = description\n"
     ]
    },
    {
     "name": "stdout",
     "output_type": "stream",
     "text": [
      "description : A collection of one dozen short works includes the title piece, a loving portrait of the author's grandmother, and additional stories, including \"The Pension Grillparzer\" and \"Dinner at the White House\"\n",
      "Counter = 309\n"
     ]
    },
    {
     "name": "stderr",
     "output_type": "stream",
     "text": [
      "<ipython-input-91-28d9966ce939>:29: SettingWithCopyWarning: \n",
      "A value is trying to be set on a copy of a slice from a DataFrame\n",
      "\n",
      "See the caveats in the documentation: https://pandas.pydata.org/pandas-docs/stable/user_guide/indexing.html#returning-a-view-versus-a-copy\n",
      "  df[\"description\"][i] = description\n"
     ]
    },
    {
     "name": "stdout",
     "output_type": "stream",
     "text": [
      "NaN\n",
      "......................................................................................................\n",
      "Counter = 310\n"
     ]
    },
    {
     "name": "stderr",
     "output_type": "stream",
     "text": [
      "<ipython-input-91-28d9966ce939>:29: SettingWithCopyWarning: \n",
      "A value is trying to be set on a copy of a slice from a DataFrame\n",
      "\n",
      "See the caveats in the documentation: https://pandas.pydata.org/pandas-docs/stable/user_guide/indexing.html#returning-a-view-versus-a-copy\n",
      "  df[\"description\"][i] = description\n"
     ]
    },
    {
     "name": "stdout",
     "output_type": "stream",
     "text": [
      "NaN\n",
      "......................................................................................................\n",
      "Counter = 311\n"
     ]
    },
    {
     "name": "stderr",
     "output_type": "stream",
     "text": [
      "<ipython-input-91-28d9966ce939>:20: SettingWithCopyWarning: \n",
      "A value is trying to be set on a copy of a slice from a DataFrame\n",
      "\n",
      "See the caveats in the documentation: https://pandas.pydata.org/pandas-docs/stable/user_guide/indexing.html#returning-a-view-versus-a-copy\n",
      "  df[\"description\"][i] = description\n"
     ]
    },
    {
     "name": "stdout",
     "output_type": "stream",
     "text": [
      "description : Somewhere in South America, at the home of the country's vice president, a lavish birthday party is being held in honor of Mr. Hosokawa, a powerful Japanese businessman. Roxanne Coss, opera's most revered soprano, has mesmerized the international guests with her singing. It is a perfect evening—until a band of gun-wielding terrorists breaks in through the air-conditioning vents and takes the entire party hostage. But what begins as a panicked, life-threatening scenario slowly evolves into something quite different, as terrorists and hostages forge unexpected bonds and people from different countries and continents become compatriots. Without the demands of the world to shape their days, life on the inside becomes more beautiful than anything they had known before. At once riveting and impassioned, the narrative becomes a moving exploration of how people communicate when music is the only common language. Friendship, compassion, and the chance for great love lead the characters to forget the real danger that has been set in motion and cannot be stopped. Ann Patchett has written a novel that is as lyrical and profound as it is unforgettable. Bel Canto engenders in the reader the very passion for art and the language of music that its characters discover. As a reader, you find yourself fervently wanting this captivity to continue forever, even though you know that real life waits on the other side of the garden wall. A virtuoso performance by one of our best and most important writers, Bel Canto is a novel to be cherished.\n",
      "Counter = 312\n"
     ]
    },
    {
     "name": "stderr",
     "output_type": "stream",
     "text": [
      "<ipython-input-91-28d9966ce939>:20: SettingWithCopyWarning: \n",
      "A value is trying to be set on a copy of a slice from a DataFrame\n",
      "\n",
      "See the caveats in the documentation: https://pandas.pydata.org/pandas-docs/stable/user_guide/indexing.html#returning-a-view-versus-a-copy\n",
      "  df[\"description\"][i] = description\n"
     ]
    },
    {
     "name": "stdout",
     "output_type": "stream",
     "text": [
      "description : A young boy escapes from two wicked aunts and embarks on a series of adventures with six giant insects he meets inside a giant peach.\n",
      "Counter = 313\n"
     ]
    },
    {
     "name": "stderr",
     "output_type": "stream",
     "text": [
      "<ipython-input-91-28d9966ce939>:20: SettingWithCopyWarning: \n",
      "A value is trying to be set on a copy of a slice from a DataFrame\n",
      "\n",
      "See the caveats in the documentation: https://pandas.pydata.org/pandas-docs/stable/user_guide/indexing.html#returning-a-view-versus-a-copy\n",
      "  df[\"description\"][i] = description\n"
     ]
    },
    {
     "name": "stdout",
     "output_type": "stream",
     "text": [
      "description : After her \"stand-in mother,\" a bold black woman named Rosaleen, insults the three biggest racists in town, Lily Owens joins Rosaleen on a journey to Tiburon, South Carolina, where they are taken in by three black, bee-keeping sisters.\n",
      "Counter = 314\n"
     ]
    },
    {
     "name": "stderr",
     "output_type": "stream",
     "text": [
      "<ipython-input-91-28d9966ce939>:20: SettingWithCopyWarning: \n",
      "A value is trying to be set on a copy of a slice from a DataFrame\n",
      "\n",
      "See the caveats in the documentation: https://pandas.pydata.org/pandas-docs/stable/user_guide/indexing.html#returning-a-view-versus-a-copy\n",
      "  df[\"description\"][i] = description\n"
     ]
    },
    {
     "name": "stdout",
     "output_type": "stream",
     "text": [
      "description : Documenting the life story of a music industry legend, a behind-the-scenes account tells how Bob Thiele wrote the song \"What A Wonderful World\" and discovered Buddy Holly, Jackie Wilson, Erroll Garner, and many other musical greats. UP.\n",
      "Counter = 315\n"
     ]
    },
    {
     "name": "stderr",
     "output_type": "stream",
     "text": [
      "<ipython-input-91-28d9966ce939>:20: SettingWithCopyWarning: \n",
      "A value is trying to be set on a copy of a slice from a DataFrame\n",
      "\n",
      "See the caveats in the documentation: https://pandas.pydata.org/pandas-docs/stable/user_guide/indexing.html#returning-a-view-versus-a-copy\n",
      "  df[\"description\"][i] = description\n"
     ]
    },
    {
     "name": "stdout",
     "output_type": "stream",
     "text": [
      "description : A former National Security Agency programmer threatens to release a mathematical formula that will allow organized crime and terrorism to skyrocket, unless the code-breaking computer that is used to keep them in check but that violates civil rights is not exposed to the public. Reissue.\n",
      "Counter = 316\n"
     ]
    },
    {
     "name": "stderr",
     "output_type": "stream",
     "text": [
      "<ipython-input-91-28d9966ce939>:20: SettingWithCopyWarning: \n",
      "A value is trying to be set on a copy of a slice from a DataFrame\n",
      "\n",
      "See the caveats in the documentation: https://pandas.pydata.org/pandas-docs/stable/user_guide/indexing.html#returning-a-view-versus-a-copy\n",
      "  df[\"description\"][i] = description\n"
     ]
    },
    {
     "name": "stdout",
     "output_type": "stream",
     "text": [
      "description : Sometimes fairy toles can come true-even for plain,shy spinsters like Missy Wright. Neither as pretty as cousin Alicianor as domineering as mother Drusilla, she seems doomed to aquiet life of near poverty at Missalonghi, her family's pitifullysmall homestead in Australia's Blue Mountains. But It's a brandnew century-the twentieth-a time for new thoughts and boldnew actions. And Missy Wright is about to set every self-righteous tongue in the town of Byron wagging. Because she hasjust set her sights on a mysterious, mistrusted and unsuspectingstranger ... who just might be Prince-Charming in disguise.\n",
      "Counter = 317\n"
     ]
    },
    {
     "name": "stderr",
     "output_type": "stream",
     "text": [
      "<ipython-input-91-28d9966ce939>:20: SettingWithCopyWarning: \n",
      "A value is trying to be set on a copy of a slice from a DataFrame\n",
      "\n",
      "See the caveats in the documentation: https://pandas.pydata.org/pandas-docs/stable/user_guide/indexing.html#returning-a-view-versus-a-copy\n",
      "  df[\"description\"][i] = description\n"
     ]
    },
    {
     "name": "stdout",
     "output_type": "stream",
     "text": [
      "description : As a boy, writer Jay Mackintosh spent three golden summers in the ramshackle home of \"Jackapple Joe\" Cox. A lonely child, he found solace in Old Joe's simple wisdom and folk charms. The magic was lost, however, when Joe disappeared without warning one fall. Years later, Jay's life is stalled with regret and ennui. His bestselling novel, Jackapple Joe, was published ten years earlier and he has written nothing since. Impulsively, he decides to leave his urban life in London and, sight unseen, purchases a farmhouse in the remote French village of Lansquenet. There, in that strange and yet strangely familiar place, Jay hopes to re-create the magic of those golden childhood summers. And while the spirit of Joe is calling to him, it is actually a similarly haunted, reclusive woman who will ultimately help Jay find himself again.\n",
      "Counter = 318\n"
     ]
    },
    {
     "name": "stderr",
     "output_type": "stream",
     "text": [
      "<ipython-input-91-28d9966ce939>:20: SettingWithCopyWarning: \n",
      "A value is trying to be set on a copy of a slice from a DataFrame\n",
      "\n",
      "See the caveats in the documentation: https://pandas.pydata.org/pandas-docs/stable/user_guide/indexing.html#returning-a-view-versus-a-copy\n",
      "  df[\"description\"][i] = description\n"
     ]
    },
    {
     "name": "stdout",
     "output_type": "stream",
     "text": [
      "description : Bringing readers to the Ireland of St. Patrick and the Book of Kells, a historical examination of Ireland's role in the rise of medieval Europe cites the work of countless monks and scribes in the preservation of the West's written treasury. Reprint. Tour.\n",
      "Counter = 319\n"
     ]
    },
    {
     "name": "stderr",
     "output_type": "stream",
     "text": [
      "<ipython-input-91-28d9966ce939>:29: SettingWithCopyWarning: \n",
      "A value is trying to be set on a copy of a slice from a DataFrame\n",
      "\n",
      "See the caveats in the documentation: https://pandas.pydata.org/pandas-docs/stable/user_guide/indexing.html#returning-a-view-versus-a-copy\n",
      "  df[\"description\"][i] = description\n"
     ]
    },
    {
     "name": "stdout",
     "output_type": "stream",
     "text": [
      "NaN\n",
      "......................................................................................................\n",
      "Counter = 320\n"
     ]
    },
    {
     "name": "stderr",
     "output_type": "stream",
     "text": [
      "<ipython-input-91-28d9966ce939>:20: SettingWithCopyWarning: \n",
      "A value is trying to be set on a copy of a slice from a DataFrame\n",
      "\n",
      "See the caveats in the documentation: https://pandas.pydata.org/pandas-docs/stable/user_guide/indexing.html#returning-a-view-versus-a-copy\n",
      "  df[\"description\"][i] = description\n"
     ]
    },
    {
     "name": "stdout",
     "output_type": "stream",
     "text": [
      "description : A suburban teenager is taken by spacecraft to help fight in a war against an evil force.\n",
      "Counter = 321\n"
     ]
    },
    {
     "name": "stderr",
     "output_type": "stream",
     "text": [
      "<ipython-input-91-28d9966ce939>:20: SettingWithCopyWarning: \n",
      "A value is trying to be set on a copy of a slice from a DataFrame\n",
      "\n",
      "See the caveats in the documentation: https://pandas.pydata.org/pandas-docs/stable/user_guide/indexing.html#returning-a-view-versus-a-copy\n",
      "  df[\"description\"][i] = description\n"
     ]
    },
    {
     "name": "stdout",
     "output_type": "stream",
     "text": [
      "description : A novel set in the world of thoroughbred racing follows a group of trainers, jockeys, and \"track brats\" on a two-year journey through the racing cycle.\n",
      "Counter = 322\n"
     ]
    },
    {
     "name": "stderr",
     "output_type": "stream",
     "text": [
      "<ipython-input-91-28d9966ce939>:20: SettingWithCopyWarning: \n",
      "A value is trying to be set on a copy of a slice from a DataFrame\n",
      "\n",
      "See the caveats in the documentation: https://pandas.pydata.org/pandas-docs/stable/user_guide/indexing.html#returning-a-view-versus-a-copy\n",
      "  df[\"description\"][i] = description\n"
     ]
    },
    {
     "name": "stdout",
     "output_type": "stream",
     "text": [
      "description : When a typically perfect party at wine merchant Tony Beach's is brutally crashed, he finds himself caught in the terrifying midst of a mystery that begins with sham scotch and counterfeit claret and escalates to hijacking and murder....\n",
      "Counter = 323\n"
     ]
    },
    {
     "name": "stderr",
     "output_type": "stream",
     "text": [
      "<ipython-input-91-28d9966ce939>:20: SettingWithCopyWarning: \n",
      "A value is trying to be set on a copy of a slice from a DataFrame\n",
      "\n",
      "See the caveats in the documentation: https://pandas.pydata.org/pandas-docs/stable/user_guide/indexing.html#returning-a-view-versus-a-copy\n",
      "  df[\"description\"][i] = description\n"
     ]
    },
    {
     "name": "stdout",
     "output_type": "stream",
     "text": [
      "description : In the final book about the Gallagher siblings, Darcy Gallagher searches for a rich man who can give her the glamour and adventure she cannot find on her own.\n",
      "Counter = 324\n"
     ]
    },
    {
     "name": "stderr",
     "output_type": "stream",
     "text": [
      "<ipython-input-91-28d9966ce939>:20: SettingWithCopyWarning: \n",
      "A value is trying to be set on a copy of a slice from a DataFrame\n",
      "\n",
      "See the caveats in the documentation: https://pandas.pydata.org/pandas-docs/stable/user_guide/indexing.html#returning-a-view-versus-a-copy\n",
      "  df[\"description\"][i] = description\n"
     ]
    },
    {
     "name": "stdout",
     "output_type": "stream",
     "text": [
      "description : Raised on a planet at the remote edge of the universe, the daughter of Arthur Dent sets out on a transgalactic quest to find the planet of her ancestors\n",
      "Counter = 325\n"
     ]
    },
    {
     "name": "stderr",
     "output_type": "stream",
     "text": [
      "<ipython-input-91-28d9966ce939>:20: SettingWithCopyWarning: \n",
      "A value is trying to be set on a copy of a slice from a DataFrame\n",
      "\n",
      "See the caveats in the documentation: https://pandas.pydata.org/pandas-docs/stable/user_guide/indexing.html#returning-a-view-versus-a-copy\n",
      "  df[\"description\"][i] = description\n"
     ]
    },
    {
     "name": "stdout",
     "output_type": "stream",
     "text": [
      "description : Rhyming verses ask readers to find hidden objects in the photographs.\n",
      "Counter = 326\n"
     ]
    },
    {
     "name": "stderr",
     "output_type": "stream",
     "text": [
      "<ipython-input-91-28d9966ce939>:20: SettingWithCopyWarning: \n",
      "A value is trying to be set on a copy of a slice from a DataFrame\n",
      "\n",
      "See the caveats in the documentation: https://pandas.pydata.org/pandas-docs/stable/user_guide/indexing.html#returning-a-view-versus-a-copy\n",
      "  df[\"description\"][i] = description\n"
     ]
    },
    {
     "name": "stdout",
     "output_type": "stream",
     "text": [
      "description : Rhyming verses ask readers to find hidden objects in the photographs.\n",
      "Counter = 327\n"
     ]
    },
    {
     "name": "stderr",
     "output_type": "stream",
     "text": [
      "<ipython-input-91-28d9966ce939>:20: SettingWithCopyWarning: \n",
      "A value is trying to be set on a copy of a slice from a DataFrame\n",
      "\n",
      "See the caveats in the documentation: https://pandas.pydata.org/pandas-docs/stable/user_guide/indexing.html#returning-a-view-versus-a-copy\n",
      "  df[\"description\"][i] = description\n"
     ]
    },
    {
     "name": "stdout",
     "output_type": "stream",
     "text": [
      "description : Two people fleeing from disasters in their past lives land in a rural New Hampshire town, where they search for love and fulfillment in each other's arms. Original.\n",
      "Counter = 328\n"
     ]
    },
    {
     "name": "stderr",
     "output_type": "stream",
     "text": [
      "<ipython-input-91-28d9966ce939>:20: SettingWithCopyWarning: \n",
      "A value is trying to be set on a copy of a slice from a DataFrame\n",
      "\n",
      "See the caveats in the documentation: https://pandas.pydata.org/pandas-docs/stable/user_guide/indexing.html#returning-a-view-versus-a-copy\n",
      "  df[\"description\"][i] = description\n"
     ]
    },
    {
     "name": "stdout",
     "output_type": "stream",
     "text": [
      "description : Hired as a bodyguard to faded actress Clarissa Lisle, the recent recipient of numerous death threats, Cordelia Gray accompanies the actress to an island castle, whose owner collects funeral paraphernalia\n",
      "Counter = 329\n"
     ]
    },
    {
     "name": "stderr",
     "output_type": "stream",
     "text": [
      "<ipython-input-91-28d9966ce939>:20: SettingWithCopyWarning: \n",
      "A value is trying to be set on a copy of a slice from a DataFrame\n",
      "\n",
      "See the caveats in the documentation: https://pandas.pydata.org/pandas-docs/stable/user_guide/indexing.html#returning-a-view-versus-a-copy\n",
      "  df[\"description\"][i] = description\n"
     ]
    },
    {
     "name": "stdout",
     "output_type": "stream",
     "text": [
      "description : Detective Inspector Napoleon Bonaparte investigates the murder of an unidentified man discovered entombed in the wall of an Australian lighthouse\n",
      "Counter = 330\n"
     ]
    },
    {
     "name": "stderr",
     "output_type": "stream",
     "text": [
      "<ipython-input-91-28d9966ce939>:20: SettingWithCopyWarning: \n",
      "A value is trying to be set on a copy of a slice from a DataFrame\n",
      "\n",
      "See the caveats in the documentation: https://pandas.pydata.org/pandas-docs/stable/user_guide/indexing.html#returning-a-view-versus-a-copy\n",
      "  df[\"description\"][i] = description\n"
     ]
    },
    {
     "name": "stdout",
     "output_type": "stream",
     "text": [
      "description : Barbara Delinsky brings back Poppy Blake, from her stunning New York Times bestseller Lake News, in this deeply moving novel of life's second chances and the accidents of fate that can set us free.... Lake Henry, New Hampshire, is buzzing over the annual maple syrup harvestŠas well as the shocking revelation that longtime resident Heather Malone has been led away by the FBI, which claims the devoted stepmother and businesswoman fled the scene of a fatal accident in California years before. Poppy Blake, her best friend, is determined to prove Heather's innocence, while facing past mistakes of her own: she has never overcome her guilt from the snowmobile accident that killed her partner and left her paralyzed. Playing an unlikely role in both women's lives is investigative journalist Griffin Hughes, whose attraction to Poppy keeps him coming back to Lake Henry, even though he is secretly responsible for drawing the law closer to Heather. To redeem himself, Griffin sets out to solve the mystery surrounding Heather and becomes the key to freeing Poppy from her own regrets and showing her a rich new future.\n",
      "Counter = 331\n"
     ]
    },
    {
     "name": "stderr",
     "output_type": "stream",
     "text": [
      "<ipython-input-91-28d9966ce939>:20: SettingWithCopyWarning: \n",
      "A value is trying to be set on a copy of a slice from a DataFrame\n",
      "\n",
      "See the caveats in the documentation: https://pandas.pydata.org/pandas-docs/stable/user_guide/indexing.html#returning-a-view-versus-a-copy\n",
      "  df[\"description\"][i] = description\n"
     ]
    },
    {
     "name": "stdout",
     "output_type": "stream",
     "text": [
      "description : When the death of a respected professor's wife reveals an illicit relationship between a student and his teacher, Atherton University becomes the scene of ever escalating intrigue, speculation, dark desires, fear, and violence. By the author of A Density of Souls. Reprint.\n",
      "Counter = 332\n"
     ]
    },
    {
     "name": "stderr",
     "output_type": "stream",
     "text": [
      "<ipython-input-91-28d9966ce939>:29: SettingWithCopyWarning: \n",
      "A value is trying to be set on a copy of a slice from a DataFrame\n",
      "\n",
      "See the caveats in the documentation: https://pandas.pydata.org/pandas-docs/stable/user_guide/indexing.html#returning-a-view-versus-a-copy\n",
      "  df[\"description\"][i] = description\n"
     ]
    },
    {
     "name": "stdout",
     "output_type": "stream",
     "text": [
      "NaN\n",
      "......................................................................................................\n",
      "Counter = 333\n"
     ]
    },
    {
     "name": "stderr",
     "output_type": "stream",
     "text": [
      "<ipython-input-91-28d9966ce939>:20: SettingWithCopyWarning: \n",
      "A value is trying to be set on a copy of a slice from a DataFrame\n",
      "\n",
      "See the caveats in the documentation: https://pandas.pydata.org/pandas-docs/stable/user_guide/indexing.html#returning-a-view-versus-a-copy\n",
      "  df[\"description\"][i] = description\n"
     ]
    },
    {
     "name": "stdout",
     "output_type": "stream",
     "text": [
      "description : A woman, separated from her husband and a flat marriage, spends a year alone in a Cape Cod cottage, examining her life and finding the affirmative wisdom and peace that allows her to revitalize her marriage and freely engage life. Reprint.\n",
      "Counter = 334\n"
     ]
    },
    {
     "name": "stderr",
     "output_type": "stream",
     "text": [
      "<ipython-input-91-28d9966ce939>:29: SettingWithCopyWarning: \n",
      "A value is trying to be set on a copy of a slice from a DataFrame\n",
      "\n",
      "See the caveats in the documentation: https://pandas.pydata.org/pandas-docs/stable/user_guide/indexing.html#returning-a-view-versus-a-copy\n",
      "  df[\"description\"][i] = description\n"
     ]
    },
    {
     "name": "stdout",
     "output_type": "stream",
     "text": [
      "NaN\n",
      "......................................................................................................\n",
      "Counter = 335\n"
     ]
    },
    {
     "name": "stderr",
     "output_type": "stream",
     "text": [
      "<ipython-input-91-28d9966ce939>:20: SettingWithCopyWarning: \n",
      "A value is trying to be set on a copy of a slice from a DataFrame\n",
      "\n",
      "See the caveats in the documentation: https://pandas.pydata.org/pandas-docs/stable/user_guide/indexing.html#returning-a-view-versus-a-copy\n",
      "  df[\"description\"][i] = description\n"
     ]
    },
    {
     "name": "stdout",
     "output_type": "stream",
     "text": [
      "description : Short biographies of Christian men and women which will encourage us to give our all to Christ.\n",
      "Counter = 336\n"
     ]
    },
    {
     "name": "stderr",
     "output_type": "stream",
     "text": [
      "<ipython-input-91-28d9966ce939>:20: SettingWithCopyWarning: \n",
      "A value is trying to be set on a copy of a slice from a DataFrame\n",
      "\n",
      "See the caveats in the documentation: https://pandas.pydata.org/pandas-docs/stable/user_guide/indexing.html#returning-a-view-versus-a-copy\n",
      "  df[\"description\"][i] = description\n"
     ]
    },
    {
     "name": "stdout",
     "output_type": "stream",
     "text": [
      "description : Hebrews was written for Jewish believers torn between their new faith and their old routines and rituals. Lucado explains that Christianity, God's New Covenant is better in every way than the Old Covenant. With scripture reading, inspirational readings, questions to answer, space for journaling, and a prayer, it's like studying the Bible with Max Lucado.\n",
      "Counter = 337\n"
     ]
    },
    {
     "name": "stderr",
     "output_type": "stream",
     "text": [
      "<ipython-input-91-28d9966ce939>:20: SettingWithCopyWarning: \n",
      "A value is trying to be set on a copy of a slice from a DataFrame\n",
      "\n",
      "See the caveats in the documentation: https://pandas.pydata.org/pandas-docs/stable/user_guide/indexing.html#returning-a-view-versus-a-copy\n",
      "  df[\"description\"][i] = description\n"
     ]
    },
    {
     "name": "stdout",
     "output_type": "stream",
     "text": [
      "description : If you want a more vital union with God, a richer relationship with others, and a deeper sense of personal wholeness, let Larry Crabb help you look inside yourself. Discover how God works real, liberating change when you live from the inside out.\n",
      "Counter = 338\n"
     ]
    },
    {
     "name": "stderr",
     "output_type": "stream",
     "text": [
      "<ipython-input-91-28d9966ce939>:20: SettingWithCopyWarning: \n",
      "A value is trying to be set on a copy of a slice from a DataFrame\n",
      "\n",
      "See the caveats in the documentation: https://pandas.pydata.org/pandas-docs/stable/user_guide/indexing.html#returning-a-view-versus-a-copy\n",
      "  df[\"description\"][i] = description\n"
     ]
    },
    {
     "name": "stdout",
     "output_type": "stream",
     "text": [
      "description : Continues the chronicle of Raun Kaufman's triumph over autism, achieved with the help of his parents' unconditional love, and presents other cases of inspiring victories by special children\n",
      "Counter = 339\n"
     ]
    },
    {
     "name": "stderr",
     "output_type": "stream",
     "text": [
      "<ipython-input-91-28d9966ce939>:20: SettingWithCopyWarning: \n",
      "A value is trying to be set on a copy of a slice from a DataFrame\n",
      "\n",
      "See the caveats in the documentation: https://pandas.pydata.org/pandas-docs/stable/user_guide/indexing.html#returning-a-view-versus-a-copy\n",
      "  df[\"description\"][i] = description\n"
     ]
    },
    {
     "name": "stdout",
     "output_type": "stream",
     "text": [
      "description : Read the Bible as one book with one introduction, one story, and one conclusion. Bob Sjogren unlocks the unifying theme of Scripture from Genesis to Revelation: God redeeming people from every tongue, tribe, and nation.\n",
      "Counter = 340\n"
     ]
    },
    {
     "name": "stderr",
     "output_type": "stream",
     "text": [
      "<ipython-input-91-28d9966ce939>:29: SettingWithCopyWarning: \n",
      "A value is trying to be set on a copy of a slice from a DataFrame\n",
      "\n",
      "See the caveats in the documentation: https://pandas.pydata.org/pandas-docs/stable/user_guide/indexing.html#returning-a-view-versus-a-copy\n",
      "  df[\"description\"][i] = description\n"
     ]
    },
    {
     "name": "stdout",
     "output_type": "stream",
     "text": [
      "NaN\n",
      "......................................................................................................\n",
      "Counter = 341\n"
     ]
    },
    {
     "name": "stderr",
     "output_type": "stream",
     "text": [
      "<ipython-input-91-28d9966ce939>:29: SettingWithCopyWarning: \n",
      "A value is trying to be set on a copy of a slice from a DataFrame\n",
      "\n",
      "See the caveats in the documentation: https://pandas.pydata.org/pandas-docs/stable/user_guide/indexing.html#returning-a-view-versus-a-copy\n",
      "  df[\"description\"][i] = description\n"
     ]
    },
    {
     "name": "stdout",
     "output_type": "stream",
     "text": [
      "NaN\n",
      "......................................................................................................\n",
      "Counter = 342\n"
     ]
    },
    {
     "name": "stderr",
     "output_type": "stream",
     "text": [
      "<ipython-input-91-28d9966ce939>:20: SettingWithCopyWarning: \n",
      "A value is trying to be set on a copy of a slice from a DataFrame\n",
      "\n",
      "See the caveats in the documentation: https://pandas.pydata.org/pandas-docs/stable/user_guide/indexing.html#returning-a-view-versus-a-copy\n",
      "  df[\"description\"][i] = description\n"
     ]
    },
    {
     "name": "stdout",
     "output_type": "stream",
     "text": [
      "description : Five sixteen-year-old orphans of widely varying personality characteristics are involuntarily placed in a house of endless stairs as subjects for a psychological experiment on conditioned human response. An ALA Best Book for Young Adults. Reissue.\n",
      "Counter = 343\n"
     ]
    },
    {
     "name": "stderr",
     "output_type": "stream",
     "text": [
      "<ipython-input-91-28d9966ce939>:20: SettingWithCopyWarning: \n",
      "A value is trying to be set on a copy of a slice from a DataFrame\n",
      "\n",
      "See the caveats in the documentation: https://pandas.pydata.org/pandas-docs/stable/user_guide/indexing.html#returning-a-view-versus-a-copy\n",
      "  df[\"description\"][i] = description\n"
     ]
    },
    {
     "name": "stdout",
     "output_type": "stream",
     "text": [
      "description : A pilot is forced down in the Sahara where he meets a strange little prince from another planet\n",
      "Counter = 344\n"
     ]
    },
    {
     "name": "stderr",
     "output_type": "stream",
     "text": [
      "<ipython-input-91-28d9966ce939>:20: SettingWithCopyWarning: \n",
      "A value is trying to be set on a copy of a slice from a DataFrame\n",
      "\n",
      "See the caveats in the documentation: https://pandas.pydata.org/pandas-docs/stable/user_guide/indexing.html#returning-a-view-versus-a-copy\n",
      "  df[\"description\"][i] = description\n"
     ]
    },
    {
     "name": "stdout",
     "output_type": "stream",
     "text": [
      "description : More concerned with the dynamics of his flight than with gathering food, Jonathan is scorned by the other seagulls.\n",
      "Counter = 345\n"
     ]
    },
    {
     "name": "stderr",
     "output_type": "stream",
     "text": [
      "<ipython-input-91-28d9966ce939>:20: SettingWithCopyWarning: \n",
      "A value is trying to be set on a copy of a slice from a DataFrame\n",
      "\n",
      "See the caveats in the documentation: https://pandas.pydata.org/pandas-docs/stable/user_guide/indexing.html#returning-a-view-versus-a-copy\n",
      "  df[\"description\"][i] = description\n"
     ]
    },
    {
     "name": "stdout",
     "output_type": "stream",
     "text": [
      "description : First published in the US in 1987, this A-Z guide to the 'psychic energies' of more than 100 crystals, gems, minerals and stones, provides information such as choosing a crystal or gemstone to suit your emotional and physical needs, the healing properties of crystals, cleansing a crystal, crystal gazing, birthstones and zodiac affinities.\n",
      "Counter = 346\n"
     ]
    },
    {
     "name": "stderr",
     "output_type": "stream",
     "text": [
      "<ipython-input-91-28d9966ce939>:20: SettingWithCopyWarning: \n",
      "A value is trying to be set on a copy of a slice from a DataFrame\n",
      "\n",
      "See the caveats in the documentation: https://pandas.pydata.org/pandas-docs/stable/user_guide/indexing.html#returning-a-view-versus-a-copy\n",
      "  df[\"description\"][i] = description\n"
     ]
    },
    {
     "name": "stdout",
     "output_type": "stream",
     "text": [
      "description : This is the perfect primer for the curious beginner of Wicca.\n",
      "Counter = 347\n"
     ]
    },
    {
     "name": "stderr",
     "output_type": "stream",
     "text": [
      "<ipython-input-91-28d9966ce939>:20: SettingWithCopyWarning: \n",
      "A value is trying to be set on a copy of a slice from a DataFrame\n",
      "\n",
      "See the caveats in the documentation: https://pandas.pydata.org/pandas-docs/stable/user_guide/indexing.html#returning-a-view-versus-a-copy\n",
      "  df[\"description\"][i] = description\n"
     ]
    },
    {
     "name": "stdout",
     "output_type": "stream",
     "text": [
      "description : The book explains how to make your own incenses, oils, ointments, inks, tinctures, herb baths, bath salts, brews, ritual soaps and powders.\n",
      "Counter = 348\n"
     ]
    },
    {
     "name": "stderr",
     "output_type": "stream",
     "text": [
      "<ipython-input-91-28d9966ce939>:20: SettingWithCopyWarning: \n",
      "A value is trying to be set on a copy of a slice from a DataFrame\n",
      "\n",
      "See the caveats in the documentation: https://pandas.pydata.org/pandas-docs/stable/user_guide/indexing.html#returning-a-view-versus-a-copy\n",
      "  df[\"description\"][i] = description\n"
     ]
    },
    {
     "name": "stdout",
     "output_type": "stream",
     "text": [
      "description : The Western Mysteries (previously published as The Key of It All, Book II: The Western Mysteries), by David Allen Hulse, is perhaps the most comprehensive, in-depth description of various aspects of the Western magickal tradition ever published. The uniting factor of this book is language. It begins with a discussion of the mysteries of the Greek alphabet, followed by the different forms of the Runes, and goes on to describe the mystical secrets of Latin. and then Enochian, where you will discover, for the first time ever, the correctly constructed Watchtower system. The book also includes the mysteries of the Tarot, a pictorial language, and it describes the development of the esoteric Tarot, how to do readings, and the significance of the symbolism on the Tarot cards. It concludes with the English language and its relationship to the Tarot, Enochian, and more. The introduction to The Western Mysteries serves as a complete introduction to the magickal tradition of the West. You will learn about the evolution of thought concerning the Elements, astrology, magick squares, geomancy, words of power, and more. You will find that each section of this book is a key that unlocks the meaning behind another of the magickal languages that you can relate to your own spiritual system. It is ideal for a beginning student to explore the mysteries of Western magick. It is a necessary tool for more advanced students, as it has collected hundreds of charts and lists which clarify and identify the similarities and differences between various systems. This is a reference book you will study over and over. The volume of information revealed makes The Western Mysteries an instant classic and a necessity for any spiritual practitioner.\n",
      "Counter = 349\n"
     ]
    },
    {
     "name": "stderr",
     "output_type": "stream",
     "text": [
      "<ipython-input-91-28d9966ce939>:20: SettingWithCopyWarning: \n",
      "A value is trying to be set on a copy of a slice from a DataFrame\n",
      "\n",
      "See the caveats in the documentation: https://pandas.pydata.org/pandas-docs/stable/user_guide/indexing.html#returning-a-view-versus-a-copy\n",
      "  df[\"description\"][i] = description\n"
     ]
    },
    {
     "name": "stdout",
     "output_type": "stream",
     "text": [
      "description : The exercises in this book are carefully graded to take readers step-by-step through an actual out-of-body experience.\n",
      "Counter = 350\n"
     ]
    },
    {
     "name": "stderr",
     "output_type": "stream",
     "text": [
      "<ipython-input-91-28d9966ce939>:20: SettingWithCopyWarning: \n",
      "A value is trying to be set on a copy of a slice from a DataFrame\n",
      "\n",
      "See the caveats in the documentation: https://pandas.pydata.org/pandas-docs/stable/user_guide/indexing.html#returning-a-view-versus-a-copy\n",
      "  df[\"description\"][i] = description\n"
     ]
    },
    {
     "name": "stdout",
     "output_type": "stream",
     "text": [
      "description : The runes are the ancient script of the Norse world. These simple, angular letters cut in stone, wood and metal can lead us into the distant past, revealing knowledge and insights as applicable today as they were 2000 years ago. This book shows how to make your own set of runes, explains the meaning of the individual runes, and shows how to use them for healing and divination.\n",
      "Counter = 351\n"
     ]
    },
    {
     "name": "stderr",
     "output_type": "stream",
     "text": [
      "<ipython-input-91-28d9966ce939>:20: SettingWithCopyWarning: \n",
      "A value is trying to be set on a copy of a slice from a DataFrame\n",
      "\n",
      "See the caveats in the documentation: https://pandas.pydata.org/pandas-docs/stable/user_guide/indexing.html#returning-a-view-versus-a-copy\n",
      "  df[\"description\"][i] = description\n"
     ]
    },
    {
     "name": "stdout",
     "output_type": "stream",
     "text": [
      "description : Rosie the hen leaves the chicken coop and sets out for a little walk. Right behind her is the fox, slyly trying to catch up with her. Rosie's walk is quiet, uneventful and eventually leads her back to the coop, blissfully unaware of the fox's travails as he tries -- unsuccessfully -- to navigate the obstacle course that Rosie has led him through.\n",
      "Counter = 352\n"
     ]
    },
    {
     "name": "stderr",
     "output_type": "stream",
     "text": [
      "<ipython-input-91-28d9966ce939>:20: SettingWithCopyWarning: \n",
      "A value is trying to be set on a copy of a slice from a DataFrame\n",
      "\n",
      "See the caveats in the documentation: https://pandas.pydata.org/pandas-docs/stable/user_guide/indexing.html#returning-a-view-versus-a-copy\n",
      "  df[\"description\"][i] = description\n"
     ]
    },
    {
     "name": "stdout",
     "output_type": "stream",
     "text": [
      "description : The Oxford School Shakespeare is a well-established series which helps students understand and enjoy Shakespeare's plays. As well as the complete and unabridged text, each play in this series has an extensive range of students' notes. These include detailed and clear explanations of difficult words and passages, a synopsis of the plot, summaries of individual scenes, and notes on the main characters. Also included is a wide range of questions and activities for work in class, together with the historical background to Shakespeare's England, a brief biography of Shakespeare, and a complete list of his plays. For this new edition, the text of the play, the notes, and the introductory matter have all been revised so as to make them clearer and more accessible. In addition, the entire text of the book has been redesigned and reset to make it easier to read. The illustrations have been completely redrawn, photographs of recent stage production have been included and thereis a new, attractive cover design. Roma Gill, the series editor, has taught Shakespeare at all levels. She has acted in and directed Shakespeare's plays, and has lectured on Shakespeare all over the world.\n",
      "Counter = 353\n"
     ]
    },
    {
     "name": "stderr",
     "output_type": "stream",
     "text": [
      "<ipython-input-91-28d9966ce939>:20: SettingWithCopyWarning: \n",
      "A value is trying to be set on a copy of a slice from a DataFrame\n",
      "\n",
      "See the caveats in the documentation: https://pandas.pydata.org/pandas-docs/stable/user_guide/indexing.html#returning-a-view-versus-a-copy\n",
      "  df[\"description\"][i] = description\n"
     ]
    },
    {
     "name": "stdout",
     "output_type": "stream",
     "text": [
      "description : Santa Brought A Son by Melissa McClone released on Nov 24, 2003 is available now for purchase.\n",
      "Counter = 354\n"
     ]
    },
    {
     "name": "stderr",
     "output_type": "stream",
     "text": [
      "<ipython-input-91-28d9966ce939>:20: SettingWithCopyWarning: \n",
      "A value is trying to be set on a copy of a slice from a DataFrame\n",
      "\n",
      "See the caveats in the documentation: https://pandas.pydata.org/pandas-docs/stable/user_guide/indexing.html#returning-a-view-versus-a-copy\n",
      "  df[\"description\"][i] = description\n"
     ]
    },
    {
     "name": "stdout",
     "output_type": "stream",
     "text": [
      "description : Marry Me...Again by Cheryl St.John released on Jul 25, 2003 is available now for purchase.\n",
      "Counter = 355\n"
     ]
    },
    {
     "name": "stderr",
     "output_type": "stream",
     "text": [
      "<ipython-input-91-28d9966ce939>:20: SettingWithCopyWarning: \n",
      "A value is trying to be set on a copy of a slice from a DataFrame\n",
      "\n",
      "See the caveats in the documentation: https://pandas.pydata.org/pandas-docs/stable/user_guide/indexing.html#returning-a-view-versus-a-copy\n",
      "  df[\"description\"][i] = description\n"
     ]
    },
    {
     "name": "stdout",
     "output_type": "stream",
     "text": [
      "description : The two Alice books--Lewis Carroll's masterpieces--are ranked by many as peers of the great adult works of English literature. And despite their riches of \"untranslatable\" puns, nonsense, and parody, they have been happily translated around the world. The matchless original illustrations by Tenniel share with Carroll's text the glory of making Alice immortal.\n",
      "Counter = 356\n"
     ]
    },
    {
     "name": "stderr",
     "output_type": "stream",
     "text": [
      "<ipython-input-91-28d9966ce939>:20: SettingWithCopyWarning: \n",
      "A value is trying to be set on a copy of a slice from a DataFrame\n",
      "\n",
      "See the caveats in the documentation: https://pandas.pydata.org/pandas-docs/stable/user_guide/indexing.html#returning-a-view-versus-a-copy\n",
      "  df[\"description\"][i] = description\n"
     ]
    },
    {
     "name": "stdout",
     "output_type": "stream",
     "text": [
      "description : From Queen of Suspense Mary Higgins Clark, a thriller “that grabs you with the first paragraph and never lets go” (USA TODAY) about a woman desperate to uncover the truth behind her beloved stepmother’s death. At a party in Manhattan, Maggie Holloway—one of the fashion world’s most successful photographers—is thrilled to be reunited with her beloved stepmother. A widow now, Nuala Moore is equally delighted to see her long-lost stepdaughter, and she invites Maggie to spend a few weeks at her home in Newport, Rhode Island. But when Maggie arrives, she finds Nuala murdered, apparently by a burglar. Heartbroken, Maggie is stunned to learn she had inherited Nuala’s stunning Victorian home...and horrified when she begins to suspect that Nuala’s death was not random, but part of a diabolical plot conceived by a twisted mind. When Nuala’s dear old friend, Greta Shipley, dies suddenly of supposedly natural causes, Maggie is convinced that there is a link between these two and other recent deaths among the older women of Newport. What she doesn’t realize is that she has now become a target for the killer as well, and that each clue she uncovers brings her closer to an unimaginable fate.\n",
      "Counter = 357\n"
     ]
    },
    {
     "name": "stderr",
     "output_type": "stream",
     "text": [
      "<ipython-input-91-28d9966ce939>:20: SettingWithCopyWarning: \n",
      "A value is trying to be set on a copy of a slice from a DataFrame\n",
      "\n",
      "See the caveats in the documentation: https://pandas.pydata.org/pandas-docs/stable/user_guide/indexing.html#returning-a-view-versus-a-copy\n",
      "  df[\"description\"][i] = description\n"
     ]
    },
    {
     "name": "stdout",
     "output_type": "stream",
     "text": [
      "description : This edition of Mark Twain's The Adventures of Tom Sawyer includes a Biographical Note, Preface, and Afterword by Keith Neilson. Tor Classics are affordably-priced editions designed to attract the young reader. Original dynamic cover art enthusiastically represents the excitement of each story. Appropriate \"reader friendly\" type sizes have been chosen for each title—offering clear, accurate, and readable text. All editions are complete and unabridged, and feature Introductions and Afterwords.\n",
      "Counter = 358\n"
     ]
    },
    {
     "name": "stderr",
     "output_type": "stream",
     "text": [
      "<ipython-input-91-28d9966ce939>:20: SettingWithCopyWarning: \n",
      "A value is trying to be set on a copy of a slice from a DataFrame\n",
      "\n",
      "See the caveats in the documentation: https://pandas.pydata.org/pandas-docs/stable/user_guide/indexing.html#returning-a-view-versus-a-copy\n",
      "  df[\"description\"][i] = description\n"
     ]
    },
    {
     "name": "stdout",
     "output_type": "stream",
     "text": [
      "description : At thirty-nine, SiddaLee Walker has escaped her Louisianna hometown to become a theatrical director, but as she gathers old letters, photos, journals, and souvenirs from the Ya-Ya sisterhood to assist in writing a play about women's friendships, she yearns to revisit her childhood. $25,000 ad/promo.\n",
      "Counter = 359\n"
     ]
    },
    {
     "name": "stderr",
     "output_type": "stream",
     "text": [
      "<ipython-input-91-28d9966ce939>:20: SettingWithCopyWarning: \n",
      "A value is trying to be set on a copy of a slice from a DataFrame\n",
      "\n",
      "See the caveats in the documentation: https://pandas.pydata.org/pandas-docs/stable/user_guide/indexing.html#returning-a-view-versus-a-copy\n",
      "  df[\"description\"][i] = description\n"
     ]
    },
    {
     "name": "stdout",
     "output_type": "stream",
     "text": [
      "description : Relates the experiences of a native American woman who grew up on a reservation and joined in the revolution for native American rights during the 1960s and 1970s. Reprint. 50,000 first printing. Winner of the American Book Award.\n",
      "Counter = 360\n"
     ]
    },
    {
     "name": "stderr",
     "output_type": "stream",
     "text": [
      "<ipython-input-91-28d9966ce939>:20: SettingWithCopyWarning: \n",
      "A value is trying to be set on a copy of a slice from a DataFrame\n",
      "\n",
      "See the caveats in the documentation: https://pandas.pydata.org/pandas-docs/stable/user_guide/indexing.html#returning-a-view-versus-a-copy\n",
      "  df[\"description\"][i] = description\n"
     ]
    },
    {
     "name": "stdout",
     "output_type": "stream",
     "text": [
      "description : October 1991. It was \"the perfect storm\"--a tempest that may happen only once in a century--a nor'easter created by so rare a combination of factors that it could not possibly have been worse. Creating waves ten stories high and winds of 120 miles an hour, the storm whipped the sea to inconceivable levels few people on Earth have ever witnessed. Few, except the six-man crew of the Andrea Gail, a commercial fishing boat tragically headed towards its hellish center.\n",
      "Counter = 361\n"
     ]
    },
    {
     "name": "stderr",
     "output_type": "stream",
     "text": [
      "<ipython-input-91-28d9966ce939>:20: SettingWithCopyWarning: \n",
      "A value is trying to be set on a copy of a slice from a DataFrame\n",
      "\n",
      "See the caveats in the documentation: https://pandas.pydata.org/pandas-docs/stable/user_guide/indexing.html#returning-a-view-versus-a-copy\n",
      "  df[\"description\"][i] = description\n"
     ]
    },
    {
     "name": "stdout",
     "output_type": "stream",
     "text": [
      "description : Looks at the history of child abuse, child neglect, wife-beating, and incest, tells the stories of victims, and offers a fresh perspective on contemporary family violence\n",
      "Counter = 362\n"
     ]
    },
    {
     "name": "stderr",
     "output_type": "stream",
     "text": [
      "<ipython-input-91-28d9966ce939>:20: SettingWithCopyWarning: \n",
      "A value is trying to be set on a copy of a slice from a DataFrame\n",
      "\n",
      "See the caveats in the documentation: https://pandas.pydata.org/pandas-docs/stable/user_guide/indexing.html#returning-a-view-versus-a-copy\n",
      "  df[\"description\"][i] = description\n"
     ]
    },
    {
     "name": "stdout",
     "output_type": "stream",
     "text": [
      "description : GIFT LOCAL 11-15-2002 $13.95.\n",
      "Counter = 363\n"
     ]
    },
    {
     "name": "stderr",
     "output_type": "stream",
     "text": [
      "<ipython-input-91-28d9966ce939>:20: SettingWithCopyWarning: \n",
      "A value is trying to be set on a copy of a slice from a DataFrame\n",
      "\n",
      "See the caveats in the documentation: https://pandas.pydata.org/pandas-docs/stable/user_guide/indexing.html#returning-a-view-versus-a-copy\n",
      "  df[\"description\"][i] = description\n"
     ]
    },
    {
     "name": "stdout",
     "output_type": "stream",
     "text": [
      "description : The spirit of fourteen-year-old Susie Salmon describes her murder, her surprise at her new home in heaven, and her witness to her family's grief, efforts to find the killer, and attempts to come to terms with what has happened. A first novel. Reprint. 50,000 first printing.\n",
      "Counter = 364\n"
     ]
    },
    {
     "name": "stderr",
     "output_type": "stream",
     "text": [
      "<ipython-input-91-28d9966ce939>:20: SettingWithCopyWarning: \n",
      "A value is trying to be set on a copy of a slice from a DataFrame\n",
      "\n",
      "See the caveats in the documentation: https://pandas.pydata.org/pandas-docs/stable/user_guide/indexing.html#returning-a-view-versus-a-copy\n",
      "  df[\"description\"][i] = description\n"
     ]
    },
    {
     "name": "stdout",
     "output_type": "stream",
     "text": [
      "description : Racked with guilt over his mother's suicide, Brewster North wanders aimlessly, from New York's East Village to the Bhagwan Rahneesh's sex commune in India, to Provincetown, to Santa Cruz.\n",
      "Counter = 365\n"
     ]
    },
    {
     "name": "stderr",
     "output_type": "stream",
     "text": [
      "<ipython-input-91-28d9966ce939>:20: SettingWithCopyWarning: \n",
      "A value is trying to be set on a copy of a slice from a DataFrame\n",
      "\n",
      "See the caveats in the documentation: https://pandas.pydata.org/pandas-docs/stable/user_guide/indexing.html#returning-a-view-versus-a-copy\n",
      "  df[\"description\"][i] = description\n"
     ]
    },
    {
     "name": "stdout",
     "output_type": "stream",
     "text": [
      "description : Seven years after his escape from the authorities, Hannibal Lecter, a serial killer, is tracked down by one of his former victims using FBI agent Clarice Starling as bait, in the sequel to The Silence of the Lambs. Reissue.\n",
      "Counter = 366\n"
     ]
    },
    {
     "name": "stderr",
     "output_type": "stream",
     "text": [
      "<ipython-input-91-28d9966ce939>:20: SettingWithCopyWarning: \n",
      "A value is trying to be set on a copy of a slice from a DataFrame\n",
      "\n",
      "See the caveats in the documentation: https://pandas.pydata.org/pandas-docs/stable/user_guide/indexing.html#returning-a-view-versus-a-copy\n",
      "  df[\"description\"][i] = description\n"
     ]
    },
    {
     "name": "stdout",
     "output_type": "stream",
     "text": [
      "description : The triumphs and failures of seven individual family clans span the history of a city from the third-century Roman occupation of Londinium through such eras as the Norman conquest and the Elizabethan period\n",
      "Counter = 367\n"
     ]
    },
    {
     "name": "stderr",
     "output_type": "stream",
     "text": [
      "<ipython-input-91-28d9966ce939>:20: SettingWithCopyWarning: \n",
      "A value is trying to be set on a copy of a slice from a DataFrame\n",
      "\n",
      "See the caveats in the documentation: https://pandas.pydata.org/pandas-docs/stable/user_guide/indexing.html#returning-a-view-versus-a-copy\n",
      "  df[\"description\"][i] = description\n"
     ]
    },
    {
     "name": "stdout",
     "output_type": "stream",
     "text": [
      "description : An exploration of contemporary concerns--love, exploitation, survival, sex roles, personal power--centers on the inner lives and relationships of an attractive, independent woman, her ineffectual husband, and his passive, easily manipulated lover\n",
      "Counter = 368\n"
     ]
    },
    {
     "name": "stderr",
     "output_type": "stream",
     "text": [
      "<ipython-input-91-28d9966ce939>:20: SettingWithCopyWarning: \n",
      "A value is trying to be set on a copy of a slice from a DataFrame\n",
      "\n",
      "See the caveats in the documentation: https://pandas.pydata.org/pandas-docs/stable/user_guide/indexing.html#returning-a-view-versus-a-copy\n",
      "  df[\"description\"][i] = description\n"
     ]
    },
    {
     "name": "stdout",
     "output_type": "stream",
     "text": [
      "description : Four women whose lives converge unexpectedly are forced to come to terms not only with their past, but also their future\n",
      "Counter = 369\n"
     ]
    },
    {
     "name": "stderr",
     "output_type": "stream",
     "text": [
      "<ipython-input-91-28d9966ce939>:20: SettingWithCopyWarning: \n",
      "A value is trying to be set on a copy of a slice from a DataFrame\n",
      "\n",
      "See the caveats in the documentation: https://pandas.pydata.org/pandas-docs/stable/user_guide/indexing.html#returning-a-view-versus-a-copy\n",
      "  df[\"description\"][i] = description\n"
     ]
    },
    {
     "name": "stdout",
     "output_type": "stream",
     "text": [
      "description : Remembering their painful experiences of the past in which they were each manipulated and betrayed by the same woman, Roz, Charis, and Tony are relieved at Zenia's funeral, and are shocked when Zenia turns up alive and well. Reprint.\n",
      "Counter = 370\n"
     ]
    },
    {
     "name": "stderr",
     "output_type": "stream",
     "text": [
      "<ipython-input-91-28d9966ce939>:20: SettingWithCopyWarning: \n",
      "A value is trying to be set on a copy of a slice from a DataFrame\n",
      "\n",
      "See the caveats in the documentation: https://pandas.pydata.org/pandas-docs/stable/user_guide/indexing.html#returning-a-view-versus-a-copy\n",
      "  df[\"description\"][i] = description\n"
     ]
    },
    {
     "name": "stdout",
     "output_type": "stream",
     "text": [
      "description : Wisdom from a remarkable woman of many talents--a writer who captured America's heart on Inauguration Day.\n",
      "Counter = 371\n"
     ]
    },
    {
     "name": "stderr",
     "output_type": "stream",
     "text": [
      "<ipython-input-91-28d9966ce939>:20: SettingWithCopyWarning: \n",
      "A value is trying to be set on a copy of a slice from a DataFrame\n",
      "\n",
      "See the caveats in the documentation: https://pandas.pydata.org/pandas-docs/stable/user_guide/indexing.html#returning-a-view-versus-a-copy\n",
      "  df[\"description\"][i] = description\n"
     ]
    },
    {
     "name": "stdout",
     "output_type": "stream",
     "text": [
      "description : Born in 1862 into an exclusive New York society -- against whose rigid mores she often rebelled -- Edith Wharton bridged the literary worlds of two continents and two centuries in her rich and glamorous life. The House of Mirth (1905), her tenth book, is the story of young Lily Bart and her tragic sojourn among the upper class of turn-of-the-century New York, touching upon the insidious effects of social convention and the sexual and financial aggression to which free spirited women exposed\n",
      "Counter = 372\n"
     ]
    },
    {
     "name": "stderr",
     "output_type": "stream",
     "text": [
      "<ipython-input-91-28d9966ce939>:20: SettingWithCopyWarning: \n",
      "A value is trying to be set on a copy of a slice from a DataFrame\n",
      "\n",
      "See the caveats in the documentation: https://pandas.pydata.org/pandas-docs/stable/user_guide/indexing.html#returning-a-view-versus-a-copy\n",
      "  df[\"description\"][i] = description\n"
     ]
    },
    {
     "name": "stdout",
     "output_type": "stream",
     "text": [
      "description : Confronting the contrasts, agonies, and triumphs of her life, a Sioux activist relates her story, detailing the powerful history of her people as it mixes with her own troubled life\n",
      "Counter = 373\n"
     ]
    },
    {
     "name": "stderr",
     "output_type": "stream",
     "text": [
      "<ipython-input-91-28d9966ce939>:20: SettingWithCopyWarning: \n",
      "A value is trying to be set on a copy of a slice from a DataFrame\n",
      "\n",
      "See the caveats in the documentation: https://pandas.pydata.org/pandas-docs/stable/user_guide/indexing.html#returning-a-view-versus-a-copy\n",
      "  df[\"description\"][i] = description\n"
     ]
    },
    {
     "name": "stdout",
     "output_type": "stream",
     "text": [
      "description : A Sioux holy man recalls his life and visions up to the time of the slaughter at Wounded Knee\n",
      "Counter = 374\n"
     ]
    },
    {
     "name": "stderr",
     "output_type": "stream",
     "text": [
      "<ipython-input-91-28d9966ce939>:20: SettingWithCopyWarning: \n",
      "A value is trying to be set on a copy of a slice from a DataFrame\n",
      "\n",
      "See the caveats in the documentation: https://pandas.pydata.org/pandas-docs/stable/user_guide/indexing.html#returning-a-view-versus-a-copy\n",
      "  df[\"description\"][i] = description\n"
     ]
    },
    {
     "name": "stdout",
     "output_type": "stream",
     "text": [
      "description : To find more information about Rowman and Littlefield titles, please visit www.rowmanlittlefield.com.\n",
      "Counter = 375\n"
     ]
    },
    {
     "name": "stderr",
     "output_type": "stream",
     "text": [
      "<ipython-input-91-28d9966ce939>:29: SettingWithCopyWarning: \n",
      "A value is trying to be set on a copy of a slice from a DataFrame\n",
      "\n",
      "See the caveats in the documentation: https://pandas.pydata.org/pandas-docs/stable/user_guide/indexing.html#returning-a-view-versus-a-copy\n",
      "  df[\"description\"][i] = description\n"
     ]
    },
    {
     "name": "stdout",
     "output_type": "stream",
     "text": [
      "NaN\n",
      "......................................................................................................\n",
      "Counter = 376\n"
     ]
    },
    {
     "name": "stderr",
     "output_type": "stream",
     "text": [
      "<ipython-input-91-28d9966ce939>:20: SettingWithCopyWarning: \n",
      "A value is trying to be set on a copy of a slice from a DataFrame\n",
      "\n",
      "See the caveats in the documentation: https://pandas.pydata.org/pandas-docs/stable/user_guide/indexing.html#returning-a-view-versus-a-copy\n",
      "  df[\"description\"][i] = description\n"
     ]
    },
    {
     "name": "stdout",
     "output_type": "stream",
     "text": [
      "description : \"Diva Mawrdew Czgowchwz bursts like the most brilliant of comets onto the international opera scene, only to confront the deadly malice and black magic of her rivals.\"--Back cover.\n",
      "Counter = 377\n"
     ]
    },
    {
     "name": "stderr",
     "output_type": "stream",
     "text": [
      "<ipython-input-91-28d9966ce939>:20: SettingWithCopyWarning: \n",
      "A value is trying to be set on a copy of a slice from a DataFrame\n",
      "\n",
      "See the caveats in the documentation: https://pandas.pydata.org/pandas-docs/stable/user_guide/indexing.html#returning-a-view-versus-a-copy\n",
      "  df[\"description\"][i] = description\n"
     ]
    },
    {
     "name": "stdout",
     "output_type": "stream",
     "text": [
      "description : A memoir of sex, drugs, and depression indicts an overmedicated America as it chronicles the fortunes of a Harvard educated child of divorce who lived in the fast lane as a music critic, always fighting her chronic depression\n",
      "Counter = 378\n"
     ]
    },
    {
     "name": "stderr",
     "output_type": "stream",
     "text": [
      "<ipython-input-91-28d9966ce939>:20: SettingWithCopyWarning: \n",
      "A value is trying to be set on a copy of a slice from a DataFrame\n",
      "\n",
      "See the caveats in the documentation: https://pandas.pydata.org/pandas-docs/stable/user_guide/indexing.html#returning-a-view-versus-a-copy\n",
      "  df[\"description\"][i] = description\n"
     ]
    },
    {
     "name": "stdout",
     "output_type": "stream",
     "text": [
      "description : The former presidential candidate reflects on the issues and principles that were at the core of his campaign, including poverty, race relations, campaign finance reform, and gun control.\n",
      "Counter = 379\n"
     ]
    },
    {
     "name": "stderr",
     "output_type": "stream",
     "text": [
      "<ipython-input-91-28d9966ce939>:20: SettingWithCopyWarning: \n",
      "A value is trying to be set on a copy of a slice from a DataFrame\n",
      "\n",
      "See the caveats in the documentation: https://pandas.pydata.org/pandas-docs/stable/user_guide/indexing.html#returning-a-view-versus-a-copy\n",
      "  df[\"description\"][i] = description\n"
     ]
    },
    {
     "name": "stdout",
     "output_type": "stream",
     "text": [
      "description : Identifies four self-limiting beliefs that impede one's experience of freedom, true happiness, and love.\n",
      "Counter = 380\n"
     ]
    },
    {
     "name": "stderr",
     "output_type": "stream",
     "text": [
      "<ipython-input-91-28d9966ce939>:29: SettingWithCopyWarning: \n",
      "A value is trying to be set on a copy of a slice from a DataFrame\n",
      "\n",
      "See the caveats in the documentation: https://pandas.pydata.org/pandas-docs/stable/user_guide/indexing.html#returning-a-view-versus-a-copy\n",
      "  df[\"description\"][i] = description\n"
     ]
    },
    {
     "name": "stdout",
     "output_type": "stream",
     "text": [
      "NaN\n",
      "......................................................................................................\n",
      "Counter = 381\n"
     ]
    },
    {
     "name": "stderr",
     "output_type": "stream",
     "text": [
      "<ipython-input-91-28d9966ce939>:29: SettingWithCopyWarning: \n",
      "A value is trying to be set on a copy of a slice from a DataFrame\n",
      "\n",
      "See the caveats in the documentation: https://pandas.pydata.org/pandas-docs/stable/user_guide/indexing.html#returning-a-view-versus-a-copy\n",
      "  df[\"description\"][i] = description\n"
     ]
    },
    {
     "name": "stdout",
     "output_type": "stream",
     "text": [
      "NaN\n",
      "......................................................................................................\n",
      "Counter = 382\n"
     ]
    },
    {
     "name": "stderr",
     "output_type": "stream",
     "text": [
      "<ipython-input-91-28d9966ce939>:29: SettingWithCopyWarning: \n",
      "A value is trying to be set on a copy of a slice from a DataFrame\n",
      "\n",
      "See the caveats in the documentation: https://pandas.pydata.org/pandas-docs/stable/user_guide/indexing.html#returning-a-view-versus-a-copy\n",
      "  df[\"description\"][i] = description\n"
     ]
    },
    {
     "name": "stdout",
     "output_type": "stream",
     "text": [
      "NaN\n",
      "......................................................................................................\n",
      "Counter = 383\n"
     ]
    },
    {
     "name": "stderr",
     "output_type": "stream",
     "text": [
      "<ipython-input-91-28d9966ce939>:29: SettingWithCopyWarning: \n",
      "A value is trying to be set on a copy of a slice from a DataFrame\n",
      "\n",
      "See the caveats in the documentation: https://pandas.pydata.org/pandas-docs/stable/user_guide/indexing.html#returning-a-view-versus-a-copy\n",
      "  df[\"description\"][i] = description\n"
     ]
    },
    {
     "name": "stdout",
     "output_type": "stream",
     "text": [
      "NaN\n",
      "......................................................................................................\n",
      "Counter = 384\n"
     ]
    },
    {
     "name": "stderr",
     "output_type": "stream",
     "text": [
      "<ipython-input-91-28d9966ce939>:29: SettingWithCopyWarning: \n",
      "A value is trying to be set on a copy of a slice from a DataFrame\n",
      "\n",
      "See the caveats in the documentation: https://pandas.pydata.org/pandas-docs/stable/user_guide/indexing.html#returning-a-view-versus-a-copy\n",
      "  df[\"description\"][i] = description\n"
     ]
    },
    {
     "name": "stdout",
     "output_type": "stream",
     "text": [
      "NaN\n",
      "......................................................................................................\n",
      "Counter = 385\n"
     ]
    },
    {
     "name": "stderr",
     "output_type": "stream",
     "text": [
      "<ipython-input-91-28d9966ce939>:29: SettingWithCopyWarning: \n",
      "A value is trying to be set on a copy of a slice from a DataFrame\n",
      "\n",
      "See the caveats in the documentation: https://pandas.pydata.org/pandas-docs/stable/user_guide/indexing.html#returning-a-view-versus-a-copy\n",
      "  df[\"description\"][i] = description\n"
     ]
    },
    {
     "name": "stdout",
     "output_type": "stream",
     "text": [
      "NaN\n",
      "......................................................................................................\n",
      "Counter = 386\n"
     ]
    },
    {
     "name": "stderr",
     "output_type": "stream",
     "text": [
      "<ipython-input-91-28d9966ce939>:29: SettingWithCopyWarning: \n",
      "A value is trying to be set on a copy of a slice from a DataFrame\n",
      "\n",
      "See the caveats in the documentation: https://pandas.pydata.org/pandas-docs/stable/user_guide/indexing.html#returning-a-view-versus-a-copy\n",
      "  df[\"description\"][i] = description\n"
     ]
    },
    {
     "name": "stdout",
     "output_type": "stream",
     "text": [
      "NaN\n",
      "......................................................................................................\n",
      "Counter = 387\n"
     ]
    },
    {
     "name": "stderr",
     "output_type": "stream",
     "text": [
      "<ipython-input-91-28d9966ce939>:29: SettingWithCopyWarning: \n",
      "A value is trying to be set on a copy of a slice from a DataFrame\n",
      "\n",
      "See the caveats in the documentation: https://pandas.pydata.org/pandas-docs/stable/user_guide/indexing.html#returning-a-view-versus-a-copy\n",
      "  df[\"description\"][i] = description\n"
     ]
    },
    {
     "name": "stdout",
     "output_type": "stream",
     "text": [
      "NaN\n",
      "......................................................................................................\n",
      "Counter = 388\n"
     ]
    },
    {
     "name": "stderr",
     "output_type": "stream",
     "text": [
      "<ipython-input-91-28d9966ce939>:20: SettingWithCopyWarning: \n",
      "A value is trying to be set on a copy of a slice from a DataFrame\n",
      "\n",
      "See the caveats in the documentation: https://pandas.pydata.org/pandas-docs/stable/user_guide/indexing.html#returning-a-view-versus-a-copy\n",
      "  df[\"description\"][i] = description\n"
     ]
    },
    {
     "name": "stdout",
     "output_type": "stream",
     "text": [
      "description : Una peculiar família llibertària en què dos oncles aparentment solters fan de pare i mare, una escola repressora, una església i forces de l'ordre omnipresents, uns bordells plàcids i uns cafès plens d'escalfor són alguns dels escenaris i personatges de G\n",
      "Counter = 389\n"
     ]
    },
    {
     "name": "stderr",
     "output_type": "stream",
     "text": [
      "<ipython-input-91-28d9966ce939>:20: SettingWithCopyWarning: \n",
      "A value is trying to be set on a copy of a slice from a DataFrame\n",
      "\n",
      "See the caveats in the documentation: https://pandas.pydata.org/pandas-docs/stable/user_guide/indexing.html#returning-a-view-versus-a-copy\n",
      "  df[\"description\"][i] = description\n"
     ]
    },
    {
     "name": "stdout",
     "output_type": "stream",
     "text": [
      "description : Si eres mujer, esposa, madre o hija, no dejes de leer este libro divertido y mordaz que cuenta la historia de Carmen, una mujer independiente que lucha por ser ella misma a pesar de las innumerables trampas que le tiende su propia condición femenina: hijos que reclaman atención, maridos que desaparecen, perros que hay que pasear, jefes incompetentes que es preciso aguantar, ligues inesperados que hay que quitarse de encima, endemoniadas instrucciones de cremas de belleza que hay que descifrar... En fin, la permanente carrera de obstáculos que cualquier mujer tiene que salvar sin morir en el intento.\n",
      "Counter = 390\n"
     ]
    },
    {
     "name": "stderr",
     "output_type": "stream",
     "text": [
      "<ipython-input-91-28d9966ce939>:20: SettingWithCopyWarning: \n",
      "A value is trying to be set on a copy of a slice from a DataFrame\n",
      "\n",
      "See the caveats in the documentation: https://pandas.pydata.org/pandas-docs/stable/user_guide/indexing.html#returning-a-view-versus-a-copy\n",
      "  df[\"description\"][i] = description\n"
     ]
    },
    {
     "name": "stdout",
     "output_type": "stream",
     "text": [
      "description : Een Ierse en een Amerikaanse, beiden met hun eigen verdriet, besluiten tijdens een zomer van huis te ruilen om te proberen tot rust te komen in een andere omgeving.\n",
      "Counter = 391\n"
     ]
    },
    {
     "name": "stderr",
     "output_type": "stream",
     "text": [
      "<ipython-input-91-28d9966ce939>:29: SettingWithCopyWarning: \n",
      "A value is trying to be set on a copy of a slice from a DataFrame\n",
      "\n",
      "See the caveats in the documentation: https://pandas.pydata.org/pandas-docs/stable/user_guide/indexing.html#returning-a-view-versus-a-copy\n",
      "  df[\"description\"][i] = description\n"
     ]
    },
    {
     "name": "stdout",
     "output_type": "stream",
     "text": [
      "NaN\n",
      "......................................................................................................\n",
      "Counter = 392\n"
     ]
    },
    {
     "name": "stderr",
     "output_type": "stream",
     "text": [
      "<ipython-input-91-28d9966ce939>:29: SettingWithCopyWarning: \n",
      "A value is trying to be set on a copy of a slice from a DataFrame\n",
      "\n",
      "See the caveats in the documentation: https://pandas.pydata.org/pandas-docs/stable/user_guide/indexing.html#returning-a-view-versus-a-copy\n",
      "  df[\"description\"][i] = description\n"
     ]
    },
    {
     "name": "stdout",
     "output_type": "stream",
     "text": [
      "NaN\n",
      "......................................................................................................\n",
      "Counter = 393\n"
     ]
    },
    {
     "name": "stderr",
     "output_type": "stream",
     "text": [
      "<ipython-input-91-28d9966ce939>:20: SettingWithCopyWarning: \n",
      "A value is trying to be set on a copy of a slice from a DataFrame\n",
      "\n",
      "See the caveats in the documentation: https://pandas.pydata.org/pandas-docs/stable/user_guide/indexing.html#returning-a-view-versus-a-copy\n",
      "  df[\"description\"][i] = description\n"
     ]
    },
    {
     "name": "stdout",
     "output_type": "stream",
     "text": [
      "description : This epic novel is centred on Napoleon's war with Russia. It expresses Tolstoy's view that history is an inexorable process which man cannot influence. Three of the characters, Natasha Rostov, artless and delightful ; Prince Andrew Bolkonsky, world-weary ; and Pierre Bezukhov, idealistic; illustrate Tolstoy's philosophy.\n",
      "Counter = 394\n"
     ]
    },
    {
     "name": "stderr",
     "output_type": "stream",
     "text": [
      "<ipython-input-91-28d9966ce939>:29: SettingWithCopyWarning: \n",
      "A value is trying to be set on a copy of a slice from a DataFrame\n",
      "\n",
      "See the caveats in the documentation: https://pandas.pydata.org/pandas-docs/stable/user_guide/indexing.html#returning-a-view-versus-a-copy\n",
      "  df[\"description\"][i] = description\n"
     ]
    },
    {
     "name": "stdout",
     "output_type": "stream",
     "text": [
      "NaN\n",
      "......................................................................................................\n",
      "Counter = 395\n"
     ]
    },
    {
     "name": "stderr",
     "output_type": "stream",
     "text": [
      "<ipython-input-91-28d9966ce939>:20: SettingWithCopyWarning: \n",
      "A value is trying to be set on a copy of a slice from a DataFrame\n",
      "\n",
      "See the caveats in the documentation: https://pandas.pydata.org/pandas-docs/stable/user_guide/indexing.html#returning-a-view-versus-a-copy\n",
      "  df[\"description\"][i] = description\n"
     ]
    },
    {
     "name": "stdout",
     "output_type": "stream",
     "text": [
      "description : What does it really mean to be a man? What are some of the landmarks along the road to mature masculinity? And what of the feminine components of a man's personality? Robert A. Johnson explores these questions in this new edition of He, updated to reflect his thinking on these subjects. Book jacket.\n",
      "Counter = 396\n"
     ]
    },
    {
     "name": "stderr",
     "output_type": "stream",
     "text": [
      "<ipython-input-91-28d9966ce939>:20: SettingWithCopyWarning: \n",
      "A value is trying to be set on a copy of a slice from a DataFrame\n",
      "\n",
      "See the caveats in the documentation: https://pandas.pydata.org/pandas-docs/stable/user_guide/indexing.html#returning-a-view-versus-a-copy\n",
      "  df[\"description\"][i] = description\n"
     ]
    },
    {
     "name": "stdout",
     "output_type": "stream",
     "text": [
      "description : Ni era frances, ni su muerte se debio a un accidente, ni su madre fue una planchadora ejemplar. Como iran mostrando Losada y Romeu, el viejo periodista y el scritor que impulsan esta novela, la vida de Carlos Gardel fue mucho mas sordida de lo que ha pretendido la edulacorada version oficial. Su autentico padre, para empezar, era un coronel uruguayo que en el fondo de su origen se ocultabauna historia espeluznante de violacion, estupro e incesto.Gardel, o mejor dicho, el Gardel que creemos conocer, no es mas que una invencion: primero el propio cantor para forjarse una identidad de la que carecia como hijo ilegitimo, y luego de quienes se hicieron con su cuantioso legado mediante la minuciosa manipulacion postuma.Manejando con toda soltura una rigurosa base documental y alternando de manera apasionante la investigacion y la pura narracion, Horacio Vazquez-Rial reconstruye en Las dos muertes de Gardel el proceso de creacion del personaje que habria de ascender, como Evita, al santoral de laimaginacion popular, y deja trazada al propio tiempo la silueta de un Gardel muy distinto -mas humano y desvalido-, que modificara definitivamente la imagen que todavia se tiene de el.\n",
      "Counter = 397\n"
     ]
    },
    {
     "name": "stderr",
     "output_type": "stream",
     "text": [
      "<ipython-input-91-28d9966ce939>:20: SettingWithCopyWarning: \n",
      "A value is trying to be set on a copy of a slice from a DataFrame\n",
      "\n",
      "See the caveats in the documentation: https://pandas.pydata.org/pandas-docs/stable/user_guide/indexing.html#returning-a-view-versus-a-copy\n",
      "  df[\"description\"][i] = description\n"
     ]
    },
    {
     "name": "stdout",
     "output_type": "stream",
     "text": [
      "description : Describes how the Internet began, how to get online, and what to do there.\n",
      "Counter = 398\n"
     ]
    },
    {
     "name": "stderr",
     "output_type": "stream",
     "text": [
      "<ipython-input-91-28d9966ce939>:20: SettingWithCopyWarning: \n",
      "A value is trying to be set on a copy of a slice from a DataFrame\n",
      "\n",
      "See the caveats in the documentation: https://pandas.pydata.org/pandas-docs/stable/user_guide/indexing.html#returning-a-view-versus-a-copy\n",
      "  df[\"description\"][i] = description\n"
     ]
    },
    {
     "name": "stdout",
     "output_type": "stream",
     "text": [
      "description : Provides an overview of what is involved in veterinary medicine and related fields.\n",
      "Counter = 399\n"
     ]
    },
    {
     "name": "stderr",
     "output_type": "stream",
     "text": [
      "<ipython-input-91-28d9966ce939>:20: SettingWithCopyWarning: \n",
      "A value is trying to be set on a copy of a slice from a DataFrame\n",
      "\n",
      "See the caveats in the documentation: https://pandas.pydata.org/pandas-docs/stable/user_guide/indexing.html#returning-a-view-versus-a-copy\n",
      "  df[\"description\"][i] = description\n"
     ]
    },
    {
     "name": "stdout",
     "output_type": "stream",
     "text": [
      "description : An evocation of the day-to-day life of women in the Civil War era follows Alice, whose husband has left their Iowa farm for the war, as she copes with the farm life and lives normally, until suddenly being accused of murder. Reprint.\n",
      "Counter = 400\n"
     ]
    },
    {
     "name": "stderr",
     "output_type": "stream",
     "text": [
      "<ipython-input-91-28d9966ce939>:20: SettingWithCopyWarning: \n",
      "A value is trying to be set on a copy of a slice from a DataFrame\n",
      "\n",
      "See the caveats in the documentation: https://pandas.pydata.org/pandas-docs/stable/user_guide/indexing.html#returning-a-view-versus-a-copy\n",
      "  df[\"description\"][i] = description\n"
     ]
    },
    {
     "name": "stdout",
     "output_type": "stream",
     "text": [
      "description : Dor, heir to the throne of Xanth, must rescue King Trent, who has vanished on a trip to non-magical Mundania. Copyright © Libri GmbH. All rights reserved.\n",
      "Counter = 401\n"
     ]
    },
    {
     "name": "stderr",
     "output_type": "stream",
     "text": [
      "<ipython-input-91-28d9966ce939>:20: SettingWithCopyWarning: \n",
      "A value is trying to be set on a copy of a slice from a DataFrame\n",
      "\n",
      "See the caveats in the documentation: https://pandas.pydata.org/pandas-docs/stable/user_guide/indexing.html#returning-a-view-versus-a-copy\n",
      "  df[\"description\"][i] = description\n"
     ]
    },
    {
     "name": "stdout",
     "output_type": "stream",
     "text": [
      "description : Jordan had a talent for recovering from almost any injury if enough of his body could be assembled to grow together, but this time he was dead and his bones were scattered. Could he find enough of them to bring himself back to life? Copyright © Libri GmbH. All rights reserved.\n",
      "Counter = 402\n"
     ]
    },
    {
     "name": "stderr",
     "output_type": "stream",
     "text": [
      "<ipython-input-91-28d9966ce939>:20: SettingWithCopyWarning: \n",
      "A value is trying to be set on a copy of a slice from a DataFrame\n",
      "\n",
      "See the caveats in the documentation: https://pandas.pydata.org/pandas-docs/stable/user_guide/indexing.html#returning-a-view-versus-a-copy\n",
      "  df[\"description\"][i] = description\n"
     ]
    },
    {
     "name": "stdout",
     "output_type": "stream",
     "text": [
      "description : At a time when the number of Dragonriders has fallen too low for safety and only one Weyr trains the creatures and their riders, the Red Star approaches Pern, threatening the planet with disaster. Reissue.\n",
      "Counter = 403\n"
     ]
    },
    {
     "name": "stderr",
     "output_type": "stream",
     "text": [
      "<ipython-input-91-28d9966ce939>:20: SettingWithCopyWarning: \n",
      "A value is trying to be set on a copy of a slice from a DataFrame\n",
      "\n",
      "See the caveats in the documentation: https://pandas.pydata.org/pandas-docs/stable/user_guide/indexing.html#returning-a-view-versus-a-copy\n",
      "  df[\"description\"][i] = description\n"
     ]
    },
    {
     "name": "stdout",
     "output_type": "stream",
     "text": [
      "description : Thirty-five-year-old careerwoman Ellen Green wants a child, but her boyfriend Malcolm doesn't, so she is forced to consider the option of single motherhood, in a new novel by the best-selling author of Animal Husbandry.\n",
      "Counter = 404\n"
     ]
    },
    {
     "name": "stderr",
     "output_type": "stream",
     "text": [
      "<ipython-input-91-28d9966ce939>:20: SettingWithCopyWarning: \n",
      "A value is trying to be set on a copy of a slice from a DataFrame\n",
      "\n",
      "See the caveats in the documentation: https://pandas.pydata.org/pandas-docs/stable/user_guide/indexing.html#returning-a-view-versus-a-copy\n",
      "  df[\"description\"][i] = description\n"
     ]
    },
    {
     "name": "stdout",
     "output_type": "stream",
     "text": [
      "description : Mitch McDeere, a Harvard Law graduate, becomes suspicious of his Memphis tax firm when mysterious deaths, obsessive office security, and the Chicago Mob figure into its operations. Reprint. Movie tie-in.\n",
      "Counter = 405\n"
     ]
    },
    {
     "name": "stderr",
     "output_type": "stream",
     "text": [
      "<ipython-input-91-28d9966ce939>:20: SettingWithCopyWarning: \n",
      "A value is trying to be set on a copy of a slice from a DataFrame\n",
      "\n",
      "See the caveats in the documentation: https://pandas.pydata.org/pandas-docs/stable/user_guide/indexing.html#returning-a-view-versus-a-copy\n",
      "  df[\"description\"][i] = description\n"
     ]
    },
    {
     "name": "stdout",
     "output_type": "stream",
     "text": [
      "description : At an election eve gala, a woman is found dead, and one of the presidential candidates and his mysterious family members prove their propensity for murder\n",
      "Counter = 406\n"
     ]
    },
    {
     "name": "stderr",
     "output_type": "stream",
     "text": [
      "<ipython-input-91-28d9966ce939>:20: SettingWithCopyWarning: \n",
      "A value is trying to be set on a copy of a slice from a DataFrame\n",
      "\n",
      "See the caveats in the documentation: https://pandas.pydata.org/pandas-docs/stable/user_guide/indexing.html#returning-a-view-versus-a-copy\n",
      "  df[\"description\"][i] = description\n"
     ]
    },
    {
     "name": "stdout",
     "output_type": "stream",
     "text": [
      "description : A collection of over 10,000 records covering every field of human and non-human endeavor.\n",
      "Counter = 407\n"
     ]
    },
    {
     "name": "stderr",
     "output_type": "stream",
     "text": [
      "<ipython-input-91-28d9966ce939>:20: SettingWithCopyWarning: \n",
      "A value is trying to be set on a copy of a slice from a DataFrame\n",
      "\n",
      "See the caveats in the documentation: https://pandas.pydata.org/pandas-docs/stable/user_guide/indexing.html#returning-a-view-versus-a-copy\n",
      "  df[\"description\"][i] = description\n"
     ]
    },
    {
     "name": "stdout",
     "output_type": "stream",
     "text": [
      "description : Amber's life has changed dramatically--her parents are divorced, her father lives in France, her best friend has moved to another state, and now her mother must decide whether to remarry.\n",
      "Counter = 408\n"
     ]
    },
    {
     "name": "stderr",
     "output_type": "stream",
     "text": [
      "<ipython-input-91-28d9966ce939>:20: SettingWithCopyWarning: \n",
      "A value is trying to be set on a copy of a slice from a DataFrame\n",
      "\n",
      "See the caveats in the documentation: https://pandas.pydata.org/pandas-docs/stable/user_guide/indexing.html#returning-a-view-versus-a-copy\n",
      "  df[\"description\"][i] = description\n"
     ]
    },
    {
     "name": "stdout",
     "output_type": "stream",
     "text": [
      "description : Finding himself on a vast prison planet on which his twin brother is trapped, Clive Foliott encounters an array of adversarial dwarves, cyborgs, and aliens from different parts of time and space. Original.\n",
      "Counter = 409\n"
     ]
    },
    {
     "name": "stderr",
     "output_type": "stream",
     "text": [
      "<ipython-input-91-28d9966ce939>:20: SettingWithCopyWarning: \n",
      "A value is trying to be set on a copy of a slice from a DataFrame\n",
      "\n",
      "See the caveats in the documentation: https://pandas.pydata.org/pandas-docs/stable/user_guide/indexing.html#returning-a-view-versus-a-copy\n",
      "  df[\"description\"][i] = description\n"
     ]
    },
    {
     "name": "stdout",
     "output_type": "stream",
     "text": [
      "description : This novelization of a computer game from SSI features a diabolical cult, a malevolent pool, a terrifying plan, and four reluctant heroes. Includes a map based on locations in the computer game.\n",
      "Counter = 410\n"
     ]
    },
    {
     "name": "stderr",
     "output_type": "stream",
     "text": [
      "<ipython-input-91-28d9966ce939>:20: SettingWithCopyWarning: \n",
      "A value is trying to be set on a copy of a slice from a DataFrame\n",
      "\n",
      "See the caveats in the documentation: https://pandas.pydata.org/pandas-docs/stable/user_guide/indexing.html#returning-a-view-versus-a-copy\n",
      "  df[\"description\"][i] = description\n"
     ]
    },
    {
     "name": "stdout",
     "output_type": "stream",
     "text": [
      "description : In the two decades since Feminism and Suffrage was first published, the increased presence of women in politics and the gender gap in voting patterns have focused renewed attention on an issue generally perceived as nineteenth-century. For this new edition, Ellen Carol DuBois addresses the changing context for the history of woman suffrage at the millennium.\n",
      "Counter = 411\n"
     ]
    },
    {
     "name": "stderr",
     "output_type": "stream",
     "text": [
      "<ipython-input-91-28d9966ce939>:20: SettingWithCopyWarning: \n",
      "A value is trying to be set on a copy of a slice from a DataFrame\n",
      "\n",
      "See the caveats in the documentation: https://pandas.pydata.org/pandas-docs/stable/user_guide/indexing.html#returning-a-view-versus-a-copy\n",
      "  df[\"description\"][i] = description\n"
     ]
    },
    {
     "name": "stdout",
     "output_type": "stream",
     "text": [
      "description : Third-grader Amber Cantrell discovers that boys and girls don't always think alike, when a classmate asks both Amber and her friend Delight to marry him and when her father starts dating a younger woman.\n",
      "Counter = 412\n"
     ]
    },
    {
     "name": "stderr",
     "output_type": "stream",
     "text": [
      "<ipython-input-91-28d9966ce939>:20: SettingWithCopyWarning: \n",
      "A value is trying to be set on a copy of a slice from a DataFrame\n",
      "\n",
      "See the caveats in the documentation: https://pandas.pydata.org/pandas-docs/stable/user_guide/indexing.html#returning-a-view-versus-a-copy\n",
      "  df[\"description\"][i] = description\n"
     ]
    },
    {
     "name": "stdout",
     "output_type": "stream",
     "text": [
      "description : In a parody of the best-selling Griffin & Sabine, an angst-ridden young man and his eccentric, meddlesome mother trade blows over his latest infatuation in a series of hilarious letters. 75,000 first printing.\n",
      "Counter = 413\n"
     ]
    },
    {
     "name": "stderr",
     "output_type": "stream",
     "text": [
      "<ipython-input-91-28d9966ce939>:20: SettingWithCopyWarning: \n",
      "A value is trying to be set on a copy of a slice from a DataFrame\n",
      "\n",
      "See the caveats in the documentation: https://pandas.pydata.org/pandas-docs/stable/user_guide/indexing.html#returning-a-view-versus-a-copy\n",
      "  df[\"description\"][i] = description\n"
     ]
    },
    {
     "name": "stdout",
     "output_type": "stream",
     "text": [
      "description : A horse in nineteenth-century England recounts his experiences with both good and bad masters.\n",
      "Counter = 414\n"
     ]
    },
    {
     "name": "stderr",
     "output_type": "stream",
     "text": [
      "<ipython-input-91-28d9966ce939>:20: SettingWithCopyWarning: \n",
      "A value is trying to be set on a copy of a slice from a DataFrame\n",
      "\n",
      "See the caveats in the documentation: https://pandas.pydata.org/pandas-docs/stable/user_guide/indexing.html#returning-a-view-versus-a-copy\n",
      "  df[\"description\"][i] = description\n"
     ]
    },
    {
     "name": "stdout",
     "output_type": "stream",
     "text": [
      "description : Nine-year-old orphaned Oliver Twist escapes a workhouse and travels to London to seek a better life.\n",
      "Counter = 415\n"
     ]
    },
    {
     "name": "stderr",
     "output_type": "stream",
     "text": [
      "<ipython-input-91-28d9966ce939>:20: SettingWithCopyWarning: \n",
      "A value is trying to be set on a copy of a slice from a DataFrame\n",
      "\n",
      "See the caveats in the documentation: https://pandas.pydata.org/pandas-docs/stable/user_guide/indexing.html#returning-a-view-versus-a-copy\n",
      "  df[\"description\"][i] = description\n"
     ]
    },
    {
     "name": "stdout",
     "output_type": "stream",
     "text": [
      "description : Text and photographs describe the lives of the wild ponies of Assateague including the annual pony penning on nearby Chincoteague Island.\n",
      "Counter = 416\n"
     ]
    },
    {
     "name": "stderr",
     "output_type": "stream",
     "text": [
      "<ipython-input-91-28d9966ce939>:20: SettingWithCopyWarning: \n",
      "A value is trying to be set on a copy of a slice from a DataFrame\n",
      "\n",
      "See the caveats in the documentation: https://pandas.pydata.org/pandas-docs/stable/user_guide/indexing.html#returning-a-view-versus-a-copy\n",
      "  df[\"description\"][i] = description\n"
     ]
    },
    {
     "name": "stdout",
     "output_type": "stream",
     "text": [
      "description : The monster was supposed to be man's benefactor, but, scorned for his ugliness, he swears revenge on his creator and the human race.\n",
      "Counter = 417\n"
     ]
    },
    {
     "name": "stderr",
     "output_type": "stream",
     "text": [
      "<ipython-input-91-28d9966ce939>:20: SettingWithCopyWarning: \n",
      "A value is trying to be set on a copy of a slice from a DataFrame\n",
      "\n",
      "See the caveats in the documentation: https://pandas.pydata.org/pandas-docs/stable/user_guide/indexing.html#returning-a-view-versus-a-copy\n",
      "  df[\"description\"][i] = description\n"
     ]
    },
    {
     "name": "stdout",
     "output_type": "stream",
     "text": [
      "description : Hester Prynne, a young woman in seventeenth century Massachusetts, is condemned by Puritan law to wear a scarlet \"A\" as the symbol of the sin she committed.\n",
      "Counter = 418\n"
     ]
    },
    {
     "name": "stderr",
     "output_type": "stream",
     "text": [
      "<ipython-input-91-28d9966ce939>:20: SettingWithCopyWarning: \n",
      "A value is trying to be set on a copy of a slice from a DataFrame\n",
      "\n",
      "See the caveats in the documentation: https://pandas.pydata.org/pandas-docs/stable/user_guide/indexing.html#returning-a-view-versus-a-copy\n",
      "  df[\"description\"][i] = description\n"
     ]
    },
    {
     "name": "stdout",
     "output_type": "stream",
     "text": [
      "description : Because of her father's adamant disapproval of her unwomanly ambition to be a Harper, Menolly, young girl of Pern, braves the deadly perils of Threadfall and redirects her life, aided by nine fire dragons.\n",
      "Counter = 419\n"
     ]
    },
    {
     "name": "stderr",
     "output_type": "stream",
     "text": [
      "<ipython-input-91-28d9966ce939>:20: SettingWithCopyWarning: \n",
      "A value is trying to be set on a copy of a slice from a DataFrame\n",
      "\n",
      "See the caveats in the documentation: https://pandas.pydata.org/pandas-docs/stable/user_guide/indexing.html#returning-a-view-versus-a-copy\n",
      "  df[\"description\"][i] = description\n"
     ]
    },
    {
     "name": "stdout",
     "output_type": "stream",
     "text": [
      "description : While spending the summer with her old nurse on the north English coast, a teen-age girl discovers that her presence in the nearby Watch House, a museum containing relics of shipwrecks and rescues, releases a powerful and evil ghost.\n",
      "Counter = 420\n"
     ]
    },
    {
     "name": "stderr",
     "output_type": "stream",
     "text": [
      "<ipython-input-91-28d9966ce939>:20: SettingWithCopyWarning: \n",
      "A value is trying to be set on a copy of a slice from a DataFrame\n",
      "\n",
      "See the caveats in the documentation: https://pandas.pydata.org/pandas-docs/stable/user_guide/indexing.html#returning-a-view-versus-a-copy\n",
      "  df[\"description\"][i] = description\n"
     ]
    },
    {
     "name": "stdout",
     "output_type": "stream",
     "text": [
      "description : Tells the story of a romance that begins with an absurd meeting between Barry, a food product manager who hasn't had a date in a year, and Justine, an ambitious lawyer at a hotshot New York mergers and acquisitions firm\n",
      "Counter = 421\n"
     ]
    },
    {
     "name": "stderr",
     "output_type": "stream",
     "text": [
      "<ipython-input-91-28d9966ce939>:20: SettingWithCopyWarning: \n",
      "A value is trying to be set on a copy of a slice from a DataFrame\n",
      "\n",
      "See the caveats in the documentation: https://pandas.pydata.org/pandas-docs/stable/user_guide/indexing.html#returning-a-view-versus-a-copy\n",
      "  df[\"description\"][i] = description\n"
     ]
    },
    {
     "name": "stdout",
     "output_type": "stream",
     "text": [
      "description : Having reopened her bedding shop, Cloud Nine, after recovering from a serious illness, Sarah Talbot rediscovers love when she meets former navy pilot Will Burke aboard a chartered flight while observing the autumn leaves of upstate New York. Reprint.\n",
      "Counter = 422\n"
     ]
    },
    {
     "name": "stderr",
     "output_type": "stream",
     "text": [
      "<ipython-input-91-28d9966ce939>:20: SettingWithCopyWarning: \n",
      "A value is trying to be set on a copy of a slice from a DataFrame\n",
      "\n",
      "See the caveats in the documentation: https://pandas.pydata.org/pandas-docs/stable/user_guide/indexing.html#returning-a-view-versus-a-copy\n",
      "  df[\"description\"][i] = description\n"
     ]
    },
    {
     "name": "stdout",
     "output_type": "stream",
     "text": [
      "description : The spirit of fourteen-year-old Susie Salmon describes her murder, her surprise at her new home in heaven, and her witness to her family's grief, efforts to find the killer, and attempts to come to terms with what has happened. A first novel. Reader's Guide included. Reprint. 750,000 first printing.\n",
      "Counter = 423\n"
     ]
    },
    {
     "name": "stderr",
     "output_type": "stream",
     "text": [
      "<ipython-input-91-28d9966ce939>:20: SettingWithCopyWarning: \n",
      "A value is trying to be set on a copy of a slice from a DataFrame\n",
      "\n",
      "See the caveats in the documentation: https://pandas.pydata.org/pandas-docs/stable/user_guide/indexing.html#returning-a-view-versus-a-copy\n",
      "  df[\"description\"][i] = description\n"
     ]
    },
    {
     "name": "stdout",
     "output_type": "stream",
     "text": [
      "description : The lives of two different couples--wealthy Los Angeles liberals Delaney and Kyra Mossbacher, and Candido and America Rincon, a pair of Mexican illegals--suddenly collide, in a story that unfolds from the shifting viewpoints of the various characters\n",
      "Counter = 424\n"
     ]
    },
    {
     "name": "stderr",
     "output_type": "stream",
     "text": [
      "<ipython-input-91-28d9966ce939>:20: SettingWithCopyWarning: \n",
      "A value is trying to be set on a copy of a slice from a DataFrame\n",
      "\n",
      "See the caveats in the documentation: https://pandas.pydata.org/pandas-docs/stable/user_guide/indexing.html#returning-a-view-versus-a-copy\n",
      "  df[\"description\"][i] = description\n"
     ]
    },
    {
     "name": "stdout",
     "output_type": "stream",
     "text": [
      "description : A New York City magazine editor and novelist returns home to the South when her closest childhood friend falls ill--and finds herself forced to choose between pursuing her career and rekindling her relationship with the man she has long considered the love of her life. NPR sponsorship.\n",
      "Counter = 425\n"
     ]
    },
    {
     "name": "stderr",
     "output_type": "stream",
     "text": [
      "<ipython-input-91-28d9966ce939>:20: SettingWithCopyWarning: \n",
      "A value is trying to be set on a copy of a slice from a DataFrame\n",
      "\n",
      "See the caveats in the documentation: https://pandas.pydata.org/pandas-docs/stable/user_guide/indexing.html#returning-a-view-versus-a-copy\n",
      "  df[\"description\"][i] = description\n"
     ]
    },
    {
     "name": "stdout",
     "output_type": "stream",
     "text": [
      "description : Chronicles the life of a complex, abrasive woman born in the shadow of her siblings' deaths and her parents' adultery, who only finds love after motherhood and widowhood\n",
      "Counter = 426\n"
     ]
    },
    {
     "name": "stderr",
     "output_type": "stream",
     "text": [
      "<ipython-input-91-28d9966ce939>:20: SettingWithCopyWarning: \n",
      "A value is trying to be set on a copy of a slice from a DataFrame\n",
      "\n",
      "See the caveats in the documentation: https://pandas.pydata.org/pandas-docs/stable/user_guide/indexing.html#returning-a-view-versus-a-copy\n",
      "  df[\"description\"][i] = description\n"
     ]
    },
    {
     "name": "stdout",
     "output_type": "stream",
     "text": [
      "description : Returning from the Great War a changed man, Byron Aldridge drifts away from his privileged and charmed life to take a job as a constable in a remote Louisiana sawmill, while his younger brother, taking over management of the mill, struggles to understand him, in an atmospheric novel of famiy, justice, and obligation. 30,000 first printing.\n",
      "Counter = 427\n"
     ]
    },
    {
     "name": "stderr",
     "output_type": "stream",
     "text": [
      "<ipython-input-91-28d9966ce939>:20: SettingWithCopyWarning: \n",
      "A value is trying to be set on a copy of a slice from a DataFrame\n",
      "\n",
      "See the caveats in the documentation: https://pandas.pydata.org/pandas-docs/stable/user_guide/indexing.html#returning-a-view-versus-a-copy\n",
      "  df[\"description\"][i] = description\n"
     ]
    },
    {
     "name": "stdout",
     "output_type": "stream",
     "text": [
      "description : Miles Roby tries to hold his family together while working at the Empire Grill in the once-successful logging town of Empire Falls while dealing with the imperious Mrs. Whiting, the heir to a faded logging and textile legacy, in this evocative novel by the author of Nobody's Fool. Reader's Guide available. Reprint. 150,000 first printing.\n",
      "Counter = 428\n"
     ]
    },
    {
     "name": "stderr",
     "output_type": "stream",
     "text": [
      "<ipython-input-91-28d9966ce939>:20: SettingWithCopyWarning: \n",
      "A value is trying to be set on a copy of a slice from a DataFrame\n",
      "\n",
      "See the caveats in the documentation: https://pandas.pydata.org/pandas-docs/stable/user_guide/indexing.html#returning-a-view-versus-a-copy\n",
      "  df[\"description\"][i] = description\n"
     ]
    },
    {
     "name": "stdout",
     "output_type": "stream",
     "text": [
      "description : A novel of the future explores a world that has been devastated by ecological and scientific disasters.\n",
      "Counter = 429\n"
     ]
    },
    {
     "name": "stderr",
     "output_type": "stream",
     "text": [
      "<ipython-input-91-28d9966ce939>:20: SettingWithCopyWarning: \n",
      "A value is trying to be set on a copy of a slice from a DataFrame\n",
      "\n",
      "See the caveats in the documentation: https://pandas.pydata.org/pandas-docs/stable/user_guide/indexing.html#returning-a-view-versus-a-copy\n",
      "  df[\"description\"][i] = description\n"
     ]
    },
    {
     "name": "stdout",
     "output_type": "stream",
     "text": [
      "description : A novel about the history of philosophy chronicles the story of a teenaged girl who discovers a mysterious letter in her mailbox and embarks on a journey of philosophical discovery, taking her from Socrates to Sartre and beyond. Reprint.\n",
      "Counter = 430\n"
     ]
    },
    {
     "name": "stderr",
     "output_type": "stream",
     "text": [
      "<ipython-input-91-28d9966ce939>:20: SettingWithCopyWarning: \n",
      "A value is trying to be set on a copy of a slice from a DataFrame\n",
      "\n",
      "See the caveats in the documentation: https://pandas.pydata.org/pandas-docs/stable/user_guide/indexing.html#returning-a-view-versus-a-copy\n",
      "  df[\"description\"][i] = description\n"
     ]
    },
    {
     "name": "stdout",
     "output_type": "stream",
     "text": [
      "description : After her passionate marriage deteriorates into a violent nightmare, Fran Benedetto is forced to start a new life, complete with a new identity\n",
      "Counter = 431\n"
     ]
    },
    {
     "name": "stderr",
     "output_type": "stream",
     "text": [
      "<ipython-input-91-28d9966ce939>:20: SettingWithCopyWarning: \n",
      "A value is trying to be set on a copy of a slice from a DataFrame\n",
      "\n",
      "See the caveats in the documentation: https://pandas.pydata.org/pandas-docs/stable/user_guide/indexing.html#returning-a-view-versus-a-copy\n",
      "  df[\"description\"][i] = description\n"
     ]
    },
    {
     "name": "stdout",
     "output_type": "stream",
     "text": [
      "description : When Roxanne Walker de Persand's husband leaves her pregnant and alone, she turns for help to her sister, Isabel, but the de Persand family subtly governs her choice for divorce, especially since she has a painting worth millions in her possession. Reprint.\n",
      "Counter = 432\n"
     ]
    },
    {
     "name": "stderr",
     "output_type": "stream",
     "text": [
      "<ipython-input-91-28d9966ce939>:20: SettingWithCopyWarning: \n",
      "A value is trying to be set on a copy of a slice from a DataFrame\n",
      "\n",
      "See the caveats in the documentation: https://pandas.pydata.org/pandas-docs/stable/user_guide/indexing.html#returning-a-view-versus-a-copy\n",
      "  df[\"description\"][i] = description\n"
     ]
    },
    {
     "name": "stdout",
     "output_type": "stream",
     "text": [
      "description : When a Hollywood star becomes the target of a twisted killer, ex-cop Ethan Truman confronts the secrets of his tragic past and premonitions of his own impending violent death as he struggles to solve the macabre riddles of a killer.\n",
      "Counter = 433\n"
     ]
    },
    {
     "name": "stderr",
     "output_type": "stream",
     "text": [
      "<ipython-input-91-28d9966ce939>:20: SettingWithCopyWarning: \n",
      "A value is trying to be set on a copy of a slice from a DataFrame\n",
      "\n",
      "See the caveats in the documentation: https://pandas.pydata.org/pandas-docs/stable/user_guide/indexing.html#returning-a-view-versus-a-copy\n",
      "  df[\"description\"][i] = description\n"
     ]
    },
    {
     "name": "stdout",
     "output_type": "stream",
     "text": [
      "description : In this extraordinary coming-of-age odyssey, Wally Lamb invites us to hitch a wild ride on a journey of love, pain, and renewal with the most heartbreakingly comical heroine to come along in years. Meet Dolores Price. She's 13, wise-mouthed but wounded, having bid her childhood goodbye. Stranded in front of her bedroom TV, she spends the next few years nourishing herself with the Mallomars, potato chips, and Pepsi her anxious mother supplies. When she finally orbits into young womanhood at 257 pounds, Dolores is no stronger and life is no kinder. But this time she's determined to rise to the occasion and give herself one more chance before she really goes under.\n",
      "Counter = 434\n"
     ]
    },
    {
     "name": "stderr",
     "output_type": "stream",
     "text": [
      "<ipython-input-91-28d9966ce939>:20: SettingWithCopyWarning: \n",
      "A value is trying to be set on a copy of a slice from a DataFrame\n",
      "\n",
      "See the caveats in the documentation: https://pandas.pydata.org/pandas-docs/stable/user_guide/indexing.html#returning-a-view-versus-a-copy\n",
      "  df[\"description\"][i] = description\n"
     ]
    },
    {
     "name": "stdout",
     "output_type": "stream",
     "text": [
      "description : The daughter of a wealthy Hong Kong businessman describes her very difficult childhood and the psychological abuse she suffered at the hands of her stepmother\n",
      "Counter = 435\n"
     ]
    },
    {
     "name": "stderr",
     "output_type": "stream",
     "text": [
      "<ipython-input-91-28d9966ce939>:20: SettingWithCopyWarning: \n",
      "A value is trying to be set on a copy of a slice from a DataFrame\n",
      "\n",
      "See the caveats in the documentation: https://pandas.pydata.org/pandas-docs/stable/user_guide/indexing.html#returning-a-view-versus-a-copy\n",
      "  df[\"description\"][i] = description\n"
     ]
    },
    {
     "name": "stdout",
     "output_type": "stream",
     "text": [
      "description : The New York Times bestseller, and one of the most talked about books of the year, Nickel and Dimed has already become a classic of undercover reportage. Millions of Americans work for poverty-level wages, and one day Barbara Ehrenreich decided to join them. She was inspired in part by the rhetoric surrounding welfare reform, which promised that any job equals a better life. But how can anyone survive, let alone prosper, on $6 to $7 an hour? To find out, Ehrenreich moved from Florida to Maine to Minnesota, taking the cheapest lodgings available and accepting work as a waitress, hotel maid, house cleaner, nursing-home aide, and Wal-Mart salesperson. She soon discovered that even the \"lowliest\" occupations require exhausting mental and physical efforts. And one job is not enough; you need at least two if you intend to live indoors. Nickel and Dimed reveals low-wage America in all its tenacity, anxiety, and surprising generosity -- a land of Big Boxes, fast food, and a thousand desperate strategies for survival. Instantly acclaimed for its insight, humor, and passion, this book is changing the way America perceives its working poor.\n",
      "Counter = 436\n"
     ]
    },
    {
     "name": "stderr",
     "output_type": "stream",
     "text": [
      "<ipython-input-91-28d9966ce939>:20: SettingWithCopyWarning: \n",
      "A value is trying to be set on a copy of a slice from a DataFrame\n",
      "\n",
      "See the caveats in the documentation: https://pandas.pydata.org/pandas-docs/stable/user_guide/indexing.html#returning-a-view-versus-a-copy\n",
      "  df[\"description\"][i] = description\n"
     ]
    },
    {
     "name": "stdout",
     "output_type": "stream",
     "text": [
      "description : In 1547, as the Scots prepare for war against England, a ship arrives from Campvere with an illicit cargo and Francis Crawford of Lymond, a dangerous nobleman, accused of treason and hunted by friend and foe alike, who leads a company of outlaws in his struggle to redeem his reputation. Reprint. 20,000 first printing.\n",
      "Counter = 437\n"
     ]
    },
    {
     "name": "stderr",
     "output_type": "stream",
     "text": [
      "<ipython-input-91-28d9966ce939>:20: SettingWithCopyWarning: \n",
      "A value is trying to be set on a copy of a slice from a DataFrame\n",
      "\n",
      "See the caveats in the documentation: https://pandas.pydata.org/pandas-docs/stable/user_guide/indexing.html#returning-a-view-versus-a-copy\n",
      "  df[\"description\"][i] = description\n"
     ]
    },
    {
     "name": "stdout",
     "output_type": "stream",
     "text": [
      "description : World powers clash for dominance as a beautiful Russian woman carries out a staggering mission and a derelict English publisher becomes the unlikely recipient of the Soviet Union's top defense secret\n",
      "Counter = 438\n"
     ]
    },
    {
     "name": "stderr",
     "output_type": "stream",
     "text": [
      "<ipython-input-91-28d9966ce939>:20: SettingWithCopyWarning: \n",
      "A value is trying to be set on a copy of a slice from a DataFrame\n",
      "\n",
      "See the caveats in the documentation: https://pandas.pydata.org/pandas-docs/stable/user_guide/indexing.html#returning-a-view-versus-a-copy\n",
      "  df[\"description\"][i] = description\n"
     ]
    },
    {
     "name": "stdout",
     "output_type": "stream",
     "text": [
      "description : Challenges the reader to solve forty-seven crimes, and provides solutions\n",
      "Counter = 439\n"
     ]
    },
    {
     "name": "stderr",
     "output_type": "stream",
     "text": [
      "<ipython-input-91-28d9966ce939>:20: SettingWithCopyWarning: \n",
      "A value is trying to be set on a copy of a slice from a DataFrame\n",
      "\n",
      "See the caveats in the documentation: https://pandas.pydata.org/pandas-docs/stable/user_guide/indexing.html#returning-a-view-versus-a-copy\n",
      "  df[\"description\"][i] = description\n"
     ]
    },
    {
     "name": "stdout",
     "output_type": "stream",
     "text": [
      "description : Three faithful, middle-age wives, who have been abandoned for \"trophy wives\"--younger, blonder, and sexier models--by their successful husbands, decide to get even and seek public revenge before New York society\n",
      "Counter = 440\n"
     ]
    },
    {
     "name": "stderr",
     "output_type": "stream",
     "text": [
      "<ipython-input-91-28d9966ce939>:20: SettingWithCopyWarning: \n",
      "A value is trying to be set on a copy of a slice from a DataFrame\n",
      "\n",
      "See the caveats in the documentation: https://pandas.pydata.org/pandas-docs/stable/user_guide/indexing.html#returning-a-view-versus-a-copy\n",
      "  df[\"description\"][i] = description\n"
     ]
    },
    {
     "name": "stdout",
     "output_type": "stream",
     "text": [
      "description : Background information accompanies more than a hundred of Dickinson's brief poems\n",
      "Counter = 441\n"
     ]
    },
    {
     "name": "stderr",
     "output_type": "stream",
     "text": [
      "<ipython-input-91-28d9966ce939>:20: SettingWithCopyWarning: \n",
      "A value is trying to be set on a copy of a slice from a DataFrame\n",
      "\n",
      "See the caveats in the documentation: https://pandas.pydata.org/pandas-docs/stable/user_guide/indexing.html#returning-a-view-versus-a-copy\n",
      "  df[\"description\"][i] = description\n"
     ]
    },
    {
     "name": "stdout",
     "output_type": "stream",
     "text": [
      "description : Provides visual explanations and simple exercises to build painting skills, and offers eight projects highlighting different subjects from the planning stage to the completed painting\n",
      "Counter = 442\n"
     ]
    },
    {
     "name": "stderr",
     "output_type": "stream",
     "text": [
      "<ipython-input-91-28d9966ce939>:20: SettingWithCopyWarning: \n",
      "A value is trying to be set on a copy of a slice from a DataFrame\n",
      "\n",
      "See the caveats in the documentation: https://pandas.pydata.org/pandas-docs/stable/user_guide/indexing.html#returning-a-view-versus-a-copy\n",
      "  df[\"description\"][i] = description\n"
     ]
    },
    {
     "name": "stdout",
     "output_type": "stream",
     "text": [
      "description : But home is no more peaceful than it was during the \"time long ago\" remembered by Joshua. Violent, seemingly intractable disputes poison the very air. It falls to Joshua, retracing the path taken two millennia ago, to lead his followers to peace in this world as well as in the next. Joshua in the Holy Land will carry every reader back to where it all began. Copyright © Libri GmbH. All rights reserved.\n",
      "Counter = 443\n"
     ]
    },
    {
     "name": "stderr",
     "output_type": "stream",
     "text": [
      "<ipython-input-91-28d9966ce939>:20: SettingWithCopyWarning: \n",
      "A value is trying to be set on a copy of a slice from a DataFrame\n",
      "\n",
      "See the caveats in the documentation: https://pandas.pydata.org/pandas-docs/stable/user_guide/indexing.html#returning-a-view-versus-a-copy\n",
      "  df[\"description\"][i] = description\n"
     ]
    },
    {
     "name": "stdout",
     "output_type": "stream",
     "text": [
      "description : This book introduces us to female perspectives on nature. Over 90 selections, from Emily Dickinson to Alice Walker, span a century and encompass the voices of a variety of women--some known for their writing on nature, and several outstanding new voices\n",
      "Counter = 444\n"
     ]
    },
    {
     "name": "stderr",
     "output_type": "stream",
     "text": [
      "<ipython-input-91-28d9966ce939>:20: SettingWithCopyWarning: \n",
      "A value is trying to be set on a copy of a slice from a DataFrame\n",
      "\n",
      "See the caveats in the documentation: https://pandas.pydata.org/pandas-docs/stable/user_guide/indexing.html#returning-a-view-versus-a-copy\n",
      "  df[\"description\"][i] = description\n"
     ]
    },
    {
     "name": "stdout",
     "output_type": "stream",
     "text": [
      "description : After millions of people around the world vanish in one moment, in what many claim to be the Rapture, Rayford Steele begins a search for the truth amidst global chaos\n",
      "Counter = 445\n"
     ]
    },
    {
     "name": "stderr",
     "output_type": "stream",
     "text": [
      "<ipython-input-91-28d9966ce939>:20: SettingWithCopyWarning: \n",
      "A value is trying to be set on a copy of a slice from a DataFrame\n",
      "\n",
      "See the caveats in the documentation: https://pandas.pydata.org/pandas-docs/stable/user_guide/indexing.html#returning-a-view-versus-a-copy\n",
      "  df[\"description\"][i] = description\n"
     ]
    },
    {
     "name": "stdout",
     "output_type": "stream",
     "text": [
      "description : When his wife is offered her dream job, Linc Menner leaves his thriving landscape business in Los Angeles to move to Rochester, New York, and to take charge of the household, but he soon finds himself frustrated and bored, missing his wife who is working all hours and never has time for him anymore. A first novel.\n",
      "Counter = 446\n"
     ]
    },
    {
     "name": "stderr",
     "output_type": "stream",
     "text": [
      "<ipython-input-91-28d9966ce939>:20: SettingWithCopyWarning: \n",
      "A value is trying to be set on a copy of a slice from a DataFrame\n",
      "\n",
      "See the caveats in the documentation: https://pandas.pydata.org/pandas-docs/stable/user_guide/indexing.html#returning-a-view-versus-a-copy\n",
      "  df[\"description\"][i] = description\n"
     ]
    },
    {
     "name": "stdout",
     "output_type": "stream",
     "text": [
      "description : Who is Ted L. Nancy? He's a concerned hotel guest searching for a lost tooth... He's a superstitious Vegas high-roller who wants to gamble at a casino in his lucky shrimp outfit... He's the genius inventor of \"Six Day Underwear\"... He's a demanding dramatist seeking an audience for his play about his 26-year-old dog, Cinnamon... He's the proud owner of Charles, a 36-year-old cat who owes his longevity to a pet food company... He's a loyal fan of the King of Tonga... He is, in reality, a twisted prankster -- a supremely off-kilter alter ego who sends patently ridiculous letters and queries to (and receives surprisingly earnest responses back from) corporate honchos, entertainment conglomerates, national publications, politicians, celebrities and heads of state to everyone, in fact, from the president of the Bon Ami Cleanser Company to U.S. Vice President Al Gore. Letters From A Nut is an insanely inspired, truly madcap collection of Nancy correspondence, a laugh-out-loud-in-public-places aggregation of official -- and officially certifiable -- requests, complaints, fan mail and questions that could not possibly have been taken seriously...but, amazingly, were! Dear Mr. Nancy:\"It is not often that we receive such enthusiastic support for the paper bag.\" --The Paper Bag Council \"On behalf of Greyhound, there should be no problem traveling while in your butter costume.\" --Greyhound Bus Lines \"I look forward to working with you to create a better future for this great nation.\" -- Vice President Al Gore \"An unending stream of some of the most hilarious exchanges I've ever read. Everyone I lent this book to just read it and laughed out loud like I did. It's so simple, yet totally inventive. I'm sure some sort of mail fraud charges could be brought to stop this man but, personally, I hope they never catch him.\" --Jerry Seinfeld\n",
      "Counter = 447\n"
     ]
    },
    {
     "name": "stderr",
     "output_type": "stream",
     "text": [
      "<ipython-input-91-28d9966ce939>:20: SettingWithCopyWarning: \n",
      "A value is trying to be set on a copy of a slice from a DataFrame\n",
      "\n",
      "See the caveats in the documentation: https://pandas.pydata.org/pandas-docs/stable/user_guide/indexing.html#returning-a-view-versus-a-copy\n",
      "  df[\"description\"][i] = description\n"
     ]
    },
    {
     "name": "stdout",
     "output_type": "stream",
     "text": [
      "description : Looks at the life of the father of Communism, focusing primarily on the human side of the man rather than his works.\n",
      "Counter = 448\n"
     ]
    },
    {
     "name": "stderr",
     "output_type": "stream",
     "text": [
      "<ipython-input-91-28d9966ce939>:20: SettingWithCopyWarning: \n",
      "A value is trying to be set on a copy of a slice from a DataFrame\n",
      "\n",
      "See the caveats in the documentation: https://pandas.pydata.org/pandas-docs/stable/user_guide/indexing.html#returning-a-view-versus-a-copy\n",
      "  df[\"description\"][i] = description\n"
     ]
    },
    {
     "name": "stdout",
     "output_type": "stream",
     "text": [
      "description : Jack Torrance sees his stint as winter caretaker of a Colorado hotel as a way back from failure, his wife sees it as a chance to preserve their family, and their five-year-old son sees the evil waiting just for them, as they journey into a world in which old horrors come to life to destroy the living. Reissue.\n",
      "Counter = 449\n"
     ]
    },
    {
     "name": "stderr",
     "output_type": "stream",
     "text": [
      "<ipython-input-91-28d9966ce939>:20: SettingWithCopyWarning: \n",
      "A value is trying to be set on a copy of a slice from a DataFrame\n",
      "\n",
      "See the caveats in the documentation: https://pandas.pydata.org/pandas-docs/stable/user_guide/indexing.html#returning-a-view-versus-a-copy\n",
      "  df[\"description\"][i] = description\n"
     ]
    },
    {
     "name": "stdout",
     "output_type": "stream",
     "text": [
      "description : The turn-of-the-century journal of young bride Ellen Rimbauer describes her marriage to Seattle industrialist John Rimbauer and the nightmare living in the Rimbauer mansion, Rose Red, a site that would become the scene of many inexplicable tragedies.\n",
      "Counter = 450\n"
     ]
    },
    {
     "name": "stderr",
     "output_type": "stream",
     "text": [
      "<ipython-input-91-28d9966ce939>:20: SettingWithCopyWarning: \n",
      "A value is trying to be set on a copy of a slice from a DataFrame\n",
      "\n",
      "See the caveats in the documentation: https://pandas.pydata.org/pandas-docs/stable/user_guide/indexing.html#returning-a-view-versus-a-copy\n",
      "  df[\"description\"][i] = description\n"
     ]
    },
    {
     "name": "stdout",
     "output_type": "stream",
     "text": [
      "description : The Winthrops are America's royal family, and its Prince Charming is the sexy, charismatic Gary Winthrop. Now the man on his way to becoming the Senate's brightest new star is found murdered in his home-the latest in a series of incidents that have killed five members of the family in a single year. One of the last people to see Gary Winthrop alive is Washington anchorwoman Dana Evans. She makes it her mission to investigate these seemingly random tragedies, little realizing that her search will sweep her across several continents, place her and her young son in grave danger, and lead her to a truth that will astound the world.\n",
      "Counter = 451\n"
     ]
    },
    {
     "name": "stderr",
     "output_type": "stream",
     "text": [
      "<ipython-input-91-28d9966ce939>:20: SettingWithCopyWarning: \n",
      "A value is trying to be set on a copy of a slice from a DataFrame\n",
      "\n",
      "See the caveats in the documentation: https://pandas.pydata.org/pandas-docs/stable/user_guide/indexing.html#returning-a-view-versus-a-copy\n",
      "  df[\"description\"][i] = description\n"
     ]
    },
    {
     "name": "stdout",
     "output_type": "stream",
     "text": [
      "description : A bus driver takes his grandson along on Saturdays as he travels a historical route around New York City. What comes out of these travels is a series of wonderful adventures that culminates on Christmas Eve, when the bus gets stuck in a snowstorm. Watercolor illustrations.\n",
      "Counter = 452\n"
     ]
    },
    {
     "name": "stderr",
     "output_type": "stream",
     "text": [
      "<ipython-input-91-28d9966ce939>:20: SettingWithCopyWarning: \n",
      "A value is trying to be set on a copy of a slice from a DataFrame\n",
      "\n",
      "See the caveats in the documentation: https://pandas.pydata.org/pandas-docs/stable/user_guide/indexing.html#returning-a-view-versus-a-copy\n",
      "  df[\"description\"][i] = description\n"
     ]
    },
    {
     "name": "stdout",
     "output_type": "stream",
     "text": [
      "description : Follows the story of George Washington from the time he steps down from the presidency to return with Martha to his beloved Mount Vernon home, a period during which the couple shares a renewal of feelings from the early years of their marriage.\n",
      "Counter = 453\n"
     ]
    },
    {
     "name": "stderr",
     "output_type": "stream",
     "text": [
      "<ipython-input-91-28d9966ce939>:20: SettingWithCopyWarning: \n",
      "A value is trying to be set on a copy of a slice from a DataFrame\n",
      "\n",
      "See the caveats in the documentation: https://pandas.pydata.org/pandas-docs/stable/user_guide/indexing.html#returning-a-view-versus-a-copy\n",
      "  df[\"description\"][i] = description\n"
     ]
    },
    {
     "name": "stdout",
     "output_type": "stream",
     "text": [
      "description : Follows the line of the Saudi succession from its nineteenth-century origins to the present and chronicles the nation's ruling families' progression to an oil superpower.\n",
      "Counter = 454\n"
     ]
    },
    {
     "name": "stderr",
     "output_type": "stream",
     "text": [
      "<ipython-input-91-28d9966ce939>:20: SettingWithCopyWarning: \n",
      "A value is trying to be set on a copy of a slice from a DataFrame\n",
      "\n",
      "See the caveats in the documentation: https://pandas.pydata.org/pandas-docs/stable/user_guide/indexing.html#returning-a-view-versus-a-copy\n",
      "  df[\"description\"][i] = description\n"
     ]
    },
    {
     "name": "stdout",
     "output_type": "stream",
     "text": [
      "description : Local trivia buff Serge loves inflicting pain. Drug-addled Coleman, his partner in crime, loves cartoons. Hot stripper Sharon Rhodes loves cocaine, especially when purchased with righ dead men's money. Then there's Sean and David, who love fishing--and helping turtles cross busy thoroughfares. Unfortunately, they're about to cross paths with a suitcase filled with $5 million in stolen money. Serge wants the suitcase. Sharon wants the suitcase. Coleman wants more drugs...and the suitcase. A hitman wants Satan to reign supreme. A slimy, insurance-frauding dentist wants his fingers back. In the meantime, there's murder by gun, Space Shuttle, Barbie doll, and Levi's 501s. Welcome to Florida!\n",
      "Counter = 455\n"
     ]
    },
    {
     "name": "stderr",
     "output_type": "stream",
     "text": [
      "<ipython-input-91-28d9966ce939>:20: SettingWithCopyWarning: \n",
      "A value is trying to be set on a copy of a slice from a DataFrame\n",
      "\n",
      "See the caveats in the documentation: https://pandas.pydata.org/pandas-docs/stable/user_guide/indexing.html#returning-a-view-versus-a-copy\n",
      "  df[\"description\"][i] = description\n"
     ]
    },
    {
     "name": "stdout",
     "output_type": "stream",
     "text": [
      "description : A detective specializing in missing persons cases, Sarah Pribek becomes involved in a case that hits all too close to home, the mysterious disappearance of her own husband, a fellow police officer. A first novel. 150,000 first printing.\n",
      "Counter = 456\n"
     ]
    },
    {
     "name": "stderr",
     "output_type": "stream",
     "text": [
      "<ipython-input-91-28d9966ce939>:20: SettingWithCopyWarning: \n",
      "A value is trying to be set on a copy of a slice from a DataFrame\n",
      "\n",
      "See the caveats in the documentation: https://pandas.pydata.org/pandas-docs/stable/user_guide/indexing.html#returning-a-view-versus-a-copy\n",
      "  df[\"description\"][i] = description\n"
     ]
    },
    {
     "name": "stdout",
     "output_type": "stream",
     "text": [
      "description : Chili Palmer plunges into the seediest, most dangerous corners of Hollywood's music business\n",
      "Counter = 457\n"
     ]
    },
    {
     "name": "stderr",
     "output_type": "stream",
     "text": [
      "<ipython-input-91-28d9966ce939>:20: SettingWithCopyWarning: \n",
      "A value is trying to be set on a copy of a slice from a DataFrame\n",
      "\n",
      "See the caveats in the documentation: https://pandas.pydata.org/pandas-docs/stable/user_guide/indexing.html#returning-a-view-versus-a-copy\n",
      "  df[\"description\"][i] = description\n"
     ]
    },
    {
     "name": "stdout",
     "output_type": "stream",
     "text": [
      "description : A photo of Al Rosen saving guests in a hotel fire in Israel appears in daily newspapers across the United States, and from then on, everyone is looking for him, and somebody wants him dead\n",
      "Counter = 458\n"
     ]
    },
    {
     "name": "stderr",
     "output_type": "stream",
     "text": [
      "<ipython-input-91-28d9966ce939>:20: SettingWithCopyWarning: \n",
      "A value is trying to be set on a copy of a slice from a DataFrame\n",
      "\n",
      "See the caveats in the documentation: https://pandas.pydata.org/pandas-docs/stable/user_guide/indexing.html#returning-a-view-versus-a-copy\n",
      "  df[\"description\"][i] = description\n"
     ]
    },
    {
     "name": "stdout",
     "output_type": "stream",
     "text": [
      "description : Fatherless teen Guy Boucher finds himself at the center of an ugly rumor involving a popular girl, in a story told from the viewpoints of his overbearing uncle Isadore, the Shakespeare-loving Pam, a draft-dodging English teacher, and a pair of emotional golden boys.\n",
      "Counter = 459\n"
     ]
    },
    {
     "name": "stderr",
     "output_type": "stream",
     "text": [
      "<ipython-input-91-28d9966ce939>:20: SettingWithCopyWarning: \n",
      "A value is trying to be set on a copy of a slice from a DataFrame\n",
      "\n",
      "See the caveats in the documentation: https://pandas.pydata.org/pandas-docs/stable/user_guide/indexing.html#returning-a-view-versus-a-copy\n",
      "  df[\"description\"][i] = description\n"
     ]
    },
    {
     "name": "stdout",
     "output_type": "stream",
     "text": [
      "description : At the height of the Cold War, Chief Inspector Troy of Scotland Yard, assigned to both protect and spy on Khrushchev, investigates the killing of a Royal Navy diver and begins to suspect that one of his own colleagues may be responsible.\n",
      "Counter = 460\n"
     ]
    },
    {
     "name": "stderr",
     "output_type": "stream",
     "text": [
      "<ipython-input-91-28d9966ce939>:20: SettingWithCopyWarning: \n",
      "A value is trying to be set on a copy of a slice from a DataFrame\n",
      "\n",
      "See the caveats in the documentation: https://pandas.pydata.org/pandas-docs/stable/user_guide/indexing.html#returning-a-view-versus-a-copy\n",
      "  df[\"description\"][i] = description\n"
     ]
    },
    {
     "name": "stdout",
     "output_type": "stream",
     "text": [
      "description : Provides recipes ranging from traditional Buddhist-style preparations to the author's own personal creations and offers tips on cooking techniques\n",
      "Counter = 461\n"
     ]
    },
    {
     "name": "stderr",
     "output_type": "stream",
     "text": [
      "<ipython-input-91-28d9966ce939>:20: SettingWithCopyWarning: \n",
      "A value is trying to be set on a copy of a slice from a DataFrame\n",
      "\n",
      "See the caveats in the documentation: https://pandas.pydata.org/pandas-docs/stable/user_guide/indexing.html#returning-a-view-versus-a-copy\n",
      "  df[\"description\"][i] = description\n"
     ]
    },
    {
     "name": "stdout",
     "output_type": "stream",
     "text": [
      "description : Offers meditations on fasts and feasts, God's presence, prayer, interior visualization, the emotions, healing, intercession, joy, and thanksgiving\n",
      "Counter = 462\n"
     ]
    },
    {
     "name": "stderr",
     "output_type": "stream",
     "text": [
      "<ipython-input-91-28d9966ce939>:20: SettingWithCopyWarning: \n",
      "A value is trying to be set on a copy of a slice from a DataFrame\n",
      "\n",
      "See the caveats in the documentation: https://pandas.pydata.org/pandas-docs/stable/user_guide/indexing.html#returning-a-view-versus-a-copy\n",
      "  df[\"description\"][i] = description\n"
     ]
    },
    {
     "name": "stdout",
     "output_type": "stream",
     "text": [
      "description : Young, bright Taylor Greer leaves her poverty-stricken life in Kentucky and heads west, picking up an abandoned Native American baby girl whom she names Turtle and finds a new home in Tucson with Mattie, an old woman who takes in Central American refugees\n",
      "Counter = 463\n"
     ]
    },
    {
     "name": "stderr",
     "output_type": "stream",
     "text": [
      "<ipython-input-91-28d9966ce939>:20: SettingWithCopyWarning: \n",
      "A value is trying to be set on a copy of a slice from a DataFrame\n",
      "\n",
      "See the caveats in the documentation: https://pandas.pydata.org/pandas-docs/stable/user_guide/indexing.html#returning-a-view-versus-a-copy\n",
      "  df[\"description\"][i] = description\n"
     ]
    },
    {
     "name": "stdout",
     "output_type": "stream",
     "text": [
      "description : With the same wit and sensitivity that have come to characterize her highly praised and beloved novels Animal Dreams and The Bean Trees, Barbara Kingsolver gives us a rich and emotionally resonant collection of twelve stories. Spreading her memorable characters over landscapes ranging from northern-California to the hills of eastern Kentucky and the Caribbean island of St. Lucia, Kingsolver tells stories of hope, momentary joy, and powerful endurance. In every setting, Kingsolver's distinctive voice -- at times comic, but often heartrending -- rings true as she explores the twin themes of family ties and the life choices one must ultimately make alone. Homeland and Other Stories creates a world of love and possibility that readers will want to take as their own.\n",
      "Counter = 464\n"
     ]
    },
    {
     "name": "stderr",
     "output_type": "stream",
     "text": [
      "<ipython-input-91-28d9966ce939>:20: SettingWithCopyWarning: \n",
      "A value is trying to be set on a copy of a slice from a DataFrame\n",
      "\n",
      "See the caveats in the documentation: https://pandas.pydata.org/pandas-docs/stable/user_guide/indexing.html#returning-a-view-versus-a-copy\n",
      "  df[\"description\"][i] = description\n"
     ]
    },
    {
     "name": "stdout",
     "output_type": "stream",
     "text": [
      "description : While a widowed mother agonizes over her daughter's future, the newly independent India of the early 1950s struggles through a time of great crisis when its varied cultures clash. 100,000 first printing. $200,000 ad/promo. BOMC Main. QPB Alt. Tour.\n",
      "Counter = 465\n"
     ]
    },
    {
     "name": "stderr",
     "output_type": "stream",
     "text": [
      "<ipython-input-91-28d9966ce939>:20: SettingWithCopyWarning: \n",
      "A value is trying to be set on a copy of a slice from a DataFrame\n",
      "\n",
      "See the caveats in the documentation: https://pandas.pydata.org/pandas-docs/stable/user_guide/indexing.html#returning-a-view-versus-a-copy\n",
      "  df[\"description\"][i] = description\n"
     ]
    },
    {
     "name": "stdout",
     "output_type": "stream",
     "text": [
      "description : Ace reporter John Cotton is a fly on the wall -- seeing all, hearing all, and keeping out of sight. But the game changes when he finds his best friend's corpse sprawled on the marble floor of the central rotunda of the U.S. Capitol. Suddenly Cotton knows too much about a scandal centered around a senatorial candidate, a million-dollar scam, and a murder. And he hears the pursuing footsteps of powerful people who have something to hide ... and a willingness to kill to keep their secrets hidden.\n",
      "Counter = 466\n"
     ]
    },
    {
     "name": "stderr",
     "output_type": "stream",
     "text": [
      "<ipython-input-91-28d9966ce939>:20: SettingWithCopyWarning: \n",
      "A value is trying to be set on a copy of a slice from a DataFrame\n",
      "\n",
      "See the caveats in the documentation: https://pandas.pydata.org/pandas-docs/stable/user_guide/indexing.html#returning-a-view-versus-a-copy\n",
      "  df[\"description\"][i] = description\n"
     ]
    },
    {
     "name": "stdout",
     "output_type": "stream",
     "text": [
      "description : A \"classic portrait of life in a quiet English village in the early nineteenth century\" which describes \"the pretensions and prejudices, fears and follies, and pathetic attempts at 'elegant economy' of the genteel ladies of Cranford.\"--Back cover.\n",
      "Counter = 467\n"
     ]
    },
    {
     "name": "stderr",
     "output_type": "stream",
     "text": [
      "<ipython-input-91-28d9966ce939>:20: SettingWithCopyWarning: \n",
      "A value is trying to be set on a copy of a slice from a DataFrame\n",
      "\n",
      "See the caveats in the documentation: https://pandas.pydata.org/pandas-docs/stable/user_guide/indexing.html#returning-a-view-versus-a-copy\n",
      "  df[\"description\"][i] = description\n"
     ]
    },
    {
     "name": "stdout",
     "output_type": "stream",
     "text": [
      "description : Her name is Dinah. In the Bible, her life is only hinted at in a brief and violent detour within the more familiar chapters of the Book of Genesis that are about her father, Jacob, and his dozen sons. Told in Dinah's voice, this novel reveals the traditions and turmoils of ancient womanhood--the world of the red tent. It begins with the story of her mothers--Leah, Rachel, Zilpah, and Bilhah--the four wives of Jacob. They love Dinah and give her gifts that sustain her through a hard-working youth, a calling to midwifery, and a new home in a foreign land. Dinah's story reaches out from a remarkable period of early history and creates an intimate connection with the past. Deeply affecting, The Red Tent combines rich storytelling with a valuable achievement in modern fiction: a new view of biblical women's society.\n",
      "Counter = 468\n"
     ]
    },
    {
     "name": "stderr",
     "output_type": "stream",
     "text": [
      "<ipython-input-91-28d9966ce939>:20: SettingWithCopyWarning: \n",
      "A value is trying to be set on a copy of a slice from a DataFrame\n",
      "\n",
      "See the caveats in the documentation: https://pandas.pydata.org/pandas-docs/stable/user_guide/indexing.html#returning-a-view-versus-a-copy\n",
      "  df[\"description\"][i] = description\n"
     ]
    },
    {
     "name": "stdout",
     "output_type": "stream",
     "text": [
      "description : When Kings Walked As Living Gods It is the eighteenth dynasty of Queen Maatkare Hatshepsut, divine ruler of a sun-seared realm. And blood flows as freely as the great, winding Nile that nourishes this ancient land of intrigue and danger. Lieutenant Bak is a loyal servant of the royal house of Egypt--commander of the Medjay police in the frontier fortress city of Buhen. A man of honor and ability, it is he who must oversee the corps assigned to accompany the golden idol, the god Amon, on its journey up the Nile to heal the ailing son of a powerful tribal king. But the mighty river has yielded up a sinister \"treasure\": the body of a brave soldier horrifically slain for reasons unknown. And only the drawings of a missing mute boy can help Bak unravel the mystery of the officer's foul death--before it leads to far greater crimes that could imperil an empire. WHEN KINGS WALKED AS LIVING GODS It is the eighteenth dynasty of Queen Maatkare Hatshepsut, divine ruler of a sun-seared realm. And blood flows as freely as the great, winding Nile that nourishes this ancient land of intrigue and danger. Lieutenant Bak is a loyal servant of the royal house of Egypt--commander of the Medjay police in the frontier fortress city of Buhen. A man of honor and ability, it is he who must oversee the corps assigned to accompany the golden idol, the god Amon, on its journey up the Nile to heal the ailing son of a powerful tribal king. But the mighty river has yielded up a sinister treasure: the body of a brave soldier horrifically slain for reasons unknown. And only the drawings of a missing mute boy can help Bak unravel the mystery of the officers foul death--before it leads to far greater crimes that could imperil an empire.\n",
      "Counter = 469\n"
     ]
    },
    {
     "name": "stderr",
     "output_type": "stream",
     "text": [
      "<ipython-input-91-28d9966ce939>:20: SettingWithCopyWarning: \n",
      "A value is trying to be set on a copy of a slice from a DataFrame\n",
      "\n",
      "See the caveats in the documentation: https://pandas.pydata.org/pandas-docs/stable/user_guide/indexing.html#returning-a-view-versus-a-copy\n",
      "  df[\"description\"][i] = description\n"
     ]
    },
    {
     "name": "stdout",
     "output_type": "stream",
     "text": [
      "description : In this luminous new collection by the winner of the 1998 National Book Awardfor Poetry, Stern more deeply explores his light vs. darkness themes.\n",
      "Counter = 470\n"
     ]
    },
    {
     "name": "stderr",
     "output_type": "stream",
     "text": [
      "<ipython-input-91-28d9966ce939>:20: SettingWithCopyWarning: \n",
      "A value is trying to be set on a copy of a slice from a DataFrame\n",
      "\n",
      "See the caveats in the documentation: https://pandas.pydata.org/pandas-docs/stable/user_guide/indexing.html#returning-a-view-versus-a-copy\n",
      "  df[\"description\"][i] = description\n"
     ]
    },
    {
     "name": "stdout",
     "output_type": "stream",
     "text": [
      "description : Persuaded to join a tour of Scotland, Jim Qwilleran finds his enjoyment of the trip threatened when a jewel thief swipes a suitcase, the bus driver vanishes, a fellow tourist is found dead, and Polly is tailed by the Pickax Prowler. 100,000 first printing. $65,000 ad/promo. Lit Guild & Doubleday Alt. Mystery Guild Main.\n",
      "Counter = 471\n"
     ]
    },
    {
     "name": "stderr",
     "output_type": "stream",
     "text": [
      "<ipython-input-91-28d9966ce939>:20: SettingWithCopyWarning: \n",
      "A value is trying to be set on a copy of a slice from a DataFrame\n",
      "\n",
      "See the caveats in the documentation: https://pandas.pydata.org/pandas-docs/stable/user_guide/indexing.html#returning-a-view-versus-a-copy\n",
      "  df[\"description\"][i] = description\n"
     ]
    },
    {
     "name": "stdout",
     "output_type": "stream",
     "text": [
      "description : Angered over the governor's order on speed traps, the eccentric inhabitants of the Isle of Tangier, off the coast of Virginia, declare war on their own state, and it is up to Judy Hammer, the new superintendent of the state police, to stop the crisis.\n",
      "Counter = 472\n"
     ]
    },
    {
     "name": "stderr",
     "output_type": "stream",
     "text": [
      "<ipython-input-91-28d9966ce939>:20: SettingWithCopyWarning: \n",
      "A value is trying to be set on a copy of a slice from a DataFrame\n",
      "\n",
      "See the caveats in the documentation: https://pandas.pydata.org/pandas-docs/stable/user_guide/indexing.html#returning-a-view-versus-a-copy\n",
      "  df[\"description\"][i] = description\n"
     ]
    },
    {
     "name": "stdout",
     "output_type": "stream",
     "text": [
      "description : The chaotic events of World War II force Elizabeth White, a shy, young English girl, to escape to Ireland, where she shares a friendship with Aisling O'Connor, with whom she endures years of change, joy, sorrow, soaring dreams, bitter betrayals, and an unbreakable bond. Reissue.\n",
      "Counter = 473\n"
     ]
    },
    {
     "name": "stderr",
     "output_type": "stream",
     "text": [
      "<ipython-input-91-28d9966ce939>:20: SettingWithCopyWarning: \n",
      "A value is trying to be set on a copy of a slice from a DataFrame\n",
      "\n",
      "See the caveats in the documentation: https://pandas.pydata.org/pandas-docs/stable/user_guide/indexing.html#returning-a-view-versus-a-copy\n",
      "  df[\"description\"][i] = description\n"
     ]
    },
    {
     "name": "stdout",
     "output_type": "stream",
     "text": [
      "description : Chief Inspector Mickey Haggerty asks his old friend Richard Jury to assist him in proving that the granddaughter of beer magnate Oliver Tynedale is in fact an imposter and that the real heiress died with her mother.\n",
      "Counter = 474\n"
     ]
    },
    {
     "name": "stderr",
     "output_type": "stream",
     "text": [
      "<ipython-input-91-28d9966ce939>:20: SettingWithCopyWarning: \n",
      "A value is trying to be set on a copy of a slice from a DataFrame\n",
      "\n",
      "See the caveats in the documentation: https://pandas.pydata.org/pandas-docs/stable/user_guide/indexing.html#returning-a-view-versus-a-copy\n",
      "  df[\"description\"][i] = description\n"
     ]
    },
    {
     "name": "stdout",
     "output_type": "stream",
     "text": [
      "description : A classic of American fiction, memorializing the traditions, manners and dialect of Maine coast natives at the turn of the 20th century. In luminous evocations of their lives, Maine-born Jewett created startlingly real portraits of individual New Englanders, and a warm, humorous, and compassionate vision of New England character.\n",
      "Counter = 475\n"
     ]
    },
    {
     "name": "stderr",
     "output_type": "stream",
     "text": [
      "<ipython-input-91-28d9966ce939>:20: SettingWithCopyWarning: \n",
      "A value is trying to be set on a copy of a slice from a DataFrame\n",
      "\n",
      "See the caveats in the documentation: https://pandas.pydata.org/pandas-docs/stable/user_guide/indexing.html#returning-a-view-versus-a-copy\n",
      "  df[\"description\"][i] = description\n"
     ]
    },
    {
     "name": "stdout",
     "output_type": "stream",
     "text": [
      "description : Fine selection of early verse by influential (\"no ideas but in things\") American poet includes \"Peace on Earth,\" \"Willow Poem,\" \"Queen-Anne's-Lace,\" \"Tract,\" \"El Hombre,\" \"Danse Russe,\" \"Keller Gegen Dom,\" \"Portrait of a Lady,\" \"The Widow's Lament in Springtime,\" many more.\n",
      "Counter = 476\n"
     ]
    },
    {
     "name": "stderr",
     "output_type": "stream",
     "text": [
      "<ipython-input-91-28d9966ce939>:29: SettingWithCopyWarning: \n",
      "A value is trying to be set on a copy of a slice from a DataFrame\n",
      "\n",
      "See the caveats in the documentation: https://pandas.pydata.org/pandas-docs/stable/user_guide/indexing.html#returning-a-view-versus-a-copy\n",
      "  df[\"description\"][i] = description\n"
     ]
    },
    {
     "name": "stdout",
     "output_type": "stream",
     "text": [
      "NaN\n",
      "......................................................................................................\n",
      "Counter = 477\n"
     ]
    },
    {
     "name": "stderr",
     "output_type": "stream",
     "text": [
      "<ipython-input-91-28d9966ce939>:20: SettingWithCopyWarning: \n",
      "A value is trying to be set on a copy of a slice from a DataFrame\n",
      "\n",
      "See the caveats in the documentation: https://pandas.pydata.org/pandas-docs/stable/user_guide/indexing.html#returning-a-view-versus-a-copy\n",
      "  df[\"description\"][i] = description\n"
     ]
    },
    {
     "name": "stdout",
     "output_type": "stream",
     "text": [
      "description : George Darrow, a young diplomat, travels to France with the intention of proposing to Anna Leath, a wealthy widow, but along the way finds himself attracted to Sophy Viner, a naive young woman, who turns out to be governess to Anna Leath's child\n",
      "Counter = 478\n"
     ]
    },
    {
     "name": "stderr",
     "output_type": "stream",
     "text": [
      "<ipython-input-91-28d9966ce939>:20: SettingWithCopyWarning: \n",
      "A value is trying to be set on a copy of a slice from a DataFrame\n",
      "\n",
      "See the caveats in the documentation: https://pandas.pydata.org/pandas-docs/stable/user_guide/indexing.html#returning-a-view-versus-a-copy\n",
      "  df[\"description\"][i] = description\n"
     ]
    },
    {
     "name": "stdout",
     "output_type": "stream",
     "text": [
      "description : From the Edgar Award-winning author comes the sixth book in the sensational Rabbi David Small Series. When a ornery member of the congregation dies mysteriously, the prime suspect is a troubled young man. But Rabbi Small comes to the case with Talmudic reasoning and insight - and finds a solution that no one else sees.\n",
      "Counter = 479\n"
     ]
    },
    {
     "name": "stderr",
     "output_type": "stream",
     "text": [
      "<ipython-input-91-28d9966ce939>:20: SettingWithCopyWarning: \n",
      "A value is trying to be set on a copy of a slice from a DataFrame\n",
      "\n",
      "See the caveats in the documentation: https://pandas.pydata.org/pandas-docs/stable/user_guide/indexing.html#returning-a-view-versus-a-copy\n",
      "  df[\"description\"][i] = description\n"
     ]
    },
    {
     "name": "stdout",
     "output_type": "stream",
     "text": [
      "description : Pel finds his ordinary life and his relationship with his girlfriend, Ursula, turned upside down by his boss's disappearance, leaving Pel to take over amid a chaotic web of stolen money, missing colleagues, and Chinese mafiosi.\n",
      "Counter = 480\n"
     ]
    },
    {
     "name": "stderr",
     "output_type": "stream",
     "text": [
      "<ipython-input-91-28d9966ce939>:20: SettingWithCopyWarning: \n",
      "A value is trying to be set on a copy of a slice from a DataFrame\n",
      "\n",
      "See the caveats in the documentation: https://pandas.pydata.org/pandas-docs/stable/user_guide/indexing.html#returning-a-view-versus-a-copy\n",
      "  df[\"description\"][i] = description\n"
     ]
    },
    {
     "name": "stdout",
     "output_type": "stream",
     "text": [
      "description : Explores the themes of call, discernment, and community as they relate to each other. It asks us to listen to our hearts so that we may discover ourselves. This guides us on how we can remain faithful and accountable.\n",
      "Counter = 481\n"
     ]
    },
    {
     "name": "stderr",
     "output_type": "stream",
     "text": [
      "<ipython-input-91-28d9966ce939>:20: SettingWithCopyWarning: \n",
      "A value is trying to be set on a copy of a slice from a DataFrame\n",
      "\n",
      "See the caveats in the documentation: https://pandas.pydata.org/pandas-docs/stable/user_guide/indexing.html#returning-a-view-versus-a-copy\n",
      "  df[\"description\"][i] = description\n"
     ]
    },
    {
     "name": "stdout",
     "output_type": "stream",
     "text": [
      "description : Begun in the winter of 1955 and completed in the spring of 1956, Treatise on Poetry is a brilliant meditative poem fully expressive of the powers that have made Milosz one of our greatest writers. Expertly translated, the poem is divided into four parts -- Europe at the turn of the century, the condition of Polish culture between the two world wars, the harsh reality of World War II, and the role of the poet in the postwar world. Here Milosz addresses the failure of early-20th-century Polish poetry. With vast historical sweep and in language that enables readers to see \"as if in a flash of summer lighting\", Milosz offers a fascinating account of the mysterious art of poetry.\n",
      "Counter = 482\n"
     ]
    },
    {
     "name": "stderr",
     "output_type": "stream",
     "text": [
      "<ipython-input-91-28d9966ce939>:20: SettingWithCopyWarning: \n",
      "A value is trying to be set on a copy of a slice from a DataFrame\n",
      "\n",
      "See the caveats in the documentation: https://pandas.pydata.org/pandas-docs/stable/user_guide/indexing.html#returning-a-view-versus-a-copy\n",
      "  df[\"description\"][i] = description\n"
     ]
    },
    {
     "name": "stdout",
     "output_type": "stream",
     "text": [
      "description : Following in the footsteps of the two earlier teaching series of the 1950s and 1970s, these volumes seek to reveal the distinctive vision Anglicanism offers for the people of God today. Each book includes a study guide and a list of additional resources. The series is designed for wide parish use, including adult education, classes for inquirers and newcomers, the adult catechumenate, parish libraries, and study groups throughout the church year.In this down-to-earth book on the essentials of prayer, Guenther answers many of the most common questions about prayer and the spiritual life. She also discusses basic matters of Christian practice, such as making a confession, going on retreat, using a journal to pray, finding a spiritual director, and praying when God does not seem to listen.\n",
      "Counter = 483\n"
     ]
    },
    {
     "name": "stderr",
     "output_type": "stream",
     "text": [
      "<ipython-input-91-28d9966ce939>:20: SettingWithCopyWarning: \n",
      "A value is trying to be set on a copy of a slice from a DataFrame\n",
      "\n",
      "See the caveats in the documentation: https://pandas.pydata.org/pandas-docs/stable/user_guide/indexing.html#returning-a-view-versus-a-copy\n",
      "  df[\"description\"][i] = description\n"
     ]
    },
    {
     "name": "stdout",
     "output_type": "stream",
     "text": [
      "description : Winner of the Colorado Book Award for Translation upon its release, this book brings to English-speaking audiences new work by this brilliant Argentine poet of whom Octavio Paz says, \"Each of Juarroz's poems is a surprising verbal crystallization: language reduced to a drop of light.\" In Juarroz's work we encounter the vertical depths of language, the inner wells.\n",
      "Counter = 484\n"
     ]
    },
    {
     "name": "stderr",
     "output_type": "stream",
     "text": [
      "<ipython-input-91-28d9966ce939>:20: SettingWithCopyWarning: \n",
      "A value is trying to be set on a copy of a slice from a DataFrame\n",
      "\n",
      "See the caveats in the documentation: https://pandas.pydata.org/pandas-docs/stable/user_guide/indexing.html#returning-a-view-versus-a-copy\n",
      "  df[\"description\"][i] = description\n"
     ]
    },
    {
     "name": "stdout",
     "output_type": "stream",
     "text": [
      "description : Here are 100 of Rubenstein's best games against such opponents as Euwe, Janowski, Kashdan, Marshall, Tarrasch, and many others. His highly original contributions to chess theory cannot be overlooked by any serious player.\n",
      "Counter = 485\n"
     ]
    },
    {
     "name": "stderr",
     "output_type": "stream",
     "text": [
      "<ipython-input-91-28d9966ce939>:20: SettingWithCopyWarning: \n",
      "A value is trying to be set on a copy of a slice from a DataFrame\n",
      "\n",
      "See the caveats in the documentation: https://pandas.pydata.org/pandas-docs/stable/user_guide/indexing.html#returning-a-view-versus-a-copy\n",
      "  df[\"description\"][i] = description\n"
     ]
    },
    {
     "name": "stdout",
     "output_type": "stream",
     "text": [
      "description : A satirical glimpse into Manhattan's upper class follows Nanny, a struggling NYU student who takes a position caring for the son of the rich and glamorous X family, as she learns how to juggle a vast array of tasks so that a Park Avenue wife never has tolift a well-manicured finger.\n",
      "Counter = 486\n"
     ]
    },
    {
     "name": "stderr",
     "output_type": "stream",
     "text": [
      "<ipython-input-91-28d9966ce939>:20: SettingWithCopyWarning: \n",
      "A value is trying to be set on a copy of a slice from a DataFrame\n",
      "\n",
      "See the caveats in the documentation: https://pandas.pydata.org/pandas-docs/stable/user_guide/indexing.html#returning-a-view-versus-a-copy\n",
      "  df[\"description\"][i] = description\n"
     ]
    },
    {
     "name": "stdout",
     "output_type": "stream",
     "text": [
      "description : Pilar ritrova a Madrid l'amico dell'infanzia. Questi ha girato il mondo ed è poi entrato in seminario, dove si dice abbia fatto miracoli. Pilar è una donna passionale, ma delusa dalla vita. Con l'amico d'infanzia compie un viaggio di sei giorni durante il quale la donna ritrova se stessa attraverso una riflessione mistico-iniziatica. I due si recano a Lourdes dove cementeranno il loro amore alla luce di una fede che esalta i valori della missione nel mondo.\n",
      "Counter = 487\n"
     ]
    },
    {
     "name": "stderr",
     "output_type": "stream",
     "text": [
      "<ipython-input-91-28d9966ce939>:20: SettingWithCopyWarning: \n",
      "A value is trying to be set on a copy of a slice from a DataFrame\n",
      "\n",
      "See the caveats in the documentation: https://pandas.pydata.org/pandas-docs/stable/user_guide/indexing.html#returning-a-view-versus-a-copy\n",
      "  df[\"description\"][i] = description\n"
     ]
    },
    {
     "name": "stdout",
     "output_type": "stream",
     "text": [
      "description : Dopo aver conquistato Mario Martone, che ha tradotto in immagini il suo libro L'amore molesto, Elena Ferrante, scrittrice così schiva da suscitare dubbi sulla sua stessa identità, ha affidato al regista Roberto Faenza la trasposizione cinematografica del suo secondo romanzo, I giorni dell'abbandono; protagonisti del film in concorso a Venezia, Margherita Buy e Luca Zingaretti. In una Torino afosa e straniante, fatta di spazi geometrici nel quale è facile perdersi, una donna trentottenne vive in pieno la crisi per l'improvviso abbandono da parte del marito. E' un viaggio attraverso un tunnel d'angoscia, che parte dallo sconcerto, dal dilagare del dolore, per precipitare nel buco nero di chi non si riconosce più una vera identità; fino a che non riscopre la propria tenacia, il proprio caparbio attaccamento alla vita.\n",
      "Counter = 488\n"
     ]
    },
    {
     "name": "stderr",
     "output_type": "stream",
     "text": [
      "<ipython-input-91-28d9966ce939>:20: SettingWithCopyWarning: \n",
      "A value is trying to be set on a copy of a slice from a DataFrame\n",
      "\n",
      "See the caveats in the documentation: https://pandas.pydata.org/pandas-docs/stable/user_guide/indexing.html#returning-a-view-versus-a-copy\n",
      "  df[\"description\"][i] = description\n"
     ]
    },
    {
     "name": "stdout",
     "output_type": "stream",
     "text": [
      "description : Stephen's bra is starting to slip. His pantyhose are sagging. His knickers keep falling down. Oh, the shame of it. He stole a gizmo-and now it's paying him back. Another crazy yarn from Australia's master of madness. The Paul Jennings phenomenon began with the publication of Unrealin 1985. Since then, his stories have been devoured all around the world.\n",
      "Counter = 489\n"
     ]
    },
    {
     "name": "stderr",
     "output_type": "stream",
     "text": [
      "<ipython-input-91-28d9966ce939>:20: SettingWithCopyWarning: \n",
      "A value is trying to be set on a copy of a slice from a DataFrame\n",
      "\n",
      "See the caveats in the documentation: https://pandas.pydata.org/pandas-docs/stable/user_guide/indexing.html#returning-a-view-versus-a-copy\n",
      "  df[\"description\"][i] = description\n"
     ]
    },
    {
     "name": "stdout",
     "output_type": "stream",
     "text": [
      "description : Discusses the influence of politics on Lincoln's life, the development of his ideas on military strategy, and his defense of the Constitution\n",
      "Counter = 490\n"
     ]
    },
    {
     "name": "stderr",
     "output_type": "stream",
     "text": [
      "<ipython-input-91-28d9966ce939>:20: SettingWithCopyWarning: \n",
      "A value is trying to be set on a copy of a slice from a DataFrame\n",
      "\n",
      "See the caveats in the documentation: https://pandas.pydata.org/pandas-docs/stable/user_guide/indexing.html#returning-a-view-versus-a-copy\n",
      "  df[\"description\"][i] = description\n"
     ]
    },
    {
     "name": "stdout",
     "output_type": "stream",
     "text": [
      "description : Contains more than 800 additional problems with explanations about the important concepts in organic chemistry and is keyed to the textbook.\n",
      "Counter = 491\n"
     ]
    },
    {
     "name": "stderr",
     "output_type": "stream",
     "text": [
      "<ipython-input-91-28d9966ce939>:20: SettingWithCopyWarning: \n",
      "A value is trying to be set on a copy of a slice from a DataFrame\n",
      "\n",
      "See the caveats in the documentation: https://pandas.pydata.org/pandas-docs/stable/user_guide/indexing.html#returning-a-view-versus-a-copy\n",
      "  df[\"description\"][i] = description\n"
     ]
    },
    {
     "name": "stdout",
     "output_type": "stream",
     "text": [
      "description : Learn more about \"nature's Prozac\" If you have mild to moderate depression and don't want the unpleasant side-effects or hug price tag of prescription antidepressants, St. John's wort could be just what you're looking for! It has been used for thousands of years throughout Europe, but Americans are just finding out about the miraculous healing powers of St. John's wort. Also known as Hypericum, this simple flowering herb has been proven to work as well as-and sometimes even better than-prescription antidepressants. In Secrets of St. John's Wort, you'll learn how Hypericum can be used in its various forms to elevate your mood and improve overall health. This easy-to-use, step-by-step program also shows you: -How to tell if you're a candidate for St. John's wort -How it works in the body and what to expect from it -Where to find good quality St. Johns' wort, including mail order sources -A comparison with Prozac and other medications -Detailed instructions of dosage and frequency for optimum results Discover the amazing natural antidepressant-discover the Secrets of St. John's Wort.\n",
      "Counter = 492\n"
     ]
    },
    {
     "name": "stderr",
     "output_type": "stream",
     "text": [
      "<ipython-input-91-28d9966ce939>:20: SettingWithCopyWarning: \n",
      "A value is trying to be set on a copy of a slice from a DataFrame\n",
      "\n",
      "See the caveats in the documentation: https://pandas.pydata.org/pandas-docs/stable/user_guide/indexing.html#returning-a-view-versus-a-copy\n",
      "  df[\"description\"][i] = description\n"
     ]
    },
    {
     "name": "stdout",
     "output_type": "stream",
     "text": [
      "description : Here is a thoroughly researched guide to the foods that are safest and the ones that are most dangerous in each of the major food groups.\n",
      "Counter = 493\n"
     ]
    },
    {
     "name": "stderr",
     "output_type": "stream",
     "text": [
      "<ipython-input-91-28d9966ce939>:20: SettingWithCopyWarning: \n",
      "A value is trying to be set on a copy of a slice from a DataFrame\n",
      "\n",
      "See the caveats in the documentation: https://pandas.pydata.org/pandas-docs/stable/user_guide/indexing.html#returning-a-view-versus-a-copy\n",
      "  df[\"description\"][i] = description\n"
     ]
    },
    {
     "name": "stdout",
     "output_type": "stream",
     "text": [
      "description : Criticizes the system of motivating through reward, offering arguments for motivating people by working with them instead of doing things to them\n",
      "Counter = 494\n"
     ]
    },
    {
     "name": "stderr",
     "output_type": "stream",
     "text": [
      "<ipython-input-91-28d9966ce939>:20: SettingWithCopyWarning: \n",
      "A value is trying to be set on a copy of a slice from a DataFrame\n",
      "\n",
      "See the caveats in the documentation: https://pandas.pydata.org/pandas-docs/stable/user_guide/indexing.html#returning-a-view-versus-a-copy\n",
      "  df[\"description\"][i] = description\n"
     ]
    },
    {
     "name": "stdout",
     "output_type": "stream",
     "text": [
      "description : Paula Lillard, director of a Montessori school ranging in age from 18 months to fifteen years, provides a clear and cogent introduction to the Montessori program for the elementary and later years. In detailed accounts, Lillard shows how children acquire the skills to answer their own questions, learn to manage freedom with responsibility, and maintain a high level of intellectual stimulation by using the Montessori method. This is an essential handbook for parents and teachers who have chosen the Montessori alternative for the older child.\n",
      "Counter = 495\n"
     ]
    },
    {
     "name": "stderr",
     "output_type": "stream",
     "text": [
      "<ipython-input-91-28d9966ce939>:20: SettingWithCopyWarning: \n",
      "A value is trying to be set on a copy of a slice from a DataFrame\n",
      "\n",
      "See the caveats in the documentation: https://pandas.pydata.org/pandas-docs/stable/user_guide/indexing.html#returning-a-view-versus-a-copy\n",
      "  df[\"description\"][i] = description\n"
     ]
    },
    {
     "name": "stdout",
     "output_type": "stream",
     "text": [
      "description : Recommends sketchbooks, pens, pencils, markers and water colors, shows how to draw people, animals, and landscapes, and gives advice on shapes, patterns, composition, and values\n",
      "Counter = 496\n"
     ]
    },
    {
     "name": "stderr",
     "output_type": "stream",
     "text": [
      "<ipython-input-91-28d9966ce939>:20: SettingWithCopyWarning: \n",
      "A value is trying to be set on a copy of a slice from a DataFrame\n",
      "\n",
      "See the caveats in the documentation: https://pandas.pydata.org/pandas-docs/stable/user_guide/indexing.html#returning-a-view-versus-a-copy\n",
      "  df[\"description\"][i] = description\n"
     ]
    },
    {
     "name": "stdout",
     "output_type": "stream",
     "text": [
      "description : A remarkable debut novel and bittersweet tale of the unflinching love and devotion between a mother and daughter.Razor sharp and darkly funny \"Going Down Swinging chronicles two years in the life of the Hoffmans. Eilleen Hoffman has just told Danny, her con-artist lover and father of her youngest daughter Grace, to get out -- for good. Once a teacher, Eilleen lived a middle-class life, but her taste in men coupled with a predilection for pills and booze has brought her down. Desperate to prevent her family from sinking deeper into poverty, Eilleen reluctantly goes on welfare. Eventually she turns to the only friends she has left, hustlers and hookers, to learn how a woman makes fast money, no investment necessary.With Eilleen on welfare and her older daughter Charlotte a teenaged runaway, child welfare authorities descend on the Hoffmans. As Eilleen trails through several attempts at drying out, the well-intentioned Children's Protection Society finally intervenes to apprehend Grace. With the threat of prolonged separation now a stark reality, Eilleen and Grace must rally to confront their demons with grit, determination and humour. Unblinkingly observed and brilliantly written, \"Going Down Swinging is about the powerful bond between mother and child. And with her skilful narrative interplay, Billie Livingston illustrates poignantly how the truth of our stories lies not so much in the black and white, as it does in the grey.\n",
      "Counter = 497\n"
     ]
    },
    {
     "name": "stderr",
     "output_type": "stream",
     "text": [
      "<ipython-input-91-28d9966ce939>:20: SettingWithCopyWarning: \n",
      "A value is trying to be set on a copy of a slice from a DataFrame\n",
      "\n",
      "See the caveats in the documentation: https://pandas.pydata.org/pandas-docs/stable/user_guide/indexing.html#returning-a-view-versus-a-copy\n",
      "  df[\"description\"][i] = description\n"
     ]
    },
    {
     "name": "stdout",
     "output_type": "stream",
     "text": [
      "description : Keeping a financial diary after her work-related tax claims are questioned, Katya also documents the parsimonious ways of her cruel boss, her suffering at the hands of enemies and bad restaurants, and the challenges of her love life, just in case any of it is tax deductible. 10,000 first printing.\n",
      "Counter = 498\n"
     ]
    },
    {
     "name": "stderr",
     "output_type": "stream",
     "text": [
      "<ipython-input-91-28d9966ce939>:20: SettingWithCopyWarning: \n",
      "A value is trying to be set on a copy of a slice from a DataFrame\n",
      "\n",
      "See the caveats in the documentation: https://pandas.pydata.org/pandas-docs/stable/user_guide/indexing.html#returning-a-view-versus-a-copy\n",
      "  df[\"description\"][i] = description\n"
     ]
    },
    {
     "name": "stdout",
     "output_type": "stream",
     "text": [
      "description : After buying and reselling a valuable book, Jill must find the current owner or lose her life to the assassin who demands she return the book to him\n",
      "Counter = 499\n"
     ]
    },
    {
     "name": "stderr",
     "output_type": "stream",
     "text": [
      "<ipython-input-91-28d9966ce939>:20: SettingWithCopyWarning: \n",
      "A value is trying to be set on a copy of a slice from a DataFrame\n",
      "\n",
      "See the caveats in the documentation: https://pandas.pydata.org/pandas-docs/stable/user_guide/indexing.html#returning-a-view-versus-a-copy\n",
      "  df[\"description\"][i] = description\n"
     ]
    },
    {
     "name": "stdout",
     "output_type": "stream",
     "text": [
      "description : Dr Kay Scarpetta uses forensic medicine to try to catch the killer of five young women.\n",
      "Counter = 500\n"
     ]
    },
    {
     "name": "stderr",
     "output_type": "stream",
     "text": [
      "<ipython-input-91-28d9966ce939>:20: SettingWithCopyWarning: \n",
      "A value is trying to be set on a copy of a slice from a DataFrame\n",
      "\n",
      "See the caveats in the documentation: https://pandas.pydata.org/pandas-docs/stable/user_guide/indexing.html#returning-a-view-versus-a-copy\n",
      "  df[\"description\"][i] = description\n"
     ]
    },
    {
     "name": "stdout",
     "output_type": "stream",
     "text": [
      "description : Sally Brainerd, daughter of the murdered Amory St. John, flees Washington, D.C., to seek sanctuary in the quaint little town called The Cove, pursued by undercover FBI agent James Quinlan, who believes that Sally holds the key to solving her father's murder. Original.\n",
      "Counter = 501\n"
     ]
    },
    {
     "name": "stderr",
     "output_type": "stream",
     "text": [
      "<ipython-input-91-28d9966ce939>:20: SettingWithCopyWarning: \n",
      "A value is trying to be set on a copy of a slice from a DataFrame\n",
      "\n",
      "See the caveats in the documentation: https://pandas.pydata.org/pandas-docs/stable/user_guide/indexing.html#returning-a-view-versus-a-copy\n",
      "  df[\"description\"][i] = description\n"
     ]
    },
    {
     "name": "stdout",
     "output_type": "stream",
     "text": [
      "description : Flo March, the innocent mistress of billionaire financier and art collector Jules Mendelson, knows too much about the \"suicide\" of Hector Paradiso and about the machinations of her lover and the workings of the Hollywood underworld\n",
      "Counter = 502\n"
     ]
    },
    {
     "name": "stderr",
     "output_type": "stream",
     "text": [
      "<ipython-input-91-28d9966ce939>:20: SettingWithCopyWarning: \n",
      "A value is trying to be set on a copy of a slice from a DataFrame\n",
      "\n",
      "See the caveats in the documentation: https://pandas.pydata.org/pandas-docs/stable/user_guide/indexing.html#returning-a-view-versus-a-copy\n",
      "  df[\"description\"][i] = description\n"
     ]
    },
    {
     "name": "stdout",
     "output_type": "stream",
     "text": [
      "description : In the wake of a mysterious disaster that kills thousands of marine animals and nearly two hundred cruise ship passengers, Dirk Pitt rescues Maeve Fletcher and traces the incident to her father and sisters. Reprint.\n",
      "Counter = 503\n"
     ]
    },
    {
     "name": "stderr",
     "output_type": "stream",
     "text": [
      "<ipython-input-91-28d9966ce939>:20: SettingWithCopyWarning: \n",
      "A value is trying to be set on a copy of a slice from a DataFrame\n",
      "\n",
      "See the caveats in the documentation: https://pandas.pydata.org/pandas-docs/stable/user_guide/indexing.html#returning-a-view-versus-a-copy\n",
      "  df[\"description\"][i] = description\n"
     ]
    },
    {
     "name": "stdout",
     "output_type": "stream",
     "text": [
      "description : A stunning tale of murder, glamour, and romance, While My Pretty One Sleeps is the most exciting novel yet from Mary Higgins Clark, the Queen of Suspense. Neeve Kearny may be the only person in New York worried about the disappearance of Ethel Lambston. Ethel, a bestselling author famous for her juicy exposés, is one of the best customers at Neeve’s exclusive Madison Avenue boutique. But Ethel’s ex-husband, her parasitical nephew, and the fashion moguls skewered in her latest article all have reason to be glad she’s no longer around. When Ethel Lambston is found with her throat cut, Neeve’s memories of her mother’s long-unsolved murder loom up once again. Now as an innocent witness in the Lambston investigation, Neeve is drawn into a new nightmare...a sinister labyrinth of greed and ambition that will lead her into mortal danger...\n",
      "Counter = 504\n"
     ]
    },
    {
     "name": "stderr",
     "output_type": "stream",
     "text": [
      "<ipython-input-91-28d9966ce939>:29: SettingWithCopyWarning: \n",
      "A value is trying to be set on a copy of a slice from a DataFrame\n",
      "\n",
      "See the caveats in the documentation: https://pandas.pydata.org/pandas-docs/stable/user_guide/indexing.html#returning-a-view-versus-a-copy\n",
      "  df[\"description\"][i] = description\n"
     ]
    },
    {
     "name": "stdout",
     "output_type": "stream",
     "text": [
      "NaN\n",
      "......................................................................................................\n",
      "Counter = 505\n"
     ]
    },
    {
     "name": "stderr",
     "output_type": "stream",
     "text": [
      "<ipython-input-91-28d9966ce939>:20: SettingWithCopyWarning: \n",
      "A value is trying to be set on a copy of a slice from a DataFrame\n",
      "\n",
      "See the caveats in the documentation: https://pandas.pydata.org/pandas-docs/stable/user_guide/indexing.html#returning-a-view-versus-a-copy\n",
      "  df[\"description\"][i] = description\n"
     ]
    },
    {
     "name": "stdout",
     "output_type": "stream",
     "text": [
      "description : A collection of the unique and passionate columns by Carl Hiaasen of the Miami Herald examines the outrageous carnival of southern Florida and all its inhabitants--thieves, conmen, hustlers, perfumed swine, legal swindlers and patriotic crooks, executioners, and lap dancers. Reprint.\n",
      "Counter = 506\n"
     ]
    },
    {
     "name": "stderr",
     "output_type": "stream",
     "text": [
      "<ipython-input-91-28d9966ce939>:20: SettingWithCopyWarning: \n",
      "A value is trying to be set on a copy of a slice from a DataFrame\n",
      "\n",
      "See the caveats in the documentation: https://pandas.pydata.org/pandas-docs/stable/user_guide/indexing.html#returning-a-view-versus-a-copy\n",
      "  df[\"description\"][i] = description\n"
     ]
    },
    {
     "name": "stdout",
     "output_type": "stream",
     "text": [
      "description : Hilarious, energetic, and profoundly touching, a debut novel follows a young writer as he travels to the farmlands of eastern Europe, where he embarks on a quest to find Augustine, the woman who saved his grandfather from the Nazis, and, guided by his young Ukrainian translator, he discovers an unexpected past that will resonate far into the future. Excerpt in The New Yorker.\n",
      "Counter = 507\n"
     ]
    },
    {
     "name": "stderr",
     "output_type": "stream",
     "text": [
      "<ipython-input-91-28d9966ce939>:20: SettingWithCopyWarning: \n",
      "A value is trying to be set on a copy of a slice from a DataFrame\n",
      "\n",
      "See the caveats in the documentation: https://pandas.pydata.org/pandas-docs/stable/user_guide/indexing.html#returning-a-view-versus-a-copy\n",
      "  df[\"description\"][i] = description\n"
     ]
    },
    {
     "name": "stdout",
     "output_type": "stream",
     "text": [
      "description : After the death of her father, a noted Italian poet, Esmeralda flees the rigidity of European society to seek a new life in a white expatriate community of East Africa, where she finds herself torn between two very different men. A first novel. 50,000 first printing. Tour.\n",
      "Counter = 508\n"
     ]
    },
    {
     "name": "stderr",
     "output_type": "stream",
     "text": [
      "<ipython-input-91-28d9966ce939>:20: SettingWithCopyWarning: \n",
      "A value is trying to be set on a copy of a slice from a DataFrame\n",
      "\n",
      "See the caveats in the documentation: https://pandas.pydata.org/pandas-docs/stable/user_guide/indexing.html#returning-a-view-versus-a-copy\n",
      "  df[\"description\"][i] = description\n"
     ]
    },
    {
     "name": "stdout",
     "output_type": "stream",
     "text": [
      "description : This strong and memorable debut novel draws the reader deeply into the lives of several central characters during three separate Junes spanning ten years.\n",
      "Counter = 509\n"
     ]
    },
    {
     "name": "stderr",
     "output_type": "stream",
     "text": [
      "<ipython-input-91-28d9966ce939>:20: SettingWithCopyWarning: \n",
      "A value is trying to be set on a copy of a slice from a DataFrame\n",
      "\n",
      "See the caveats in the documentation: https://pandas.pydata.org/pandas-docs/stable/user_guide/indexing.html#returning-a-view-versus-a-copy\n",
      "  df[\"description\"][i] = description\n"
     ]
    },
    {
     "name": "stdout",
     "output_type": "stream",
     "text": [
      "description : With his mother in jail for killing his abusive father, nineteen-year-old Harley Altmyer is saddled with raising his three younger sisters, working two jobs to pay the bills, and an overactive libido that will not let him rest. Reprint.\n",
      "Counter = 510\n"
     ]
    },
    {
     "name": "stderr",
     "output_type": "stream",
     "text": [
      "<ipython-input-91-28d9966ce939>:20: SettingWithCopyWarning: \n",
      "A value is trying to be set on a copy of a slice from a DataFrame\n",
      "\n",
      "See the caveats in the documentation: https://pandas.pydata.org/pandas-docs/stable/user_guide/indexing.html#returning-a-view-versus-a-copy\n",
      "  df[\"description\"][i] = description\n"
     ]
    },
    {
     "name": "stdout",
     "output_type": "stream",
     "text": [
      "description : Twenty-eight-year-old Maggie Feller, who goes from job to job on the fringes of show business, and her older sister Rose, a lawyer, have had no contact with their grandmother, Ella, since their mother's death years ago, but all three need to find each other to reach happiness.\n",
      "Counter = 511\n"
     ]
    },
    {
     "name": "stderr",
     "output_type": "stream",
     "text": [
      "<ipython-input-91-28d9966ce939>:20: SettingWithCopyWarning: \n",
      "A value is trying to be set on a copy of a slice from a DataFrame\n",
      "\n",
      "See the caveats in the documentation: https://pandas.pydata.org/pandas-docs/stable/user_guide/indexing.html#returning-a-view-versus-a-copy\n",
      "  df[\"description\"][i] = description\n"
     ]
    },
    {
     "name": "stdout",
     "output_type": "stream",
     "text": [
      "description : Trapped in a loveless marriage, Frenchwoman Isabelle cares for her daughter and dangerously ill son while pursuing a secret friendship with American power broker Bill Robinson, until a car accident tests their growing love. 1,000,000 first printing.\n",
      "Counter = 512\n"
     ]
    },
    {
     "name": "stderr",
     "output_type": "stream",
     "text": [
      "<ipython-input-91-28d9966ce939>:20: SettingWithCopyWarning: \n",
      "A value is trying to be set on a copy of a slice from a DataFrame\n",
      "\n",
      "See the caveats in the documentation: https://pandas.pydata.org/pandas-docs/stable/user_guide/indexing.html#returning-a-view-versus-a-copy\n",
      "  df[\"description\"][i] = description\n"
     ]
    },
    {
     "name": "stdout",
     "output_type": "stream",
     "text": [
      "description : A selection of articles from the author's column printed in the Houston chronicle between 1989 and 1996 explore church pew etiquette, high school football, the change of the seasons, and what can happen when you turn off the TV\n",
      "Counter = 513\n"
     ]
    },
    {
     "name": "stderr",
     "output_type": "stream",
     "text": [
      "<ipython-input-91-28d9966ce939>:20: SettingWithCopyWarning: \n",
      "A value is trying to be set on a copy of a slice from a DataFrame\n",
      "\n",
      "See the caveats in the documentation: https://pandas.pydata.org/pandas-docs/stable/user_guide/indexing.html#returning-a-view-versus-a-copy\n",
      "  df[\"description\"][i] = description\n"
     ]
    },
    {
     "name": "stdout",
     "output_type": "stream",
     "text": [
      "description : In The Sweet Hereafter, Russell Banks tells a story that begins with a school bus accident. Using four different narrators, Banks creates a small-town morality play that addresses one of life's most agonizing questions: when the worst thing happens, who do you blame?\n",
      "Counter = 514\n"
     ]
    },
    {
     "name": "stderr",
     "output_type": "stream",
     "text": [
      "<ipython-input-91-28d9966ce939>:20: SettingWithCopyWarning: \n",
      "A value is trying to be set on a copy of a slice from a DataFrame\n",
      "\n",
      "See the caveats in the documentation: https://pandas.pydata.org/pandas-docs/stable/user_guide/indexing.html#returning-a-view-versus-a-copy\n",
      "  df[\"description\"][i] = description\n"
     ]
    },
    {
     "name": "stdout",
     "output_type": "stream",
     "text": [
      "description : Great title poem plus \"Kubla Khan,\" \"Christabel,\" 20 other sonnets, lyrics, odes: \"Sonnet: To a Friend who asked how I felt when the Nurse first presented my Infant to me,\" \"Frost at Midnight,\" \"The Nightingale,\" \"The Pains of Sleep,\" \"To William Wordsworth,\" \"Youth and Age,\" many more. Alphabetical lists of titles and first lines.\n",
      "Counter = 515\n"
     ]
    },
    {
     "name": "stderr",
     "output_type": "stream",
     "text": [
      "<ipython-input-91-28d9966ce939>:29: SettingWithCopyWarning: \n",
      "A value is trying to be set on a copy of a slice from a DataFrame\n",
      "\n",
      "See the caveats in the documentation: https://pandas.pydata.org/pandas-docs/stable/user_guide/indexing.html#returning-a-view-versus-a-copy\n",
      "  df[\"description\"][i] = description\n"
     ]
    },
    {
     "name": "stdout",
     "output_type": "stream",
     "text": [
      "NaN\n",
      "......................................................................................................\n",
      "Counter = 516\n"
     ]
    },
    {
     "name": "stderr",
     "output_type": "stream",
     "text": [
      "<ipython-input-91-28d9966ce939>:20: SettingWithCopyWarning: \n",
      "A value is trying to be set on a copy of a slice from a DataFrame\n",
      "\n",
      "See the caveats in the documentation: https://pandas.pydata.org/pandas-docs/stable/user_guide/indexing.html#returning-a-view-versus-a-copy\n",
      "  df[\"description\"][i] = description\n"
     ]
    },
    {
     "name": "stdout",
     "output_type": "stream",
     "text": [
      "description : Vietnam's moral fallout is revealed to \"Sam\" Hughes, an eighteen-year-old Kentucky girl whose father was killed in the war and whose Uncle Emmett may be suffering from Agent Orange\n",
      "Counter = 517\n"
     ]
    },
    {
     "name": "stderr",
     "output_type": "stream",
     "text": [
      "<ipython-input-91-28d9966ce939>:20: SettingWithCopyWarning: \n",
      "A value is trying to be set on a copy of a slice from a DataFrame\n",
      "\n",
      "See the caveats in the documentation: https://pandas.pydata.org/pandas-docs/stable/user_guide/indexing.html#returning-a-view-versus-a-copy\n",
      "  df[\"description\"][i] = description\n"
     ]
    },
    {
     "name": "stdout",
     "output_type": "stream",
     "text": [
      "description : An irresistible police detective and an eccentric mystery writer struggle to separate business from pleasure while pursuing a deranged murderer\n",
      "Counter = 518\n"
     ]
    },
    {
     "name": "stderr",
     "output_type": "stream",
     "text": [
      "<ipython-input-91-28d9966ce939>:20: SettingWithCopyWarning: \n",
      "A value is trying to be set on a copy of a slice from a DataFrame\n",
      "\n",
      "See the caveats in the documentation: https://pandas.pydata.org/pandas-docs/stable/user_guide/indexing.html#returning-a-view-versus-a-copy\n",
      "  df[\"description\"][i] = description\n"
     ]
    },
    {
     "name": "stdout",
     "output_type": "stream",
     "text": [
      "description : Ten years after her elopement with a cowboy, Olivia Morrison returns to the Louisiana estate of her wealthy stepfather as a prodigal daughter, with an eight-year-old daughter in tow, uncertain of her reception, only to come face to face with her hostile family, her devastatingly attractive step-cousin Seth, and dark secrets concerning her mother's death. Reprint.\n",
      "Counter = 519\n"
     ]
    },
    {
     "name": "stderr",
     "output_type": "stream",
     "text": [
      "<ipython-input-91-28d9966ce939>:20: SettingWithCopyWarning: \n",
      "A value is trying to be set on a copy of a slice from a DataFrame\n",
      "\n",
      "See the caveats in the documentation: https://pandas.pydata.org/pandas-docs/stable/user_guide/indexing.html#returning-a-view-versus-a-copy\n",
      "  df[\"description\"][i] = description\n"
     ]
    },
    {
     "name": "stdout",
     "output_type": "stream",
     "text": [
      "description : When the leader of No-Beer Buying Youngsters (NOBBY) is murdered during a protest, it is up to John Putnam Thatcher to discover whether it was a brewery owner, a politician, or one of her own supporters who was responsible for the killing.\n",
      "Counter = 520\n"
     ]
    },
    {
     "name": "stderr",
     "output_type": "stream",
     "text": [
      "<ipython-input-91-28d9966ce939>:20: SettingWithCopyWarning: \n",
      "A value is trying to be set on a copy of a slice from a DataFrame\n",
      "\n",
      "See the caveats in the documentation: https://pandas.pydata.org/pandas-docs/stable/user_guide/indexing.html#returning-a-view-versus-a-copy\n",
      "  df[\"description\"][i] = description\n"
     ]
    },
    {
     "name": "stdout",
     "output_type": "stream",
     "text": [
      "description : A group of seemingly unrelated people experiences sensations of numbing terror and fear and, groping their way toward one another, discover their sinister, shared secrets in a chilling climax that changes their lives forever. Reissue.\n",
      "Counter = 521\n"
     ]
    },
    {
     "name": "stderr",
     "output_type": "stream",
     "text": [
      "<ipython-input-91-28d9966ce939>:20: SettingWithCopyWarning: \n",
      "A value is trying to be set on a copy of a slice from a DataFrame\n",
      "\n",
      "See the caveats in the documentation: https://pandas.pydata.org/pandas-docs/stable/user_guide/indexing.html#returning-a-view-versus-a-copy\n",
      "  df[\"description\"][i] = description\n"
     ]
    },
    {
     "name": "stdout",
     "output_type": "stream",
     "text": [
      "description : In the silent pre-dawn city hours -- alone with his thoughts about Rina Lazarus, the woman he loves, three thousand miles away in New York -- LAPD detective Peter Decker finds a small child, abandoned and covered in blood that is not hers. It is a sobering discovery, and a perplexing one, for nobody in the development where she was found steps forward to claim the little girl. Obsessed more deeply by this case than he imagined possible, Decker is determined to follow the scant clues to an answer. But his trail is leading him to a killing ground where four bodies lie still and lifeless. And by the time Rina returns, Peter Decker is already held fast in a sticky mass of hatred, passion, and murder -- in a world where intense sweetness is accompanied by a deadly sting.\n",
      "Counter = 522\n"
     ]
    },
    {
     "name": "stderr",
     "output_type": "stream",
     "text": [
      "<ipython-input-91-28d9966ce939>:20: SettingWithCopyWarning: \n",
      "A value is trying to be set on a copy of a slice from a DataFrame\n",
      "\n",
      "See the caveats in the documentation: https://pandas.pydata.org/pandas-docs/stable/user_guide/indexing.html#returning-a-view-versus-a-copy\n",
      "  df[\"description\"][i] = description\n"
     ]
    },
    {
     "name": "stdout",
     "output_type": "stream",
     "text": [
      "description : The disappearance of her three-year-old son Ben threatens to drive a wedge between Beth Cappadora and her husband, Pat, and transforms her older son into a troubled delinquent, until one day nine years later when Ben comes back into their lives\n",
      "Counter = 523\n"
     ]
    },
    {
     "name": "stderr",
     "output_type": "stream",
     "text": [
      "<ipython-input-91-28d9966ce939>:20: SettingWithCopyWarning: \n",
      "A value is trying to be set on a copy of a slice from a DataFrame\n",
      "\n",
      "See the caveats in the documentation: https://pandas.pydata.org/pandas-docs/stable/user_guide/indexing.html#returning-a-view-versus-a-copy\n",
      "  df[\"description\"][i] = description\n"
     ]
    },
    {
     "name": "stdout",
     "output_type": "stream",
     "text": [
      "description : Four chilling novels of romantic suspense come together in an omnibus edition featuring Night Shift, Night Shadow, Nightshade, and Night Smoke, in which passions ignite between Natalie Fletcher and arson investigator Ryan Piasecki. Reprint.\n",
      "Counter = 524\n"
     ]
    },
    {
     "name": "stderr",
     "output_type": "stream",
     "text": [
      "<ipython-input-91-28d9966ce939>:20: SettingWithCopyWarning: \n",
      "A value is trying to be set on a copy of a slice from a DataFrame\n",
      "\n",
      "See the caveats in the documentation: https://pandas.pydata.org/pandas-docs/stable/user_guide/indexing.html#returning-a-view-versus-a-copy\n",
      "  df[\"description\"][i] = description\n"
     ]
    },
    {
     "name": "stdout",
     "output_type": "stream",
     "text": [
      "description : On a prospering Iowa farm in the 1970s, wealthy farmer Lawrence Cook announces his intentions to divide the farm among his daughters, setting off a family crisis reminiscent of Shakespeare's \"King Lear\"\n",
      "Counter = 525\n"
     ]
    },
    {
     "name": "stderr",
     "output_type": "stream",
     "text": [
      "<ipython-input-91-28d9966ce939>:20: SettingWithCopyWarning: \n",
      "A value is trying to be set on a copy of a slice from a DataFrame\n",
      "\n",
      "See the caveats in the documentation: https://pandas.pydata.org/pandas-docs/stable/user_guide/indexing.html#returning-a-view-versus-a-copy\n",
      "  df[\"description\"][i] = description\n"
     ]
    },
    {
     "name": "stdout",
     "output_type": "stream",
     "text": [
      "description : Asked to cater an event for the over-privileged \"elite shoppers\" of Westside Mall, Colorado chef Goldy B. Schulz finds herself embroiled in an investigation involving a psychopathic serial killer, in a whodunit accompanied by ten original recipes. 125,000 first printing.\n",
      "Counter = 526\n"
     ]
    },
    {
     "name": "stderr",
     "output_type": "stream",
     "text": [
      "<ipython-input-91-28d9966ce939>:20: SettingWithCopyWarning: \n",
      "A value is trying to be set on a copy of a slice from a DataFrame\n",
      "\n",
      "See the caveats in the documentation: https://pandas.pydata.org/pandas-docs/stable/user_guide/indexing.html#returning-a-view-versus-a-copy\n",
      "  df[\"description\"][i] = description\n"
     ]
    },
    {
     "name": "stdout",
     "output_type": "stream",
     "text": [
      "description : Four very different women endure romantic intrigues, betrayals, liaisons, and victories as they seek love amid the playgrounds of the rich and powerful.\n",
      "Counter = 527\n"
     ]
    },
    {
     "name": "stderr",
     "output_type": "stream",
     "text": [
      "<ipython-input-91-28d9966ce939>:20: SettingWithCopyWarning: \n",
      "A value is trying to be set on a copy of a slice from a DataFrame\n",
      "\n",
      "See the caveats in the documentation: https://pandas.pydata.org/pandas-docs/stable/user_guide/indexing.html#returning-a-view-versus-a-copy\n",
      "  df[\"description\"][i] = description\n"
     ]
    },
    {
     "name": "stdout",
     "output_type": "stream",
     "text": [
      "description : A young woman confronts the horrifying events of her childhood, an infamous crime that destroyed her family, with the help of the son of the police officer who had aided her many years ago, unless the old evil finds her first. Reprint.\n",
      "Counter = 528\n"
     ]
    },
    {
     "name": "stderr",
     "output_type": "stream",
     "text": [
      "<ipython-input-91-28d9966ce939>:20: SettingWithCopyWarning: \n",
      "A value is trying to be set on a copy of a slice from a DataFrame\n",
      "\n",
      "See the caveats in the documentation: https://pandas.pydata.org/pandas-docs/stable/user_guide/indexing.html#returning-a-view-versus-a-copy\n",
      "  df[\"description\"][i] = description\n"
     ]
    },
    {
     "name": "stdout",
     "output_type": "stream",
     "text": [
      "description : Struggling comedienne Ruby Bridge confronts the legacy of her mother's abandonment while a secret from the past of Nora Bridge, now a syndicated columnist known for her moral advice, draws the two women together.\n",
      "Counter = 529\n"
     ]
    },
    {
     "name": "stderr",
     "output_type": "stream",
     "text": [
      "<ipython-input-91-28d9966ce939>:20: SettingWithCopyWarning: \n",
      "A value is trying to be set on a copy of a slice from a DataFrame\n",
      "\n",
      "See the caveats in the documentation: https://pandas.pydata.org/pandas-docs/stable/user_guide/indexing.html#returning-a-view-versus-a-copy\n",
      "  df[\"description\"][i] = description\n"
     ]
    },
    {
     "name": "stdout",
     "output_type": "stream",
     "text": [
      "description : One person wades though a seemingly unconnected series of events--a methodical mass killing in Pennsylvania, a missing girl in California, and the possible death of a couple in Montana--on the way to a confrontation with the Straw Men.\n",
      "Counter = 530\n"
     ]
    },
    {
     "name": "stderr",
     "output_type": "stream",
     "text": [
      "<ipython-input-91-28d9966ce939>:29: SettingWithCopyWarning: \n",
      "A value is trying to be set on a copy of a slice from a DataFrame\n",
      "\n",
      "See the caveats in the documentation: https://pandas.pydata.org/pandas-docs/stable/user_guide/indexing.html#returning-a-view-versus-a-copy\n",
      "  df[\"description\"][i] = description\n"
     ]
    },
    {
     "name": "stdout",
     "output_type": "stream",
     "text": [
      "NaN\n",
      "......................................................................................................\n",
      "Counter = 531\n"
     ]
    },
    {
     "name": "stderr",
     "output_type": "stream",
     "text": [
      "<ipython-input-91-28d9966ce939>:20: SettingWithCopyWarning: \n",
      "A value is trying to be set on a copy of a slice from a DataFrame\n",
      "\n",
      "See the caveats in the documentation: https://pandas.pydata.org/pandas-docs/stable/user_guide/indexing.html#returning-a-view-versus-a-copy\n",
      "  df[\"description\"][i] = description\n"
     ]
    },
    {
     "name": "stdout",
     "output_type": "stream",
     "text": [
      "description : After a violent encouanter with a homeless man, talented corporate lawyer Michael finds himself out on the streets, lucky to be alive, and holding a top-secret file belonging to his former employer\n",
      "Counter = 532\n"
     ]
    },
    {
     "name": "stderr",
     "output_type": "stream",
     "text": [
      "<ipython-input-91-28d9966ce939>:20: SettingWithCopyWarning: \n",
      "A value is trying to be set on a copy of a slice from a DataFrame\n",
      "\n",
      "See the caveats in the documentation: https://pandas.pydata.org/pandas-docs/stable/user_guide/indexing.html#returning-a-view-versus-a-copy\n",
      "  df[\"description\"][i] = description\n"
     ]
    },
    {
     "name": "stdout",
     "output_type": "stream",
     "text": [
      "description : Twenty-two years after the bombing of a Mississippi law office in which Marvin Kramer's two sons died, Klan member Sam Cayhill, the accused killer, has nearly exhausted his death row appeals, until young lawyer Adam Hall takes the case. 1,750,000 first printing. $500,000 ad/promo.\n",
      "Counter = 533\n"
     ]
    },
    {
     "name": "stderr",
     "output_type": "stream",
     "text": [
      "<ipython-input-91-28d9966ce939>:20: SettingWithCopyWarning: \n",
      "A value is trying to be set on a copy of a slice from a DataFrame\n",
      "\n",
      "See the caveats in the documentation: https://pandas.pydata.org/pandas-docs/stable/user_guide/indexing.html#returning-a-view-versus-a-copy\n",
      "  df[\"description\"][i] = description\n"
     ]
    },
    {
     "name": "stdout",
     "output_type": "stream",
     "text": [
      "description : After the death of his beloved Queen Lostris, Taita heads to the harsh deserts of North Africa to devote himself to a study of the occult, to become a warlock, and to fulfill his destiny to protect the dynasty of Lostris from the evil that threatens ancient Egypt. Reprint.\n",
      "Counter = 534\n"
     ]
    },
    {
     "name": "stderr",
     "output_type": "stream",
     "text": [
      "<ipython-input-91-28d9966ce939>:20: SettingWithCopyWarning: \n",
      "A value is trying to be set on a copy of a slice from a DataFrame\n",
      "\n",
      "See the caveats in the documentation: https://pandas.pydata.org/pandas-docs/stable/user_guide/indexing.html#returning-a-view-versus-a-copy\n",
      "  df[\"description\"][i] = description\n"
     ]
    },
    {
     "name": "stdout",
     "output_type": "stream",
     "text": [
      "description : The best-selling author of The Runaway Jury, The Pelican Brief, and A Time to Kill explores the dark and dangerous depths of America's legal system in a new thriller. 2,500,000 first printing.\n",
      "Counter = 535\n"
     ]
    },
    {
     "name": "stderr",
     "output_type": "stream",
     "text": [
      "<ipython-input-91-28d9966ce939>:20: SettingWithCopyWarning: \n",
      "A value is trying to be set on a copy of a slice from a DataFrame\n",
      "\n",
      "See the caveats in the documentation: https://pandas.pydata.org/pandas-docs/stable/user_guide/indexing.html#returning-a-view-versus-a-copy\n",
      "  df[\"description\"][i] = description\n"
     ]
    },
    {
     "name": "stdout",
     "output_type": "stream",
     "text": [
      "description : Inspector Robert DeClercq and his Special X Team pursue the Headhunter, a psychopath who leaves a trial of headless bodies in his wake, while trying to save young Katt from the crazy kidnapper and killer. Original.\n",
      "Counter = 536\n"
     ]
    },
    {
     "name": "stderr",
     "output_type": "stream",
     "text": [
      "<ipython-input-91-28d9966ce939>:20: SettingWithCopyWarning: \n",
      "A value is trying to be set on a copy of a slice from a DataFrame\n",
      "\n",
      "See the caveats in the documentation: https://pandas.pydata.org/pandas-docs/stable/user_guide/indexing.html#returning-a-view-versus-a-copy\n",
      "  df[\"description\"][i] = description\n"
     ]
    },
    {
     "name": "stdout",
     "output_type": "stream",
     "text": [
      "description : Hoping to use a supposedly straightforward case of murder to clear his mind, Deputy Chief Lucas Davenport finds himself matching wits with an ever-escalating serial killer, art history professor, congenial pervert, and sexual predator James Qatar.\n",
      "Counter = 537\n"
     ]
    },
    {
     "name": "stderr",
     "output_type": "stream",
     "text": [
      "<ipython-input-91-28d9966ce939>:20: SettingWithCopyWarning: \n",
      "A value is trying to be set on a copy of a slice from a DataFrame\n",
      "\n",
      "See the caveats in the documentation: https://pandas.pydata.org/pandas-docs/stable/user_guide/indexing.html#returning-a-view-versus-a-copy\n",
      "  df[\"description\"][i] = description\n"
     ]
    },
    {
     "name": "stdout",
     "output_type": "stream",
     "text": [
      "description : As prosecutor Ellen North prepares to try the man arrested for the abduction of little Josh Kirkwood in the small hamlet of Deer Lake, Minnesota, she confronts the sensation-driven news media, an old lover who has become a defense attorney, an unwanted partner, and, suddenly, a second kidnapping. Reissue.\n",
      "Counter = 538\n"
     ]
    },
    {
     "name": "stderr",
     "output_type": "stream",
     "text": [
      "<ipython-input-91-28d9966ce939>:20: SettingWithCopyWarning: \n",
      "A value is trying to be set on a copy of a slice from a DataFrame\n",
      "\n",
      "See the caveats in the documentation: https://pandas.pydata.org/pandas-docs/stable/user_guide/indexing.html#returning-a-view-versus-a-copy\n",
      "  df[\"description\"][i] = description\n"
     ]
    },
    {
     "name": "stdout",
     "output_type": "stream",
     "text": [
      "description : A young boy disappears without a trace save for a cruel, taunting note, and the case goes to an untested but tough-minded investigator and a local cop, who wonder if it is the work of a returned serial killer. Reissue.\n",
      "Counter = 539\n"
     ]
    },
    {
     "name": "stderr",
     "output_type": "stream",
     "text": [
      "<ipython-input-91-28d9966ce939>:20: SettingWithCopyWarning: \n",
      "A value is trying to be set on a copy of a slice from a DataFrame\n",
      "\n",
      "See the caveats in the documentation: https://pandas.pydata.org/pandas-docs/stable/user_guide/indexing.html#returning-a-view-versus-a-copy\n",
      "  df[\"description\"][i] = description\n"
     ]
    },
    {
     "name": "stdout",
     "output_type": "stream",
     "text": [
      "description : The \"Queen of Suspense,\" Mary Higgins Clark, delivers a gripping tale of deception and tantalizing twists that might have been ripped from today's headlines. When Nicholas Spencer, the charismatic head of a company that has developed an anticancer vaccine, disappears without a trace, reporter Marcia \"Carley\" DeCarlo is assigned the story. Word that Spencer, if alive, has made off with huge sums of money -- including the life savings of many employees -- doesn't do much to change Carley's already low opinion of Spencer's wife, Lynn, who is also Carley's stepsister and whom everyone believes is involved. But when Lynn's life is threatened, she asks Carley to help her prove that she wasn't her husband's accomplice. As the facts unfold, however, Carley herself becomes the target of a dangerous, sinister group that will stop at nothing to get what they want.\n",
      "Counter = 540\n"
     ]
    },
    {
     "name": "stderr",
     "output_type": "stream",
     "text": [
      "<ipython-input-91-28d9966ce939>:20: SettingWithCopyWarning: \n",
      "A value is trying to be set on a copy of a slice from a DataFrame\n",
      "\n",
      "See the caveats in the documentation: https://pandas.pydata.org/pandas-docs/stable/user_guide/indexing.html#returning-a-view-versus-a-copy\n",
      "  df[\"description\"][i] = description\n"
     ]
    },
    {
     "name": "stdout",
     "output_type": "stream",
     "text": [
      "description : 02\n",
      "Counter = 541\n"
     ]
    },
    {
     "name": "stderr",
     "output_type": "stream",
     "text": [
      "<ipython-input-91-28d9966ce939>:20: SettingWithCopyWarning: \n",
      "A value is trying to be set on a copy of a slice from a DataFrame\n",
      "\n",
      "See the caveats in the documentation: https://pandas.pydata.org/pandas-docs/stable/user_guide/indexing.html#returning-a-view-versus-a-copy\n",
      "  df[\"description\"][i] = description\n"
     ]
    },
    {
     "name": "stdout",
     "output_type": "stream",
     "text": [
      "description : Neurologist Alexandra Pace teams up with British physician Michael Kenway to search the Amazon jungle for an indigenous people who may hold the cure for the deadly disease that is killing her body and mind.\n",
      "Counter = 542\n"
     ]
    },
    {
     "name": "stderr",
     "output_type": "stream",
     "text": [
      "<ipython-input-91-28d9966ce939>:20: SettingWithCopyWarning: \n",
      "A value is trying to be set on a copy of a slice from a DataFrame\n",
      "\n",
      "See the caveats in the documentation: https://pandas.pydata.org/pandas-docs/stable/user_guide/indexing.html#returning-a-view-versus-a-copy\n",
      "  df[\"description\"][i] = description\n"
     ]
    },
    {
     "name": "stdout",
     "output_type": "stream",
     "text": [
      "description : A Saudi Arabian princess flees a painful forced marriage for the promise of America and teams up with graduate student Seth, who possesses the ability to see multiple possible futures, in a dangerous struggle for power. Original.\n",
      "Counter = 543\n"
     ]
    },
    {
     "name": "stderr",
     "output_type": "stream",
     "text": [
      "<ipython-input-91-28d9966ce939>:20: SettingWithCopyWarning: \n",
      "A value is trying to be set on a copy of a slice from a DataFrame\n",
      "\n",
      "See the caveats in the documentation: https://pandas.pydata.org/pandas-docs/stable/user_guide/indexing.html#returning-a-view-versus-a-copy\n",
      "  df[\"description\"][i] = description\n"
     ]
    },
    {
     "name": "stdout",
     "output_type": "stream",
     "text": [
      "description : Journeys to the end of the world, fantastic creatures, and epic battles between good and evil -- what more could any reader ask for in one book? The book that has it all is The Lion, the Witch and the Wardrobe, written in 1949 by Clive Staples Lewis. But Lewis did not stop there. Six more books followed, and together they became known as The Chronicles of Narnia. The Chronicles of Narnia have transcended the fantasy genre to become part of the canon of classic literature. Each of the seven books is a masterpiece, drawing the reader into a land where magic meets reality, and the result is a fictional world whose scope has fascinated generations.\n",
      "Counter = 544\n"
     ]
    },
    {
     "name": "stderr",
     "output_type": "stream",
     "text": [
      "<ipython-input-91-28d9966ce939>:20: SettingWithCopyWarning: \n",
      "A value is trying to be set on a copy of a slice from a DataFrame\n",
      "\n",
      "See the caveats in the documentation: https://pandas.pydata.org/pandas-docs/stable/user_guide/indexing.html#returning-a-view-versus-a-copy\n",
      "  df[\"description\"][i] = description\n"
     ]
    },
    {
     "name": "stdout",
     "output_type": "stream",
     "text": [
      "description : Fantasy.\n",
      "Counter = 545\n"
     ]
    },
    {
     "name": "stderr",
     "output_type": "stream",
     "text": [
      "<ipython-input-91-28d9966ce939>:20: SettingWithCopyWarning: \n",
      "A value is trying to be set on a copy of a slice from a DataFrame\n",
      "\n",
      "See the caveats in the documentation: https://pandas.pydata.org/pandas-docs/stable/user_guide/indexing.html#returning-a-view-versus-a-copy\n",
      "  df[\"description\"][i] = description\n"
     ]
    },
    {
     "name": "stdout",
     "output_type": "stream",
     "text": [
      "description : A handbook on parliamentary procedure for organizations, includes information on conducting business meetings, presenting motions, controlling debates and voting\n",
      "Counter = 546\n"
     ]
    },
    {
     "name": "stderr",
     "output_type": "stream",
     "text": [
      "<ipython-input-91-28d9966ce939>:20: SettingWithCopyWarning: \n",
      "A value is trying to be set on a copy of a slice from a DataFrame\n",
      "\n",
      "See the caveats in the documentation: https://pandas.pydata.org/pandas-docs/stable/user_guide/indexing.html#returning-a-view-versus-a-copy\n",
      "  df[\"description\"][i] = description\n"
     ]
    },
    {
     "name": "stdout",
     "output_type": "stream",
     "text": [
      "description : A mysterious transmission from the depths of the Atlantic Ocean sends a team of oceanographers and divers on a perilous quest in search of a discovery that could transform modern science and the future of humankind. Original.\n",
      "Counter = 547\n"
     ]
    },
    {
     "name": "stderr",
     "output_type": "stream",
     "text": [
      "<ipython-input-91-28d9966ce939>:20: SettingWithCopyWarning: \n",
      "A value is trying to be set on a copy of a slice from a DataFrame\n",
      "\n",
      "See the caveats in the documentation: https://pandas.pydata.org/pandas-docs/stable/user_guide/indexing.html#returning-a-view-versus-a-copy\n",
      "  df[\"description\"][i] = description\n"
     ]
    },
    {
     "name": "stdout",
     "output_type": "stream",
     "text": [
      "description : The New York Times bestseller\n",
      "Counter = 548\n"
     ]
    },
    {
     "name": "stderr",
     "output_type": "stream",
     "text": [
      "<ipython-input-91-28d9966ce939>:20: SettingWithCopyWarning: \n",
      "A value is trying to be set on a copy of a slice from a DataFrame\n",
      "\n",
      "See the caveats in the documentation: https://pandas.pydata.org/pandas-docs/stable/user_guide/indexing.html#returning-a-view-versus-a-copy\n",
      "  df[\"description\"][i] = description\n"
     ]
    },
    {
     "name": "stdout",
     "output_type": "stream",
     "text": [
      "description : Find out what's really happening in your life and the lives of those around you. Is he really unstable beneath that placid exterior? Is she marrying you for your money alone? When should you give a wayward spouse the benefit of the doubt? How can you adjust your inner moods to your best advantage, knowing when to push and when to pull back, when to speak up and when to shut up? What is the best time to ask your boss for that raise, your girl for her heart and hand, your brother-in-law for a loan? Learn all this and much, much more from the world-famous astrologer who has helped millions divine their way to happiness, love, and profit by studying the sun signs. Amaze your friends and yourself with your insight into their most hidden characteristics. Be the best that you can possibly be with -- \"Sun Signs,\"\n",
      "Counter = 549\n"
     ]
    },
    {
     "name": "stderr",
     "output_type": "stream",
     "text": [
      "<ipython-input-91-28d9966ce939>:20: SettingWithCopyWarning: \n",
      "A value is trying to be set on a copy of a slice from a DataFrame\n",
      "\n",
      "See the caveats in the documentation: https://pandas.pydata.org/pandas-docs/stable/user_guide/indexing.html#returning-a-view-versus-a-copy\n",
      "  df[\"description\"][i] = description\n"
     ]
    },
    {
     "name": "stdout",
     "output_type": "stream",
     "text": [
      "description : Lestat has risen from his long sleep as a modern day rock star, and makes public his story of boyhood in eighteenth-century France and initiation into vampiredom in order to solve the mystery of his existence\n",
      "Counter = 550\n"
     ]
    },
    {
     "name": "stderr",
     "output_type": "stream",
     "text": [
      "<ipython-input-91-28d9966ce939>:20: SettingWithCopyWarning: \n",
      "A value is trying to be set on a copy of a slice from a DataFrame\n",
      "\n",
      "See the caveats in the documentation: https://pandas.pydata.org/pandas-docs/stable/user_guide/indexing.html#returning-a-view-versus-a-copy\n",
      "  df[\"description\"][i] = description\n"
     ]
    },
    {
     "name": "stdout",
     "output_type": "stream",
     "text": [
      "description : Doomed forever to wander the earth, desperate to quell his insatiable hungers, Ramses the Damned turns up in Edwardian London as Dr. Ramsey and begins a romance with heiress Julie Stratford, but his cursed past again propels him toward disaster\n",
      "Counter = 551\n"
     ]
    },
    {
     "name": "stderr",
     "output_type": "stream",
     "text": [
      "<ipython-input-91-28d9966ce939>:20: SettingWithCopyWarning: \n",
      "A value is trying to be set on a copy of a slice from a DataFrame\n",
      "\n",
      "See the caveats in the documentation: https://pandas.pydata.org/pandas-docs/stable/user_guide/indexing.html#returning-a-view-versus-a-copy\n",
      "  df[\"description\"][i] = description\n"
     ]
    },
    {
     "name": "stdout",
     "output_type": "stream",
     "text": [
      "description : The four daughters of Hollywood producer Sam Pearlstein--the children of his marriages to three wildly different women--vie for their father's attention\n",
      "Counter = 552\n"
     ]
    },
    {
     "name": "stderr",
     "output_type": "stream",
     "text": [
      "<ipython-input-91-28d9966ce939>:20: SettingWithCopyWarning: \n",
      "A value is trying to be set on a copy of a slice from a DataFrame\n",
      "\n",
      "See the caveats in the documentation: https://pandas.pydata.org/pandas-docs/stable/user_guide/indexing.html#returning-a-view-versus-a-copy\n",
      "  df[\"description\"][i] = description\n"
     ]
    },
    {
     "name": "stdout",
     "output_type": "stream",
     "text": [
      "description : A rich and compelling story about four generations of magnificent women, celebrating the love, pride, sacrifice, devotion, and unheralded triumph of all women's lives.\n",
      "Counter = 553\n"
     ]
    },
    {
     "name": "stderr",
     "output_type": "stream",
     "text": [
      "<ipython-input-91-28d9966ce939>:20: SettingWithCopyWarning: \n",
      "A value is trying to be set on a copy of a slice from a DataFrame\n",
      "\n",
      "See the caveats in the documentation: https://pandas.pydata.org/pandas-docs/stable/user_guide/indexing.html#returning-a-view-versus-a-copy\n",
      "  df[\"description\"][i] = description\n"
     ]
    },
    {
     "name": "stdout",
     "output_type": "stream",
     "text": [
      "description : Describes and analyzes a variety of conditioned, self-destructive behavior patterns and suggests ways of correcting or eliminating them\n",
      "Counter = 554\n"
     ]
    },
    {
     "name": "stderr",
     "output_type": "stream",
     "text": [
      "<ipython-input-91-28d9966ce939>:20: SettingWithCopyWarning: \n",
      "A value is trying to be set on a copy of a slice from a DataFrame\n",
      "\n",
      "See the caveats in the documentation: https://pandas.pydata.org/pandas-docs/stable/user_guide/indexing.html#returning-a-view-versus-a-copy\n",
      "  df[\"description\"][i] = description\n"
     ]
    },
    {
     "name": "stdout",
     "output_type": "stream",
     "text": [
      "description : Here is the much-anticipated new work from one of America's literary icons--a gripping novel of suspense that explores the boundaries of the human heart. Gabriel Noone is a teller of tales, a writer whose cult-hit radio serial \"Noone at Night\" brought him into the homes of millions, including an ailing 13-year-old boy named Pete Lomax. Meeting through extraordinary circumstances, Noone develops a remarkable friendship with Pete, a connection that evolves into a profound mystery that will blur the lines between truth and illusion, and lead Noone to confront all of his relationships--familial, romantic, and erotic--knowledge that will alter his perception of himself and his life forever. The Night Listener is Armistead Maupin's most ambitious and daringly imaginative novel, a tale that will challenge and move his many fans as never before\n",
      "Counter = 555\n"
     ]
    },
    {
     "name": "stderr",
     "output_type": "stream",
     "text": [
      "<ipython-input-91-28d9966ce939>:20: SettingWithCopyWarning: \n",
      "A value is trying to be set on a copy of a slice from a DataFrame\n",
      "\n",
      "See the caveats in the documentation: https://pandas.pydata.org/pandas-docs/stable/user_guide/indexing.html#returning-a-view-versus-a-copy\n",
      "  df[\"description\"][i] = description\n"
     ]
    },
    {
     "name": "stdout",
     "output_type": "stream",
     "text": [
      "description : Living with her weakling husband in a Connecticut town that has been the scene of four recent serial murders, housewife Nora Chancel is kidnapped by the accused killer and becomes his hostage on a perilous odyssey through New England, with the police in hot pursuit. 100,000 first printing.\n",
      "Counter = 556\n"
     ]
    },
    {
     "name": "stderr",
     "output_type": "stream",
     "text": [
      "<ipython-input-91-28d9966ce939>:20: SettingWithCopyWarning: \n",
      "A value is trying to be set on a copy of a slice from a DataFrame\n",
      "\n",
      "See the caveats in the documentation: https://pandas.pydata.org/pandas-docs/stable/user_guide/indexing.html#returning-a-view-versus-a-copy\n",
      "  df[\"description\"][i] = description\n"
     ]
    },
    {
     "name": "stdout",
     "output_type": "stream",
     "text": [
      "description : The story of the uncovering and authentication of a diary believed to be that of infamous serial killer \"Jack the Ripper\" relates information about the murders that has never been revealed\n",
      "Counter = 557\n"
     ]
    },
    {
     "name": "stderr",
     "output_type": "stream",
     "text": [
      "<ipython-input-91-28d9966ce939>:20: SettingWithCopyWarning: \n",
      "A value is trying to be set on a copy of a slice from a DataFrame\n",
      "\n",
      "See the caveats in the documentation: https://pandas.pydata.org/pandas-docs/stable/user_guide/indexing.html#returning-a-view-versus-a-copy\n",
      "  df[\"description\"][i] = description\n"
     ]
    },
    {
     "name": "stdout",
     "output_type": "stream",
     "text": [
      "description : Guilt-ridden over the death of her first child--a secret she has kept from her second husband--Marielle Patterson finds her past returning to haunt her when her second son is abducted. 1,300,000 first printing. $1,300,000 ad/promo. Lit Guild Main.\n",
      "Counter = 558\n"
     ]
    },
    {
     "name": "stderr",
     "output_type": "stream",
     "text": [
      "<ipython-input-91-28d9966ce939>:20: SettingWithCopyWarning: \n",
      "A value is trying to be set on a copy of a slice from a DataFrame\n",
      "\n",
      "See the caveats in the documentation: https://pandas.pydata.org/pandas-docs/stable/user_guide/indexing.html#returning-a-view-versus-a-copy\n",
      "  df[\"description\"][i] = description\n"
     ]
    },
    {
     "name": "stdout",
     "output_type": "stream",
     "text": [
      "description : Maximilian West learns to appreciate the three most important women in his life only after his glittering world is shattered\n",
      "Counter = 559\n"
     ]
    },
    {
     "name": "stderr",
     "output_type": "stream",
     "text": [
      "<ipython-input-91-28d9966ce939>:20: SettingWithCopyWarning: \n",
      "A value is trying to be set on a copy of a slice from a DataFrame\n",
      "\n",
      "See the caveats in the documentation: https://pandas.pydata.org/pandas-docs/stable/user_guide/indexing.html#returning-a-view-versus-a-copy\n",
      "  df[\"description\"][i] = description\n"
     ]
    },
    {
     "name": "stdout",
     "output_type": "stream",
     "text": [
      "description : Determined to make a name for herself, Savannah journalist Nikki Gillette begins following Pierce Reed as he investigates the serial killer known as The Grave Robber, who is burying women alive, but her quest for fame and fortune turns deadly when the killer sets his sights on her. Original.\n",
      "Counter = 560\n"
     ]
    },
    {
     "name": "stderr",
     "output_type": "stream",
     "text": [
      "<ipython-input-91-28d9966ce939>:20: SettingWithCopyWarning: \n",
      "A value is trying to be set on a copy of a slice from a DataFrame\n",
      "\n",
      "See the caveats in the documentation: https://pandas.pydata.org/pandas-docs/stable/user_guide/indexing.html#returning-a-view-versus-a-copy\n",
      "  df[\"description\"][i] = description\n"
     ]
    },
    {
     "name": "stdout",
     "output_type": "stream",
     "text": [
      "description : When a British tour guide accepts money to kill a woman, sleuth Elizabeth MacPherson suspects something is wrong and sets out to foil the plot. Reissue.\n",
      "Counter = 561\n"
     ]
    },
    {
     "name": "stderr",
     "output_type": "stream",
     "text": [
      "<ipython-input-91-28d9966ce939>:20: SettingWithCopyWarning: \n",
      "A value is trying to be set on a copy of a slice from a DataFrame\n",
      "\n",
      "See the caveats in the documentation: https://pandas.pydata.org/pandas-docs/stable/user_guide/indexing.html#returning-a-view-versus-a-copy\n",
      "  df[\"description\"][i] = description\n"
     ]
    },
    {
     "name": "stdout",
     "output_type": "stream",
     "text": [
      "description : Awaking after a lengthy coma, accident victim Faith Parker has no memory of her near-fatal crash, of her previous life, or of her friend, journalist Dinah Leighton, who mysteriously vanished after visiting her in the hospital, but as she recovers, she begins to experience intimate dreams of a man she does not recognize and horrifying visions of deadly violence. Original.\n",
      "Counter = 562\n"
     ]
    },
    {
     "name": "stderr",
     "output_type": "stream",
     "text": [
      "<ipython-input-91-28d9966ce939>:20: SettingWithCopyWarning: \n",
      "A value is trying to be set on a copy of a slice from a DataFrame\n",
      "\n",
      "See the caveats in the documentation: https://pandas.pydata.org/pandas-docs/stable/user_guide/indexing.html#returning-a-view-versus-a-copy\n",
      "  df[\"description\"][i] = description\n"
     ]
    },
    {
     "name": "stdout",
     "output_type": "stream",
     "text": [
      "description : In a memoir of growing up in the Bronx during the Depression, the author recalls her father's death in 1939, her family's financial woes, and her mother's creation of a rooming house, bringing in tenants who would change their lives.\n",
      "Counter = 563\n"
     ]
    },
    {
     "name": "stderr",
     "output_type": "stream",
     "text": [
      "<ipython-input-91-28d9966ce939>:20: SettingWithCopyWarning: \n",
      "A value is trying to be set on a copy of a slice from a DataFrame\n",
      "\n",
      "See the caveats in the documentation: https://pandas.pydata.org/pandas-docs/stable/user_guide/indexing.html#returning-a-view-versus-a-copy\n",
      "  df[\"description\"][i] = description\n"
     ]
    },
    {
     "name": "stdout",
     "output_type": "stream",
     "text": [
      "description : The award-winning ABC-TV anchorwoman and NPR news analyst explores the most pressing issues confronting women on the edge of the new millennium, drawing on her own experiences and those of other exceptional women she has met. Reprint. Tour.\n",
      "Counter = 564\n"
     ]
    },
    {
     "name": "stderr",
     "output_type": "stream",
     "text": [
      "<ipython-input-91-28d9966ce939>:20: SettingWithCopyWarning: \n",
      "A value is trying to be set on a copy of a slice from a DataFrame\n",
      "\n",
      "See the caveats in the documentation: https://pandas.pydata.org/pandas-docs/stable/user_guide/indexing.html#returning-a-view-versus-a-copy\n",
      "  df[\"description\"][i] = description\n"
     ]
    },
    {
     "name": "stdout",
     "output_type": "stream",
     "text": [
      "description : As the school year begins on Mars, Horus the Martian gets off to a rocky start, but soon discovers that first grade is not really as bad as he thought.\n",
      "Counter = 565\n"
     ]
    },
    {
     "name": "stderr",
     "output_type": "stream",
     "text": [
      "<ipython-input-91-28d9966ce939>:20: SettingWithCopyWarning: \n",
      "A value is trying to be set on a copy of a slice from a DataFrame\n",
      "\n",
      "See the caveats in the documentation: https://pandas.pydata.org/pandas-docs/stable/user_guide/indexing.html#returning-a-view-versus-a-copy\n",
      "  df[\"description\"][i] = description\n"
     ]
    },
    {
     "name": "stdout",
     "output_type": "stream",
     "text": [
      "description : A young boy guides the reader through his garden.\n",
      "Counter = 566\n"
     ]
    },
    {
     "name": "stderr",
     "output_type": "stream",
     "text": [
      "<ipython-input-91-28d9966ce939>:20: SettingWithCopyWarning: \n",
      "A value is trying to be set on a copy of a slice from a DataFrame\n",
      "\n",
      "See the caveats in the documentation: https://pandas.pydata.org/pandas-docs/stable/user_guide/indexing.html#returning-a-view-versus-a-copy\n",
      "  df[\"description\"][i] = description\n"
     ]
    },
    {
     "name": "stdout",
     "output_type": "stream",
     "text": [
      "description : Pongo the dalmatian and his wife Perdita undertake a daring expedition to rescue their fifteen kidnapped puppies\n",
      "Counter = 567\n"
     ]
    },
    {
     "name": "stderr",
     "output_type": "stream",
     "text": [
      "<ipython-input-91-28d9966ce939>:20: SettingWithCopyWarning: \n",
      "A value is trying to be set on a copy of a slice from a DataFrame\n",
      "\n",
      "See the caveats in the documentation: https://pandas.pydata.org/pandas-docs/stable/user_guide/indexing.html#returning-a-view-versus-a-copy\n",
      "  df[\"description\"][i] = description\n"
     ]
    },
    {
     "name": "stdout",
     "output_type": "stream",
     "text": [
      "description : Richard Best finds a magic ruler in his desk, which seems to make his wishes come true, including one he wishes he could undo.\n",
      "Counter = 568\n"
     ]
    },
    {
     "name": "stderr",
     "output_type": "stream",
     "text": [
      "<ipython-input-91-28d9966ce939>:20: SettingWithCopyWarning: \n",
      "A value is trying to be set on a copy of a slice from a DataFrame\n",
      "\n",
      "See the caveats in the documentation: https://pandas.pydata.org/pandas-docs/stable/user_guide/indexing.html#returning-a-view-versus-a-copy\n",
      "  df[\"description\"][i] = description\n"
     ]
    },
    {
     "name": "stdout",
     "output_type": "stream",
     "text": [
      "description : In this third and final Mouse novel from Newbery Medal-winning author Beverly Cleary, Ralph heads to school to see what humans do all day . . . and to discover what the S in Ralph S. Mouse stands for With his rowdy cousins constantly wearing out his motorcycle and the Mountain View Inn manager threatening to take care of the mouse infestation once and for all, Ralph decides it's time to get away for a while. He convinces his human friend Ryan to take him along to school, where Ralph instantly becomes the center of attention. But when Ryan's class decides to see how smart Ralph is by making him run a maze, the usually confident mouse starts to fret. What if he's not as clever as he thought? Supports the Common Core State Standards\n",
      "Counter = 569\n"
     ]
    },
    {
     "name": "stderr",
     "output_type": "stream",
     "text": [
      "<ipython-input-91-28d9966ce939>:20: SettingWithCopyWarning: \n",
      "A value is trying to be set on a copy of a slice from a DataFrame\n",
      "\n",
      "See the caveats in the documentation: https://pandas.pydata.org/pandas-docs/stable/user_guide/indexing.html#returning-a-view-versus-a-copy\n",
      "  df[\"description\"][i] = description\n"
     ]
    },
    {
     "name": "stdout",
     "output_type": "stream",
     "text": [
      "description : In a \"choose your own adventure\" story, the reader can decide what he or she would do if given the chance to become an Animorph, join Jake and the crew, and battle the Yeerks. Original.\n",
      "Counter = 570\n"
     ]
    },
    {
     "name": "stderr",
     "output_type": "stream",
     "text": [
      "<ipython-input-91-28d9966ce939>:20: SettingWithCopyWarning: \n",
      "A value is trying to be set on a copy of a slice from a DataFrame\n",
      "\n",
      "See the caveats in the documentation: https://pandas.pydata.org/pandas-docs/stable/user_guide/indexing.html#returning-a-view-versus-a-copy\n",
      "  df[\"description\"][i] = description\n"
     ]
    },
    {
     "name": "stdout",
     "output_type": "stream",
     "text": [
      "description : Describes how a little dinosaur learn to read, using the toys and other things around him.\n",
      "Counter = 571\n"
     ]
    },
    {
     "name": "stderr",
     "output_type": "stream",
     "text": [
      "<ipython-input-91-28d9966ce939>:20: SettingWithCopyWarning: \n",
      "A value is trying to be set on a copy of a slice from a DataFrame\n",
      "\n",
      "See the caveats in the documentation: https://pandas.pydata.org/pandas-docs/stable/user_guide/indexing.html#returning-a-view-versus-a-copy\n",
      "  df[\"description\"][i] = description\n"
     ]
    },
    {
     "name": "stdout",
     "output_type": "stream",
     "text": [
      "description : Answers such astronomical questions as \"Why don't we fall off the earth?\", \"Can anybody go near the sun?\", \"Do stars shine forever?\", and \"Are there any space creatures?\"\n",
      "Counter = 572\n"
     ]
    },
    {
     "name": "stderr",
     "output_type": "stream",
     "text": [
      "<ipython-input-91-28d9966ce939>:20: SettingWithCopyWarning: \n",
      "A value is trying to be set on a copy of a slice from a DataFrame\n",
      "\n",
      "See the caveats in the documentation: https://pandas.pydata.org/pandas-docs/stable/user_guide/indexing.html#returning-a-view-versus-a-copy\n",
      "  df[\"description\"][i] = description\n"
     ]
    },
    {
     "name": "stdout",
     "output_type": "stream",
     "text": [
      "description : Ten courtroom mysteries with illustrated clues. Copyright © Libri GmbH. All rights reserved.\n",
      "Counter = 573\n"
     ]
    },
    {
     "name": "stderr",
     "output_type": "stream",
     "text": [
      "<ipython-input-91-28d9966ce939>:29: SettingWithCopyWarning: \n",
      "A value is trying to be set on a copy of a slice from a DataFrame\n",
      "\n",
      "See the caveats in the documentation: https://pandas.pydata.org/pandas-docs/stable/user_guide/indexing.html#returning-a-view-versus-a-copy\n",
      "  df[\"description\"][i] = description\n"
     ]
    },
    {
     "name": "stdout",
     "output_type": "stream",
     "text": [
      "NaN\n",
      "......................................................................................................\n",
      "Counter = 574\n"
     ]
    },
    {
     "name": "stderr",
     "output_type": "stream",
     "text": [
      "<ipython-input-91-28d9966ce939>:20: SettingWithCopyWarning: \n",
      "A value is trying to be set on a copy of a slice from a DataFrame\n",
      "\n",
      "See the caveats in the documentation: https://pandas.pydata.org/pandas-docs/stable/user_guide/indexing.html#returning-a-view-versus-a-copy\n",
      "  df[\"description\"][i] = description\n"
     ]
    },
    {
     "name": "stdout",
     "output_type": "stream",
     "text": [
      "description : A scientist invents a time machine and uses it to travel hundreds of thousands of years into the future, where he discovers the childlike Eloi and the hideous underground Morlocks.\n",
      "Counter = 575\n"
     ]
    },
    {
     "name": "stderr",
     "output_type": "stream",
     "text": [
      "<ipython-input-91-28d9966ce939>:20: SettingWithCopyWarning: \n",
      "A value is trying to be set on a copy of a slice from a DataFrame\n",
      "\n",
      "See the caveats in the documentation: https://pandas.pydata.org/pandas-docs/stable/user_guide/indexing.html#returning-a-view-versus-a-copy\n",
      "  df[\"description\"][i] = description\n"
     ]
    },
    {
     "name": "stdout",
     "output_type": "stream",
     "text": [
      "description : The granddaughter of a Native American shaman and a hard-boiled private investigator, Jennifer Talldeer calls on her skill in magic to confront an evil ancient force awakened by construction workers at an Indian burial ground. Reprint.\n",
      "Counter = 576\n"
     ]
    },
    {
     "name": "stderr",
     "output_type": "stream",
     "text": [
      "<ipython-input-91-28d9966ce939>:20: SettingWithCopyWarning: \n",
      "A value is trying to be set on a copy of a slice from a DataFrame\n",
      "\n",
      "See the caveats in the documentation: https://pandas.pydata.org/pandas-docs/stable/user_guide/indexing.html#returning-a-view-versus-a-copy\n",
      "  df[\"description\"][i] = description\n"
     ]
    },
    {
     "name": "stdout",
     "output_type": "stream",
     "text": [
      "description : When a bizarre and mysterious force moves from killing cattle to killing people, Detective Mark Valdez asks Diana Tregarde, a practicing witch, to help with the investigation\n",
      "Counter = 577\n"
     ]
    },
    {
     "name": "stderr",
     "output_type": "stream",
     "text": [
      "<ipython-input-91-28d9966ce939>:20: SettingWithCopyWarning: \n",
      "A value is trying to be set on a copy of a slice from a DataFrame\n",
      "\n",
      "See the caveats in the documentation: https://pandas.pydata.org/pandas-docs/stable/user_guide/indexing.html#returning-a-view-versus-a-copy\n",
      "  df[\"description\"][i] = description\n"
     ]
    },
    {
     "name": "stdout",
     "output_type": "stream",
     "text": [
      "description : Amelia, the new owner of a musty antique store filled with merry-go-round horses and hurdy-gurdies, finds a scrawled, mysterious note inside a barrel organ. Armed only with the strange woman's first name and a note written years before, Amelia begins a journey into the past where fear is second nature, and where dark secrets just might uncover murder -- even her own! -- from publisher description.\n",
      "Counter = 578\n"
     ]
    },
    {
     "name": "stderr",
     "output_type": "stream",
     "text": [
      "<ipython-input-91-28d9966ce939>:20: SettingWithCopyWarning: \n",
      "A value is trying to be set on a copy of a slice from a DataFrame\n",
      "\n",
      "See the caveats in the documentation: https://pandas.pydata.org/pandas-docs/stable/user_guide/indexing.html#returning-a-view-versus-a-copy\n",
      "  df[\"description\"][i] = description\n"
     ]
    },
    {
     "name": "stdout",
     "output_type": "stream",
     "text": [
      "description : Based on the principles of MoveOn.org, one of the most successful grassroots Internet political organizations, this citizen's action guide lists some proven tactics for shaking up the current political structure, including a section on \"how to organize a constituent meeting.\" Original. 50,000 first printing. $100,000 ad/promo.\n",
      "Counter = 579\n"
     ]
    },
    {
     "name": "stderr",
     "output_type": "stream",
     "text": [
      "<ipython-input-91-28d9966ce939>:20: SettingWithCopyWarning: \n",
      "A value is trying to be set on a copy of a slice from a DataFrame\n",
      "\n",
      "See the caveats in the documentation: https://pandas.pydata.org/pandas-docs/stable/user_guide/indexing.html#returning-a-view-versus-a-copy\n",
      "  df[\"description\"][i] = description\n"
     ]
    },
    {
     "name": "stdout",
     "output_type": "stream",
     "text": [
      "description : When Dave Kendall realizes that his rock band is under the control of hanger-on \"Master\" Jefferies, he figures he's just been partying too hard. But Diana Tregarde and charming vampire Andre Le Brel have been tracking Jeffries for some time. Now the witch and the vampire face Jeffries and his evil minions in a battle for the soul of rock-and-roll.\n",
      "Counter = 580\n"
     ]
    },
    {
     "name": "stderr",
     "output_type": "stream",
     "text": [
      "<ipython-input-91-28d9966ce939>:29: SettingWithCopyWarning: \n",
      "A value is trying to be set on a copy of a slice from a DataFrame\n",
      "\n",
      "See the caveats in the documentation: https://pandas.pydata.org/pandas-docs/stable/user_guide/indexing.html#returning-a-view-versus-a-copy\n",
      "  df[\"description\"][i] = description\n"
     ]
    },
    {
     "name": "stdout",
     "output_type": "stream",
     "text": [
      "NaN\n",
      "......................................................................................................\n",
      "Counter = 581\n"
     ]
    },
    {
     "name": "stderr",
     "output_type": "stream",
     "text": [
      "<ipython-input-91-28d9966ce939>:20: SettingWithCopyWarning: \n",
      "A value is trying to be set on a copy of a slice from a DataFrame\n",
      "\n",
      "See the caveats in the documentation: https://pandas.pydata.org/pandas-docs/stable/user_guide/indexing.html#returning-a-view-versus-a-copy\n",
      "  df[\"description\"][i] = description\n"
     ]
    },
    {
     "name": "stdout",
     "output_type": "stream",
     "text": [
      "description : Inman, a wounded soldier, walks away from the front during the Civil War to return to his prewar sweetheart, Ada, who desperately works to revive a struggling farm.\n",
      "Counter = 582\n"
     ]
    },
    {
     "name": "stderr",
     "output_type": "stream",
     "text": [
      "<ipython-input-91-28d9966ce939>:20: SettingWithCopyWarning: \n",
      "A value is trying to be set on a copy of a slice from a DataFrame\n",
      "\n",
      "See the caveats in the documentation: https://pandas.pydata.org/pandas-docs/stable/user_guide/indexing.html#returning-a-view-versus-a-copy\n",
      "  df[\"description\"][i] = description\n"
     ]
    },
    {
     "name": "stdout",
     "output_type": "stream",
     "text": [
      "description : When a violent attack on a doctor triggers a series of gay hate crimes in the Adirondack town of Miller's Kill, Episcopalian priest Clare Fergusson and police chief Russ Van Alstyne, struggling with their mutual attraction, investigate a range of suspects. Reprint.\n",
      "Counter = 583\n"
     ]
    },
    {
     "name": "stderr",
     "output_type": "stream",
     "text": [
      "<ipython-input-91-28d9966ce939>:20: SettingWithCopyWarning: \n",
      "A value is trying to be set on a copy of a slice from a DataFrame\n",
      "\n",
      "See the caveats in the documentation: https://pandas.pydata.org/pandas-docs/stable/user_guide/indexing.html#returning-a-view-versus-a-copy\n",
      "  df[\"description\"][i] = description\n"
     ]
    },
    {
     "name": "stdout",
     "output_type": "stream",
     "text": [
      "description : When a doctor from a local free clinic disappears, Episcopal priest Clare Fergusson and police chief Russ van Alstyne pursue an investigation with links to the jazz age, prohibition, and the Great Depression.\n",
      "Counter = 584\n"
     ]
    },
    {
     "name": "stderr",
     "output_type": "stream",
     "text": [
      "<ipython-input-91-28d9966ce939>:20: SettingWithCopyWarning: \n",
      "A value is trying to be set on a copy of a slice from a DataFrame\n",
      "\n",
      "See the caveats in the documentation: https://pandas.pydata.org/pandas-docs/stable/user_guide/indexing.html#returning-a-view-versus-a-copy\n",
      "  df[\"description\"][i] = description\n"
     ]
    },
    {
     "name": "stdout",
     "output_type": "stream",
     "text": [
      "description : A family travels from the big woods of Wisconsin, to a new home on the praire, where they build a house, meet neighboring Indians, build a well, and fight a praire fire.\n",
      "Counter = 585\n"
     ]
    },
    {
     "name": "stderr",
     "output_type": "stream",
     "text": [
      "<ipython-input-91-28d9966ce939>:20: SettingWithCopyWarning: \n",
      "A value is trying to be set on a copy of a slice from a DataFrame\n",
      "\n",
      "See the caveats in the documentation: https://pandas.pydata.org/pandas-docs/stable/user_guide/indexing.html#returning-a-view-versus-a-copy\n",
      "  df[\"description\"][i] = description\n"
     ]
    },
    {
     "name": "stdout",
     "output_type": "stream",
     "text": [
      "description : The author recounts his childhood in Depression-era Brooklyn as the child of Irish immigrants who decide to return to worse poverty in Ireland when his infant sister dies\n",
      "Counter = 586\n"
     ]
    },
    {
     "name": "stderr",
     "output_type": "stream",
     "text": [
      "<ipython-input-91-28d9966ce939>:20: SettingWithCopyWarning: \n",
      "A value is trying to be set on a copy of a slice from a DataFrame\n",
      "\n",
      "See the caveats in the documentation: https://pandas.pydata.org/pandas-docs/stable/user_guide/indexing.html#returning-a-view-versus-a-copy\n",
      "  df[\"description\"][i] = description\n"
     ]
    },
    {
     "name": "stdout",
     "output_type": "stream",
     "text": [
      "description : When the daughter of FBI Special Agent Pierce Quincy dies suddenly, the death is ruled an accident, until investigator Rainie Conner uncovers evidence that points to a killer with the ability to unleash his victims' innermost fears.\n",
      "Counter = 587\n"
     ]
    },
    {
     "name": "stderr",
     "output_type": "stream",
     "text": [
      "<ipython-input-91-28d9966ce939>:20: SettingWithCopyWarning: \n",
      "A value is trying to be set on a copy of a slice from a DataFrame\n",
      "\n",
      "See the caveats in the documentation: https://pandas.pydata.org/pandas-docs/stable/user_guide/indexing.html#returning-a-view-versus-a-copy\n",
      "  df[\"description\"][i] = description\n"
     ]
    },
    {
     "name": "stdout",
     "output_type": "stream",
     "text": [
      "description : Socks, the Bricker's cat, finds a new rival in the form of the Bricker's new baby, Charles William, until he and the baby become partners in mischief.\n",
      "Counter = 588\n"
     ]
    },
    {
     "name": "stderr",
     "output_type": "stream",
     "text": [
      "<ipython-input-91-28d9966ce939>:20: SettingWithCopyWarning: \n",
      "A value is trying to be set on a copy of a slice from a DataFrame\n",
      "\n",
      "See the caveats in the documentation: https://pandas.pydata.org/pandas-docs/stable/user_guide/indexing.html#returning-a-view-versus-a-copy\n",
      "  df[\"description\"][i] = description\n"
     ]
    },
    {
     "name": "stdout",
     "output_type": "stream",
     "text": [
      "description : The Boxcar Children are going to help out at the Pretty Bird Pet Shop. They are thrilled to have the chance to work with the animals there. But things aren't going smoothly. The Aldens' deliveries of pet supplies keep getting mixed up.\n",
      "Counter = 589\n"
     ]
    },
    {
     "name": "stderr",
     "output_type": "stream",
     "text": [
      "<ipython-input-91-28d9966ce939>:20: SettingWithCopyWarning: \n",
      "A value is trying to be set on a copy of a slice from a DataFrame\n",
      "\n",
      "See the caveats in the documentation: https://pandas.pydata.org/pandas-docs/stable/user_guide/indexing.html#returning-a-view-versus-a-copy\n",
      "  df[\"description\"][i] = description\n"
     ]
    },
    {
     "name": "stdout",
     "output_type": "stream",
     "text": [
      "description : Clare Fergusson, the first female priest of an Episcopal church in Millers Kill, New York, finds herself immersed in murder when a newbown baby is abandoned and a young mother is brutally slain, forcing her to dig deeply into the town's secrets.\n",
      "Counter = 590\n"
     ]
    },
    {
     "name": "stderr",
     "output_type": "stream",
     "text": [
      "<ipython-input-91-28d9966ce939>:20: SettingWithCopyWarning: \n",
      "A value is trying to be set on a copy of a slice from a DataFrame\n",
      "\n",
      "See the caveats in the documentation: https://pandas.pydata.org/pandas-docs/stable/user_guide/indexing.html#returning-a-view-versus-a-copy\n",
      "  df[\"description\"][i] = description\n"
     ]
    },
    {
     "name": "stdout",
     "output_type": "stream",
     "text": [
      "description : Lyra pays a painful price to walk through the land of the dead, while the battle for the Kingdom of Heaven rages on and ultimately unlocks the secret of Dust.\n",
      "Counter = 591\n"
     ]
    },
    {
     "name": "stderr",
     "output_type": "stream",
     "text": [
      "<ipython-input-91-28d9966ce939>:29: SettingWithCopyWarning: \n",
      "A value is trying to be set on a copy of a slice from a DataFrame\n",
      "\n",
      "See the caveats in the documentation: https://pandas.pydata.org/pandas-docs/stable/user_guide/indexing.html#returning-a-view-versus-a-copy\n",
      "  df[\"description\"][i] = description\n"
     ]
    },
    {
     "name": "stdout",
     "output_type": "stream",
     "text": [
      "NaN\n",
      "......................................................................................................\n",
      "Counter = 592\n"
     ]
    },
    {
     "name": "stderr",
     "output_type": "stream",
     "text": [
      "<ipython-input-91-28d9966ce939>:20: SettingWithCopyWarning: \n",
      "A value is trying to be set on a copy of a slice from a DataFrame\n",
      "\n",
      "See the caveats in the documentation: https://pandas.pydata.org/pandas-docs/stable/user_guide/indexing.html#returning-a-view-versus-a-copy\n",
      "  df[\"description\"][i] = description\n"
     ]
    },
    {
     "name": "stdout",
     "output_type": "stream",
     "text": [
      "description : Now in a deluxe Knopf Paperback edition here is the first book in Philip Pullman's critically acclaimed epic fantasy trilogy chronicalling the otherworldly adventures of Lyra and her companions.\n",
      "Counter = 593\n"
     ]
    },
    {
     "name": "stderr",
     "output_type": "stream",
     "text": [
      "<ipython-input-91-28d9966ce939>:20: SettingWithCopyWarning: \n",
      "A value is trying to be set on a copy of a slice from a DataFrame\n",
      "\n",
      "See the caveats in the documentation: https://pandas.pydata.org/pandas-docs/stable/user_guide/indexing.html#returning-a-view-versus-a-copy\n",
      "  df[\"description\"][i] = description\n"
     ]
    },
    {
     "name": "stdout",
     "output_type": "stream",
     "text": [
      "description : While investigating the disappearance and murder of Julia Winchell, Cincinnati homicide detective Sonora Blair uncovers a link to the unsolved murder of the first wife of the city's district attorney, who may now be targeting his pregnant second wife ford\n",
      "Counter = 594\n"
     ]
    }
   ],
   "source": [
    "start = int(input(\"Enter START number : \"))\n",
    "end = int(input(\"Enter END number : \"))\n",
    "t1_start = perf_counter()\n",
    "error_list = []\n",
    "for i in range(start,end):\n",
    "    get_isbn = (df[\"ISBN\"].iloc[i])\n",
    "    print(f\"Counter = {i}\")\n",
    "    url_3 = f\"https://www.googleapis.com/books/v1/volumes?q=isbn:{get_isbn}\"\n",
    "    response3 = requests.get(url_3)\n",
    "    data3 = response3.json()\n",
    "    google_id = str(df[\"google_id\"].iloc[i])\n",
    "    url_4 = f\"https://www.googleapis.com/books/v1/volumes/{google_id}\"\n",
    "    response3 = requests.get(url_3)\n",
    "    data3 = response3.json()\n",
    "    #print(data3)\n",
    "    try:\n",
    "                try:\n",
    "                    try:\n",
    "                        description = data3[\"items\"][0][\"volumeInfo\"][\"description\"]\n",
    "                        df[\"description\"][i] = description\n",
    "                        print(\"description :\",description)\n",
    "                    except:\n",
    "                        pass\n",
    "                        description = data4[\"volumeInfo\"][\"description\"]\n",
    "                        df[\"description\"][i] = description\n",
    "                        print(\"description : \",description)\n",
    "                except:\n",
    "                    description = \"NaN\"\n",
    "                    df[\"description\"][i] = description\n",
    "                    print(description)\n",
    "                    print(\"......................................................................................................\")\n",
    "    except:\n",
    "            print(f\"Counter = {i}\")\n",
    "            error_list.append(df[\"ISBN\"].iloc[i])\n",
    "        \n",
    "df_extraction = df[start:end]\n",
    "        \n",
    "t1_stop = perf_counter()  \n",
    "print(\"Elapsed time during the whole program in Min:\",((t1_stop-t1_start)/60))\n",
    "df_extraction.to_csv(f\"description_df_{start}to{end}.csv\")\n",
    "np.savetxt(f\"error_log{start}to{end}.csv\", \n",
    "           error_list,\n",
    "           delimiter =\", \", \n",
    "           fmt ='% s')  "
   ]
  }
 ],
 "metadata": {
  "kernelspec": {
   "display_name": "Python 3",
   "language": "python",
   "name": "python3"
  },
  "language_info": {
   "codemirror_mode": {
    "name": "ipython",
    "version": 3
   },
   "file_extension": ".py",
   "mimetype": "text/x-python",
   "name": "python",
   "nbconvert_exporter": "python",
   "pygments_lexer": "ipython3",
   "version": "3.8.8"
  }
 },
 "nbformat": 4,
 "nbformat_minor": 5
}

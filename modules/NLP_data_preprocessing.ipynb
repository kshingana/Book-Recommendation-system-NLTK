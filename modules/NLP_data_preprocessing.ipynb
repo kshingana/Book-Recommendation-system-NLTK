{
 "cells": [
  {
   "cell_type": "markdown",
   "id": "58a1c680",
   "metadata": {},
   "source": [
    "Some of the preprocessing steps are:\n",
    "\n",
    " - Removing punctuations like . , ! $( ) * % @\n",
    " - Removing URLs\n",
    " - Removing Stop words\n",
    " - Lower casing\n",
    " - Tokenization\n",
    " - Stemming\n",
    " - Lemmatization"
   ]
  },
  {
   "cell_type": "code",
   "execution_count": null,
   "id": "ded2e8d3",
   "metadata": {},
   "outputs": [],
   "source": [
    "import string\n",
    "import pandas as pd\n",
    "import numpy as np\n",
    "import re\n",
    "import nltk\n",
    "from nltk.stem.porter import PorterStemmer\n",
    "from nltk.stem import WordNetLemmatizer\n",
    "from gensim import models\n",
    "import gensim"
   ]
  },
  {
   "cell_type": "markdown",
   "id": "19ddb6c8",
   "metadata": {},
   "source": [
    "1.Removing punctuations"
   ]
  },
  {
   "cell_type": "code",
   "execution_count": null,
   "id": "8bc03a51",
   "metadata": {},
   "outputs": [],
   "source": [
    "df = pd.read_csv(\"description_df_0to100.csv\")\n",
    "df.drop(columns = [\"Unnamed: 0\"],inplace=True)\n",
    "df.head()"
   ]
  },
  {
   "cell_type": "markdown",
   "id": "62a05342",
   "metadata": {},
   "source": [
    " - documents ==> df[\"description\"] text file\n",
    " - doc_tokens ==> tokanized document"
   ]
  },
  {
   "cell_type": "code",
   "execution_count": null,
   "id": "da5883cc",
   "metadata": {},
   "outputs": [],
   "source": [
    "documents = []"
   ]
  },
  {
   "cell_type": "code",
   "execution_count": null,
   "id": "830786ae",
   "metadata": {},
   "outputs": [],
   "source": [
    "# Define the documents\n",
    "def remove_punctuation(df):\n",
    "    #documents = []\n",
    "    for i in range(len(df)):\n",
    "        for df[\"description\"].iloc[i] not in \n",
    "        doc_i_ = df[\"description\"].iloc[i]\n",
    "        documents.append(doc_i_)"
   ]
  },
  {
   "cell_type": "markdown",
   "id": "89e5a808",
   "metadata": {},
   "source": [
    "Lower casing"
   ]
  },
  {
   "cell_type": "code",
   "execution_count": null,
   "id": "d179b095",
   "metadata": {},
   "outputs": [],
   "source": [
    "def lower_casing(df):    \n",
    "    #documents = []\n",
    "    for i in range(len(df)):\n",
    "        if df[\"description\"].loc[i] != \"nan\":\n",
    "            strr = str(df[\"description\"].loc[i]).lower()\n",
    "            doc.append(strr)\n",
    "            #print(strr)"
   ]
  },
  {
   "cell_type": "markdown",
   "id": "7565d21b",
   "metadata": {},
   "source": [
    "Tokenization"
   ]
  },
  {
   "cell_type": "code",
   "execution_count": null,
   "id": "27ca8fe4",
   "metadata": {},
   "outputs": [],
   "source": [
    "def tokenization(df):\n",
    "    doc_tokens = re.split('W+',text)\n",
    "    return doc_tokens"
   ]
  },
  {
   "cell_type": "markdown",
   "id": "3a3e85dd",
   "metadata": {},
   "source": [
    "Removing Stop words"
   ]
  },
  {
   "cell_type": "code",
   "execution_count": null,
   "id": "5f5660fe",
   "metadata": {},
   "outputs": [],
   "source": [
    "def remove_stopwords(doc_tokens):\n",
    "    stopwords = nltk.corpus.stopwords.words('english')\n",
    "    doc_tokens= [i for i in text if i not in stopwords]\n",
    "    return doc_tokens"
   ]
  },
  {
   "cell_type": "markdown",
   "id": "80cd36e8",
   "metadata": {},
   "source": [
    "Stemming"
   ]
  },
  {
   "cell_type": "code",
   "execution_count": null,
   "id": "32549e39",
   "metadata": {},
   "outputs": [],
   "source": [
    "def stemming(doc_tokens):\n",
    "    porter_stemmer = PorterStemmer()\n",
    "    stem_text = [porter_stemmer.stem(word) for word in doc_tokens]\n",
    "    return stem_text"
   ]
  },
  {
   "cell_type": "markdown",
   "id": "931655eb",
   "metadata": {},
   "source": [
    "Lemmatization"
   ]
  },
  {
   "cell_type": "code",
   "execution_count": null,
   "id": "92374ef2",
   "metadata": {},
   "outputs": [],
   "source": [
    "def lemmatizer(doc_tokens):\n",
    "    wordnet_lemmatizer = WordNetLemmatizer()\n",
    "    lemm_text = [wordnet_lemmatizer.lemmatize(word) for word in doc_tokens]\n",
    "    return lemm_text"
   ]
  },
  {
   "cell_type": "markdown",
   "id": "23fe0786",
   "metadata": {},
   "source": [
    "Bigram feature generation"
   ]
  },
  {
   "cell_type": "code",
   "execution_count": null,
   "id": "fa5b7bb2",
   "metadata": {},
   "outputs": [],
   "source": [
    "# Build the bigram models\n",
    "bigram = gensim.models.phrases.Phrases(documents, min_count=3, threshold=10)"
   ]
  },
  {
   "cell_type": "markdown",
   "id": "6a1561d6",
   "metadata": {},
   "source": [
    "Trigram feature generation"
   ]
  },
  {
   "cell_type": "code",
   "execution_count": null,
   "id": "8af206e0",
   "metadata": {},
   "outputs": [],
   "source": [
    "# Build the trigram models\n",
    "trigram = gensim.models.phrases.Phrases(bigram[dataset], threshold=10)\n",
    "#print(trigram[bigram[dataset[0]]])"
   ]
  },
  {
   "cell_type": "code",
   "execution_count": null,
   "id": "cf3afcb4",
   "metadata": {},
   "outputs": [],
   "source": []
  },
  {
   "cell_type": "code",
   "execution_count": null,
   "id": "1703eeb5",
   "metadata": {},
   "outputs": [],
   "source": []
  }
 ],
 "metadata": {
  "kernelspec": {
   "display_name": "Python 3",
   "language": "python",
   "name": "python3"
  },
  "language_info": {
   "codemirror_mode": {
    "name": "ipython",
    "version": 3
   },
   "file_extension": ".py",
   "mimetype": "text/x-python",
   "name": "python",
   "nbconvert_exporter": "python",
   "pygments_lexer": "ipython3",
   "version": "3.8.8"
  }
 },
 "nbformat": 4,
 "nbformat_minor": 5
}
